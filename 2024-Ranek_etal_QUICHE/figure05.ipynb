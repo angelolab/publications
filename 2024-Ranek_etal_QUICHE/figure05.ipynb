{
 "cells": [
  {
   "cell_type": "code",
   "execution_count": null,
   "metadata": {},
   "outputs": [],
   "source": [
    "import os\n",
    "import pandas as pd\n",
    "import numpy as np\n",
    "import quiche as qu\n",
    "import matplotlib.pyplot as plt\n",
    "import seaborn as sns\n",
    "import anndata\n",
    "import scanpy as sc\n",
    "from sketchKH import sketch\n",
    "import mudata\n",
    "import matplotlib.cm as cm\n",
    "from matplotlib import cm\n",
    "import os\n",
    "import imageio as io\n",
    "import shutil\n",
    "from supplementary_plot_helpers import *\n",
    "%reload_ext autoreload\n",
    "%load_ext autoreload\n",
    "%autoreload 2\n",
    "%matplotlib inline"
   ]
  },
  {
   "cell_type": "markdown",
   "metadata": {},
   "source": [
    "## predict recurrence-associated niches"
   ]
  },
  {
   "cell_type": "code",
   "execution_count": null,
   "metadata": {},
   "outputs": [],
   "source": [
    "phenotypic_markers = ['ECAD', 'CK17', 'CD45', 'CD3', 'CD4', 'CD8', 'FOXP3', 'CD20', 'CD56', 'CD14', 'CD68',\n",
    "                    'CD163', 'CD11c', 'HLADR', 'ChyTr', 'Calprotectin', 'FAP', 'SMA', 'Vim', 'Fibronectin',\n",
    "                    'Collagen1', 'CD31']\n",
    "\n",
    "\n",
    "functional_markers = ['PDL1','Ki67','GLUT1','CD45RO','CD69', 'PD1','CD57','TBET', 'TCF1',\n",
    "                        'CD45RB', 'TIM3','IDO', 'LAG3', 'CD38', 'HLADR']\n",
    "\n",
    "var_names = phenotypic_markers+functional_markers\n",
    "\n",
    "cell_ordering = ['Cancer_1', 'Cancer_2', 'Cancer_3', 'CD4T', 'CD8T', 'Treg', 'T_Other', 'B', \n",
    "                 'NK', 'CD68_Mac', 'CD163_Mac', 'Mac_Other', 'Monocyte', 'APC','Mast', 'Neutrophil',\n",
    "                 'CAF', 'Fibroblast', 'Smooth_Muscle', 'Endothelium']\n",
    "\n",
    "colors_dict = {'myeloid':'#4DCCBD',\n",
    "               'lymphoid':'#279AF1',\n",
    "               'tumor':'#FF8484',\n",
    "               'structural':'#F9DC5C'}\n",
    "\n",
    "lineage_dict = {'APC':'myeloid',\n",
    " 'B':'lymphoid',\n",
    " 'CAF': 'structural',\n",
    " 'CD4T': 'lymphoid',\n",
    " 'CD8T': 'lymphoid',\n",
    " 'CD68_Mac': 'myeloid',\n",
    " 'CD163_Mac': 'myeloid',\n",
    " 'Cancer_1': 'tumor',\n",
    " 'Cancer_2': 'tumor',\n",
    " 'Cancer_3': 'tumor',\n",
    " 'Endothelium':'structural',\n",
    " 'Fibroblast': 'structural',\n",
    " 'Mac_Other': 'myeloid',\n",
    " 'Mast':'myeloid',\n",
    " 'Monocyte':'myeloid',\n",
    " 'NK':'lymphoid',\n",
    " 'Neutrophil':'myeloid',\n",
    " 'Smooth_Muscle':'structural',\n",
    " 'T_Other':'lymphoid',\n",
    " 'Treg':'lymphoid'}\n",
    "\n",
    "colors_dict_cells = {'APC': '#700548',\n",
    " 'B': '#005377',\n",
    " 'CAF': '#f2cc8f',\n",
    " 'CD4T': '#ebb3a9',\n",
    " 'CD8T': '#ff5666',\n",
    " 'CD68_Mac': '#ffa52f',\n",
    " 'CD163_Mac': '#788AA3',\n",
    " 'Cancer_1': '#66cdaa',\n",
    " 'Cancer_2': '#3d405b',\n",
    " 'Cancer_3': '#b49ab8',\n",
    " 'Endothelium': '#f78e69',\n",
    " 'Fibroblast': '#2d9bd5',\n",
    " 'Immune_Other': '#366962',\n",
    " 'Mac_Other': '#c7d66d',\n",
    " 'Mast': '#E36414',\n",
    " 'Monocyte': '#CC6690',\n",
    " 'NK': '#9ee2ff',\n",
    " 'Neutrophil': '#4a7c59',\n",
    " 'Other': '#FFBF69',\n",
    " 'Smooth_Muscle': '#f5ebe0',\n",
    " 'T_Other': '#901C14',\n",
    " 'Treg': '#9e8576'}\n",
    "sc.set_figure_params(dpi = 400, dpi_save = 400, fontsize = 14)\n",
    "\n",
    "save_directory = os.path.join('publications', 'figures', 'figure5')\n",
    "save_directory_ = os.path.join(save_directory, 'recurrence')\n",
    "qu.pp.make_directory(save_directory_)\n",
    "\n",
    "seg_dir = r'/Volumes/Shared/Noah Greenwald/TNBC_Cohorts/SPAIN/segmentation/samples/deepcell_output'\n",
    "adata = anndata.read_h5ad(os.path.join('data', 'Zenodo', 'spain_preprocessed.h5ad'))\n",
    "adata.obs['Relapse'] = adata.obs['Relapse'].astype('int').astype('str')\n",
    "adata.obs['Study'] = adata.obs['Study'].map(dict(zip(adata.obs['Study'].cat.categories,['A', 'B', 'C', 'D', 'E'])))"
   ]
  },
  {
   "cell_type": "code",
   "execution_count": null,
   "metadata": {},
   "outputs": [],
   "source": [
    "sketch_size = 1000\n",
    "plt.figure(figsize = (4,4))\n",
    "adata.obs.groupby('Patient_ID').size().hist(bins = 50)\n",
    "plt.axvline(sketch_size, color = 'k', ls = '--', lw = 1)\n",
    "adata  = qu.pp.filter_fovs(adata, 'Patient_ID', sketch_size)"
   ]
  },
  {
   "cell_type": "code",
   "execution_count": null,
   "metadata": {},
   "outputs": [],
   "source": [
    "# design = '~Study+Relapse'\n",
    "# model_contrasts = 'Relapse1'\n",
    "# mdata, sig_niches = qu.tl.run_quiche(adata, radius = 200, labels_key = 'cell_cluster', spatial_key = 'spatial',\n",
    "#                                     fov_key = 'fov', patient_key = 'Patient_ID', n_neighbors = 30, merge = False, test_key='Patient_ID', sketch_key='Patient_ID',\n",
    "#                                     delaunay = False, min_cells = 3, k_sim = 100, design = design, khop = None, label_scheme='normal',\n",
    "#                                     model_contrasts = model_contrasts, sketch_size = sketch_size, nlargest = 3, annotation_key = 'quiche_niche', n_jobs = 8)\n",
    "# mdata['quiche'].var = mdata['quiche'].var.astype('str')\n",
    "# mdata.write_h5mu(os.path.join('data', 'tnbc_spain', 'mdata', 'mdata_spain_study_corrected.h5ad'))"
   ]
  },
  {
   "cell_type": "code",
   "execution_count": null,
   "metadata": {},
   "outputs": [],
   "source": [
    "##load in data to save runtime\n",
    "mdata = mudata.read_h5mu(os.path.join('data', 'tnbc_spain', 'mdata', 'mdata_spain_study_corrected.h5ad'))\n",
    "mdata['quiche'].var[['logFC', 'SpatialFDR']] = mdata['quiche'].var[['logFC', 'SpatialFDR']].astype('float')"
   ]
  },
  {
   "cell_type": "code",
   "execution_count": null,
   "metadata": {},
   "outputs": [],
   "source": [
    "scores_df_spain = pd.DataFrame(mdata['quiche'].var.groupby('quiche_niche')['SpatialFDR'].median())\n",
    "scores_df_spain.columns = ['pval']\n",
    "scores_df_spain['logFC'] = mdata['quiche'].var.groupby('quiche_niche')['logFC'].mean()\n",
    "scores_df_spain = scores_df_spain[scores_df_spain['pval'] < 0.05]\n",
    "ids = list(set(scores_df_spain.index).intersection(set(list(mdata['quiche'].var['quiche_niche'].value_counts()[mdata['quiche'].var['quiche_niche'].value_counts() >= 5].index))))\n",
    "scores_df_spain = scores_df_spain.loc[ids]\n",
    "scores_df_spain = scores_df_spain[(scores_df_spain.logFC > 0.5) | (scores_df_spain.logFC < -0.5)]\n",
    "niches_spain = list(scores_df_spain.index)\n",
    "\n",
    "cov_count_df = qu.tl.compute_patient_proportion(mdata,\n",
    "                                niches = niches_spain,\n",
    "                                feature_key = 'quiche',\n",
    "                                annot_key = 'quiche_niche',\n",
    "                                patient_key = 'Patient_ID',\n",
    "                                design_key = 'Relapse',\n",
    "                                patient_niche_threshold = 5)\n",
    "\n",
    "cov_count_df_frequent = cov_count_df[cov_count_df['patient_count'] >= 3]"
   ]
  },
  {
   "cell_type": "markdown",
   "metadata": {},
   "source": [
    "## Figure 5a"
   ]
  },
  {
   "cell_type": "code",
   "execution_count": null,
   "metadata": {},
   "outputs": [],
   "source": [
    "sns.set_style('ticks')\n",
    "qu.pl.beeswarm_prev(mdata,\n",
    "    feature_key=\"quiche\",\n",
    "    alpha = 0.05,\n",
    "    xlim_prev=[-0.3, 0.3],\n",
    "    niches=cov_count_df_frequent.quiche_niche,\n",
    "    figsize=(6, 12),\n",
    "    annot_key='quiche_niche',\n",
    "    design_key='Relapse',\n",
    "    patient_key='Patient_ID',\n",
    "    xlim=[-3,3],\n",
    "    fontsize=10,\n",
    "    colors_dict={'0': '#377eb8', '1': '#e41a1c'},\n",
    "    save_directory=save_directory,\n",
    "    filename_save=f'figure5a')"
   ]
  },
  {
   "cell_type": "markdown",
   "metadata": {},
   "source": [
    "## Figure 5b-c"
   ]
  },
  {
   "cell_type": "code",
   "execution_count": null,
   "metadata": {},
   "outputs": [],
   "source": [
    "cov_count_df_neg = cov_count_df[cov_count_df['mean_logFC'] < 0]\n",
    "cov_count_df_neg = cov_count_df_neg[cov_count_df_neg['patient_count'] >= 1]\n",
    "cov_count_df_neg = cov_count_df_neg[cov_count_df_neg['Relapse'] == '0']\n",
    "\n",
    "cov_count_df_pos = cov_count_df[cov_count_df['mean_logFC'] > 0]\n",
    "cov_count_df_pos = cov_count_df_pos[cov_count_df_pos['patient_count'] >= 1]\n",
    "cov_count_df_pos = cov_count_df_pos[cov_count_df_pos['Relapse'] == '1']\n",
    "\n",
    "G1 = qu.tl.compute_niche_network(cov_count_df = cov_count_df_neg, colors_dict = colors_dict, lineage_dict=lineage_dict, annot_key = 'quiche_niche') \n",
    "\n",
    "qu.pl.plot_niche_network_donut(G=G1, figsize=(6, 6), node_order=cell_ordering, buffer=1.5, weightscale = 0.2, edge_color='#1D265E',\n",
    "                         centrality_measure = 'eigenvector',colors_dict=colors_dict, curvature=0.2,save_directory=save_directory, filename_save=f'figure5b',\n",
    "                         min_node_size = 5, max_node_size = 850, lineage_dict=lineage_dict, donut_radius_inner = 1.15, donut_radius_outer = 1.25,\n",
    "                         vmin = 0, vmax = 50,edge_cmap = cm.bone_r, edge_label = 'Patients')\n",
    "\n",
    "G2 = qu.tl.compute_niche_network(cov_count_df = cov_count_df_pos, colors_dict = colors_dict, lineage_dict=lineage_dict, annot_key = 'quiche_niche') \n",
    "\n",
    "qu.pl.plot_niche_network_donut(G=G2, figsize=(6, 6), node_order=cell_ordering, buffer=1.5, weightscale = 0.2, edge_color='#1D265E',\n",
    "                         centrality_measure = 'eigenvector',colors_dict=colors_dict, curvature=0.2, font_size=10,save_directory=save_directory, filename_save=f'figure5c',\n",
    "                         min_node_size = 5, max_node_size = 850, lineage_dict=lineage_dict, donut_radius_inner = 1.15, donut_radius_outer = 1.25,\n",
    "                         vmin = 0, vmax = 50,edge_cmap = cm.bone_r, edge_label = 'Patients')"
   ]
  },
  {
   "cell_type": "markdown",
   "metadata": {},
   "source": [
    "## Figure 5d-e"
   ]
  },
  {
   "cell_type": "code",
   "execution_count": null,
   "metadata": {},
   "outputs": [],
   "source": [
    "adata_expression_og = mdata['expression'].copy()\n",
    "mdata['expression'].X = qu.pp.standardize(mdata['expression'].X)"
   ]
  },
  {
   "cell_type": "code",
   "execution_count": null,
   "metadata": {},
   "outputs": [],
   "source": [
    "# adata_func_pos = qu.tl.compute_functional_expression(mdata = mdata,\n",
    "#                                 sig_niches = list(cov_count_df_pos['quiche_niche'].values),\n",
    "#                                 labels_key = 'cell_cluster',\n",
    "#                                 annot_key = 'quiche_niche',\n",
    "#                                 fov_key = 'fov',\n",
    "#                                 segmentation_label_key = 'label',\n",
    "#                                 patient_key = 'Patient_ID',\n",
    "#                                 min_cell_count = 3,\n",
    "#                                 foldchange_key = 'logFC',\n",
    "#                                 markers = mdata['expression'].var_names)\n",
    "\n",
    "# adata_func_neg = qu.tl.compute_functional_expression(mdata = mdata,\n",
    "#                                 sig_niches = list(cov_count_df_neg['quiche_niche'].values),\n",
    "#                                 labels_key = 'cell_cluster',\n",
    "#                                 annot_key = 'quiche_niche',\n",
    "#                                 fov_key = 'fov',\n",
    "#                                 segmentation_label_key = 'label',\n",
    "#                                 patient_key = 'Patient_ID',\n",
    "#                                 min_cell_count = 3,\n",
    "#                                 foldchange_key = 'logFC',\n",
    "#                                 markers = mdata['expression'].var_names)\n",
    "\n",
    "# adata_func_pos.write_h5ad(os.path.join('data', 'tnbc_spain', 'mdata', 'adata_func_pos_spain.h5ad'))\n",
    "# adata_func_neg.write_h5ad(os.path.join('data', 'tnbc_spain', 'mdata','adata_func_neg_spain.h5ad'))"
   ]
  },
  {
   "cell_type": "code",
   "execution_count": null,
   "metadata": {},
   "outputs": [],
   "source": [
    "## load in to save on runtime \n",
    "adata_func_pos = anndata.read_h5ad(os.path.join('data', 'tnbc_spain', 'mdata', 'adata_func_pos_spain.h5ad'))\n",
    "adata_func_neg = anndata.read_h5ad(os.path.join('data', 'tnbc_spain', 'mdata','adata_func_neg_spain.h5ad'))\n",
    "\n",
    "pos_df = adata_func_pos.to_df()\n",
    "pos_df['cell_cluster'] = adata_func_pos.obs['cell_cluster']\n",
    " \n",
    "neg_df = adata_func_neg.to_df()\n",
    "neg_df['cell_cluster'] = adata_func_neg.obs['cell_cluster']\n",
    "\n",
    "total_df = mdata['expression'].to_df()\n",
    "total_df['cell_cluster'] = mdata['expression'].obs['cell_cluster']"
   ]
  },
  {
   "cell_type": "code",
   "execution_count": null,
   "metadata": {},
   "outputs": [],
   "source": [
    "qu.pl.plot_diff_func(neg_df, total_df, 'cell_cluster', functional_markers, (5.5, 4.75), cmap = 'PuOr_r', filename_save=f'figure5d.pdf')\n",
    "shutil.move(os.path.join('figures','matrixplot_figure5d.pdf'), os.path.join('publications', 'figures', 'figure5', 'figure5d.pdf'))\n",
    "qu.pl.plot_diff_func(pos_df, total_df, 'cell_cluster', functional_markers, (5.5, 4.25), cmap = 'PuOr_r', filename_save=f'figure5e.pdf')\n",
    "shutil.move(os.path.join('figures','matrixplot_figure5e.pdf'), os.path.join('publications', 'figures', 'figure5', 'figure5e.pdf'))"
   ]
  },
  {
   "cell_type": "markdown",
   "metadata": {},
   "source": [
    "## Figure 5f-k niche viz"
   ]
  },
  {
   "cell_type": "code",
   "execution_count": null,
   "metadata": {},
   "outputs": [],
   "source": [
    "adata_niche, cells_nonn = qu.tl.compute_niche_composition(mdata['expression'], labels_key = 'cell_cluster', min_cells = 3)\n",
    "adata_niche = adata_niche[np.where(pd.DataFrame(adata_niche.X).sum(1) != 0)[0], :].copy()\n",
    "annotations_niche = qu.tl.compute_niche_abundance_fov(adata_niche.to_df(), nlargest = 3, min_perc = 0.1)\n",
    "adata_niche.obs['retro'] = annotations_niche.values\n",
    "index_df = adata_niche.obs.reset_index()\n",
    "index_df['index_cell'] = index_df['index']\n",
    "annotation_df = mdata['quiche'].var[['index_cell', 'quiche_niche', 'SpatialFDR']]\n",
    "index_cells = pd.merge(index_df, annotation_df, on = 'index_cell')['index_cell'].values\n",
    "adata_niche.obs.loc[index_cells, 'retro'] = list(pd.merge(index_df, annotation_df, on = 'index_cell')['quiche_niche'])"
   ]
  },
  {
   "cell_type": "code",
   "execution_count": null,
   "metadata": {},
   "outputs": [],
   "source": [
    "niche_list = ['Cancer_3__Monocyte', 'APC__Cancer_3', 'B__Cancer_1__Cancer_3', 'CD8T__Cancer_1', 'CAF__Cancer_1__Neutrophil', 'CAF__CD68_Mac__Cancer_1']\n",
    "fov_list = ['TMA33_R9C8', 'TMA44_R7C5', 'TMA44_R6C8', 'TMA44_R14C7', 'TMA32_R3C5', 'TMA34_R9C7']\n",
    "for i in range(0, len(niche_list)):\n",
    "    fov = fov_list[i]\n",
    "    niche = niche_list[i]\n",
    "    cell_list = niche.split('__')\n",
    "    qu.pl.plot_niche_score(mdata, niche, fov, seg_dir, metric = 'logFC', vmin = -2, vmax = 2, fontsize = 12, cmap = 'vlag', background = [0.3, 0.3, 0.3, 1],figsize = (6, 6), save_directory = save_directory_, filename_save = niche+'_'+fov)\n",
    "\n",
    "    subset_mdata = adata_niche[adata_niche.obs['retro'] == niche]\n",
    "    df_cells = subset_mdata.to_df()\n",
    "    df_cells['cell_cluster'] = subset_mdata.obs['cell_cluster']\n",
    "    df_cells['label']= subset_mdata.obs['label']\n",
    "    df_cells['fov'] = subset_mdata.obs['fov']\n",
    "    df_cells = df_cells[np.isin(df_cells.cell_cluster, cell_list)]\n",
    "\n",
    "    colormap = pd.DataFrame({'cell_cluster': list(colors_dict_cells.keys()),\n",
    "                            'color': list(colors_dict_cells.values())})\n",
    "\n",
    "    qu.pl.cohort_cluster_plot(\n",
    "        fovs=[fov],\n",
    "        seg_dir=seg_dir,\n",
    "        save_dir=save_directory_,\n",
    "        cell_data=df_cells,\n",
    "        erode=True,\n",
    "        fov_col='fov',\n",
    "        label_col='label',\n",
    "        cluster_col='cell_cluster',\n",
    "        seg_suffix=\"_whole_cell.tiff\",\n",
    "        cmap=colormap,\n",
    "        fig_file_type = 'pdf',\n",
    "        display_fig=False)"
   ]
  },
  {
   "cell_type": "markdown",
   "metadata": {},
   "source": [
    "## Figure 5m"
   ]
  },
  {
   "cell_type": "code",
   "execution_count": null,
   "metadata": {},
   "outputs": [],
   "source": [
    "from sklearn.metrics import roc_curve, auc\n",
    "import matplotlib.pyplot as plt\n",
    "import seaborn as sns\n",
    "sns.set_style('ticks')\n",
    "\n",
    "pos_niches = list(cov_count_df_pos.quiche_niche.values)\n",
    "neg_niches = list(cov_count_df_neg.quiche_niche.values)\n",
    "\n",
    "relapse_df = mdata['expression'].obs[['Patient_ID', 'Relapse']].drop_duplicates()\n",
    "relapse_df['Patient_ID'] = relapse_df['Patient_ID'].astype('str')\n",
    "\n",
    "niche_abundance_mean = mdata['quiche'].var.groupby(['Patient_ID', 'quiche_niche']).size().unstack().mean(axis=0)\n",
    "niche_abundance_std = mdata['quiche'].var.groupby(['Patient_ID', 'quiche_niche']).size().unstack().std(axis=0)\n",
    "\n",
    "std = 1 \n",
    "niche_dist = niche_abundance_mean + std * niche_abundance_std\n",
    "\n",
    "pos_counts = (mdata['quiche'].var.groupby(['Patient_ID', 'quiche_niche']).size().unstack().loc[:, pos_niches] >= niche_dist[pos_niches].transpose()).mean(axis=1)\n",
    "neg_counts = (mdata['quiche'].var.groupby(['Patient_ID', 'quiche_niche']).size().unstack().loc[:, neg_niches] >= niche_dist[neg_niches].transpose()).mean(axis=1)\n",
    "\n",
    "ratio_df = pd.DataFrame([pos_counts, neg_counts], index=['pos', 'neg']).transpose().reset_index()\n",
    "ratio_df = pd.merge(ratio_df, relapse_df[['Patient_ID', 'Relapse']].drop_duplicates(), on='Patient_ID')\n",
    "\n",
    "ratio_df['log_ratio'] = np.log1p(ratio_df['neg'] + 0.00001) - np.log1p(ratio_df['pos'] + 0.00001)\n",
    "ratio_df = ratio_df[ratio_df['log_ratio'] != 0].copy()\n",
    "ratio_df['Relapse'] = ratio_df['Relapse'].astype(int)\n",
    "\n",
    "fpr, tpr, thresholds = roc_curve(ratio_df['Relapse'], -ratio_df['log_ratio'])\n",
    "roc_auc = auc(fpr, tpr)\n",
    "\n",
    "sns.set_context(\"paper\", font_scale=1.5)\n",
    "plt.figure(figsize=(5,5), dpi=600)\n",
    "plt.plot(fpr, tpr, color='#94C7AB', lw=2, label=f'Representative AUC = {roc_auc:.2f})')\n",
    "plt.plot([0,1], [0,1], color='gray', lw=1, linestyle='--')\n",
    "plt.xlim([-0.01, 1.01])\n",
    "plt.ylim([-0.01, 1.01])\n",
    "plt.xlabel('False Positive Rate', fontsize = 16)\n",
    "plt.ylabel('True Positive Rate', fontsize = 16)\n",
    "plt.legend(loc='lower right')\n",
    "sns.despine()\n",
    "plt.grid(True, linestyle='--', alpha=0.6)\n",
    "plt.tight_layout()\n",
    "plt.savefig(os.path.join(save_directory, 'figure5m.pdf'), bbox_inches = 'tight')"
   ]
  },
  {
   "cell_type": "markdown",
   "metadata": {},
   "source": [
    "## Figure 5l"
   ]
  },
  {
   "cell_type": "markdown",
   "metadata": {},
   "source": [
    "#### Obtain quiche niches from Spain cohort using simplified annotations"
   ]
  },
  {
   "cell_type": "code",
   "execution_count": null,
   "metadata": {},
   "outputs": [],
   "source": [
    "phenotypic_markers = ['ECAD', 'CK17', 'CD45', 'CD3', 'CD4', 'CD8', 'FOXP3', 'CD20', 'CD56', 'CD14', 'CD68',\n",
    "                    'CD163', 'CD11c', 'HLADR', 'ChyTr', 'Calprotectin', 'FAP', 'SMA', 'Vim', 'Fibronectin',\n",
    "                    'Collagen1', 'CD31']\n",
    "\n",
    "functional_markers = ['PDL1','Ki67','GLUT1','CD45RO','CD69', 'PD1','CD57','TBET', 'TCF1',\n",
    "                        'CD45RB', 'TIM3','IDO', 'LAG3', 'CD38']\n",
    "\n",
    "var_names = phenotypic_markers+functional_markers\n",
    "\n",
    "cell_ordering = ['Cancer_1', 'Cancer_2', 'Cancer_3', 'CD4T', 'CD8T', 'Treg', 'T_Other', 'B', \n",
    "                 'NK', 'CD68_Mac', 'CD163_Mac', 'Mac_Other', 'Monocyte', 'APC','Mast', 'Neutrophil',\n",
    "                 'CAF', 'Fibroblast', 'Smooth_Muscle', 'Endothelium']\n",
    "\n",
    "colors_dict_cells = {'APC': '#700548',\n",
    " 'B': '#005377',\n",
    " 'CAF': '#f2cc8f',\n",
    " 'CD4T': '#ebb3a9',\n",
    " 'CD8T': '#ff5666',\n",
    " 'CD68_Mac': '#ffa52f',\n",
    " 'CD163_Mac': '#788AA3',\n",
    " 'Cancer_1': '#66cdaa',\n",
    " 'Cancer_2': '#3d405b',\n",
    " 'Cancer_3': '#b49ab8',\n",
    " 'Endothelium': '#f78e69',\n",
    " 'Fibroblast': '#2d9bd5',\n",
    " 'Immune_Other': '#366962',\n",
    " 'Mac_Other': '#c7d66d',\n",
    " 'Mast': '#E36414',\n",
    " 'Monocyte': '#CC6690',\n",
    " 'NK': '#9ee2ff',\n",
    " 'Neutrophil': '#4a7c59',\n",
    " 'Other': '#FFBF69',\n",
    " 'Smooth_Muscle': '#f5ebe0',\n",
    " 'T_Other': '#901C14',\n",
    " 'Treg': '#9e8576'}\n",
    "\n",
    "sc.set_figure_params(dpi = 400, dpi_save = 400, fontsize = 14)\n",
    "\n",
    "adata = anndata.read_h5ad(os.path.join('data','Zenodo', 'spain_preprocessed.h5ad'))\n",
    "adata.obs['Relapse'] = adata.obs['Relapse'].astype('int').astype('str')\n",
    "\n",
    "sketch_size = 1000\n",
    "adata  = qu.pp.filter_fovs(adata, 'Patient_ID', sketch_size)\n",
    "## assign higher order categories to compare niches across cohorts\n",
    "adata.obs['cell_cluster'] = adata.obs['cell_cluster'].replace({'Cancer_1': 'Cancer',\n",
    "                                                                   'Cancer_2': 'Cancer',\n",
    "                                                                   'Cancer_3': 'Cancer',\n",
    "                                                                   'CAF':'Fibroblast',\n",
    "                                                                   'Fibroblast':'Fibroblast'})"
   ]
  },
  {
   "cell_type": "code",
   "execution_count": null,
   "metadata": {},
   "outputs": [],
   "source": [
    "# design = '~Relapse'\n",
    "# model_contrasts = 'Relapse1-Relapse0'\n",
    "# mdata_spain, sig_niches_spain = qu.tl.run_quiche(adata, radius = 200, labels_key = 'cell_cluster', spatial_key = 'spatial',\n",
    "#                                     fov_key = 'fov', patient_key = 'Patient_ID', n_neighbors = 30, merge = False, test_key='Patient_ID', sketch_key='Patient_ID',\n",
    "#                                     delaunay = False, min_cells = 3, k_sim = 100, design = design, khop = None, label_scheme='normal',\n",
    "#                                     model_contrasts = model_contrasts, sketch_size = sketch_size, nlargest = 3, annotation_key = 'quiche_niche', n_jobs = 8)\n",
    "# mdata_spain['quiche'].var = mdata_spain['quiche'].var.astype('str')\n",
    "# mdata_spain.write_h5mu(os.path.join('data', 'tnbc_spain', 'mdata', 'mdata_spain_validation.h5ad'))"
   ]
  },
  {
   "cell_type": "code",
   "execution_count": null,
   "metadata": {},
   "outputs": [],
   "source": [
    "## load in mdata to save on runtime\n",
    "mdata_spain = mudata.read_h5mu(os.path.join('data', 'tnbc_spain', 'mdata', 'mdata_spain_validation.h5ad'))\n",
    "mdata_spain['quiche'].var[['SpatialFDR', 'logFC']] = mdata_spain['quiche'].var[['SpatialFDR', 'logFC']].astype('float')\n",
    "scores_df_spain = pd.DataFrame(mdata_spain['quiche'].var.groupby('quiche_niche')['SpatialFDR'].median())\n",
    "scores_df_spain.columns = ['pval']\n",
    "scores_df_spain['logFC'] = mdata_spain['quiche'].var.groupby('quiche_niche')['logFC'].mean()\n",
    "scores_df_spain = scores_df_spain[scores_df_spain['pval'] < 0.05]\n",
    "ids = list(set(scores_df_spain.index).intersection(set(list(mdata_spain['quiche'].var['quiche_niche'].value_counts()[mdata_spain['quiche'].var['quiche_niche'].value_counts() >= 5].index))))\n",
    "scores_df_spain = scores_df_spain.loc[ids]\n",
    "scores_df_spain = scores_df_spain[(scores_df_spain.logFC > 1) | (scores_df_spain.logFC < -1)]\n",
    "niches_spain = list(scores_df_spain.index)"
   ]
  },
  {
   "cell_type": "markdown",
   "metadata": {},
   "source": [
    "#### Compute niches based on FOV for Stanford"
   ]
  },
  {
   "cell_type": "code",
   "execution_count": null,
   "metadata": {},
   "outputs": [],
   "source": [
    "phenotypic_markers = ['ECAD', 'CK17', 'CD45', 'CD3', 'CD4', 'CD8', 'FOXP3', 'CD20', 'CD56', 'CD14', 'CD68',\n",
    "                    'CD163', 'CD11c', 'HLADR', 'ChyTr', 'Calprotectin', 'FAP', 'SMA', 'Vim', 'Fibronectin',\n",
    "                    'Collagen1', 'CD31']\n",
    "\n",
    "functional_markers = ['PDL1','Ki67','GLUT1','CD45RO','CD69', 'PD1','CD57','TBET', 'TCF1',\n",
    "                        'CD45RB', 'TIM3','IDO', 'LAG3', 'CD38']\n",
    "\n",
    "var_names = phenotypic_markers+functional_markers\n",
    "\n",
    "cell_ordering = ['Cancer_1', 'Cancer_2', 'Cancer_3', 'CD4T', 'CD8T', 'Treg', 'T_Other', 'B', \n",
    "                 'NK', 'CD68_Mac', 'CD163_Mac', 'Mac_Other', 'Monocyte', 'APC','Mast', 'Neutrophil',\n",
    "                 'CAF', 'Fibroblast', 'Smooth_Muscle', 'Endothelium']\n",
    "\n",
    "colors_dict_cells = {'APC': '#700548',\n",
    " 'B': '#005377',\n",
    " 'CAF': '#f2cc8f',\n",
    " 'CD4T': '#ebb3a9',\n",
    " 'CD8T': '#ff5666',\n",
    " 'CD68_Mac': '#ffa52f',\n",
    " 'CD163_Mac': '#788AA3',\n",
    " 'Cancer_1': '#66cdaa',\n",
    " 'Cancer_2': '#3d405b',\n",
    " 'Cancer_3': '#b49ab8',\n",
    " 'Endothelium': '#f78e69',\n",
    " 'Fibroblast': '#2d9bd5',\n",
    " 'Immune_Other': '#366962',\n",
    " 'Mac_Other': '#c7d66d',\n",
    " 'Mast': '#E36414',\n",
    " 'Monocyte': '#CC6690',\n",
    " 'NK': '#9ee2ff',\n",
    " 'Neutrophil': '#4a7c59',\n",
    " 'Other': '#FFBF69',\n",
    " 'Smooth_Muscle': '#f5ebe0',\n",
    " 'T_Other': '#901C14',\n",
    " 'Treg': '#9e8576'}\n",
    "\n",
    "sc.set_figure_params(dpi = 400, dpi_save = 400, fontsize = 14)\n",
    "\n",
    "adata_stanford = anndata.read_h5ad(os.path.join('data', 'Zenodo', 'stanford_preprocessed.h5ad'))\n",
    "adata_stanford.obs['cell_cluster'] = adata_stanford.obs['cell_cluster'].replace({'Cancer_1': 'Cancer',\n",
    "                                                                   'Cancer_2': 'Cancer',\n",
    "                                                                   'Cancer_3': 'Cancer',\n",
    "                                                                   'CAF':'Fibroblast',\n",
    "                                                                   'Fibroblast':'Fibroblast'})\n",
    "\n",
    "adata_stanford = qu.tl.compute_spatial_neighbors(adata_stanford, radius = 200, n_neighbors = 30, spatial_key = 'spatial', delaunay = None, fov_key = 'fov', coord_type = 'generic')\n",
    "adata_niche_stanford, cells_nonn = qu.tl.compute_niche_composition(adata_stanford, labels_key = 'cell_cluster', min_cells = 3)\n",
    "adata_niche_stanford = adata_niche_stanford[np.where(pd.DataFrame(adata_niche_stanford.X).sum(1) != 0)[0], :].copy()\n",
    "annotations_stanford = qu.tl.compute_niche_abundance_fov(adata_niche_stanford.to_df(), nlargest = 3, min_perc = 0.1)\n",
    "adata_niche_stanford.obs['annot'] = annotations_stanford.values"
   ]
  },
  {
   "cell_type": "code",
   "execution_count": null,
   "metadata": {},
   "outputs": [],
   "source": [
    "# adata_niche_stanford.obs['DATEcap'] = '2016-01-01' ##capping\n",
    "# adata_niche_stanford.obs['DATEDX_REAL'] = pd.to_datetime(list(adata_niche_stanford.obs['DATEDX_REAL'].values))\n",
    "# adata_niche_stanford.obs['DATEcap'] = pd.to_datetime(adata_niche_stanford.obs['DATEcap'])\n",
    "\n",
    "# adata_niche_stanford.obs['Time_Relapse(days)_capped'] = np.nan\n",
    "# id_nan = adata_niche_stanford.obs_names[np.where(adata_niche_stanford.obs['Time_Relapse(days)'].isna())[0]]\n",
    "# id_notnan = adata_niche_stanford.obs_names[np.where(~adata_niche_stanford.obs['Time_Relapse(days)'].isna())[0]]\n",
    "\n",
    "# adata_niche_stanford.obs.loc[id_nan, 'Time_Relapse(days)_capped'] = ((adata_niche_stanford.obs['DATEcap'] - adata_niche_stanford.obs['DATEDX_REAL']).dt.days)\n",
    "# adata_niche_stanford.obs.loc[id_notnan, 'Time_Relapse(days)_capped'] = adata_niche_stanford.obs.loc[id_notnan, 'Time_Relapse(days)'].values"
   ]
  },
  {
   "cell_type": "markdown",
   "metadata": {},
   "source": [
    "#### Compute niches based on FOV for NT"
   ]
  },
  {
   "cell_type": "code",
   "execution_count": null,
   "metadata": {},
   "outputs": [],
   "source": [
    "phenotypic_markers = ['CK5/14', 'CK8/18', 'panCK', 'AR','CD45', 'CD3', 'CD4', 'CD8', 'FOXP3', 'CD20','CD79a', 'CD56', 'CD68', 'CD163', 'CD11c', 'HLA-DR',  'CD15', 'MPO', 'Calponin', 'SMA', 'Vimentin', 'PDGFRB','PDPN', 'CD31']\n",
    "\n",
    "cell_ordering = ['Cancer_4', 'CD4T', 'CD8T', 'Treg', 'B', 'Plasma',\n",
    "                 'NK', 'CD163_Mac', 'APC','DC', 'Neutrophil',\n",
    "                 'Fibroblast', 'PDPN', 'Endothelium']\n",
    "\n",
    "sc.set_figure_params(dpi = 400, dpi_save = 400, fontsize = 14)\n",
    "\n",
    "adata_nt = anndata.read_h5ad(os.path.join('data','Zenodo', 'nt_preprocessed.h5ad'))\n",
    "adata_nt.obs['cell_cluster'] = adata_nt.obs['cell_cluster'].replace({'Cancer_4': 'Cancer'})\n",
    "\n",
    "adata_nt = qu.tl.compute_spatial_neighbors(adata_nt, radius = 200, n_neighbors = 30, spatial_key = 'spatial', delaunay = None, fov_key = 'fov', coord_type = 'generic')\n",
    "adata_niche_nt, cells_nonn = qu.tl.compute_niche_composition(adata_nt, labels_key = 'cell_cluster', min_cells = 3)\n",
    "adata_niche_nt = adata_niche_nt[np.where(pd.DataFrame(adata_niche_nt.X).sum(1) != 0)[0], :].copy()\n",
    "\n",
    "annotations_nt = qu.tl.compute_niche_abundance_fov(adata_niche_nt.to_df(), nlargest = 3, min_perc = 0.1)\n",
    "adata_niche_nt.obs['annot'] = annotations_nt.values"
   ]
  },
  {
   "cell_type": "markdown",
   "metadata": {},
   "source": [
    "#### Plot the change in abundance across cohorts"
   ]
  },
  {
   "cell_type": "code",
   "execution_count": null,
   "metadata": {},
   "outputs": [],
   "source": [
    "recurrence_dict = dict(zip(adata_niche_stanford.obs[['Patient_ID', 'RECURRENCE_LABEL']].drop_duplicates()['Patient_ID'], adata_niche_stanford.obs[['Patient_ID', 'RECURRENCE_LABEL']].drop_duplicates()['RECURRENCE_LABEL']))\n",
    "logFC_stanford = compute_logFC(adata_niche_stanford, 'Patient_ID', 'annot', 'RECURRENCE_LABEL', recurrence_dict, 'POSITIVE', 'NEGATIVE')\n",
    "logFC_stanford.replace([np.inf, -np.inf], np.nan, inplace=True)\n",
    "logFC_stanford.dropna(inplace=True)\n",
    "\n",
    "pcr_dict = dict(zip(adata_niche_nt.obs[['Patient_ID', 'pCR']].drop_duplicates()['Patient_ID'], adata_niche_nt.obs[['Patient_ID', 'pCR']].drop_duplicates()['pCR']))\n",
    "logFC_nt = compute_logFC(adata_niche_nt, 'Patient_ID', 'annot', 'pCR', pcr_dict, 'RD', 'pCR')\n",
    "logFC_nt.replace([np.inf, -np.inf], np.nan, inplace=True)\n",
    "logFC_nt.dropna(inplace=True)\n",
    "\n",
    "overlap1 = list(set(niches_spain).intersection(set(logFC_stanford.index)))\n",
    "overlap2 = list(set(niches_spain).intersection(set(logFC_nt.index)))\n",
    "overlap = list(set(overlap1).union(set(overlap2)))\n",
    "\n",
    "pred_spain = pd.DataFrame(mdata_spain['quiche'].var.groupby('quiche_niche')['logFC'].mean()).loc[overlap]\n",
    "pred_spain.reset_index(inplace = True)\n",
    "pred_spain.columns = ['quiche_niche', 'Spain']\n",
    "\n",
    "pred_nt = pd.DataFrame(logFC_nt[np.isin(logFC_nt.index, overlap)], columns=['NT'])\n",
    "pred_nt.index.name = 'quiche_niche'\n",
    "pred_nt.reset_index(inplace = True)\n",
    "\n",
    "pred_stanford = pd.DataFrame(logFC_stanford[np.isin(logFC_stanford.index, overlap)], columns=['Stanford'])\n",
    "pred_stanford.index.name = 'quiche_niche'\n",
    "pred_stanford.reset_index(inplace = True)"
   ]
  },
  {
   "cell_type": "code",
   "execution_count": null,
   "metadata": {},
   "outputs": [],
   "source": [
    "merged_df = pd.merge(pred_spain, pred_stanford, on='quiche_niche', how = 'outer')\n",
    "merged_df = pd.merge(merged_df, pred_nt, on='quiche_niche', how = 'outer')\n",
    "merged_df.set_index('quiche_niche', inplace=True, drop=True)\n",
    "\n",
    "merged_df['avg_logFC'] = merged_df.mean(axis=1, skipna=True)\n",
    "merged_df = merged_df.sort_values(by='avg_logFC', ascending=False)\n",
    "\n",
    "plt.figure(figsize=(3, 5))\n",
    "sns.set_style('ticks')\n",
    "\n",
    "jitter_strength = 0.02\n",
    "\n",
    "for col, color in zip(merged_df.columns[:-1], ['#94C7AB', '#B589BD', '#F4A261']):\n",
    "    jittered_x_positions = merged_df[col] + np.random.uniform(-jitter_strength, jitter_strength, size=len(merged_df))\n",
    "    plt.scatter(jittered_x_positions, merged_df.index, color=color, s=40, edgecolor='k', zorder=5, label=col, linewidths=0.4)\n",
    "\n",
    "for i, row in merged_df.iterrows():\n",
    "    valid_x = row[:-1].dropna()  # Drop NaN values from the row\n",
    "    plt.plot(valid_x, [i]*len(valid_x), '-', color='grey', linewidth=1, zorder=4)\n",
    "\n",
    "sns.set_style('ticks')\n",
    "plt.axvline(0, color='black', linestyle='--', linewidth=0.8, zorder=3)\n",
    "plt.xlabel('Log2(FC) Abundance', fontsize = 10)\n",
    "plt.ylabel('Quiche Niches', fontsize = 10)\n",
    "plt.yticks(range(len(merged_df)), merged_df.index)\n",
    "plt.xlim(-6, 6)\n",
    "plt.gca().margins(y=0.02)\n",
    "plt.tick_params(labelsize=10)\n",
    "plt.legend(prop={'size':8})\n",
    "plt.savefig(os.path.join(save_directory, 'figure5l.pdf'), bbox_inches = 'tight')"
   ]
  },
  {
   "cell_type": "markdown",
   "metadata": {},
   "source": [
    "## Figure 5n. For survival curves see cox_model.R"
   ]
  },
  {
   "cell_type": "code",
   "execution_count": null,
   "metadata": {},
   "outputs": [],
   "source": [
    "relapse_dict = dict(zip(mdata_spain['expression'].obs[['Patient_ID', 'Relapse']].drop_duplicates()['Patient_ID'], mdata_spain['expression'].obs[['Patient_ID', 'Relapse']].drop_duplicates()['Relapse']))\n",
    "time_dict_spain = dict(zip(mdata_spain['expression'].obs[['Patient_ID', 'Time']].drop_duplicates()['Patient_ID'], mdata_spain['expression'].obs[['Patient_ID', 'Time']].drop_duplicates()['Time']))\n",
    "patient_dict_spain = dict(zip(mdata_spain['expression'].obs[['fov', 'Patient_ID']].drop_duplicates()['fov'], mdata_spain['expression'].obs[['fov', 'Patient_ID']].drop_duplicates()['Patient_ID']))\n",
    "\n",
    "recurrence_dict = dict(zip(adata_niche_stanford.obs[['Patient_ID', 'RECURRENCE_LABEL']].drop_duplicates()['Patient_ID'], adata_niche_stanford.obs[['Patient_ID', 'RECURRENCE_LABEL']].drop_duplicates()['RECURRENCE_LABEL']))\n",
    "time_dict = dict(zip(adata_niche_stanford.obs[['Patient_ID', 'Time_Relapse(days)_capped']].drop_duplicates()['Patient_ID'], adata_niche_stanford.obs[['Patient_ID', 'Time_Relapse(days)_capped']].drop_duplicates()['Time_Relapse(days)_capped']))\n",
    "patient_dict_stanford = dict(zip(adata_stanford.obs[['fov', 'Patient_ID']].drop_duplicates()['fov'], adata_stanford.obs[['fov', 'Patient_ID']].drop_duplicates()['Patient_ID']))"
   ]
  },
  {
   "cell_type": "markdown",
   "metadata": {},
   "source": [
    "#### generate count df based on quiche niches for Spain cohort"
   ]
  },
  {
   "cell_type": "code",
   "execution_count": null,
   "metadata": {},
   "outputs": [],
   "source": [
    "spain_counts = mdata_spain['quiche'].var.groupby(['Patient_ID', 'quiche_niche']).size().unstack().loc[:, niches_spain]\n",
    "adata_spain = anndata.read_h5ad(os.path.join('data','Zenodo', 'spain_preprocessed.h5ad'))\n",
    "\n",
    "spain_counts['RECURRENCE_LABEL'] = pd.Series(spain_counts.index.astype('float')).map(relapse_dict).values\n",
    "spain_counts['Time_Relapse(days)_capped'] = pd.Series(spain_counts.index.astype('float')).map(time_dict_spain).values\n",
    "\n",
    "spain_counts = spain_counts[spain_counts['Time_Relapse(days)_capped'] >= 0]\n",
    "spain_counts = spain_counts[spain_counts['Time_Relapse(days)_capped']!=np.nan]\n",
    "\n",
    "spain_counts.to_csv(os.path.join('data', 'output_files','spain_niche_count.csv'))"
   ]
  },
  {
   "cell_type": "markdown",
   "metadata": {},
   "source": [
    "#### generate count df based on quiche niches for Stanford cohort"
   ]
  },
  {
   "cell_type": "code",
   "execution_count": null,
   "metadata": {},
   "outputs": [],
   "source": [
    "stanford_count_df = adata_niche_stanford.obs.groupby(['Patient_ID', 'annot']).size().unstack().fillna(0)\n",
    "stanford_count_df = stanford_count_df.loc[:, np.isin(stanford_count_df.columns, niches_spain)]\n",
    "\n",
    "stanford_count_df['RECURRENCE_LABEL'] = pd.Series(stanford_count_df.index).map(recurrence_dict).values\n",
    "stanford_count_df['Time_Relapse(days)_capped'] = pd.Series(stanford_count_df.index).map(time_dict).values\n",
    "\n",
    "stanford_count_df = stanford_count_df[stanford_count_df['Time_Relapse(days)_capped'] >= 0]\n",
    "stanford_count_df = stanford_count_df[stanford_count_df['Time_Relapse(days)_capped']!=np.nan]\n",
    "\n",
    "stanford_count_df.to_csv(os.path.join('data', 'output_files', 'stanford_niche_count.csv'))"
   ]
  },
  {
   "cell_type": "markdown",
   "metadata": {},
   "source": [
    "#### generate count matrix based on cell type abundance for Spain cohort"
   ]
  },
  {
   "cell_type": "code",
   "execution_count": null,
   "metadata": {},
   "outputs": [],
   "source": [
    "cell_counts_spain = adata.obs.groupby(['fov', 'cell_cluster']).size().unstack()\n",
    "cell_counts_spain['Patient_ID'] = cell_counts_spain.index.map(patient_dict_spain)\n",
    "cell_counts_spain = cell_counts_spain.groupby(['Patient_ID']).mean()\n",
    "cell_counts_spain  = cell_counts_spain.reset_index()\n",
    "\n",
    "cell_counts_spain['RECURRENCE_LABEL'] = pd.Series(cell_counts_spain.Patient_ID).map(relapse_dict).values\n",
    "cell_counts_spain['Time_Relapse(days)_capped'] = pd.Series(cell_counts_spain.Patient_ID).map(time_dict_spain).values\n",
    "\n",
    "cell_counts_spain = cell_counts_spain[cell_counts_spain['Time_Relapse(days)_capped'] >= 0]\n",
    "cell_counts_spain = cell_counts_spain[cell_counts_spain['Time_Relapse(days)_capped']!=np.nan]\n",
    "\n",
    "cell_counts_spain.to_csv(os.path.join('data', 'output_files','spain_celltype_count.csv'))"
   ]
  },
  {
   "cell_type": "markdown",
   "metadata": {},
   "source": [
    "#### generate count matrix based on cell type abundance for Stanford cohort"
   ]
  },
  {
   "cell_type": "code",
   "execution_count": null,
   "metadata": {},
   "outputs": [],
   "source": [
    "cell_counts_stanford = adata_stanford.obs.groupby(['fov', 'cell_cluster']).size().unstack()\n",
    "cell_counts_stanford['Patient_ID'] = cell_counts_stanford.index.map(patient_dict_stanford)\n",
    "cell_counts_stanford = cell_counts_stanford.groupby(['Patient_ID']).mean()\n",
    "cell_counts_stanford  = cell_counts_stanford.reset_index()\n",
    "\n",
    "cell_counts_stanford['RECURRENCE_LABEL'] = pd.Series(cell_counts_stanford.Patient_ID).map(recurrence_dict).values\n",
    "cell_counts_stanford['Time_Relapse(days)_capped'] = pd.Series(cell_counts_stanford.Patient_ID).map(time_dict).values\n",
    "\n",
    "cell_counts_stanford = cell_counts_stanford[cell_counts_stanford['Time_Relapse(days)_capped'] >= 0]\n",
    "cell_counts_stanford = cell_counts_stanford[cell_counts_stanford['Time_Relapse(days)_capped']!=np.nan]\n",
    "\n",
    "cell_counts_stanford.to_csv(os.path.join('data', 'output_files','stanford_celltype_count.csv'))"
   ]
  },
  {
   "cell_type": "markdown",
   "metadata": {},
   "source": [
    "#### generate count matrix based on kmeans clusters for Spain cohort"
   ]
  },
  {
   "cell_type": "code",
   "execution_count": null,
   "metadata": {},
   "outputs": [],
   "source": [
    "n_clusters = 10\n",
    "random_state = 0\n",
    "fov_key = 'Patient_ID'\n",
    "condition_key = 'Relapse'\n",
    "labels_key = 'cell_cluster'\n",
    "condition_list = ['1', '0']\n",
    "radius = 200\n",
    "n_neighbors = 30\n",
    "spatial_key = 'spatial' \n",
    "coord_type = 'generic'\n",
    "delaunay = True\n",
    "min_cells = 3\n",
    "feature_key = 'spatial_nhood'\n",
    "sig_threshold = 0.05\n",
    "nlargest = 3\n",
    "n_jobs = -1\n",
    "\n",
    "adata = qu.tl.compute_spatial_neighbors(adata, radius = radius, n_neighbors = n_neighbors, spatial_key = spatial_key, delaunay = delaunay, fov_key = fov_key, coord_type = coord_type)\n",
    "adata_niche, cells_nonn = qu.tl.compute_niche_composition(adata, labels_key = labels_key, min_cells = min_cells)\n",
    "adata_niche, cluster_fit = compute_kmeans(adata_niche, cells_nonn, n_clusters = n_clusters, random_state=random_state, key_added = f'kmeans_cluster')   \n",
    "\n",
    "df = adata_niche.obs.groupby([f'kmeans_cluster', labels_key])['label'].count().unstack()\n",
    "df = df.div(df.sum(1), axis = 0)\n",
    "cluster_stats = qu.tl.compute_microenv_statistics(adata_niche, fov_key = fov_key, condition_key = condition_key, labels_key = f'kmeans_cluster')\n",
    "scores_df = qu.tl.compute_microenv_significance(cluster_stats, fov_key = fov_key, condition_key = condition_key, labels_key = f'kmeans_cluster', condition_list = condition_list)\n",
    "scores_df = scores_df[scores_df['pval'] <= sig_threshold]\n",
    "mdata = mudata.MuData({'expression': adata, feature_key: adata_niche})\n",
    "mdata[feature_key].obs['pval'] = pd.Series(mdata[feature_key].obs['kmeans_cluster']).map(dict(zip(list(scores_df.index), scores_df.pval)))\n",
    "sig_clusters = list(scores_df[scores_df['pval'] < 0.05].index)\n",
    "\n",
    "kmeans_df_spain = cluster_stats[np.isin(cluster_stats['kmeans_cluster'], sig_clusters)].pivot_table(\n",
    "    index=['Patient_ID'],  \n",
    "    columns='kmeans_cluster', \n",
    "    values='proportion',\n",
    "    fill_value=0\n",
    ").reset_index()\n",
    "\n",
    "kmeans_df_spain['RECURRENCE_LABEL'] = pd.Series(kmeans_df_spain.Patient_ID).map(relapse_dict).values\n",
    "kmeans_df_spain['Time_Relapse(days)_capped'] = pd.Series(kmeans_df_spain.Patient_ID).map(time_dict_spain).values\n",
    "\n",
    "kmeans_df_spain = kmeans_df_spain[kmeans_df_spain['Time_Relapse(days)_capped'] >= 0]\n",
    "kmeans_df_spain = kmeans_df_spain[kmeans_df_spain['Time_Relapse(days)_capped']!=np.nan]\n",
    "\n",
    "kmeans_df_spain.to_csv(os.path.join('data', 'output_files',f'spain_kmeans_count.csv'))"
   ]
  },
  {
   "cell_type": "markdown",
   "metadata": {},
   "source": [
    "#### predict clusters in the Stanford cohort and then generate count matrix"
   ]
  },
  {
   "cell_type": "code",
   "execution_count": null,
   "metadata": {},
   "outputs": [],
   "source": [
    "adata_stanford = qu.tl.compute_spatial_neighbors(adata_stanford, radius = radius, n_neighbors = n_neighbors, spatial_key = spatial_key, delaunay = delaunay, fov_key = fov_key, coord_type = coord_type)\n",
    "adata_stanford_niche, cells_no_nn = qu.tl.compute_niche_composition(adata_stanford, labels_key = labels_key, min_cells = min_cells)\n",
    "\n",
    "bool_idx = ~np.isin(adata_stanford_niche.obs_names, cells_no_nn)\n",
    "df = adata_stanford_niche[~np.isin(adata_stanford_niche.obs_names, cells_no_nn)].to_df()\n",
    "\n",
    "cluster_pred = cluster_fit.predict(df.loc[:, adata_niche.var_names])\n",
    "cluster_pred = cluster_pred + 1 #add 1 to ensure labels start at 1 and not 0. this ensures our plotting functions will still work as currently written\n",
    "cluster_df = pd.DataFrame(cluster_pred, index = df.index, columns = ['kmeans_cluster'])\n",
    "\n",
    "adata_stanford_niche.obs = pd.merge(adata_stanford_niche.obs, cluster_df, left_index = True, right_index = True, how = 'left')\n",
    "adata_stanford_niche.obs['kmeans_cluster'][bool_idx] = np.round(adata_stanford_niche.obs['kmeans_cluster'][bool_idx])\n",
    "adata_stanford_niche.obs['kmeans_cluster'][~bool_idx] = np.nan\n",
    "adata_stanford_niche.obs['kmeans_cluster'] = pd.Categorical(adata_stanford_niche.obs['kmeans_cluster'])\n",
    "\n",
    "cluster_stats_stanford = qu.tl.compute_microenv_statistics(adata_stanford_niche, fov_key = fov_key, condition_key = 'RECURRENCE_LABEL', labels_key = f'kmeans_cluster')\n",
    "\n",
    "kmeans_df_stanford = cluster_stats_stanford[np.isin(cluster_stats_stanford['kmeans_cluster'], sig_clusters)].pivot_table(\n",
    "    index=['Patient_ID', 'RECURRENCE_LABEL'],\n",
    "    columns='kmeans_cluster',\n",
    "    values='proportion',\n",
    "    fill_value=0\n",
    ").reset_index()\n",
    "\n",
    "kmeans_df_stanford['Time_Relapse(days)_capped'] = pd.Series(kmeans_df_stanford.Patient_ID).map(time_dict).values\n",
    "kmeans_df_stanford = kmeans_df_stanford[kmeans_df_stanford['Time_Relapse(days)_capped'] >= 0]\n",
    "kmeans_df_stanford = kmeans_df_stanford[kmeans_df_stanford['Time_Relapse(days)_capped']!=np.nan]\n",
    "kmeans_df_stanford.to_csv(os.path.join('data', 'output_files',f'stanford_kmeans_count.csv'))"
   ]
  }
 ],
 "metadata": {
  "kernelspec": {
   "display_name": "venv_quiche_all",
   "language": "python",
   "name": "python3"
  },
  "language_info": {
   "codemirror_mode": {
    "name": "ipython",
    "version": 3
   },
   "file_extension": ".py",
   "mimetype": "text/x-python",
   "name": "python",
   "nbconvert_exporter": "python",
   "pygments_lexer": "ipython3",
   "version": "3.9.20"
  }
 },
 "nbformat": 4,
 "nbformat_minor": 2
}
