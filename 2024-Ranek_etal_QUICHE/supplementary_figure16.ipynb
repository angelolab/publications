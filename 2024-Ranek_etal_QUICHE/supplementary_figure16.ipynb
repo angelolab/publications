{
 "cells": [
  {
   "cell_type": "code",
   "execution_count": null,
   "metadata": {},
   "outputs": [],
   "source": [
    "import os\n",
    "import pandas as pd\n",
    "import numpy as np\n",
    "import quiche as qu\n",
    "import matplotlib.pyplot as plt\n",
    "import seaborn as sns\n",
    "import anndata\n",
    "from sketchKH import *\n",
    "import scanpy as sc\n",
    "import mudata\n",
    "import matplotlib.cm as cm\n",
    "import shutil\n",
    "from scipy.stats import ranksums\n",
    "\n",
    "sns.set_style('ticks')\n",
    "%reload_ext autoreload\n",
    "%load_ext autoreload\n",
    "%autoreload 2\n",
    "%matplotlib inline"
   ]
  },
  {
   "cell_type": "code",
   "execution_count": null,
   "metadata": {},
   "outputs": [],
   "source": [
    "save_directory = os.path.join('publications','supplementary_figures', 'supplementary_figure16')\n",
    "qu.pp.make_directory(save_directory)\n",
    "functional_markers = ['PDL1','Ki67','GLUT1','CD45RO','CD69', 'PD1','CD57','TBET', 'TCF1',\n",
    "                        'CD45RB', 'TIM3','IDO', 'LAG3', 'CD38', 'HLADR']\n",
    "\n",
    "mdata = mudata.read_h5mu(os.path.join('data', 'tnbc_spain', 'mdata', 'mdata_ecm_alignment.h5mu'))\n",
    "mdata['quiche'].var[['logFC', 'SpatialFDR', 'PValue']] = mdata['quiche'].var[['logFC', 'SpatialFDR', 'PValue']].astype('float')\n",
    "scores_df = pd.DataFrame(mdata['quiche'].var.groupby('quiche_niche')['SpatialFDR'].median())\n",
    "scores_df.columns = ['pval']\n",
    "scores_df['logFC'] = mdata['quiche'].var.groupby('quiche_niche')['logFC'].mean()\n",
    "scores_df = scores_df[scores_df['pval'] < 0.05]\n",
    "ids = list(set(scores_df.index).intersection(set(list(mdata['quiche'].var['quiche_niche'].value_counts()[mdata['quiche'].var['quiche_niche'].value_counts() >= 5].index))))\n",
    "scores_df = scores_df.loc[ids]\n",
    "scores_df = scores_df[(scores_df.logFC > 0.5) | (scores_df.logFC < -0.5)]\n",
    "niches = list(scores_df.index)\n",
    "\n",
    "cov_count_df = qu.tl.compute_patient_proportion(mdata,\n",
    "                                niches = niches,\n",
    "                                feature_key = 'quiche',\n",
    "                                annot_key = 'quiche_niche',\n",
    "                                patient_key = 'Patient_ID',\n",
    "                                design_key = 'compartment',\n",
    "                                patient_niche_threshold = 5)\n",
    "\n",
    "cov_count_df_neg = cov_count_df[cov_count_df['mean_logFC'] < 0]\n",
    "cov_count_df_neg = cov_count_df_neg[cov_count_df_neg['patient_count'] >= 2]\n",
    "cov_count_df_neg = cov_count_df_neg[cov_count_df_neg['compartment'] == 'unaligned']\n",
    "\n",
    "cov_count_df_pos = cov_count_df[cov_count_df['mean_logFC'] > 0]\n",
    "cov_count_df_pos = cov_count_df_pos[cov_count_df_pos['patient_count'] >= 2]\n",
    "cov_count_df_pos = cov_count_df_pos[cov_count_df_pos['compartment'] == 'aligned']"
   ]
  },
  {
   "cell_type": "code",
   "execution_count": null,
   "metadata": {},
   "outputs": [],
   "source": [
    "adata_expression_og = mdata['expression'].copy()\n",
    "mdata['expression'].X = qu.pp.standardize(mdata['expression'].X)"
   ]
  },
  {
   "cell_type": "code",
   "execution_count": null,
   "metadata": {},
   "outputs": [],
   "source": [
    "adata_func_pos = qu.tl.compute_functional_expression(mdata = mdata,\n",
    "                                sig_niches = list(cov_count_df_pos['quiche_niche'].values),\n",
    "                                labels_key = 'cell_cluster',\n",
    "                                annot_key = 'quiche_niche',\n",
    "                                fov_key = 'fov',\n",
    "                                segmentation_label_key = 'label',\n",
    "                                patient_key = 'fovcompartment',\n",
    "                                min_cell_count = 3,\n",
    "                                foldchange_key = 'logFC',\n",
    "                                markers = mdata['expression'].var_names)\n",
    "\n",
    "adata_func_neg = qu.tl.compute_functional_expression(mdata = mdata,\n",
    "                                sig_niches = list(cov_count_df_neg['quiche_niche'].values),\n",
    "                                labels_key = 'cell_cluster',\n",
    "                                annot_key = 'quiche_niche',\n",
    "                                fov_key = 'fov',\n",
    "                                segmentation_label_key = 'label',\n",
    "                                patient_key = 'fovcompartment',\n",
    "                                min_cell_count = 3,\n",
    "                                foldchange_key = 'logFC',\n",
    "                                markers = mdata['expression'].var_names)"
   ]
  },
  {
   "cell_type": "markdown",
   "metadata": {},
   "source": [
    "## Supplementary Figure 16a-b"
   ]
  },
  {
   "cell_type": "code",
   "execution_count": null,
   "metadata": {},
   "outputs": [],
   "source": [
    "pos_df = adata_func_pos.to_df()\n",
    "pos_df['cell_cluster'] = adata_func_pos.obs['cell_cluster']\n",
    " \n",
    "neg_df = adata_func_neg.to_df()\n",
    "neg_df['cell_cluster'] = adata_func_neg.obs['cell_cluster']\n",
    "\n",
    "total_df = mdata['expression'].to_df()\n",
    "total_df['cell_cluster'] = mdata['expression'].obs['cell_cluster']\n",
    "\n",
    "qu.pl.plot_diff_func(pos_df, total_df, 'cell_cluster', functional_markers, (5.5, 3.5), cmap = 'PuOr_r', filename_save='supplementary_figure16a')\n",
    "shutil.move(os.path.join('figures','matrixplot_supplementary_figure16a.pdf'), os.path.join(save_directory, 'supplementary_figure16a.pdf'))\n",
    "qu.pl.plot_diff_func(neg_df, total_df, 'cell_cluster', functional_markers, (5.5, 3.5), cmap = 'PuOr_r', filename_save='supplementary_figure16b')\n",
    "shutil.move(os.path.join('figures','matrixplot_supplementary_figure16b.pdf'), os.path.join(save_directory, 'supplementary_figure16b.pdf'))"
   ]
  },
  {
   "cell_type": "markdown",
   "metadata": {},
   "source": [
    "## Supplementary Figure 16c"
   ]
  },
  {
   "cell_type": "code",
   "execution_count": null,
   "metadata": {},
   "outputs": [],
   "source": [
    "adata_sub = mdata['spatial_nhood'][np.isin(mdata['spatial_nhood'].obs['cell_cluster'], ['Cancer_1', 'Cancer_2', 'Cancer_3'])].copy()\n",
    "morph_measurements = adata_sub.obs[['nc_ratio', 'area', 'eccentricity', 'major_axis_length', 'minor_axis_length']].copy()\n",
    "morph_measurements['elongation'] = morph_measurements['major_axis_length'] / morph_measurements['minor_axis_length']\n",
    "morph_measurements = pd.DataFrame(qu.pp.standardize(morph_measurements), index = morph_measurements.index, columns = morph_measurements.columns)\n",
    "morph_measurements['compartment'] = adata_sub.obs['compartment']\n",
    "morph_measurements['Patient_ID'] = adata_sub.obs['Patient_ID']\n",
    "morph_measurementsv2 = morph_measurements.groupby(['compartment', 'Patient_ID']).mean().unstack().unstack().reset_index()"
   ]
  },
  {
   "cell_type": "code",
   "execution_count": null,
   "metadata": {},
   "outputs": [],
   "source": [
    "fig, axes = plt.subplots(1, 4, figsize=(12, 3.5), sharey=False)\n",
    "for idx, morph in enumerate(['nc_ratio', 'area', 'eccentricity', 'elongation']):\n",
    "    melted_data = morph_measurementsv2[morph_measurementsv2['level_0'] ==morph]\n",
    "    \n",
    "    Q1 = melted_data[0].quantile(0.25)\n",
    "    Q3 = melted_data[0].quantile(0.75)\n",
    "    IQR = Q3 - Q1\n",
    "    lower_bound = Q1 - 1.5 * IQR\n",
    "    upper_bound = Q3 + 1.5 * IQR\n",
    "\n",
    "    filtered_data = melted_data[(melted_data[0] >= lower_bound) & (melted_data[0] <= upper_bound)]\n",
    "\n",
    "    groups = [filtered_data[filtered_data['compartment'] == c][0] for c in filtered_data['compartment'].unique()]\n",
    "    if len(groups) == 2:\n",
    "        stat, p_value = ranksums(groups[0], groups[1])\n",
    "    else:\n",
    "        p_value = None\n",
    "    \n",
    "    g = sns.boxplot(x='compartment', y=0, data=filtered_data, width=0.5, fliersize=0, color='white', ax=axes[idx])\n",
    "    g = sns.stripplot( x='compartment', y=0, data=filtered_data, color='gray', alpha=0.8, ax=axes[idx])\n",
    "    g.tick_params(labelsize=10)\n",
    "    \n",
    "    if p_value is not None:\n",
    "        if p_value < 0.001:\n",
    "            axes[idx].set_title(f\"{morph} (p < 0.001)\")\n",
    "        else:\n",
    "            axes[idx].set_title(f\"{morph} (p = {p_value:.3f})\")\n",
    "    else:\n",
    "        axes[idx].set_title(f\"{morph} (p-value not computed)\")\n",
    "    \n",
    "    axes[idx].set_xlabel(\"ECM region\", fontsize = 12)\n",
    "    axes[idx].set_ylabel('')\n",
    "\n",
    "plt.tight_layout()\n",
    "plt.savefig(os.path.join(save_directory,'supplementary_figure16c.pdf'))"
   ]
  }
 ],
 "metadata": {
  "kernelspec": {
   "display_name": "venv_quiche_all",
   "language": "python",
   "name": "python3"
  },
  "language_info": {
   "codemirror_mode": {
    "name": "ipython",
    "version": 3
   },
   "file_extension": ".py",
   "mimetype": "text/x-python",
   "name": "python",
   "nbconvert_exporter": "python",
   "pygments_lexer": "ipython3",
   "version": "3.9.20"
  }
 },
 "nbformat": 4,
 "nbformat_minor": 2
}
