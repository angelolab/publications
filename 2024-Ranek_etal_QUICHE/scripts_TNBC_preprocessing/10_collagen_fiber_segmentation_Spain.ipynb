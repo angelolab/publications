{
 "cells": [
  {
   "cell_type": "code",
   "execution_count": null,
   "metadata": {},
   "outputs": [],
   "source": [
    "import os\n",
    "import matplotlib.pyplot as plt\n",
    "import ark.segmentation.fiber_segmentation as fibseg"
   ]
  },
  {
   "cell_type": "markdown",
   "metadata": {},
   "source": [
    "## Perform segmentation of collagen fibers"
   ]
  },
  {
   "cell_type": "code",
   "execution_count": null,
   "metadata": {},
   "outputs": [],
   "source": [
    "cohort_ID = 'SPAIN'\n",
    "base_dir = f'/Volumes/Shared/Noah Greenwald/TNBC_cohorts/{cohort_ID}'"
   ]
  },
  {
   "cell_type": "code",
   "execution_count": null,
   "metadata": {},
   "outputs": [],
   "source": [
    "input_dir = os.path.join(base_dir, 'image_data', 'samples')\n",
    "fibseg_dir = os.path.join(base_dir, 'data', 'fiber_segmentation_processed_data')\n",
    "\n",
    "if not os.path.exists(fibseg_dir):\n",
    "    os.makedirs(fibseg_dir)"
   ]
  },
  {
   "cell_type": "code",
   "execution_count": null,
   "metadata": {},
   "outputs": [],
   "source": [
    "example_fov_name = 'TMA31_R2C5'\n",
    "fiber_channel_name = 'Collagen1'\n",
    "\n",
    "blur = 2\n",
    "CSD = 256\n",
    "fiber_widths = (1, 3, 5, 7, 9)\n",
    "ridge_cutoff = 0.1\n",
    "sobel_blur = 1\n",
    "min_fiber_size = 100"
   ]
  },
  {
   "cell_type": "code",
   "execution_count": null,
   "metadata": {},
   "outputs": [],
   "source": [
    "plt.style.use('dark_background')\n",
    "fibseg.plot_fiber_segmentation_steps(input_dir, example_fov_name, fiber_channel_name,\n",
    "    img_sub_folder=None,\n",
    "    blur=blur,\n",
    "    contrast_scaling_divisor=CSD,\n",
    "    fiber_widths=fiber_widths,\n",
    "    ridge_cutoff=ridge_cutoff,\n",
    "    sobel_blur=sobel_blur,\n",
    "    min_fiber_size=min_fiber_size\n",
    ")\n",
    "plt.gcf().set_size_inches((32, 32))"
   ]
  },
  {
   "cell_type": "code",
   "execution_count": null,
   "metadata": {},
   "outputs": [],
   "source": [
    "csv_compression = None\n",
    "\n",
    "fiber_table = fibseg.run_fiber_segmentation(input_dir, fiber_channel_name, fibseg_dir,\n",
    "    img_sub_folder=None,\n",
    "    csv_compression=csv_compression,\n",
    "    blur=blur,\n",
    "    contrast_scaling_divisor=CSD,\n",
    "    fiber_widths=fiber_widths,\n",
    "    ridge_cutoff=ridge_cutoff,\n",
    "    sobel_blur=sobel_blur,\n",
    "    min_fiber_size=min_fiber_size,\n",
    "    debug=False,\n",
    ")"
   ]
  },
  {
   "cell_type": "code",
   "execution_count": null,
   "metadata": {},
   "outputs": [],
   "source": [
    "tile_length = 512\n",
    "min_fiber_num = 5\n",
    "save_tiles = True\n",
    "\n",
    "fov_stats, tile_states = fibseg.generate_summary_stats(\n",
    "    fiber_table, fibseg_dir, tile_length=tile_length, min_fiber_num=min_fiber_num, save_tiles=save_tiles)"
   ]
  }
 ],
 "metadata": {
  "kernelspec": {
   "display_name": "venv_ark",
   "language": "python",
   "name": "python3"
  },
  "language_info": {
   "codemirror_mode": {
    "name": "ipython",
    "version": 3
   },
   "file_extension": ".py",
   "mimetype": "text/x-python",
   "name": "python",
   "nbconvert_exporter": "python",
   "pygments_lexer": "ipython3",
   "version": "3.9.0"
  }
 },
 "nbformat": 4,
 "nbformat_minor": 2
}
