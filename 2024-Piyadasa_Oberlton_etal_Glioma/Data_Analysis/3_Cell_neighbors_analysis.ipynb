{
 "cells": [
  {
   "cell_type": "markdown",
   "id": "c28c6fb4-0fb8-4236-9227-80149f125407",
   "metadata": {},
   "source": [
    "# Cell Neighbors Analysis\n",
    "There are two components of this notebook: **neighborhood diversity** and **cell distance analysis**. Each is independent of the other, so you can choose only to run what you're interested in; however, you must run the four cells below to set up the notebook paths and generate the distance matrices for your data."
   ]
  },
  {
   "cell_type": "code",
   "execution_count": 1,
   "id": "ae38a76a-5141-4a2c-97dd-53185f98dd7d",
   "metadata": {
    "execution": {
     "iopub.execute_input": "2024-09-24T19:40:54.219806Z",
     "iopub.status.busy": "2024-09-24T19:40:54.218573Z",
     "iopub.status.idle": "2024-09-24T19:40:56.461593Z",
     "shell.execute_reply": "2024-09-24T19:40:56.461308Z",
     "shell.execute_reply.started": "2024-09-24T19:40:54.219737Z"
    },
    "tags": [
     "import"
    ]
   },
   "outputs": [
    {
     "name": "stdout",
     "output_type": "stream",
     "text": [
      "blah\n"
     ]
    }
   ],
   "source": [
    "import os\n",
    "import pandas as pd \n",
    "from ark.utils import example_dataset\n",
    "import ark.settings as settings\n",
    "from ark.analysis import spatial_analysis_utils\n",
    "from ark.analysis.neighborhood_analysis import create_neighborhood_matrix\n",
    "from ark.analysis.cell_neighborhood_stats import generate_neighborhood_diversity_analysis, generate_cell_distance_analysis"
   ]
  },
  {
   "cell_type": "markdown",
   "id": "1e459c5d-a9f5-4b93-b88b-9b63de8e0899",
   "metadata": {},
   "source": [
    "## Path Setup\n",
    "* `base_dir`: the path to the main folder containing all of your imaging data. This directory will also store all of the directories/files created during analysis\n",
    "* `spatial_analysis_dir`: the path to the directory containing the spatial analysis output\n",
    "* `cell_table_path`: the path to the cell table that contains columns for fov, cell label, and cell phenotype (generated from `3_Pixie_Cluster_Cells.ipynb`)\n",
    "* `dist_mat_dir`: the path to directory containing the distance matrices for your data\n",
    "* `neighbors_mat_dir`: the path to directory containing the neighborhood matrix for your data\n",
    "* `output_dir`: path for a new directory that will be created for the output below"
   ]
  },
  {
   "cell_type": "code",
   "execution_count": 2,
   "id": "e4a1765e-351f-4ab3-9b08-6d4fc998bf2e",
   "metadata": {
    "execution": {
     "iopub.execute_input": "2024-09-24T19:40:56.465225Z",
     "iopub.status.busy": "2024-09-24T19:40:56.465157Z",
     "iopub.status.idle": "2024-09-24T19:40:56.466769Z",
     "shell.execute_reply": "2024-09-24T19:40:56.466464Z",
     "shell.execute_reply.started": "2024-09-24T19:40:56.465217Z"
    },
    "tags": [
     "base_dir"
    ]
   },
   "outputs": [],
   "source": [
    "base_dir = \"/Users/boberlto/Library/CloudStorage/GoogleDrive-boberlto@stanford.edu/Shared drives/BRUCE_data/cell_tables/combined_panel\""
   ]
  },
  {
   "cell_type": "markdown",
   "id": "0f8e44d8",
   "metadata": {},
   "source": [
    "If you would like to test the features in Ark with an example dataset, run the cell below. It will download a dataset consisting of 11 FOVs with 22 channels. You may find more information about the example dataset in the [README](../README.md#example-dataset).\n",
    "\n",
    "If you are using your own data, skip the cell below.\n",
    "\n",
    "* `overwrite_existing`: If set to `False`, it will not overwrite existing data in the `data/example_dataset`. Recommended setting to `False` if you are running Notebooks 1,2,3 and 4 in succession. Set to `True` if you are just running Notebook 4."
   ]
  },
  {
   "cell_type": "code",
   "execution_count": 3,
   "id": "9d54b607",
   "metadata": {
    "execution": {
     "iopub.execute_input": "2024-09-24T19:40:57.331376Z",
     "iopub.status.busy": "2024-09-24T19:40:57.330942Z",
     "iopub.status.idle": "2024-09-24T19:40:57.334628Z",
     "shell.execute_reply": "2024-09-24T19:40:57.333792Z",
     "shell.execute_reply.started": "2024-09-24T19:40:57.331349Z"
    },
    "tags": [
     "ex_data_download"
    ]
   },
   "outputs": [],
   "source": [
    "# example_dataset.get_example_dataset(dataset=\"post_clustering\", save_dir=base_dir, overwrite_existing=False)"
   ]
  },
  {
   "cell_type": "code",
   "execution_count": 4,
   "id": "e76fd63a-2f1c-4b8e-a082-27d3bf3fb338",
   "metadata": {
    "execution": {
     "iopub.execute_input": "2024-09-24T19:40:57.753593Z",
     "iopub.status.busy": "2024-09-24T19:40:57.752923Z",
     "iopub.status.idle": "2024-09-24T19:40:57.762508Z",
     "shell.execute_reply": "2024-09-24T19:40:57.759072Z",
     "shell.execute_reply.started": "2024-09-24T19:40:57.753529Z"
    },
    "tags": [
     "file_path"
    ]
   },
   "outputs": [],
   "source": [
    "spatial_analysis_dir = os.path.join(base_dir, \"spatial_analysis_updated\")\n",
    "# segmentation_dir = os.path.join(base_dir, \"segmentation/deepcell_output\")\n",
    "cell_table_path = os.path.join(base_dir, \"20240922_spatial_notebook_prepped_combined_panel.csv\")\n",
    "dist_mat_dir = os.path.join(spatial_analysis_dir, \"dist_mats\")\n",
    "\n",
    "neighbors_mat_dir = os.path.join(spatial_analysis_dir, \"neighborhood_mats\")\n",
    "output_dir = os.path.join(spatial_analysis_dir, \"cell_neighbor_analysis\")"
   ]
  },
  {
   "cell_type": "code",
   "execution_count": 5,
   "id": "ebf091c8-007e-44b4-ab93-9c8ee8d65dde",
   "metadata": {
    "execution": {
     "iopub.execute_input": "2024-09-24T19:40:58.074213Z",
     "iopub.status.busy": "2024-09-24T19:40:58.073618Z",
     "iopub.status.idle": "2024-09-24T19:40:58.079554Z",
     "shell.execute_reply": "2024-09-24T19:40:58.078449Z",
     "shell.execute_reply.started": "2024-09-24T19:40:58.074165Z"
    },
    "tags": []
   },
   "outputs": [],
   "source": [
    "# os.listdir(dist_mat_dir)"
   ]
  },
  {
   "cell_type": "code",
   "execution_count": 6,
   "id": "6a3b1a5e-3faa-4ff8-9d6a-9cde179d5dd5",
   "metadata": {
    "execution": {
     "iopub.execute_input": "2024-09-24T19:40:58.496964Z",
     "iopub.status.busy": "2024-09-24T19:40:58.496334Z",
     "iopub.status.idle": "2024-09-24T19:40:58.511246Z",
     "shell.execute_reply": "2024-09-24T19:40:58.509558Z",
     "shell.execute_reply.started": "2024-09-24T19:40:58.496929Z"
    },
    "tags": []
   },
   "outputs": [],
   "source": [
    "import os\n",
    "\n",
    "import numpy as np\n",
    "import pandas as pd\n",
    "import scipy\n",
    "import skimage.measure\n",
    "import sklearn.metrics\n",
    "import xarray as xr\n",
    "from alpineer import io_utils, load_utils, misc_utils\n",
    "from scipy.spatial.distance import cdist\n",
    "from sklearn.cluster import KMeans\n",
    "from statsmodels.stats.multitest import multipletests\n",
    "from tqdm.notebook import tqdm\n",
    "\n",
    "import ark.settings as settings\n",
    "from ark.utils._bootstrapping import compute_close_num_rand\n",
    "\n",
    "\n",
    "def calc_dist_matrix(cell_table, save_path, fov_id='fov', label_id='label'):\n",
    "    \"\"\"Generate matrix of distances between center of pairs of cells.\n",
    "\n",
    "    Saves each one individually to `save_path`.\n",
    "\n",
    "    Args:\n",
    "        cell_table (str):\n",
    "            data frame with fov, label, and centroid information\n",
    "        save_path (str):\n",
    "            path to save the distance matrices\n",
    "        fov_id (str):\n",
    "            the column name containing the fov\n",
    "        labe_id (str):\n",
    "            the column name containing the cell label\n",
    "    \"\"\"\n",
    "\n",
    "    # check that both label_dir and save_path exist\n",
    "    io_utils.validate_paths([save_path])\n",
    "\n",
    "    # load all the file names in label_dir\n",
    "    fovs = cell_table[fov_id].unique()\n",
    "\n",
    "    # iterate for each fov\n",
    "    with tqdm(total=len(fovs), desc=\"Distance Matrix Generation\", unit=\"FOVs\") \\\n",
    "            as dist_mat_progress:\n",
    "        for fov in fovs:\n",
    "            dist_mat_progress.set_postfix(FOV=fov)\n",
    "\n",
    "            fov_table = cell_table[cell_table[fov_id]==fov]\n",
    "\n",
    "            # get centroid and label info\n",
    "            centroids = [(row['centroid-0'], row['centroid-1']) for indx, row in fov_table.iterrows()]\n",
    "            centroid_labels = list(fov_table[label_id])\n",
    "\n",
    "            # generate the distance matrix, then assign centroid_labels as coords\n",
    "            dist_matrix = cdist(centroids, centroids).astype(np.float32)\n",
    "            dist_mat_xarr = xr.DataArray(dist_matrix, coords=[centroid_labels, centroid_labels])\n",
    "            \n",
    "\n",
    "            # save the distance matrix to save_path\n",
    "            dist_mat_xarr.to_netcdf(\n",
    "                os.path.join(save_path, fov + '_dist_mat.xr'),\n",
    "                format='NETCDF3_64BIT'\n",
    "            )\n",
    "\n",
    "            dist_mat_progress.update(1)"
   ]
  },
  {
   "cell_type": "code",
   "execution_count": 7,
   "id": "bdc4a815-d3fd-4e90-8304-e96ec2541be5",
   "metadata": {
    "execution": {
     "iopub.execute_input": "2024-09-24T19:40:59.645956Z",
     "iopub.status.busy": "2024-09-24T19:40:59.645472Z",
     "iopub.status.idle": "2024-09-24T19:41:43.925114Z",
     "shell.execute_reply": "2024-09-24T19:41:43.924258Z",
     "shell.execute_reply.started": "2024-09-24T19:40:59.645926Z"
    },
    "tags": [
     "create_dirs"
    ]
   },
   "outputs": [
    {
     "data": {
      "application/vnd.jupyter.widget-view+json": {
       "model_id": "caf1dc9862a34ad980b3f3f0d356f97f",
       "version_major": 2,
       "version_minor": 0
      },
      "text/plain": [
       "Distance Matrix Generation:   0%|          | 0/574 [00:00<?, ?FOVs/s]"
      ]
     },
     "metadata": {},
     "output_type": "display_data"
    }
   ],
   "source": [
    "# generate distance matrices if needed\n",
    "if not os.path.exists(dist_mat_dir):\n",
    "    os.makedirs(dist_mat_dir)\n",
    "    \n",
    "    # # # read in cell table\n",
    "    cell_table = pd.read_csv(cell_table_path)\n",
    "    \n",
    "    # calculate distance matrices\n",
    "    calc_dist_matrix(cell_table, dist_mat_dir, fov_id='fov', label_id='label')\n",
    "\n",
    "# create neighbors matrix and output directories\n",
    "for directory in [neighbors_mat_dir, output_dir]:\n",
    "    if not os.path.exists(directory):\n",
    "        os.makedirs(directory)"
   ]
  },
  {
   "cell_type": "markdown",
   "id": "9d5230c9-be4a-48a2-9dcc-7b772f768d92",
   "metadata": {},
   "source": [
    "## Cell Neighborhood Diversity\n",
    "This part of the notebook can be used to determine the homogeneity/diversity of the neighbors surrounding each of the cells in our images."
   ]
  },
  {
   "cell_type": "markdown",
   "id": "09afe37e-b8fc-4865-94d3-3b568a8584d3",
   "metadata": {},
   "source": [
    "### 1. Neighborhood Matrices\n",
    "You must specify which neighbors matrix should be used based on the pixel radius and cell type column.\n",
    "- `pixel_radius`: radius used to define the neighbors of each cell\n",
    "- `cell_type_col`: column in your cell table containing the cell phenotypes\n",
    "\n",
    "**If you have not previously a generated neighbors matrix with the `pixel_radius` and `cell_type_col` specified, it will be created below.**"
   ]
  },
  {
   "cell_type": "code",
   "execution_count": 8,
   "id": "9a9f0e50-a7e9-4f55-aa29-5c9d51f6b86f",
   "metadata": {
    "execution": {
     "iopub.execute_input": "2024-09-24T19:41:43.943074Z",
     "iopub.status.busy": "2024-09-24T19:41:43.942993Z",
     "iopub.status.idle": "2024-09-24T19:41:44.498626Z",
     "shell.execute_reply": "2024-09-24T19:41:44.498377Z",
     "shell.execute_reply.started": "2024-09-24T19:41:43.943066Z"
    },
    "tags": []
   },
   "outputs": [],
   "source": [
    "all_data = pd.read_csv(cell_table_path)"
   ]
  },
  {
   "cell_type": "code",
   "execution_count": 9,
   "id": "7888516e-0835-4805-9ec1-4f5f45dbde35",
   "metadata": {
    "execution": {
     "iopub.execute_input": "2024-09-24T19:41:44.499669Z",
     "iopub.status.busy": "2024-09-24T19:41:44.499570Z",
     "iopub.status.idle": "2024-09-24T19:41:44.501626Z",
     "shell.execute_reply": "2024-09-24T19:41:44.501384Z",
     "shell.execute_reply.started": "2024-09-24T19:41:44.499661Z"
    },
    "tags": [
     "diversity_args"
    ]
   },
   "outputs": [],
   "source": [
    "pixel_radius = 50\n",
    "cell_type_col = \"cell_meta_cluster\"\n",
    "\n",
    "counts_path = os.path.join(neighbors_mat_dir, f\"neighborhood_counts-{cell_type_col}_radius{pixel_radius}.csv\")\n",
    "freqs_path = os.path.join(neighbors_mat_dir, f\"neighborhood_freqs-{cell_type_col}_radius{pixel_radius}.csv\")"
   ]
  },
  {
   "cell_type": "code",
   "execution_count": 10,
   "id": "b8b74f7f-6dbb-4983-ba1d-21f65ff70989",
   "metadata": {
    "execution": {
     "iopub.execute_input": "2024-09-24T19:41:44.502093Z",
     "iopub.status.busy": "2024-09-24T19:41:44.502024Z",
     "iopub.status.idle": "2024-09-24T19:44:16.492103Z",
     "shell.execute_reply": "2024-09-24T19:44:16.491607Z",
     "shell.execute_reply.started": "2024-09-24T19:41:44.502085Z"
    },
    "tags": [
     "neighbors_mat"
    ]
   },
   "outputs": [
    {
     "name": "stdout",
     "output_type": "stream",
     "text": [
      "modified fov check\n"
     ]
    },
    {
     "data": {
      "application/vnd.jupyter.widget-view+json": {
       "model_id": "208af62042f54e56ba018207602961dc",
       "version_major": 2,
       "version_minor": 0
      },
      "text/plain": [
       "Neighbors Matrix Generation:   0%|          | 0/574 [00:00<?, ?FOVs/s]"
      ]
     },
     "metadata": {},
     "output_type": "display_data"
    }
   ],
   "source": [
    "# Check for existing neighbors matrix\n",
    "if os.path.exists(counts_path) and os.path.exists(freqs_path):\n",
    "    neighbor_counts = pd.read_csv(counts_path)\n",
    "    neighbor_freqs = pd.read_csv(freqs_path) \n",
    "\n",
    "else:\n",
    "    # Create new matrix with the radius and cell column specified above\n",
    "    neighbor_counts, neighbor_freqs = create_neighborhood_matrix(\n",
    "        all_data, dist_mat_dir, distlim=pixel_radius, cell_type_col=cell_type_col)\n",
    "\n",
    "    # Save neighbor matrices\n",
    "    neighbor_counts.to_csv(counts_path, index=False)\n",
    "    neighbor_freqs.to_csv(freqs_path, index=False)"
   ]
  },
  {
   "cell_type": "code",
   "execution_count": 11,
   "id": "4d64844a-af41-4859-a9ad-e77207bb0269",
   "metadata": {
    "execution": {
     "iopub.execute_input": "2024-09-24T19:44:16.493007Z",
     "iopub.status.busy": "2024-09-24T19:44:16.492910Z",
     "iopub.status.idle": "2024-09-24T19:44:16.495616Z",
     "shell.execute_reply": "2024-09-24T19:44:16.495372Z",
     "shell.execute_reply.started": "2024-09-24T19:44:16.492997Z"
    },
    "tags": []
   },
   "outputs": [],
   "source": [
    "pixel_radius = 50\n",
    "cell_type_col = \"cell_meta_cluster_IT\"\n",
    "\n",
    "counts_path = os.path.join(neighbors_mat_dir, f\"neighborhood_counts-{cell_type_col}_radius{pixel_radius}.csv\")\n",
    "freqs_path = os.path.join(neighbors_mat_dir, f\"neighborhood_freqs-{cell_type_col}_radius{pixel_radius}.csv\")"
   ]
  },
  {
   "cell_type": "code",
   "execution_count": 12,
   "id": "1ece3861-242a-4903-aa86-59cdbe3609f0",
   "metadata": {
    "execution": {
     "iopub.execute_input": "2024-09-24T19:44:16.496202Z",
     "iopub.status.busy": "2024-09-24T19:44:16.496105Z",
     "iopub.status.idle": "2024-09-24T19:45:57.433368Z",
     "shell.execute_reply": "2024-09-24T19:45:57.433054Z",
     "shell.execute_reply.started": "2024-09-24T19:44:16.496195Z"
    },
    "tags": []
   },
   "outputs": [
    {
     "name": "stdout",
     "output_type": "stream",
     "text": [
      "modified fov check\n"
     ]
    },
    {
     "data": {
      "application/vnd.jupyter.widget-view+json": {
       "model_id": "459d4750715847878d66e255161c008f",
       "version_major": 2,
       "version_minor": 0
      },
      "text/plain": [
       "Neighbors Matrix Generation:   0%|          | 0/574 [00:00<?, ?FOVs/s]"
      ]
     },
     "metadata": {},
     "output_type": "display_data"
    }
   ],
   "source": [
    "# Check for existing neighbors matrix\n",
    "if os.path.exists(counts_path) and os.path.exists(freqs_path):\n",
    "    neighbor_counts = pd.read_csv(counts_path)\n",
    "    neighbor_freqs = pd.read_csv(freqs_path) \n",
    "\n",
    "else:\n",
    "    # Create new matrix with the radius and cell column specified above\n",
    "    neighbor_counts, neighbor_freqs = create_neighborhood_matrix(\n",
    "        all_data, dist_mat_dir, distlim=pixel_radius, cell_type_col=cell_type_col)\n",
    "\n",
    "    # Save neighbor matrices\n",
    "    neighbor_counts.to_csv(counts_path, index=False)\n",
    "    neighbor_freqs.to_csv(freqs_path, index=False)"
   ]
  },
  {
   "cell_type": "code",
   "execution_count": 13,
   "id": "1302aecb-db3f-4454-81b1-45956ef57871",
   "metadata": {
    "execution": {
     "iopub.execute_input": "2024-09-24T19:45:57.434002Z",
     "iopub.status.busy": "2024-09-24T19:45:57.433874Z",
     "iopub.status.idle": "2024-09-24T19:45:57.435814Z",
     "shell.execute_reply": "2024-09-24T19:45:57.435573Z",
     "shell.execute_reply.started": "2024-09-24T19:45:57.433994Z"
    },
    "tags": []
   },
   "outputs": [],
   "source": [
    "pixel_radius = 50\n",
    "cell_type_col = \"cell_meta_cluster_ML\"\n",
    "\n",
    "counts_path = os.path.join(neighbors_mat_dir, f\"neighborhood_counts-{cell_type_col}_radius{pixel_radius}.csv\")\n",
    "freqs_path = os.path.join(neighbors_mat_dir, f\"neighborhood_freqs-{cell_type_col}_radius{pixel_radius}.csv\")"
   ]
  },
  {
   "cell_type": "code",
   "execution_count": 14,
   "id": "6c16f208-6191-4ba3-9ee7-3c7b8a295d6f",
   "metadata": {
    "execution": {
     "iopub.execute_input": "2024-09-24T19:45:57.436177Z",
     "iopub.status.busy": "2024-09-24T19:45:57.436111Z",
     "iopub.status.idle": "2024-09-24T19:47:37.706709Z",
     "shell.execute_reply": "2024-09-24T19:47:37.706235Z",
     "shell.execute_reply.started": "2024-09-24T19:45:57.436170Z"
    },
    "tags": []
   },
   "outputs": [
    {
     "name": "stdout",
     "output_type": "stream",
     "text": [
      "modified fov check\n"
     ]
    },
    {
     "data": {
      "application/vnd.jupyter.widget-view+json": {
       "model_id": "29d650a5ab7843c889468ca06da635cb",
       "version_major": 2,
       "version_minor": 0
      },
      "text/plain": [
       "Neighbors Matrix Generation:   0%|          | 0/574 [00:00<?, ?FOVs/s]"
      ]
     },
     "metadata": {},
     "output_type": "display_data"
    }
   ],
   "source": [
    "# Check for existing neighbors matrix\n",
    "if os.path.exists(counts_path) and os.path.exists(freqs_path):\n",
    "    neighbor_counts = pd.read_csv(counts_path)\n",
    "    neighbor_freqs = pd.read_csv(freqs_path) \n",
    "\n",
    "else:\n",
    "    # Create new matrix with the radius and cell column specified above\n",
    "    neighbor_counts, neighbor_freqs = create_neighborhood_matrix(\n",
    "        all_data, dist_mat_dir, distlim=pixel_radius, cell_type_col=cell_type_col)\n",
    "\n",
    "    # Save neighbor matrices\n",
    "    neighbor_counts.to_csv(counts_path, index=False)\n",
    "    neighbor_freqs.to_csv(freqs_path, index=False)"
   ]
  },
  {
   "cell_type": "markdown",
   "id": "51201351-4a0a-4a65-99ea-7c0cf134458f",
   "metadata": {},
   "source": [
    "### 2. Compute Shannon Diversity\n",
    "The code below will calculate the Shannon Diversity Index for each cell input. **The resulting file will be saved to the save_path (`neighborhood_diversity_radius{pixel_radius}.csv`) in the new cell_neighbor_analysis subdirectory.**"
   ]
  },
  {
   "cell_type": "code",
   "execution_count": 15,
   "id": "46dd76b3-b947-4f99-b158-b18a14ea9152",
   "metadata": {
    "execution": {
     "iopub.execute_input": "2024-09-24T19:47:37.708949Z",
     "iopub.status.busy": "2024-09-24T19:47:37.708840Z",
     "iopub.status.idle": "2024-09-24T19:50:21.963345Z",
     "shell.execute_reply": "2024-09-24T19:50:21.962901Z",
     "shell.execute_reply.started": "2024-09-24T19:47:37.708941Z"
    },
    "tags": [
     "shannon_diversity"
    ]
   },
   "outputs": [
    {
     "data": {
      "application/vnd.jupyter.widget-view+json": {
       "model_id": "ec22591653ef4bb5ab2ed8f4dd4423ca",
       "version_major": 2,
       "version_minor": 0
      },
      "text/plain": [
       "Calculate Neighborhood Diversity:   0%|          | 0/574 [00:00<?, ?FOVs/s]"
      ]
     },
     "metadata": {},
     "output_type": "display_data"
    }
   ],
   "source": [
    "cell_type_columns = [\"cell_meta_cluster\"] \n",
    "save_path = os.path.join(output_dir, f'neighborhood_diversity_{cell_type_columns}_radius{pixel_radius}.csv')\n",
    "\n",
    "diversity_data = generate_neighborhood_diversity_analysis(neighbors_mat_dir, pixel_radius, cell_type_columns)\n",
    "diversity_data.to_csv(save_path, index=False)"
   ]
  },
  {
   "cell_type": "markdown",
   "id": "8381f52e-6c69-4f40-8ff0-dce1262aeef2",
   "metadata": {},
   "source": [
    "## Cell Distances\n",
    "This part of the notebook can be used to analyze the proximty/distance between cell phenotypes in samples. "
   ]
  },
  {
   "cell_type": "markdown",
   "id": "50537643-fa2d-4241-8eb6-3d5a695afa06",
   "metadata": {},
   "source": [
    "### 1. Compute Average Distances\n",
    "For every cell in an image, the code below will compute the average distance of the *k* closest cells of each phenotype. You must specify *k* and the cell phenotype column name below.\n",
    "\n",
    "- `k`: how many nearest cells of a specific phenotype to average the distance over\n",
    "- `cell_type_col`: column in your cell table containing the cell phenotypes\n",
    "\n",
    "**The resulting file will be saved to the save_path (`{cell_type_col}_avg_dists-nearest_{k}.csv`) in the new cell_neighbor_analysis subdirectory.**"
   ]
  },
  {
   "cell_type": "code",
   "execution_count": 16,
   "id": "c8f6c5d9-3145-4e2b-8c02-8d6b0c49d0c5",
   "metadata": {
    "execution": {
     "iopub.execute_input": "2024-09-24T19:50:21.963860Z",
     "iopub.status.busy": "2024-09-24T19:50:21.963783Z",
     "iopub.status.idle": "2024-09-24T19:50:21.965435Z",
     "shell.execute_reply": "2024-09-24T19:50:21.965194Z",
     "shell.execute_reply.started": "2024-09-24T19:50:21.963852Z"
    },
    "tags": [
     "dist_args"
    ]
   },
   "outputs": [],
   "source": [
    "k = 5\n",
    "cell_type_col = \"cell_meta_cluster\""
   ]
  },
  {
   "cell_type": "code",
   "execution_count": 17,
   "id": "722c9ed0-d671-464b-8316-0fc1cf94eda4",
   "metadata": {
    "execution": {
     "iopub.execute_input": "2024-09-24T19:50:21.966017Z",
     "iopub.status.busy": "2024-09-24T19:50:21.965863Z",
     "iopub.status.idle": "2024-09-24T19:53:41.410671Z",
     "shell.execute_reply": "2024-09-24T19:53:41.410355Z",
     "shell.execute_reply.started": "2024-09-24T19:50:21.966007Z"
    },
    "tags": [
     "dist_analysis"
    ]
   },
   "outputs": [
    {
     "data": {
      "application/vnd.jupyter.widget-view+json": {
       "model_id": "c59d9e7d2b0e44b6839641cdbe097ac6",
       "version_major": 2,
       "version_minor": 0
      },
      "text/plain": [
       "Calculate Average Distances:   0%|          | 0/574 [00:00<?, ?FOVs/s]"
      ]
     },
     "metadata": {},
     "output_type": "display_data"
    }
   ],
   "source": [
    "all_data = pd.read_csv(cell_table_path)\n",
    "    \n",
    "save_path = os.path.join(output_dir, f\"{cell_type_col}_avg_dists-nearest_{k}.csv\")\n",
    "distance_data = generate_cell_distance_analysis(all_data, dist_mat_dir, save_path, k, cell_type_col)"
   ]
  },
  {
   "cell_type": "code",
   "execution_count": null,
   "id": "6354bc7e-570e-4988-bae8-663e4e303c4f",
   "metadata": {},
   "outputs": [],
   "source": []
  }
 ],
 "metadata": {
  "kernelspec": {
   "display_name": "Python 3 (ipykernel)",
   "language": "python",
   "name": "python3"
  },
  "language_info": {
   "codemirror_mode": {
    "name": "ipython",
    "version": 3
   },
   "file_extension": ".py",
   "mimetype": "text/x-python",
   "name": "python",
   "nbconvert_exporter": "python",
   "pygments_lexer": "ipython3",
   "version": "3.11.9"
  }
 },
 "nbformat": 4,
 "nbformat_minor": 5
}
