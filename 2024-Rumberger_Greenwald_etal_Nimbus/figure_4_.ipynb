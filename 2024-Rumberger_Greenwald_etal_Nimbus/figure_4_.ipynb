{
 "cells": [
  {
   "cell_type": "code",
   "execution_count": null,
   "id": "74339238",
   "metadata": {},
   "outputs": [],
   "source": [
    "import matplotlib.pyplot as plt\n",
    "import seaborn as sns\n",
    "import pandas as pd\n",
    "import numpy as np\n",
    "import os\n",
    "from copy import deepcopy\n",
    "from ct_assignment import (marker_localization, reverse_dict)\n",
    "from matplotlib import rcParams\n",
    "rcParams.update({'figure.autolayout': True})\n"
   ]
  },
  {
   "cell_type": "markdown",
   "id": "837d655b",
   "metadata": {},
   "source": [
    "## 1 Load and transform data"
   ]
  },
  {
   "cell_type": "code",
   "execution_count": null,
   "id": "38eef148",
   "metadata": {},
   "outputs": [],
   "source": [
    "df = pd.read_csv(os.path.join(\"data\", \"gt_pred_ie_consolidated.csv\"), index_col=0)\n",
    "df_subset = df[df[\"gt_noisy\"] != 2]\n",
    "df_subset = df_subset[df_subset[\"gt_proofread\"] < 2]\n",
    "df_subset[\"marker localization\"] = df_subset[\"channel\"].apply(lambda x: reverse_dict(marker_localization)[x])"
   ]
  },
  {
   "cell_type": "code",
   "execution_count": null,
   "id": "a796cb90",
   "metadata": {},
   "outputs": [],
   "source": [
    "# make visualization of cell wise f1 score\n",
    "thresh = 0.5\n",
    "df_subset[\"tp\"] = np.logical_and(df_subset[\"gt_proofread\"] == 1, df_subset[\"nimbus\"] > thresh).astype(int)\n",
    "df_subset[\"fp\"] = np.logical_and(df_subset[\"gt_proofread\"] == 0, df_subset[\"nimbus\"] > thresh).astype(int)\n",
    "df_subset[\"fn\"] = np.logical_and(df_subset[\"gt_proofread\"] == 1, df_subset[\"nimbus\"] <= thresh).astype(int)\n",
    "df_subset[\"tn\"] = np.logical_and(df_subset[\"gt_proofread\"] == 0, df_subset[\"nimbus\"] <= thresh).astype(int)\n",
    "precision_nimbus = df_subset.groupby(\"dataset\").sum([\"tp\", \"fp\", \"fn\", \"tn\"]).apply(lambda x: x[\"tp\"]/(x[\"tp\"] + x[\"fp\"]), axis=1).sort_values(ascending=False)\n",
    "recall_nimbus = df_subset.groupby(\"dataset\").sum([\"tp\", \"fp\", \"fn\", \"tn\"]).apply(lambda x: x[\"tp\"]/(x[\"tp\"] + x[\"fn\"]), axis=1).sort_values(ascending=False)\n",
    "specificity_nimbus = df_subset.groupby(\"dataset\").sum([\"tp\", \"fp\", \"fn\", \"tn\"]).apply(lambda x: x[\"tn\"]/(x[\"tn\"] + x[\"fp\"]), axis=1).sort_values(ascending=False)\n",
    "f1_nimbus = 2 * precision_nimbus * recall_nimbus / (precision_nimbus + recall_nimbus)\n",
    "nimbus_metric_df = pd.DataFrame({\"Precision\": precision_nimbus, \"Recall\": recall_nimbus, \"Specificity\": specificity_nimbus, \"F1 score\": f1_nimbus}).reset_index()"
   ]
  },
  {
   "cell_type": "code",
   "execution_count": null,
   "id": "3e52721e",
   "metadata": {},
   "outputs": [],
   "source": [
    "precision = df_subset.groupby([\"dataset\", \"plot_lineage\"]).sum([\"tp\", \"fp\", \"fn\", \"tn\"]).apply(lambda x: x[\"tp\"]/(x[\"tp\"] + x[\"fp\"]), axis=1).sort_values(ascending=False)\n",
    "recall = df_subset.groupby([\"dataset\", \"plot_lineage\"]).sum([\"tp\", \"fp\", \"fn\", \"tn\"]).apply(lambda x: x[\"tp\"]/(x[\"tp\"] + x[\"fn\"]), axis=1).sort_values(ascending=False)\n",
    "specificity = df_subset.groupby([\"dataset\", \"plot_lineage\"]).sum([\"tp\", \"fp\", \"fn\", \"tn\"]).apply(lambda x: x[\"tn\"]/(x[\"tn\"] + x[\"fp\"]), axis=1).sort_values(ascending=False)\n",
    "f1 = 2 * precision * recall / (precision + recall)\n",
    "nimbus_lineage = pd.DataFrame({\"Precision\": precision, \"Recall\": recall, \"Specificity\": specificity, \"F1 score\": f1})"
   ]
  },
  {
   "cell_type": "code",
   "execution_count": null,
   "id": "978669fe",
   "metadata": {},
   "outputs": [],
   "source": [
    "# make visualization of cell wise f1 score\n",
    "noisy_df = deepcopy(df_subset)\n",
    "noisy_df[\"tp\"] = np.logical_and(noisy_df[\"gt_proofread\"] == 1, noisy_df[\"gt_noisy\"] == 1).astype(int)\n",
    "noisy_df[\"fp\"] = np.logical_and(noisy_df[\"gt_proofread\"] == 0, noisy_df[\"gt_noisy\"] == 1).astype(int)\n",
    "noisy_df[\"fn\"] = np.logical_and(noisy_df[\"gt_proofread\"] == 1, noisy_df[\"gt_noisy\"] == 0).astype(int)\n",
    "noisy_df[\"tn\"] = np.logical_and(noisy_df[\"gt_proofread\"] == 0, noisy_df[\"gt_noisy\"] == 0).astype(int)\n",
    "precision_ss = noisy_df.groupby(\"dataset\").sum([\"tp\", \"fp\", \"fn\", \"tn\"]).apply(lambda x: x[\"tp\"]/(x[\"tp\"] + x[\"fp\"]), axis=1).sort_values(ascending=False)\n",
    "recall_ss = noisy_df.groupby(\"dataset\").sum([\"tp\", \"fp\", \"fn\", \"tn\"]).apply(lambda x: x[\"tp\"]/(x[\"tp\"] + x[\"fn\"]), axis=1).sort_values(ascending=False)\n",
    "specificity_ss = noisy_df.groupby(\"dataset\").sum([\"tp\", \"fp\", \"fn\", \"tn\"]).apply(lambda x: x[\"tn\"]/(x[\"tn\"] + x[\"fp\"]), axis=1).sort_values(ascending=False)\n",
    "f1_ss = 2 * precision_ss * recall_ss / (precision_ss + recall_ss)\n",
    "noisy_metric_df = pd.DataFrame({\"Precision\": precision_ss, \"Recall\": recall_ss, \"Specificity\": specificity_ss, \"F1 score\": f1_ss}).reset_index()"
   ]
  },
  {
   "cell_type": "code",
   "execution_count": null,
   "id": "245dd55e",
   "metadata": {},
   "outputs": [],
   "source": [
    "precision = noisy_df.groupby([\"dataset\", \"plot_lineage\"]).sum([\"tp\", \"fp\", \"fn\", \"tn\"]).apply(lambda x: x[\"tp\"]/(x[\"tp\"] + x[\"fp\"]), axis=1).sort_values(ascending=False)\n",
    "recall = noisy_df.groupby([\"dataset\", \"plot_lineage\"]).sum([\"tp\", \"fp\", \"fn\", \"tn\"]).apply(lambda x: x[\"tp\"]/(x[\"tp\"] + x[\"fn\"]), axis=1).sort_values(ascending=False)\n",
    "specificity = noisy_df.groupby([\"dataset\", \"plot_lineage\"]).sum([\"tp\", \"fp\", \"fn\", \"tn\"]).apply(lambda x: x[\"tn\"]/(x[\"tn\"] + x[\"fp\"]), axis=1).sort_values(ascending=False)\n",
    "f1 = 2 * precision * recall / (precision + recall)\n",
    "noisy_lineage = pd.DataFrame({\"Precision\": precision, \"Recall\": recall, \"Specificity\": specificity, \"F1 score\": f1})"
   ]
  },
  {
   "cell_type": "markdown",
   "id": "c98bd4e5",
   "metadata": {},
   "source": [
    "#### Figure 4 a"
   ]
  },
  {
   "cell_type": "code",
   "execution_count": null,
   "id": "ab4eb975",
   "metadata": {},
   "outputs": [],
   "source": [
    "out_dir = \"figures/figure_4\"\n",
    "os.makedirs(out_dir, exist_ok=True)\n",
    "fig_name = \"f1_score_gold-vs-silver.svg\" \n",
    "\n",
    "\n",
    "nimbus_metric_df[\"Model\"] = \"Nimbus\"\n",
    "noisy_metric_df[\"Model\"] = \"Silver\"\n",
    "metric_df = pd.concat([nimbus_metric_df, noisy_metric_df])\n",
    "metric_df = metric_df.melt(id_vars=[\"dataset\", \"Model\"], value_vars=[\"Precision\", \"Recall\", \"Specificity\", \"F1 score\"], var_name=\"Metric\", value_name=\"Score\")\n",
    "metric_df.sort_values(by=\"Score\", ascending=False, inplace=True)\n",
    "# add jitter plot in the background\n",
    "sns.stripplot(data=metric_df, y=\"Score\", x=\"Metric\", hue=\"Model\", palette=[\"Lightblue\", \"Lightgray\"], alpha=0.85,\n",
    "    order=[\"Specificity\", \"Precision\", \"Recall\", \"F1 score\"]\n",
    ")\n",
    "\n",
    "ax = sns.barplot(data=metric_df, y=\"Score\", x=\"Metric\", hue=\"Model\" ,palette=[\"Darkblue\", \"Gray\"],\n",
    "                ci=None, order=[\"Specificity\", \"Precision\", \"Recall\", \"F1 score\"],\n",
    ")\n",
    "ax.set_ylim(0.0,1)\n",
    "ax.set_title(\"Performance of Nimbus vs. Gold-Standard\")\n",
    "ax.set(xlabel='Metric', ylabel='Value')\n",
    "# add legend to top right\n",
    "ax.legend([\"Nimbus\", \"Silver Standard\"], loc=\"upper right\")\n",
    "# make plot larger\n",
    "plt.gcf().set_size_inches(5, 5)\n",
    "plt.savefig(os.path.join(out_dir, fig_name), format='svg')\n",
    "plt.show()"
   ]
  },
  {
   "cell_type": "markdown",
   "id": "dab88c30",
   "metadata": {},
   "source": [
    "#### Figure 4 b"
   ]
  },
  {
   "cell_type": "code",
   "execution_count": null,
   "id": "dae7db15",
   "metadata": {},
   "outputs": [],
   "source": [
    "fig_name = \"f1_score_split_by_tissue.svg\" \n",
    "\n",
    "df_tmp = pd.concat([nimbus_metric_df, noisy_metric_df])\n",
    "df_tmp = df_tmp.melt(\n",
    "    id_vars=[\"dataset\", \"Model\", \"tissue\"], value_vars=[\"Precision\", \"Recall\", \"Specificity\", \"F1 score\"], var_name=\"Metric\", value_name=\"Score\"\n",
    ")\n",
    "df_tmp.tissue.replace({\"pancreas\": \"Pancreas\", \"breast\": \"Breast\", \"decidua\": \"Decidua\", \"colon\": \"Colon\"}, inplace=True)\n",
    "df_tmp = df_tmp[df_tmp[\"Metric\"] == \"F1 score\"]\n",
    "fig, ax = plt.subplots(1,1,figsize=(4,4))\n",
    "# add jitter plot in the background\n",
    "sns.stripplot(data=df_tmp, y=\"Score\", x=\"tissue\", hue=\"Model\", palette=[\"Lightblue\", \"Lightgray\"], alpha=0.85, ax=ax, legend=False,\n",
    "    order=[\"Pancreas\", \"Breast\", \"Decidua\", \"Colon\"]\n",
    ")\n",
    "sns.barplot(\n",
    "    data=df_tmp, y=\"Score\", x=\"tissue\", hue=\"Model\", palette=[\"Darkblue\", \"Gray\"], ci=None, ax=ax,\n",
    "    order=[\"Pancreas\", \"Breast\", \"Decidua\", \"Colon\"]\n",
    ")\n",
    "ax.set_title(\"F1 Score split by Tissue Type\")\n",
    "ax.set_ylim(0.0,1)\n",
    "ax.set(xlabel='Tissue Type', ylabel='F1 Score')\n",
    "plt.tight_layout()\n",
    "# add legend to top right\n",
    "ax.legend([\"Nimbus\", \"Silver Standard\"], loc=\"upper right\")\n",
    "plt.gcf().set_size_inches(5, 5)\n",
    "\n",
    "plt.savefig(os.path.join(out_dir, fig_name), format='svg')\n",
    "plt.show()\n",
    "\n"
   ]
  },
  {
   "cell_type": "markdown",
   "id": "418f5827",
   "metadata": {},
   "source": [
    "#### Figure 4 c"
   ]
  },
  {
   "cell_type": "code",
   "execution_count": null,
   "id": "8d7445f5",
   "metadata": {},
   "outputs": [],
   "source": [
    "fig_name = \"f1_score_split_by_lineage.svg\" \n",
    "\n",
    "nimbus_lineage_tmp = nimbus_lineage.reset_index()\n",
    "noisy_lineage_tmp = noisy_lineage.reset_index()\n",
    "nimbus_lineage_tmp[\"Model\"] = \"Nimbus\"\n",
    "noisy_lineage_tmp[\"Model\"] = \"Silver\"\n",
    "df_tmp = pd.concat([nimbus_lineage_tmp, noisy_lineage_tmp])\n",
    "df_tmp = df_tmp[df_tmp[\"plot_lineage\"] != \"Pan-Negative\"].reset_index()\n",
    "\n",
    "order = [\"Cancer\", \"Epithelial\", \"Lymphocytes\", \"Myeloids\", \"Stroma\", \"Muscle\", \"Other Immune\", \"Vasculature\", \"Precursors\", \"Other\"]\n",
    "\n",
    "sns.stripplot(\n",
    "    data=df_tmp, y=\"F1 score\", x=\"plot_lineage\", hue=\"Model\", palette=[\"Lightblue\", \"Lightgray\"], alpha=0.85, order=order,\n",
    ")\n",
    "ax = sns.barplot(\n",
    "    data=df_tmp, y=\"F1 score\", x=\"plot_lineage\", hue=\"Model\", palette=[\"Darkblue\", \"Gray\"], ci=None, order=order,\n",
    ")\n",
    "plt.xticks(rotation=90)\n",
    "ax.set_title(\"F1 Score split by Cell Lineage\")\n",
    "ax.set_ylim(0.0,1)\n",
    "ax.set(xlabel='Lineage', ylabel='F1 Score')\n",
    "plt.tight_layout()\n",
    "# add legend to top right\n",
    "ax.legend([\"Nimbus\", \"Silver Standard\"], loc=\"upper right\")\n",
    "plt.gcf().set_size_inches(5, 5)\n",
    "\n",
    "plt.savefig(os.path.join(out_dir, fig_name), format='svg')\n",
    "plt.show()"
   ]
  },
  {
   "cell_type": "markdown",
   "id": "f62894b1",
   "metadata": {},
   "source": [
    "#### Supplement Figure 1 h"
   ]
  },
  {
   "cell_type": "code",
   "execution_count": null,
   "id": "2f0ed796",
   "metadata": {},
   "outputs": [],
   "source": [
    "noisy_metric_df_flat = noisy_metric_df[[\"dataset\", \"Precision\", \"Recall\", \"Specificity\", \"F1 score\"]].melt(id_vars=[\"dataset\"])\n",
    "noisy_metric_df_flat[\"model\"] = \"Silver\"\n",
    "nimbus_metric_df_flat = nimbus_metric_df[[\"dataset\", \"Precision\", \"Recall\", \"Specificity\", \"F1 score\"]].melt(id_vars=[\"dataset\"])\n",
    "nimbus_metric_df_flat[\"model\"] = \"Nimbus\""
   ]
  },
  {
   "cell_type": "code",
   "execution_count": null,
   "id": "a86b8101",
   "metadata": {},
   "outputs": [],
   "source": [
    "out_dir = \"figures/supplement\"\n",
    "os.makedirs(out_dir, exist_ok=True)\n",
    "\n",
    "plot_df = pd.concat([noisy_metric_df_flat, nimbus_metric_df_flat])\n",
    "plot_df[\"Metric\"] = plot_df.apply(lambda x: x[\"variable\"] + \"_\" + x[\"model\"], axis=1)\n",
    "plot_df.rename(columns={\"dataset\": \"Dataset\"}, inplace=True)\n",
    "plot_df.Dataset.replace(\n",
    "    {\"mibi_decidua\": \"MIBI-TOF Decidua\", \"codex_colon\": \"CODEX Colon\", \"vectra_pancreas\": \"Vectra\\n Pancreas\",\n",
    "     \"vectra_colon\": \"Vectra\\n Colon\", \"mibi_breast\": \"MIBI-TOF Breast\"},\n",
    "    inplace=True\n",
    ")\n",
    "# plot grouped bars\n",
    "fig_name = \"f1_score_split_by_metric.svg\"\n",
    "ax = sns.barplot(\n",
    "    data=plot_df, x=\"Dataset\", y=\"value\", hue=\"Metric\", palette=\"tab20\",\n",
    "    order=[\"Vectra\\n Colon\", \"Vectra\\n Pancreas\", \"MIBI-TOF Breast\", \"MIBI-TOF Decidua\", \"CODEX Colon\"],\n",
    "    hue_order=[\"F1 score_Nimbus\", \"F1 score_Silver\", \"Precision_Nimbus\", \"Precision_Silver\", \"Recall_Nimbus\",\n",
    "               \"Recall_Silver\", \"Specificity_Nimbus\", \"Specificity_Silver\"], saturation=1\n",
    ")\n",
    "plt.xticks(rotation=45)\n",
    "ax.set_title(\"Silver standard vs. Nimbus predictions\")\n",
    "# set y axis\n",
    "ax.set(ylabel='Score')\n",
    "plt.savefig(os.path.join(out_dir, fig_name), format='svg')\n",
    "plt.show()"
   ]
  }
 ],
 "metadata": {
  "kernelspec": {
   "display_name": "Python 3 (ipykernel)",
   "language": "python",
   "name": "python3"
  },
  "language_info": {
   "codemirror_mode": {
    "name": "ipython",
    "version": 3
   },
   "file_extension": ".py",
   "mimetype": "text/x-python",
   "name": "python",
   "nbconvert_exporter": "python",
   "pygments_lexer": "ipython3",
   "version": "3.9.18"
  }
 },
 "nbformat": 4,
 "nbformat_minor": 5
}
