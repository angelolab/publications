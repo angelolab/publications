{
 "cells": [
  {
   "cell_type": "markdown",
   "metadata": {
    "tags": []
   },
   "source": [
    "## Perform cell clustering using pixel metaclusters on Spain and Stanford cohorts"
   ]
  },
  {
   "cell_type": "code",
   "execution_count": null,
   "metadata": {
    "execution": {
     "iopub.execute_input": "2023-10-23T23:03:06.672150Z",
     "iopub.status.busy": "2023-10-23T23:03:06.671150Z",
     "iopub.status.idle": "2023-10-23T23:03:09.731796Z",
     "shell.execute_reply": "2023-10-23T23:03:09.730792Z",
     "shell.execute_reply.started": "2023-10-23T23:03:06.672150Z"
    },
    "tags": [
     "import"
    ]
   },
   "outputs": [],
   "source": [
    "import json\n",
    "import os\n",
    "from datetime import datetime as dt\n",
    "import feather\n",
    "import matplotlib.pyplot as plt\n",
    "import pandas as pd\n",
    "from alpineer import load_utils\n",
    "from matplotlib import rc_file_defaults\n",
    "from ark.phenotyping import (cell_cluster_utils, cell_meta_clustering,\n",
    "                             cell_som_clustering, weighted_channel_comp)\n",
    "from ark.utils import data_utils, example_dataset, plot_utils\n",
    "from ark.utils.metacluster_remap_gui import (MetaClusterGui,\n",
    "                                             colormap_helper,\n",
    "                                             metaclusterdata_from_files)"
   ]
  },
  {
   "cell_type": "code",
   "execution_count": null,
   "metadata": {
    "execution": {
     "iopub.execute_input": "2023-10-23T23:03:09.732796Z",
     "iopub.status.busy": "2023-10-23T23:03:09.732796Z",
     "iopub.status.idle": "2023-10-23T23:03:09.736070Z",
     "shell.execute_reply": "2023-10-23T23:03:09.736070Z",
     "shell.execute_reply.started": "2023-10-23T23:03:09.732796Z"
    },
    "tags": [
     "base_dir"
    ]
   },
   "outputs": [],
   "source": [
    "base_dir = \"Z:\\\\Noah Greenwald\\\\TNBC_Cohorts\\\\SPAIN\""
   ]
  },
  {
   "cell_type": "code",
   "execution_count": null,
   "metadata": {
    "execution": {
     "iopub.execute_input": "2023-10-23T23:03:09.737074Z",
     "iopub.status.busy": "2023-10-23T23:03:09.737074Z",
     "iopub.status.idle": "2023-10-23T23:03:09.746405Z",
     "shell.execute_reply": "2023-10-23T23:03:09.746405Z",
     "shell.execute_reply.started": "2023-10-23T23:03:09.737074Z"
    },
    "tags": [
     "dir_set"
    ]
   },
   "outputs": [],
   "source": [
    "pixel_output_dir = '20231031_full_cohort_pixel_output_dir'\n",
    "cell_clustering_params_name = 'cell_clustering_params.json'"
   ]
  },
  {
   "cell_type": "code",
   "execution_count": null,
   "metadata": {
    "execution": {
     "iopub.execute_input": "2023-10-23T23:03:09.748408Z",
     "iopub.status.busy": "2023-10-23T23:03:09.748408Z",
     "iopub.status.idle": "2023-10-23T23:03:09.777066Z",
     "shell.execute_reply": "2023-10-23T23:03:09.777066Z",
     "shell.execute_reply.started": "2023-10-23T23:03:09.748408Z"
    },
    "tags": [
     "param_load"
    ]
   },
   "outputs": [],
   "source": [
    "with open(os.path.join(base_dir, \"pixie\", pixel_output_dir, cell_clustering_params_name)) as fh:\n",
    "    cell_clustering_params = json.load(fh)\n",
    "    \n",
    "fovs = cell_clustering_params['fovs']\n",
    "channels = cell_clustering_params['channels']\n",
    "tiff_dir = cell_clustering_params['tiff_dir']\n",
    "img_sub_folder = cell_clustering_params['img_sub_folder']\n",
    "segmentation_dir = cell_clustering_params['segmentation_dir']\n",
    "seg_suffix = cell_clustering_params['seg_suffix']\n",
    "pixel_data_dir = cell_clustering_params['pixel_data_dir']+'_temp'\n",
    "pc_chan_avg_som_cluster_name = cell_clustering_params['pc_chan_avg_som_cluster_name']\n",
    "pc_chan_avg_meta_cluster_name = cell_clustering_params['pc_chan_avg_meta_cluster_name']\n",
    "\n",
    "cell_table_path = os.path.join(base_dir, 'segmentation', 'samples', 'cell_table', 'cell_table_size_normalized_samples.csv')"
   ]
  },
  {
   "cell_type": "code",
   "execution_count": null,
   "metadata": {
    "execution": {
     "iopub.execute_input": "2023-10-23T23:03:10.503628Z",
     "iopub.status.busy": "2023-10-23T23:03:10.501627Z",
     "iopub.status.idle": "2023-10-23T23:03:10.512804Z",
     "shell.execute_reply": "2023-10-23T23:03:10.510783Z",
     "shell.execute_reply.started": "2023-10-23T23:03:10.503628Z"
    },
    "tags": [
     "cluster_prefix"
    ]
   },
   "outputs": [],
   "source": [
    "cell_cluster_prefix = \"20231031_full_cohort\"\n",
    "\n",
    "if cell_cluster_prefix is None:\n",
    "    cell_cluster_prefix = dt.now().strftime('%Y-%m-%dT%H:%M:%S')"
   ]
  },
  {
   "cell_type": "code",
   "execution_count": null,
   "metadata": {
    "execution": {
     "iopub.execute_input": "2023-10-23T23:03:11.172808Z",
     "iopub.status.busy": "2023-10-23T23:03:11.170808Z",
     "iopub.status.idle": "2023-10-23T23:03:11.194146Z",
     "shell.execute_reply": "2023-10-23T23:03:11.193141Z",
     "shell.execute_reply.started": "2023-10-23T23:03:11.172808Z"
    },
    "tags": [
     "cell_cluster_files"
    ]
   },
   "outputs": [],
   "source": [
    "cell_output_dir = '%s_cell_output_dir' % cell_cluster_prefix\n",
    "if not os.path.exists(os.path.join(base_dir, \"pixie\", cell_output_dir)):\n",
    "    os.mkdir(os.path.join(base_dir, \"pixie\", cell_output_dir))\n",
    "    \n",
    "cell_som_weights_name = os.path.join(\"pixie\", cell_output_dir, 'cell_som_weights.feather')\n",
    "cluster_counts_name = os.path.join(\"pixie\", cell_output_dir, 'cluster_counts.feather')\n",
    "cluster_counts_size_norm_name = os.path.join(\"pixie\", cell_output_dir, 'cluster_counts_size_norm.feather')\n",
    "weighted_cell_channel_name = os.path.join(\"pixie\", cell_output_dir, 'weighted_cell_channel.feather')\n",
    "cell_som_cluster_count_avg_name = os.path.join(\"pixie\", cell_output_dir, 'cell_som_cluster_count_avg.csv')\n",
    "cell_meta_cluster_count_avg_name = os.path.join(\"pixie\", cell_output_dir, 'cell_meta_cluster_count_avg.csv')\n",
    "cell_som_cluster_channel_avg_name = os.path.join(\"pixie\", cell_output_dir, 'cell_som_cluster_channel_avg.csv')\n",
    "cell_meta_cluster_channel_avg_name = os.path.join(\"pixie\", cell_output_dir, 'cell_meta_cluster_channel_avg.csv')\n",
    "cell_meta_cluster_remap_name = os.path.join(\"pixie\", cell_output_dir, 'cell_meta_cluster_mapping.csv')"
   ]
  },
  {
   "cell_type": "code",
   "execution_count": null,
   "metadata": {
    "execution": {
     "iopub.execute_input": "2023-10-23T23:03:11.973559Z",
     "iopub.status.busy": "2023-10-23T23:03:11.972555Z",
     "iopub.status.idle": "2023-10-23T23:03:11.982823Z",
     "shell.execute_reply": "2023-10-23T23:03:11.980802Z",
     "shell.execute_reply.started": "2023-10-23T23:03:11.972555Z"
    },
    "tags": [
     "pixel_cluster_col"
    ]
   },
   "outputs": [],
   "source": [
    "pixel_cluster_col = 'pixel_meta_cluster_rename'\n",
    "\n",
    "if pixel_cluster_col == 'pixel_som_cluster':\n",
    "    pc_chan_avg_name = pc_chan_avg_som_cluster_name\n",
    "elif pixel_cluster_col == 'pixel_meta_cluster_rename':\n",
    "    pc_chan_avg_name = pc_chan_avg_meta_cluster_name"
   ]
  },
  {
   "cell_type": "code",
   "execution_count": null,
   "metadata": {
    "execution": {
     "iopub.execute_input": "2023-10-23T23:03:12.153825Z",
     "iopub.status.busy": "2023-10-23T23:03:12.151824Z",
     "iopub.status.idle": "2023-10-23T23:03:12.206210Z",
     "shell.execute_reply": "2023-10-23T23:03:12.204202Z",
     "shell.execute_reply.started": "2023-10-23T23:03:12.153825Z"
    },
    "tags": []
   },
   "outputs": [],
   "source": [
    "import pandas as pd\n",
    "meta_avg = pd.read_csv(os.path.join(base_dir, pc_chan_avg_meta_cluster_name))\n",
    "meta_avg"
   ]
  },
  {
   "cell_type": "code",
   "execution_count": null,
   "metadata": {
    "execution": {
     "iopub.execute_input": "2023-10-23T23:03:28.388025Z",
     "iopub.status.busy": "2023-10-23T23:03:28.387025Z",
     "iopub.status.idle": "2023-10-23T23:07:55.990637Z",
     "shell.execute_reply": "2023-10-23T23:07:55.988626Z",
     "shell.execute_reply.started": "2023-10-23T23:03:28.388025Z"
    },
    "tags": [
     "generate_som_input_data"
    ]
   },
   "outputs": [],
   "source": [
    "if os.path.exists(os.path.join(base_dir, cluster_counts_name)) and os.path.exists(os.path.join(base_dir, cluster_counts_size_norm_name)):\n",
    "    # load the data if it exists\n",
    "    cluster_counts = feather.read_dataframe(os.path.join(base_dir, cluster_counts_name))\n",
    "    cluster_counts_size_norm = feather.read_dataframe(os.path.join(base_dir, cluster_counts_size_norm_name))\n",
    "else:\n",
    "    # generate the preprocessed data \n",
    "    cluster_counts, cluster_counts_size_norm = cell_cluster_utils.create_c2pc_data(\n",
    "        fovs, os.path.join(base_dir, pixel_data_dir), cell_table_path, pixel_cluster_col\n",
    "    )\n",
    "\n",
    "    # write both unnormalized and normalized input data for reference\n",
    "    feather.write_dataframe(\n",
    "        cluster_counts,\n",
    "        os.path.join(base_dir, cluster_counts_name),\n",
    "        compression='uncompressed'\n",
    "    )\n",
    "    feather.write_dataframe(\n",
    "        cluster_counts_size_norm,\n",
    "        os.path.join(base_dir, cluster_counts_size_norm_name),\n",
    "        compression='uncompressed'\n",
    "    )\n",
    "    \n",
    "# define the count columns found in cluster_counts_norm\n",
    "cell_som_cluster_cols = cluster_counts_size_norm.filter(\n",
    "    regex=f'{pixel_cluster_col}.*'\n",
    ").columns.values"
   ]
  },
  {
   "cell_type": "code",
   "execution_count": null,
   "metadata": {
    "execution": {
     "iopub.execute_input": "2023-10-23T23:07:55.994641Z",
     "iopub.status.busy": "2023-10-23T23:07:55.993640Z",
     "iopub.status.idle": "2023-10-23T23:07:56.448871Z",
     "shell.execute_reply": "2023-10-23T23:07:56.446860Z",
     "shell.execute_reply.started": "2023-10-23T23:07:55.994641Z"
    },
    "tags": [
     "generate_weighted_channel_data"
    ]
   },
   "outputs": [],
   "source": [
    "if pixel_cluster_col == 'pixel_som_cluster':\n",
    "    pc_chan_avg_name = pc_chan_avg_som_cluster_name\n",
    "elif pixel_cluster_col == 'pixel_meta_cluster_rename':\n",
    "    pc_chan_avg_name = pc_chan_avg_meta_cluster_name\n",
    "\n",
    "if not os.path.exists(os.path.join(base_dir, weighted_cell_channel_name)):\n",
    "    pixel_channel_avg = pd.read_csv(os.path.join(base_dir, pc_chan_avg_name))\n",
    "    weighted_cell_channel = weighted_channel_comp.compute_p2c_weighted_channel_avg(\n",
    "        pixel_channel_avg,\n",
    "        channels,\n",
    "        cluster_counts,\n",
    "        fovs=fovs,\n",
    "        pixel_cluster_col=pixel_cluster_col\n",
    "    )\n",
    "\n",
    "    feather.write_dataframe(\n",
    "        weighted_cell_channel,\n",
    "        os.path.join(base_dir, weighted_cell_channel_name),\n",
    "        compression='uncompressed'\n",
    "    )"
   ]
  },
  {
   "cell_type": "code",
   "execution_count": null,
   "metadata": {
    "execution": {
     "iopub.execute_input": "2023-10-23T23:07:56.452874Z",
     "iopub.status.busy": "2023-10-23T23:07:56.451876Z",
     "iopub.status.idle": "2023-10-23T23:07:56.461872Z",
     "shell.execute_reply": "2023-10-23T23:07:56.460870Z",
     "shell.execute_reply.started": "2023-10-23T23:07:56.452874Z"
    },
    "tags": []
   },
   "outputs": [],
   "source": [
    "TONIC_directory = r'Z:\\Noah Greenwald\\TONIC_Cohort\\pixel_clustering\\20220715_full_cohort_cell_output_dir'"
   ]
  },
  {
   "cell_type": "code",
   "execution_count": null,
   "metadata": {
    "execution": {
     "iopub.execute_input": "2023-10-23T23:07:56.463871Z",
     "iopub.status.busy": "2023-10-23T23:07:56.463871Z",
     "iopub.status.idle": "2023-10-23T23:07:56.626105Z",
     "shell.execute_reply": "2023-10-23T23:07:56.626105Z",
     "shell.execute_reply.started": "2023-10-23T23:07:56.463871Z"
    },
    "tags": []
   },
   "outputs": [],
   "source": [
    "from ark.phenotyping.cluster_helpers import CellSOMCluster\n",
    "cell_som_weights_name = os.path.join(TONIC_directory, '20220715_full_cohort_cell_weights.feather')\n",
    "cell_pysom = CellSOMCluster(\n",
    "    cluster_counts_size_norm, cell_som_weights_name, fovs, cell_som_cluster_cols,\n",
    "    num_passes=1, xdim=17, ydim=17, lr_start=0.05, lr_end=0.01,\n",
    "    seed=42, normalize=True\n",
    ")"
   ]
  },
  {
   "cell_type": "code",
   "execution_count": null,
   "metadata": {
    "execution": {
     "iopub.execute_input": "2023-10-23T23:07:56.628115Z",
     "iopub.status.busy": "2023-10-23T23:07:56.628115Z",
     "iopub.status.idle": "2023-10-23T23:07:58.092512Z",
     "shell.execute_reply": "2023-10-23T23:07:58.090493Z",
     "shell.execute_reply.started": "2023-10-23T23:07:56.628115Z"
    },
    "tags": [
     "cluster_cell_data"
    ]
   },
   "outputs": [],
   "source": [
    "cluster_counts_size_norm = cell_som_clustering.cluster_cells(\n",
    "    base_dir,\n",
    "    cell_pysom,\n",
    "    cell_som_cluster_cols=cell_som_cluster_cols\n",
    ")\n",
    "\n",
    "feather.write_dataframe(\n",
    "    cluster_counts_size_norm,\n",
    "    os.path.join(base_dir, cluster_counts_size_norm_name),\n",
    "    compression='uncompressed'\n",
    ")\n",
    "\n",
    "cell_som_clustering.generate_som_avg_files(\n",
    "    base_dir,\n",
    "    cluster_counts_size_norm,\n",
    "    cell_som_cluster_cols=cell_som_cluster_cols,\n",
    "    cell_som_expr_col_avg_name=cell_som_cluster_count_avg_name\n",
    ")"
   ]
  },
  {
   "cell_type": "code",
   "execution_count": null,
   "metadata": {
    "execution": {
     "iopub.execute_input": "2023-10-23T23:07:58.093514Z",
     "iopub.status.busy": "2023-10-23T23:07:58.093514Z",
     "iopub.status.idle": "2023-10-23T23:07:58.116998Z",
     "shell.execute_reply": "2023-10-23T23:07:58.114990Z",
     "shell.execute_reply.started": "2023-10-23T23:07:58.093514Z"
    },
    "tags": []
   },
   "outputs": [],
   "source": [
    "import pandas as pd\n",
    "remap_data = pd.read_csv(os.path.join(TONIC_directory, \"20220715_full_cohort_cell_meta_cluster_mapping.csv\"))\n",
    "remap_data"
   ]
  },
  {
   "cell_type": "code",
   "execution_count": null,
   "metadata": {
    "execution": {
     "iopub.execute_input": "2023-10-23T23:07:58.119998Z",
     "iopub.status.busy": "2023-10-23T23:07:58.118997Z",
     "iopub.status.idle": "2023-10-23T23:07:58.176377Z",
     "shell.execute_reply": "2023-10-23T23:07:58.175369Z",
     "shell.execute_reply.started": "2023-10-23T23:07:58.119998Z"
    },
    "tags": []
   },
   "outputs": [],
   "source": [
    "import feather\n",
    "som_to_meta = dict(remap_data[['cluster', 'metacluster']].values)\n",
    "cluster_counts_size_norm[\"cell_meta_cluster\"] = cluster_counts_size_norm[\"cell_som_cluster\"].map(som_to_meta)\n",
    "cluster_counts_size_norm"
   ]
  },
  {
   "cell_type": "code",
   "execution_count": null,
   "metadata": {
    "execution": {
     "iopub.execute_input": "2023-10-23T23:07:58.178379Z",
     "iopub.status.busy": "2023-10-23T23:07:58.177378Z",
     "iopub.status.idle": "2023-10-23T23:07:58.765472Z",
     "shell.execute_reply": "2023-10-23T23:07:58.763457Z",
     "shell.execute_reply.started": "2023-10-23T23:07:58.178379Z"
    },
    "tags": []
   },
   "outputs": [],
   "source": [
    "feather.write_dataframe(\n",
    "    cluster_counts_size_norm,\n",
    "    os.path.join(base_dir, cluster_counts_size_norm_name),\n",
    "    compression='uncompressed'\n",
    ")"
   ]
  },
  {
   "cell_type": "code",
   "execution_count": null,
   "metadata": {
    "execution": {
     "iopub.execute_input": "2023-10-23T23:07:58.769471Z",
     "iopub.status.busy": "2023-10-23T23:07:58.767467Z",
     "iopub.status.idle": "2023-10-23T23:07:58.790583Z",
     "shell.execute_reply": "2023-10-23T23:07:58.789062Z",
     "shell.execute_reply.started": "2023-10-23T23:07:58.769471Z"
    },
    "tags": []
   },
   "outputs": [],
   "source": [
    "from alpineer import io_utils\n",
    "import numpy as np\n",
    "def generate_meta_avg_files(base_dir, mapping, cell_som_cluster_cols,\n",
    "                            cell_som_input_data,\n",
    "                            cell_som_expr_col_avg_name,\n",
    "                            cell_meta_expr_col_avg_name, overwrite=False):\n",
    "    \"\"\"Computes and saves the average cluster column expression across pixel meta clusters.\n",
    "    Assigns meta cluster labels to the data stored in `cell_som_expr_col_avg_name`.\n",
    "\n",
    "    Args:\n",
    "        base_dir (str):\n",
    "            The path to the data directory\n",
    "        mapping (pandas.DataFrame):\n",
    "            The mapping from SOM to meta clusters\n",
    "        cell_som_cluster_cols (list):\n",
    "            The list of columns used for SOM training\n",
    "        cell_som_input_data (pandas.DataFrame):\n",
    "            The input data used for SOM training.\n",
    "            Will have meta labels appended after this process is run.\n",
    "        cell_som_expr_col_avg_name (str):\n",
    "            The average values of `cell_som_cluster_cols` per cell SOM cluster.\n",
    "            Used to run consensus clustering on.\n",
    "        cell_meta_expr_col_avg_name (str):\n",
    "            Same as above except for cell meta clusters\n",
    "        overwrite (bool):\n",
    "            If set, regenerate the averages of `cell_som_cluster_cols` per meta cluster\n",
    "    \"\"\"\n",
    "    # define the paths to the data\n",
    "    som_expr_col_avg_path = os.path.join(base_dir, cell_som_expr_col_avg_name)\n",
    "    meta_expr_col_avg_path = os.path.join(base_dir, cell_meta_expr_col_avg_name)\n",
    "\n",
    "    # check paths\n",
    "    io_utils.validate_paths([som_expr_col_avg_path])\n",
    "\n",
    "    # raise error if cell_som_input_data doesn't contain meta labels\n",
    "    if 'cell_meta_cluster' not in cell_som_input_data.columns.values:\n",
    "        raise ValueError('cell_som_input_data does not have meta labels assigned')\n",
    "\n",
    "    # if the column average file for cell meta clusters already exists, skip\n",
    "    if os.path.exists(meta_expr_col_avg_path):\n",
    "        if not overwrite:\n",
    "            print(\"Already generated average expression file for cell meta clusters, skipping\")\n",
    "            return\n",
    "\n",
    "        print(\n",
    "            \"Overwrite flag set, regenerating average expression file for cell meta clusters\"\n",
    "        )\n",
    "\n",
    "    # compute the average value of each expression column per cell meta cluster\n",
    "    print(\"Computing the average value of each training column specified per cell meta cluster\")\n",
    "    cell_meta_cluster_avgs = cell_cluster_utils.compute_cell_som_cluster_cols_avg(\n",
    "        cell_som_input_data,\n",
    "        cell_som_cluster_cols,\n",
    "        'cell_meta_cluster',\n",
    "        keep_count=True\n",
    "    )\n",
    "\n",
    "    # save the average expression values of cell_som_cluster_cols per cell meta cluster\n",
    "    cell_meta_cluster_avgs.to_csv(\n",
    "        meta_expr_col_avg_path,\n",
    "        index=False\n",
    "    )\n",
    "\n",
    "    print(\n",
    "        \"Mapping meta cluster values onto average expression values across cell SOM clusters\"\n",
    "    )\n",
    "\n",
    "    # read in the average number of pixel/SOM clusters across all cell SOM clusters\n",
    "    cell_som_cluster_avgs = pd.read_csv(som_expr_col_avg_path)\n",
    "    cell_som_cluster_avgs['cell_som_cluster'] = cell_som_cluster_avgs['cell_som_cluster'].astype(\n",
    "        int)\n",
    "\n",
    "    # this happens if the overwrite flag is set with previously generated data, need to overwrite\n",
    "    if 'cell_meta_cluster' in cell_som_cluster_avgs.columns.values:\n",
    "        cell_som_cluster_avgs = cell_som_cluster_avgs.drop(columns='cell_meta_cluster')\n",
    "\n",
    "    # merge metacluster assignments in\n",
    "    cell_som_cluster_avgs = pd.merge_asof(\n",
    "        cell_som_cluster_avgs, mapping.astype(np.int32), on='cell_som_cluster'\n",
    "    )\n",
    "\n",
    "    # resave average number of pixel/SOM clusters across all cell SOM clusters\n",
    "    # with metacluster assignments\n",
    "    cell_som_cluster_avgs.to_csv(\n",
    "        som_expr_col_avg_path,\n",
    "        index=False\n",
    "    )"
   ]
  },
  {
   "cell_type": "code",
   "execution_count": null,
   "metadata": {
    "execution": {
     "iopub.execute_input": "2023-10-23T23:07:58.798614Z",
     "iopub.status.busy": "2023-10-23T23:07:58.797616Z",
     "iopub.status.idle": "2023-10-23T23:07:58.952780Z",
     "shell.execute_reply": "2023-10-23T23:07:58.951774Z",
     "shell.execute_reply.started": "2023-10-23T23:07:58.798614Z"
    },
    "tags": []
   },
   "outputs": [],
   "source": [
    "generate_meta_avg_files(\n",
    "    base_dir,\n",
    "    remap_data.rename({'cluster': 'cell_som_cluster', 'metacluster': 'cell_meta_cluster'}, axis=1).drop(columns='mc_name'),\n",
    "    cell_som_cluster_cols=cell_som_cluster_cols,\n",
    "    cell_som_input_data=cluster_counts_size_norm,\n",
    "    cell_som_expr_col_avg_name=cell_som_cluster_count_avg_name,\n",
    "    cell_meta_expr_col_avg_name=cell_meta_cluster_count_avg_name\n",
    ")"
   ]
  },
  {
   "cell_type": "code",
   "execution_count": null,
   "metadata": {
    "execution": {
     "iopub.execute_input": "2023-10-23T23:07:58.990947Z",
     "iopub.status.busy": "2023-10-23T23:07:58.989947Z",
     "iopub.status.idle": "2023-10-23T23:07:58.997528Z",
     "shell.execute_reply": "2023-10-23T23:07:58.997528Z",
     "shell.execute_reply.started": "2023-10-23T23:07:58.990947Z"
    },
    "tags": []
   },
   "outputs": [],
   "source": [
    "from ark.phenotyping.weighted_channel_comp import compute_cell_cluster_weighted_channel_avg\n",
    "def generate_wc_avg_files(fovs, channels, base_dir, mapping, cell_som_input_data,\n",
    "                          weighted_cell_channel_name='weighted_cell_channel.feather',\n",
    "                          cell_som_cluster_channel_avg_name='cell_som_cluster_channel_avg.csv',\n",
    "                          cell_meta_cluster_channel_avg_name='cell_meta_cluster_channel_avg.csv',\n",
    "                          overwrite=False):\n",
    "    \"\"\"Generate the weighted channel average files per cell SOM and meta clusters.\n",
    "\n",
    "    When running cell clustering with pixel clusters generated from Pixie, the counts of each\n",
    "    pixel cluster per cell is computed. These are multiplied by the average expression profile of\n",
    "    each pixel cluster to determine weighted channel average. This computation is averaged by both\n",
    "    cell SOM and meta cluster.\n",
    "\n",
    "    Args:\n",
    "        fovs (list):\n",
    "            The list of fovs to subset on\n",
    "        channels (list):\n",
    "            The list of channels to subset on\n",
    "        base_dir (str):\n",
    "            The path to the data directory\n",
    "        mapping (pandas.DataFrame):\n",
    "            The mapping from SOM to meta clusters\n",
    "        cell_som_input_data (str):\n",
    "            The input data used for SOM training. For weighted channel averaging, it should\n",
    "            contain the number of pixel SOM/meta cluster counts of each cell,\n",
    "            normalized by `cell_size`.\n",
    "        weighted_cell_channel_name (str):\n",
    "            The name of the file containing the weighted channel expression table\n",
    "        cell_som_cluster_channel_avg_name (str):\n",
    "            The name of the file to save the average weighted channel expression\n",
    "            per cell SOM cluster\n",
    "        cell_meta_cluster_channel_avg_name (str):\n",
    "            Same as above except for cell meta clusters\n",
    "        overwrite (bool):\n",
    "            If set, regenerate average weighted channel expression for SOM and meta clusters\n",
    "    \"\"\"\n",
    "    # define the paths to the data\n",
    "    weighted_channel_path = os.path.join(base_dir, weighted_cell_channel_name)\n",
    "    som_cluster_channel_avg_path = os.path.join(base_dir, cell_som_cluster_channel_avg_name)\n",
    "    meta_cluster_channel_avg_path = os.path.join(base_dir, cell_meta_cluster_channel_avg_name)\n",
    "\n",
    "    # check paths\n",
    "    io_utils.validate_paths([weighted_channel_path])\n",
    "\n",
    "    # if the weighted channel average files exist, skip\n",
    "    if os.path.exists(som_cluster_channel_avg_path) and \\\n",
    "       os.path.exists(meta_cluster_channel_avg_path):\n",
    "        if not overwrite:\n",
    "            print(\"Already generated average weighted channel expression files, skipping\")\n",
    "            return\n",
    "\n",
    "        print(\"Overwrite flag set, regenerating average weighted channel expression files\")\n",
    "\n",
    "    print(\"Compute average weighted channel expression across cell SOM clusters\")\n",
    "    cell_som_cluster_channel_avg = compute_cell_cluster_weighted_channel_avg(\n",
    "        fovs,\n",
    "        channels,\n",
    "        base_dir,\n",
    "        weighted_cell_channel_name,\n",
    "        cell_som_input_data,\n",
    "        'cell_som_cluster'\n",
    "    )\n",
    "\n",
    "    # merge metacluster assignments into cell_som_cluster_channel_avg\n",
    "    print(\n",
    "        \"Mapping meta cluster values onto average weighted channel expression\"\n",
    "        \"across cell SOM clusters\"\n",
    "    )\n",
    "    cell_som_cluster_channel_avg = pd.merge_asof(\n",
    "        cell_som_cluster_channel_avg,\n",
    "        mapping.astype(np.int32),\n",
    "        on='cell_som_cluster')\n",
    "\n",
    "    # save the weighted channel average expression per cell cluster\n",
    "    cell_som_cluster_channel_avg.to_csv(\n",
    "        som_cluster_channel_avg_path,\n",
    "        index=False\n",
    "    )\n",
    "\n",
    "    # compute the weighted channel average expression per cell meta cluster\n",
    "    print(\"Compute average weighted channel expression across cell meta clusters\")\n",
    "    cell_meta_cluster_channel_avg = compute_cell_cluster_weighted_channel_avg(\n",
    "        fovs,\n",
    "        channels,\n",
    "        base_dir,\n",
    "        weighted_cell_channel_name,\n",
    "        cell_som_input_data,\n",
    "        'cell_meta_cluster'\n",
    "    )\n",
    "\n",
    "    # save the weighted channel average expression per cell cluster\n",
    "    cell_meta_cluster_channel_avg.to_csv(\n",
    "        meta_cluster_channel_avg_path,\n",
    "        index=False\n",
    "    )"
   ]
  },
  {
   "cell_type": "code",
   "execution_count": null,
   "metadata": {
    "execution": {
     "iopub.execute_input": "2023-10-23T23:07:58.999534Z",
     "iopub.status.busy": "2023-10-23T23:07:58.998533Z",
     "iopub.status.idle": "2023-10-23T23:07:59.511400Z",
     "shell.execute_reply": "2023-10-23T23:07:59.509396Z",
     "shell.execute_reply.started": "2023-10-23T23:07:58.999534Z"
    },
    "tags": []
   },
   "outputs": [],
   "source": [
    "generate_wc_avg_files(\n",
    "    fovs,\n",
    "    channels,\n",
    "    base_dir,\n",
    "    remap_data.rename({'cluster': 'cell_som_cluster', 'metacluster': 'cell_meta_cluster'}, axis=1).drop(columns='mc_name'),\n",
    "    cell_som_input_data=cluster_counts_size_norm,\n",
    "    weighted_cell_channel_name=weighted_cell_channel_name,\n",
    "    cell_som_cluster_channel_avg_name=cell_som_cluster_channel_avg_name,\n",
    "    cell_meta_cluster_channel_avg_name=cell_meta_cluster_channel_avg_name\n",
    ")"
   ]
  },
  {
   "cell_type": "code",
   "execution_count": null,
   "metadata": {
    "execution": {
     "iopub.execute_input": "2023-10-23T23:07:59.513403Z",
     "iopub.status.busy": "2023-10-23T23:07:59.512401Z",
     "iopub.status.idle": "2023-10-23T23:07:59.534161Z",
     "shell.execute_reply": "2023-10-23T23:07:59.534161Z",
     "shell.execute_reply.started": "2023-10-23T23:07:59.513403Z"
    },
    "tags": []
   },
   "outputs": [],
   "source": [
    "remap_data.rename({'cluster': 'cell_som_cluster', 'metacluster': 'cell_meta_cluster', 'mc_name':'cell_meta_cluster_rename'}, axis=1).to_csv(os.path.join(base_dir, \"pixie\", cell_output_dir, 'cell_meta_cluster_mapping_renamed.csv'), index = False)"
   ]
  },
  {
   "cell_type": "code",
   "execution_count": null,
   "metadata": {
    "execution": {
     "iopub.execute_input": "2023-10-23T23:07:59.536169Z",
     "iopub.status.busy": "2023-10-23T23:07:59.536169Z",
     "iopub.status.idle": "2023-10-23T23:07:59.542830Z",
     "shell.execute_reply": "2023-10-23T23:07:59.540822Z",
     "shell.execute_reply.started": "2023-10-23T23:07:59.536169Z"
    },
    "tags": []
   },
   "outputs": [],
   "source": [
    "cell_meta_cluster_remap_name = os.path.join(base_dir, \"pixie\", cell_output_dir, 'cell_meta_cluster_mapping_renamed.csv')"
   ]
  },
  {
   "cell_type": "code",
   "execution_count": null,
   "metadata": {
    "execution": {
     "iopub.execute_input": "2023-10-23T23:07:59.544828Z",
     "iopub.status.busy": "2023-10-23T23:07:59.543828Z",
     "iopub.status.idle": "2023-10-23T23:08:01.721881Z",
     "shell.execute_reply": "2023-10-23T23:08:01.721881Z",
     "shell.execute_reply.started": "2023-10-23T23:07:59.544828Z"
    },
    "tags": [
     "cell_interactive"
    ]
   },
   "outputs": [],
   "source": [
    "%matplotlib widget\n",
    "rc_file_defaults()\n",
    "plt.ion()\n",
    "\n",
    "cell_mcd = metaclusterdata_from_files(\n",
    "    os.path.join(base_dir, cell_som_cluster_count_avg_name),\n",
    "    cluster_type='cell',\n",
    "    prefix_trim=pixel_cluster_col + '_'\n",
    ")\n",
    "cell_mcd.output_mapping_filename = os.path.join(base_dir, cell_meta_cluster_remap_name)\n",
    "cell_mcg = MetaClusterGui(cell_mcd, width=17)"
   ]
  },
  {
   "cell_type": "code",
   "execution_count": null,
   "metadata": {
    "execution": {
     "iopub.execute_input": "2023-10-23T23:08:01.723888Z",
     "iopub.status.busy": "2023-10-23T23:08:01.723888Z",
     "iopub.status.idle": "2023-10-23T23:08:02.793827Z",
     "shell.execute_reply": "2023-10-23T23:08:02.792811Z",
     "shell.execute_reply.started": "2023-10-23T23:08:01.723888Z"
    },
    "tags": [
     "cell_apply_remap"
    ]
   },
   "outputs": [],
   "source": [
    "cluster_counts_size_norm = cell_meta_clustering.apply_cell_meta_cluster_remapping(\n",
    "    base_dir,\n",
    "    cluster_counts_size_norm,\n",
    "     os.path.join(base_dir, \"pixie\", cell_output_dir, 'cell_meta_cluster_mapping_renamed.csv')\n",
    ")\n",
    "\n",
    "feather.write_dataframe(\n",
    "    cluster_counts_size_norm,\n",
    "    os.path.join(base_dir, cluster_counts_size_norm_name),\n",
    "    compression='uncompressed'\n",
    ")\n",
    "\n",
    "cell_meta_clustering.generate_remap_avg_count_files(\n",
    "    base_dir,\n",
    "    cluster_counts_size_norm,\n",
    "     os.path.join(base_dir, \"pixie\", cell_output_dir, 'cell_meta_cluster_mapping_renamed.csv'),\n",
    "    cell_som_cluster_cols,\n",
    "    cell_som_cluster_count_avg_name,\n",
    "    cell_meta_cluster_count_avg_name,\n",
    ")\n",
    "\n",
    "weighted_channel_comp.generate_remap_avg_wc_files(\n",
    "    fovs,\n",
    "    channels,\n",
    "    base_dir,\n",
    "    cluster_counts_size_norm,\n",
    "    os.path.join(base_dir, \"pixie\", cell_output_dir, 'cell_meta_cluster_mapping_renamed.csv'),\n",
    "    weighted_cell_channel_name,\n",
    "    cell_som_cluster_channel_avg_name,\n",
    "    cell_meta_cluster_channel_avg_name\n",
    ")"
   ]
  },
  {
   "cell_type": "code",
   "execution_count": null,
   "metadata": {
    "execution": {
     "iopub.execute_input": "2023-10-23T23:08:02.794827Z",
     "iopub.status.busy": "2023-10-23T23:08:02.794827Z",
     "iopub.status.idle": "2023-10-23T23:08:02.810116Z",
     "shell.execute_reply": "2023-10-23T23:08:02.809100Z",
     "shell.execute_reply.started": "2023-10-23T23:08:02.794827Z"
    },
    "tags": [
     "cell_cmap_gen"
    ]
   },
   "outputs": [],
   "source": [
    "raw_cmap, renamed_cmap = colormap_helper.generate_meta_cluster_colormap_dict(\n",
    "    cell_mcd.output_mapping_filename,\n",
    "    cell_mcg.im_cl.cmap,\n",
    "    cluster_type='cell'\n",
    ")"
   ]
  },
  {
   "cell_type": "code",
   "execution_count": null,
   "metadata": {
    "execution": {
     "iopub.execute_input": "2023-10-23T23:08:02.811112Z",
     "iopub.status.busy": "2023-10-23T23:08:02.811112Z",
     "iopub.status.idle": "2023-10-23T23:08:03.851921Z",
     "shell.execute_reply": "2023-10-23T23:08:03.850910Z",
     "shell.execute_reply.started": "2023-10-23T23:08:02.811112Z"
    },
    "tags": [
     "cell_som_heatmap"
    ]
   },
   "outputs": [],
   "source": [
    "weighted_channel_comp.generate_weighted_channel_avg_heatmap(\n",
    "    os.path.join(base_dir, cell_som_cluster_channel_avg_name),\n",
    "    'cell_som_cluster',\n",
    "    channels,\n",
    "    raw_cmap,\n",
    "    renamed_cmap\n",
    ")"
   ]
  },
  {
   "cell_type": "code",
   "execution_count": null,
   "metadata": {
    "execution": {
     "iopub.execute_input": "2023-10-23T23:08:03.853921Z",
     "iopub.status.busy": "2023-10-23T23:08:03.852921Z",
     "iopub.status.idle": "2023-10-23T23:08:04.883252Z",
     "shell.execute_reply": "2023-10-23T23:08:04.881245Z",
     "shell.execute_reply.started": "2023-10-23T23:08:03.853921Z"
    },
    "tags": [
     "cell_meta_heatmap"
    ]
   },
   "outputs": [],
   "source": [
    "weighted_channel_comp.generate_weighted_channel_avg_heatmap(\n",
    "    os.path.join(base_dir, cell_meta_cluster_channel_avg_name),\n",
    "    'cell_meta_cluster_rename',\n",
    "    channels,\n",
    "    raw_cmap,\n",
    "    renamed_cmap\n",
    ")"
   ]
  },
  {
   "cell_type": "code",
   "execution_count": null,
   "metadata": {
    "execution": {
     "iopub.execute_input": "2023-10-23T23:08:04.886252Z",
     "iopub.status.busy": "2023-10-23T23:08:04.885251Z",
     "iopub.status.idle": "2023-10-23T23:08:04.898135Z",
     "shell.execute_reply": "2023-10-23T23:08:04.896124Z",
     "shell.execute_reply.started": "2023-10-23T23:08:04.886252Z"
    },
    "tags": [
     "cell_overlay_fovs"
    ]
   },
   "outputs": [],
   "source": [
    "# select fovs to display\n",
    "subset_cell_fovs = fovs"
   ]
  },
  {
   "cell_type": "code",
   "execution_count": null,
   "metadata": {
    "execution": {
     "iopub.execute_input": "2023-10-23T23:08:04.903136Z",
     "iopub.status.busy": "2023-10-23T23:08:04.902134Z",
     "iopub.status.idle": "2023-10-23T23:08:04.952752Z",
     "shell.execute_reply": "2023-10-23T23:08:04.951738Z",
     "shell.execute_reply.started": "2023-10-23T23:08:04.903136Z"
    },
    "tags": []
   },
   "outputs": [],
   "source": [
    "import numba as nb\n",
    "import itertools\n",
    "import os\n",
    "import pathlib\n",
    "import re\n",
    "from typing import List, Union\n",
    "from numpy.typing import ArrayLike, DTypeLike\n",
    "from numpy import ma\n",
    "import feather\n",
    "import natsort as ns\n",
    "import numpy as np\n",
    "import pandas as pd\n",
    "import skimage.io as io\n",
    "from alpineer import data_utils, image_utils, io_utils, load_utils, misc_utils\n",
    "from alpineer.settings import EXTENSION_TYPES\n",
    "from tqdm.notebook import tqdm_notebook as tqdm\n",
    "import xarray as xr\n",
    "from ark import settings\n",
    "from skimage.segmentation import find_boundaries\n",
    "\n",
    "\n",
    "def save_fov_mask(fov, data_dir, mask_data, sub_dir=None, name_suffix=''):\n",
    "    \"\"\"Saves a provided cluster label mask overlay for a FOV.\n",
    "\n",
    "    Args:\n",
    "        fov (str):\n",
    "            The FOV to save\n",
    "        data_dir (str):\n",
    "            The directory to save the cluster mask\n",
    "        mask_data (numpy.ndarray):\n",
    "            The cluster mask data for the FOV\n",
    "        sub_dir (Optional[str]):\n",
    "            The subdirectory to save the masks in. If specified images are saved to\n",
    "            \"data_dir/sub_dir\". If `sub_dir = None` the images are saved to `\"data_dir\"`.\n",
    "            Defaults to `None`.\n",
    "        name_suffix (str):\n",
    "            Specify what to append at the end of every fov.\n",
    "    \"\"\"\n",
    "\n",
    "    # data_dir validation\n",
    "    io_utils.validate_paths(data_dir)\n",
    "\n",
    "    # ensure None is handled correctly in file path generation\n",
    "    if sub_dir is None:\n",
    "        sub_dir = ''\n",
    "\n",
    "    save_dir = os.path.join(data_dir, sub_dir)\n",
    "\n",
    "    # make the save_dir if it doesn't already exist\n",
    "    if not os.path.exists(save_dir):\n",
    "        os.makedirs(save_dir)\n",
    "\n",
    "    # define the file name as the fov name with the name suffix appended\n",
    "    fov_file = fov + name_suffix + '.tiff'\n",
    "\n",
    "    # save the image to data_dir\n",
    "    image_utils.save_image(os.path.join(save_dir, fov_file), mask_data)\n",
    "\n",
    "\n",
    "def erode_mask(seg_mask: np.ndarray, **kwargs) -> np.ndarray:\n",
    "    \"\"\"\n",
    "    Erodes the edges labels of a segmentation mask.\n",
    "    Other keyword arguments get passed to `skimage.segmentation.find_boundaries`.\n",
    "\n",
    "    Args:\n",
    "        seg_mask (np.ndarray): The segmentation mask to erode.\n",
    "\n",
    "    Returns:\n",
    "        np.ndarray: The eroded segmentation mask\n",
    "    \"\"\"\n",
    "    edges = find_boundaries(\n",
    "        label_img=seg_mask, **kwargs)\n",
    "    seg_mask = np.where(edges == 0, seg_mask, 0)\n",
    "    return seg_mask\n",
    "\n",
    "\n",
    "class ClusterMaskData:\n",
    "    \"\"\"\n",
    "    A class containing the cell labels, cluster labels, and segmentation labels for the\n",
    "    whole cohort. Also contains the mapping from the segmentation label to the cluster\n",
    "    label for each FOV.\n",
    "    \"\"\"\n",
    "\n",
    "    fov_column: str\n",
    "    label_column: str\n",
    "    cluster_column: str\n",
    "    unique_fovs: List[str]\n",
    "    cluster_id_column: str\n",
    "    unassigned_id: int\n",
    "    n_clusters: int\n",
    "    mapping: pd.DataFrame\n",
    "\n",
    "    def __init__(\n",
    "        self, data: pd.DataFrame, fov_col: str, label_col: str, cluster_col: str\n",
    "    ) -> None:\n",
    "        \"\"\"\n",
    "        A class containing the cell data, cell label column, cluster column and the mapping from a\n",
    "        cell label to a cluster.\n",
    "\n",
    "        Args:\n",
    "            data (pd.DataFrame):\n",
    "                A cell table with the cell label column and the cluster column.\n",
    "            fov_col (str):\n",
    "                The name of the column in the cell table that contains the FOV ID.\n",
    "            label_col (str):\n",
    "                The name of the column in the cell table that contains the cell label.\n",
    "            cluster_col (str):\n",
    "                The name of the column in the cell table that contains the cluster label.\n",
    "        \"\"\"\n",
    "        self.fov_column: str = fov_col\n",
    "        self.label_column: str = label_col\n",
    "        self.cluster_column: str = cluster_col\n",
    "        self.cluster_id_column: str = \"cluster_id\"\n",
    "\n",
    "        # Extract only the necessary columns: fov ID, segmentation label, cluster label\n",
    "        mapping_data: pd.DataFrame = data[\n",
    "            [self.fov_column, self.label_column, self.cluster_column]\n",
    "        ].copy()\n",
    "        print(\"The mapping data initialized is:\")\n",
    "        print(mapping_data)\n",
    "\n",
    "        # Add a cluster_id_column to the column in case the cluster_column is\n",
    "        # non-numeric (i.e. string)\n",
    "        cluster_name_id = pd.DataFrame(\n",
    "            {self.cluster_column: mapping_data[self.cluster_column].unique()})\n",
    "        print(\"The cluster_name_id initialized is:\")\n",
    "        print(cluster_name_id)\n",
    "\n",
    "        cluster_name_id[self.cluster_id_column] = (cluster_name_id.index + 1).astype(np.int32)\n",
    "        print(\"The cluster_name_id after assigning index is:\")\n",
    "        print(cluster_name_id)\n",
    "\n",
    "        self.cluster_name_id = cluster_name_id\n",
    "\n",
    "        # merge the cluster_id_column to the mapping_data dataframe\n",
    "        mapping_data = mapping_data.merge(right=self.cluster_name_id, on=self.cluster_column)\n",
    "\n",
    "        mapping_data = mapping_data.astype(\n",
    "            {\n",
    "                self.fov_column: str,\n",
    "                self.label_column: np.int32,\n",
    "                self.cluster_id_column: np.int32,\n",
    "            }\n",
    "        )\n",
    "        print(\"The mapping data after processing is:\")\n",
    "        print(mapping_data)\n",
    "        self.unique_fovs: List[str] = ns.natsorted(\n",
    "            mapping_data[self.fov_column].unique().tolist()\n",
    "        )\n",
    "\n",
    "        self.unassigned_id: np.int32 = np.int32(\n",
    "            mapping_data[self.cluster_id_column].max() + 1\n",
    "        )\n",
    "        self.n_clusters: int = mapping_data[self.cluster_id_column].max()\n",
    "\n",
    "        # For each FOV map the segmentation label 0 (background) to the cluster label 0\n",
    "        cluster0_mapping: pd.DataFrame = pd.DataFrame(\n",
    "            data={\n",
    "                self.fov_column: self.unique_fovs,\n",
    "                self.label_column: np.repeat(0, repeats=len(self.unique_fovs)),\n",
    "                self.cluster_column: np.repeat(0, repeats=len(self.unique_fovs)),\n",
    "                self.cluster_id_column: np.repeat(0, repeats=len(self.unique_fovs)),\n",
    "            }\n",
    "        )\n",
    "\n",
    "        mapping_data = pd.concat(objs=[mapping_data, cluster0_mapping]).astype(\n",
    "            {\n",
    "                self.fov_column: str,\n",
    "                self.label_column: np.int32,\n",
    "                self.cluster_id_column: np.int32,\n",
    "            }\n",
    "        )\n",
    "\n",
    "        # Sort by FOV first, then by segmentation label\n",
    "        self.mapping = mapping_data.sort_values(by=[self.fov_column, self.label_column])\n",
    "\n",
    "    def fov_mapping(self, fov: str) -> pd.DataFrame:\n",
    "        \"\"\"Returns the mapping for a specific FOV.\n",
    "        Args:\n",
    "            fov (str):\n",
    "                The FOV to get the mapping for.\n",
    "        Returns:\n",
    "            pd.DataFrame:\n",
    "                The mapping for the FOV.\n",
    "        \"\"\"\n",
    "        misc_utils.verify_in_list(requested_fov=[fov], all_fovs=self.unique_fovs)\n",
    "        fov_data: pd.DataFrame = self.mapping[self.mapping[self.fov_column] == fov]\n",
    "\n",
    "        return fov_data.reset_index(drop=True)\n",
    "\n",
    "    @property\n",
    "    def cluster_names(self) -> List[str]:\n",
    "        \"\"\"Returns the cluster names.\n",
    "        Returns:\n",
    "            List[str]:\n",
    "                The cluster names.\n",
    "        \"\"\"\n",
    "        return self.cluster_name_id[self.cluster_column].tolist()\n",
    "\n",
    "\n",
    "def label_cells_by_cluster(\n",
    "        fov: str,\n",
    "        cmd: ClusterMaskData,\n",
    "        label_map: Union[np.ndarray, xr.DataArray],\n",
    ") -> np.ndarray:\n",
    "    \"\"\"Translates cell-ID labeled images according to the clustering assignment\n",
    "    found in cell_cluster_mask_data.\n",
    "\n",
    "\n",
    "    Args:\n",
    "        fov (str):\n",
    "            The FOV to relabel\n",
    "        cmd (ClusterMaskData):\n",
    "            A dataclass containing the cell data, cell label column, cluster column and the\n",
    "            mapping from the segmentation label to the cluster label for a given FOV.\n",
    "        label_map (xarray.DataArray):\n",
    "            label map for a single FOV.\n",
    "\n",
    "    Returns:\n",
    "        numpy.ndarray:\n",
    "            The image with new designated label assignments\n",
    "    \"\"\"\n",
    "\n",
    "    # verify that fov found in all_data\n",
    "    misc_utils.verify_in_list(\n",
    "        fov_name=[fov],\n",
    "        all_data_fovs=cmd.unique_fovs\n",
    "    )\n",
    "\n",
    "    # condense extraneous axes if label_map is a DataArray\n",
    "    if isinstance(label_map, xr.DataArray):\n",
    "        labeled_image = label_map.squeeze().values.astype(np.int32)\n",
    "    else:\n",
    "        labeled_image: np.ndarray = label_map.squeeze().astype(np.int32)\n",
    "\n",
    "    fov_clusters: pd.DataFrame = cmd.fov_mapping(fov=fov)\n",
    "    # print(\"List of the FOV clusters\")\n",
    "    # print(fov_clusters[\"cell_meta_cluster\"].unique())\n",
    "\n",
    "    mapping: nb.typed.typeddict = nb.typed.Dict.empty(\n",
    "        key_type=nb.types.int32,\n",
    "        value_type=nb.types.int32,\n",
    "    )\n",
    "    \n",
    "    # print(f\"The label column is: {cmd.label_column}\")\n",
    "    # print(f\"The cluster ID column is: {cmd.cluster_id_column}\")\n",
    "\n",
    "    # for label, cluster in fov_clusters[[cmd.label_column, cmd.cluster_id_column]].itertuples(\n",
    "    #         index=False):\n",
    "    for label, cluster in fov_clusters[[cmd.label_column, cmd.cluster_column]].itertuples(\n",
    "            index=False):\n",
    "        mapping[np.int32(label)] = np.int32(cluster)\n",
    "    # print(\"The mapping to use is:\")\n",
    "    # print(np.sort(np.unique(np.array(list(mapping.values())))))\n",
    "\n",
    "    relabeled_image: np.ndarray = relabel_segmentation(\n",
    "        mapping=mapping,\n",
    "        unassigned_id=cmd.unassigned_id,\n",
    "        labeled_image=labeled_image,\n",
    "        _dtype=np.int32)\n",
    "    # print(\"The unique IDs in the relabeled image:\")\n",
    "    # print(np.sort(np.unique(relabeled_image)))\n",
    "\n",
    "    return relabeled_image.astype(np.int16)\n",
    "\n",
    "\n",
    "def map_segmentation_labels(\n",
    "    labels: Union[pd.Series, np.ndarray],\n",
    "    values: Union[pd.Series, np.ndarray],\n",
    "    label_map: ArrayLike,\n",
    "    unassigned_id: float = 0,\n",
    ") -> np.ndarray:\n",
    "    \"\"\"\n",
    "    Maps an image consisting of segmentation labels to an image consisting of a particular type of\n",
    "    statistic, metric, or value of interest.\n",
    "\n",
    "    Args:\n",
    "        labels (Union[pd.Series, np.ndarray]): The segmentation labels.\n",
    "        values (Union[pd.Series, np.ndarray]): The values to map to the segmentation labels.\n",
    "        label_map (ArrayLike): The segmentation labels as an image to map to.\n",
    "        unassigned_id (int | float, optional): A default value to assign there is exists no 1-to-1\n",
    "        mapping from a label in the label_map to a label in the `labels` argument. Defaults to 0.\n",
    "\n",
    "    Returns:\n",
    "        np.ndarray: Returns the mapped image.\n",
    "    \"\"\"\n",
    "    # condense extraneous axes if label_map is a DataArray\n",
    "    if isinstance(label_map, xr.DataArray):\n",
    "        labeled_image = label_map.squeeze().values.astype(np.int32)\n",
    "    else:\n",
    "        labeled_image: np.ndarray = label_map.squeeze().astype(np.int32)\n",
    "\n",
    "    if isinstance(labels, pd.Series):\n",
    "        labels = labels.to_numpy(dtype=np.int32)\n",
    "    if isinstance(values, pd.Series):\n",
    "        # handle NaNs, replace with 0\n",
    "        values = ma.fix_invalid(values.to_numpy(dtype=np.float64), fill_value=0).data\n",
    "\n",
    "    mapping: nb.typed.typeddict = nb.typed.Dict.empty(\n",
    "        key_type=nb.types.int32, value_type=nb.types.float64\n",
    "    )\n",
    "\n",
    "    for label, value in zip(labels, values):\n",
    "        mapping[label] = value\n",
    "\n",
    "    relabeled_image: np.ndarray = relabel_segmentation(\n",
    "        mapping=mapping,\n",
    "        unassigned_id=unassigned_id,\n",
    "        labeled_image=labeled_image,\n",
    "        _dtype=np.float64,\n",
    "    )\n",
    "\n",
    "    return relabeled_image\n",
    "\n",
    "\n",
    "@nb.njit(parallel=True)\n",
    "def relabel_segmentation(\n",
    "    mapping: nb.typed.typeddict,\n",
    "    unassigned_id: np.int32,\n",
    "    labeled_image: np.ndarray,\n",
    "    _dtype: DTypeLike = np.float64,\n",
    ") -> np.ndarray:\n",
    "    \"\"\"\n",
    "    Relabels a labled segmentation image according to the provided values.\n",
    "\n",
    "    Args:\n",
    "        mapping (nb.typed.typeddict):\n",
    "            A Numba typed dictionary mapping segmentation labels to cluster labels.\n",
    "        unassigned_id (np.int32):\n",
    "            The label given to a pixel with no associated cluster.\n",
    "        labeled_image (np.ndarray):\n",
    "            The labeled segmentation image.\n",
    "        _dtype (DTypeLike, optional):\n",
    "            The data type of the relabeled image. Defaults to `np.float64`.\n",
    "\n",
    "    Returns:\n",
    "        np.ndarray: The relabeled segmentation image.\n",
    "    \"\"\"\n",
    "    relabeled_image: np.ndarray = np.empty(shape=labeled_image.shape, dtype=_dtype)\n",
    "    for i in nb.prange(labeled_image.shape[0]):\n",
    "        for j in nb.prange(labeled_image.shape[1]):\n",
    "            relabeled_image[i, j] = mapping.get(labeled_image[i, j], unassigned_id)\n",
    "    return relabeled_image\n",
    "\n",
    "\n",
    "def generate_cluster_mask(\n",
    "        fov: str,\n",
    "        seg_dir: Union[str, pathlib.Path],\n",
    "        cmd: ClusterMaskData,\n",
    "        seg_suffix: str = \"_whole_cell.tiff\",\n",
    "        erode: bool = True,\n",
    "        **kwargs) -> np.ndarray:\n",
    "    \"\"\"For a fov, create a mask labeling each cell with their SOM or meta cluster label\n",
    "\n",
    "    Args:\n",
    "        fov (str):\n",
    "            The fov to relabel\n",
    "        seg_dir (str):\n",
    "            The path to the segmentation data\n",
    "        cmd (ClusterMaskData):\n",
    "            A dataclass containing the cell data, cell label column, cluster column and the\n",
    "            mapping from the segmentation label to the cluster label for a given FOV.\n",
    "        seg_suffix (str):\n",
    "            The suffix that the segmentation images use. Defaults to `'_whole_cell.tiff'`.\n",
    "        erode (bool):\n",
    "            Whether to erode the edges of the segmentation mask. Defaults to `True`.\n",
    "\n",
    "    Returns:\n",
    "        numpy.ndarray:\n",
    "            The image where values represent cell cluster labels.\n",
    "    \"\"\"\n",
    "\n",
    "    # path checking\n",
    "    io_utils.validate_paths([seg_dir])\n",
    "\n",
    "    # define the file for whole cell\n",
    "    whole_cell_files = [fov + seg_suffix]\n",
    "\n",
    "    # load the segmentation labels in for the FOV\n",
    "    label_map = load_utils.load_imgs_from_dir(\n",
    "        data_dir=seg_dir, files=whole_cell_files, xr_dim_name='compartments',\n",
    "        xr_channel_names=['whole_cell'], trim_suffix=seg_suffix.split('.')[0]\n",
    "    ).loc[fov, ...]\n",
    "\n",
    "    if erode:\n",
    "        label_map = erode_mask(label_map, connectivity=2, mode=\"thick\", background=0)\n",
    "\n",
    "    # use label_cells_by_cluster to create cell masks\n",
    "    img_data: np.ndarray = label_cells_by_cluster(\n",
    "        fov=fov,\n",
    "        cmd=cmd,\n",
    "        label_map=label_map\n",
    "    )\n",
    "\n",
    "    return img_data\n",
    "\n",
    "\n",
    "def generate_and_save_cell_cluster_masks(\n",
    "    fovs: List[str],\n",
    "    save_dir: Union[pathlib.Path, str],\n",
    "    seg_dir: Union[pathlib.Path, str],\n",
    "    cell_data: pd.DataFrame,\n",
    "    fov_col: str = settings.FOV_ID,\n",
    "    label_col: str = settings.CELL_LABEL,\n",
    "    cell_cluster_col: str = settings.CELL_TYPE,\n",
    "    seg_suffix: str = \"_whole_cell.tiff\",\n",
    "    sub_dir: str = None,\n",
    "    name_suffix: str = \"\",\n",
    "):\n",
    "    \"\"\"Generates cell cluster masks and saves them for downstream analysis.\n",
    "\n",
    "    Args:\n",
    "        fovs (List[str]):\n",
    "            A list of fovs to generate and save pixel masks for.\n",
    "        save_dir (Union[pathlib.Path, str]):\n",
    "            The directory to save the generated cell cluster masks.\n",
    "        seg_dir (Union[pathlib.Path, str]):\n",
    "            The path to the segmentation data.\n",
    "        cell_data (pd.DataFrame):\n",
    "            The cell data with both cell SOM and meta cluster assignments.\n",
    "        fov_col (str, optional):\n",
    "            The column name containing the FOV IDs . Defaults to `settings.FOV_ID` (`\"fov\"`).\n",
    "        label_col (str, optional):\n",
    "            The column name containing the cell label. Defaults to\n",
    "            `settings.CELL_LABEL` (`\"label\"`).\n",
    "        cell_cluster_col (str, optional):\n",
    "            Whether to assign SOM or meta clusters. Needs to be `\"cell_som_cluster\"` or\n",
    "            `\"cell_meta_cluster\"`. Defaults to `settings.CELL_TYPE` (`\"cell_meta_cluster\"`).\n",
    "        seg_suffix (str, optional):\n",
    "            The suffix that the segmentation images use. Defaults to `\"_whole_cell.tiff\"`.\n",
    "        sub_dir (str, optional):\n",
    "            The subdirectory to save the images in. If specified images are saved to\n",
    "            `\"data_dir/sub_dir\"`. If `sub_dir = None` the images are saved to `\"data_dir\"`.\n",
    "            Defaults to `None`.\n",
    "        name_suffix (str, optional):\n",
    "            Specify what to append at the end of every cell mask. Defaults to `\"\"`.\n",
    "    \"\"\"\n",
    "    print(f\"The label_col is: {label_col}\")\n",
    "    print(f\"The cell_cluster_col is: {cell_cluster_col}\")\n",
    "    cmd = ClusterMaskData(\n",
    "        data=cell_data,\n",
    "        fov_col=fov_col,\n",
    "        label_col=label_col,\n",
    "        cluster_col=cell_cluster_col,\n",
    "    )\n",
    "\n",
    "    # create the pixel cluster masks across each fov\n",
    "    with tqdm(total=len(fovs), desc=\"Cell Cluster Mask Generation\", unit=\"FOVs\") as pbar:\n",
    "        for fov in fovs:\n",
    "            pbar.set_postfix(FOV=fov)\n",
    "\n",
    "            # generate the cell mask for the FOV\n",
    "            cell_mask: np.ndarray = generate_cluster_mask(\n",
    "                fov=fov, seg_dir=seg_dir, cmd=cmd, seg_suffix=seg_suffix\n",
    "            )\n",
    "\n",
    "            # save the cell mask generated\n",
    "            save_fov_mask(\n",
    "                fov,\n",
    "                data_dir=save_dir,\n",
    "                mask_data=cell_mask,\n",
    "                sub_dir=sub_dir,\n",
    "                name_suffix=name_suffix,\n",
    "            )\n",
    "\n",
    "            pbar.update(1)"
   ]
  },
  {
   "cell_type": "code",
   "execution_count": null,
   "metadata": {
    "execution": {
     "iopub.execute_input": "2023-10-23T23:08:04.954750Z",
     "iopub.status.busy": "2023-10-23T23:08:04.953752Z",
     "iopub.status.idle": "2023-10-23T23:08:16.910116Z",
     "shell.execute_reply": "2023-10-23T23:08:16.910116Z",
     "shell.execute_reply.started": "2023-10-23T23:08:04.954750Z"
    },
    "tags": []
   },
   "outputs": [],
   "source": [
    "generate_and_save_cell_cluster_masks(\n",
    "    fovs=subset_cell_fovs,\n",
    "    save_dir=os.path.join(base_dir, \"pixie\", cell_output_dir),\n",
    "    seg_dir=os.path.join(base_dir, segmentation_dir),\n",
    "    cell_data=cluster_counts_size_norm,\n",
    "    seg_suffix=seg_suffix,\n",
    "    sub_dir='cell_masks',\n",
    "    name_suffix='_cell_mask'\n",
    ")"
   ]
  },
  {
   "cell_type": "markdown",
   "metadata": {},
   "source": [
    "Save the colored cell masks for each FOV in `subset_cell_fovs`."
   ]
  },
  {
   "cell_type": "code",
   "execution_count": null,
   "metadata": {
    "execution": {
     "iopub.execute_input": "2023-10-23T23:08:16.912120Z",
     "iopub.status.busy": "2023-10-23T23:08:16.912120Z",
     "iopub.status.idle": "2023-10-23T23:08:26.050281Z",
     "shell.execute_reply": "2023-10-23T23:08:26.049271Z",
     "shell.execute_reply.started": "2023-10-23T23:08:16.912120Z"
    },
    "tags": [
     "save_cell_masks"
    ]
   },
   "outputs": [],
   "source": [
    "plot_utils.save_colored_masks(\n",
    "    fovs=subset_cell_fovs,\n",
    "    mask_dir=os.path.join(base_dir, \"pixie\",cell_output_dir, \"cell_masks\"),\n",
    "    save_dir=os.path.join(base_dir, \"pixie\",cell_output_dir, \"cell_mask_colored\"),\n",
    "    cluster_id_to_name_path=os.path.join(base_dir, cell_meta_cluster_remap_name),\n",
    "    metacluster_colors=raw_cmap,\n",
    "    cluster_type=\"cell\"\n",
    ")"
   ]
  },
  {
   "cell_type": "code",
   "execution_count": null,
   "metadata": {
    "execution": {
     "iopub.execute_input": "2023-10-23T23:09:40.678090Z",
     "iopub.status.busy": "2023-10-23T23:09:40.678090Z",
     "iopub.status.idle": "2023-10-23T23:10:16.214812Z",
     "shell.execute_reply": "2023-10-23T23:10:16.213801Z",
     "shell.execute_reply.started": "2023-10-23T23:09:40.678090Z"
    },
    "tags": [
     "cell_overlay_gen"
    ]
   },
   "outputs": [],
   "source": [
    "for cell_fov in subset_cell_fovs:\n",
    "    cell_cluster_mask = load_utils.load_imgs_from_dir(\n",
    "        data_dir = os.path.join(base_dir, \"pixie\", cell_output_dir, \"cell_masks\"),\n",
    "        files=[cell_fov + \"_cell_mask.tiff\"],\n",
    "        trim_suffix=\"_cell_mask\",\n",
    "        match_substring=\"_cell_mask\",\n",
    "        xr_dim_name=\"cell_mask\",\n",
    "        xr_channel_names=None,\n",
    "    )\n",
    "    \n",
    "    plot_utils.plot_pixel_cell_cluster(\n",
    "        cell_cluster_mask,\n",
    "        [cell_fov],\n",
    "        os.path.join(base_dir, cell_meta_cluster_remap_name),\n",
    "        metacluster_colors=raw_cmap,\n",
    "        cluster_type='cell',\n",
    "        erode=True\n",
    "    )"
   ]
  },
  {
   "cell_type": "code",
   "execution_count": null,
   "metadata": {
    "execution": {
     "iopub.execute_input": "2023-10-23T23:10:25.012073Z",
     "iopub.status.busy": "2023-10-23T23:10:25.011074Z",
     "iopub.status.idle": "2023-10-23T23:53:04.878584Z",
     "shell.execute_reply": "2023-10-23T23:53:04.878584Z",
     "shell.execute_reply.started": "2023-10-23T23:10:25.012073Z"
    },
    "tags": [
     "cell_append_meta"
    ]
   },
   "outputs": [],
   "source": [
    "cell_cluster_utils.add_consensus_labels_cell_table(\n",
    "    base_dir, cell_table_path, cluster_counts_size_norm\n",
    ")"
   ]
  },
  {
   "cell_type": "code",
   "execution_count": null,
   "metadata": {
    "execution": {
     "iopub.execute_input": "2023-10-23T23:53:06.651628Z",
     "iopub.status.busy": "2023-10-23T23:53:06.650635Z",
     "iopub.status.idle": "2023-10-23T23:57:12.366865Z",
     "shell.execute_reply": "2023-10-23T23:57:12.365859Z",
     "shell.execute_reply.started": "2023-10-23T23:53:06.650635Z"
    },
    "tags": []
   },
   "outputs": [],
   "source": [
    "plot_utils.create_mantis_dir(\n",
    "    fovs=subset_cell_fovs,\n",
    "    mantis_project_path=os.path.join(base_dir, \"2023-10-31_mantis_cell_calprotectin_0_015\"),\n",
    "    img_data_path=tiff_dir,\n",
    "    mask_output_dir=os.path.join(base_dir, \"pixie\", cell_output_dir, \"cell_masks\"),\n",
    "    mapping = os.path.join(base_dir, cell_meta_cluster_remap_name),\n",
    "    seg_dir=os.path.join(base_dir, segmentation_dir),\n",
    "    cluster_type='cell',\n",
    "    mask_suffix=\"_cell_mask\",\n",
    "    seg_suffix_name=seg_suffix,\n",
    "    img_sub_folder=img_sub_folder\n",
    ")"
   ]
  }
 ],
 "metadata": {
  "kernelspec": {
   "display_name": "Python 3 (ipykernel)",
   "language": "python",
   "name": "python3"
  },
  "language_info": {
   "codemirror_mode": {
    "name": "ipython",
    "version": 3
   },
   "file_extension": ".py",
   "mimetype": "text/x-python",
   "name": "python",
   "nbconvert_exporter": "python",
   "pygments_lexer": "ipython3",
   "version": "3.11.5"
  },
  "nbdime-conflicts": {
   "local_diff": [
    {
     "diff": [
      {
       "key": "version",
       "op": "remove"
      }
     ],
     "key": "language_info",
     "op": "patch"
    }
   ],
   "remote_diff": [
    {
     "diff": [
      {
       "diff": [
        {
         "key": 0,
         "op": "addrange",
         "valuelist": [
          "3.9.16"
         ]
        },
        {
         "key": 0,
         "length": 1,
         "op": "removerange"
        }
       ],
       "key": "version",
       "op": "patch"
      }
     ],
     "key": "language_info",
     "op": "patch"
    }
   ]
  },
  "vscode": {
   "interpreter": {
    "hash": "b0ac63cc785e7c4cb24da0642dbfe09cfb2d314979108d7192228f9c45902a86"
   }
  }
 },
 "nbformat": 4,
 "nbformat_minor": 4
}
