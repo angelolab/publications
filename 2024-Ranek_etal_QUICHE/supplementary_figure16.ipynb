{
 "cells": [
  {
   "cell_type": "code",
   "execution_count": null,
   "metadata": {},
   "outputs": [],
   "source": [
    "import os\n",
    "import pandas as pd\n",
    "import numpy as np\n",
    "import quiche as qu\n",
    "import scanpy as sc\n",
    "import anndata\n",
    "%reload_ext autoreload\n",
    "%load_ext autoreload\n",
    "%autoreload 2\n",
    "%matplotlib inline\n",
    "from supplementary_plot_helpers import *\n",
    "\n",
    "sc.set_figure_params(dpi = 400, dpi_save = 400, fontsize = 14)"
   ]
  },
  {
   "cell_type": "code",
   "execution_count": null,
   "metadata": {},
   "outputs": [],
   "source": [
    "save_directory = os.path.join('publications', 'supplementary_figures', 'supplementary_figure16')\n",
    "qu.pp.make_directory(save_directory)"
   ]
  },
  {
   "cell_type": "code",
   "execution_count": null,
   "metadata": {},
   "outputs": [],
   "source": [
    "sns.set_style('ticks')\n",
    "adata_spain = anndata.read_h5ad(os.path.join('data', 'Zenodo', 'spain_preprocessed.h5ad'))\n",
    "adata_spain.obs['Relapse'] = adata_spain.obs['Relapse'].astype('int').astype('str')\n",
    "cell_table_clusters = pd.read_csv('/Volumes/Shared/Noah Greenwald/TNBC_Cohorts/SPAIN/intermediate_files/mask_dir/individual_masks-no_tagg_tls/cell_annotation_mask.csv')\n",
    "\n",
    "merged_df = pd.merge(adata_spain.obs[['fov', 'label']], cell_table_clusters, on =['fov', 'label'])\n",
    "adata_spain.obs['compartment'] = merged_df['mask_name'].values\n",
    "compartment_dict = dict(zip(adata_spain.obs[['Patient_ID', 'compartment']].drop_duplicates()['Patient_ID'], adata_spain.obs[['Patient_ID', 'compartment']].drop_duplicates()['compartment']))\n",
    "\n",
    "norm_counts_compartment, p_values_df = compute_abundance(adata_spain, 'Patient_ID', 'cell_cluster', 'compartment', compartment_dict, id1 = 'cancer_border', id2 = 'stroma_core')\n",
    "plot_cell_type_abundance_grid(norm_counts_compartment, p_values_df, 'compartment', 'cell_cluster', fdr_column='FDR_p_value', save_directory=save_directory,order = ['stroma_core', 'cancer_border'], filename_save = 'supplementary_figure16a.pdf')"
   ]
  },
  {
   "cell_type": "code",
   "execution_count": null,
   "metadata": {},
   "outputs": [],
   "source": [
    "adata_spain = anndata.read_h5ad(os.path.join('data', 'Zenodo', 'spain_preprocessed.h5ad'))\n",
    "adata_spain.obs['Relapse'] = adata_spain.obs['Relapse'].astype('int').astype('str')\n",
    "align_dir = '/Volumes/Shared/Noah Greenwald/TNBC_Cohorts/SPAIN/intermediate_files/mask_dir/alignment'\n",
    "\n",
    "cell_table_clusters = pd.read_csv(os.path.join(align_dir, 'ecm_cell_annotations.csv'))\n",
    "merged_df = pd.merge(adata_spain.obs[['fov', 'label']], cell_table_clusters, on =['fov', 'label'])\n",
    "adata_spain.obs['compartment'] = merged_df['compartment'].values\n",
    "\n",
    "compartment_dict = dict(zip(adata_spain.obs[['fov', 'compartment']].drop_duplicates()['fov'], adata_spain.obs[['fov', 'compartment']].drop_duplicates()['compartment']))\n",
    "\n",
    "norm_counts_compartment, p_values_df = compute_abundance(adata_spain, 'fov', 'cell_cluster', 'compartment', compartment_dict, id1 = 'aligned', id2 = 'unaligned')\n",
    "plot_cell_type_abundance_grid(norm_counts_compartment, p_values_df, 'compartment', 'cell_cluster', fdr_column='FDR_p_value', save_directory=save_directory,order = ['unaligned', 'aligned'], filename_save = 'supplementary_figure16b.pdf')"
   ]
  }
 ],
 "metadata": {
  "kernelspec": {
   "display_name": "venv_quiche_all",
   "language": "python",
   "name": "python3"
  },
  "language_info": {
   "codemirror_mode": {
    "name": "ipython",
    "version": 3
   },
   "file_extension": ".py",
   "mimetype": "text/x-python",
   "name": "python",
   "nbconvert_exporter": "python",
   "pygments_lexer": "ipython3",
   "version": "3.9.20"
  }
 },
 "nbformat": 4,
 "nbformat_minor": 2
}
