{
 "cells": [
  {
   "cell_type": "code",
   "execution_count": null,
   "metadata": {},
   "outputs": [],
   "source": [
    "import os\n",
    "import pandas as pd\n",
    "import numpy as np\n",
    "import quiche as qu\n",
    "import matplotlib.pyplot as plt\n",
    "import seaborn as sns\n",
    "import anndata\n",
    "import scanpy as sc\n",
    "from sketchKH import sketch\n",
    "import mudata\n",
    "import imageio as io\n",
    "import shutil\n",
    "from scipy.stats import ranksums\n",
    "from matplotlib import cm\n",
    "from ark.utils.plot_utils import color_segmentation_by_stat\n",
    "from alpineer import image_utils, io_utils, load_utils, misc_utils\n",
    "import matplotlib.patheffects as patheffects\n",
    "from matplotlib.patches import Rectangle\n",
    "\n",
    "sns.set_style('ticks')\n",
    "\n",
    "%reload_ext autoreload\n",
    "%load_ext autoreload\n",
    "%autoreload 2\n",
    "%matplotlib inline"
   ]
  },
  {
   "cell_type": "markdown",
   "metadata": {},
   "source": [
    "## Tumor border analysis"
   ]
  },
  {
   "cell_type": "code",
   "execution_count": null,
   "metadata": {},
   "outputs": [],
   "source": [
    "phenotypic_markers = ['ECAD', 'CK17', 'CD45', 'CD3', 'CD4', 'CD8', 'FOXP3', 'CD20', 'CD56', 'CD14', 'CD68',\n",
    "                    'CD163', 'CD11c', 'HLADR', 'ChyTr', 'Calprotectin', 'FAP', 'SMA', 'Vim', 'Fibronectin',\n",
    "                    'Collagen1', 'CD31']\n",
    "\n",
    "functional_markers = ['PDL1','Ki67','GLUT1','CD45RO','CD69', 'PD1','CD57','TBET', 'TCF1',\n",
    "                        'CD45RB', 'TIM3','IDO', 'LAG3', 'CD38', 'HLADR']\n",
    "\n",
    "var_names = phenotypic_markers+functional_markers\n",
    "\n",
    "cell_ordering = ['Cancer_1', 'Cancer_2', 'Cancer_3', 'CD4T', 'CD8T', 'Treg', 'T_Other', 'B', \n",
    "                 'NK', 'CD68_Mac', 'CD163_Mac', 'Mac_Other', 'Monocyte', 'APC','Mast', 'Neutrophil',\n",
    "                 'CAF', 'Fibroblast', 'Smooth_Muscle', 'Endothelium']\n",
    "\n",
    "colors_dict_cells = {'APC': '#700548',\n",
    " 'B': '#005377',\n",
    " 'CAF': '#f2cc8f',\n",
    " 'CD4T': '#ebb3a9',\n",
    " 'CD8T': '#ff5666',\n",
    " 'CD68_Mac': '#ffa52f',\n",
    " 'CD163_Mac': '#788AA3',\n",
    " 'Cancer_1': '#66cdaa',\n",
    " 'Cancer_2': '#3d405b',\n",
    " 'Cancer_3': '#b49ab8',\n",
    " 'Endothelium': '#f78e69',\n",
    " 'Fibroblast': '#2d9bd5',\n",
    " 'Immune_Other': '#366962',\n",
    " 'Mac_Other': '#c7d66d',\n",
    " 'Mast': '#E36414',\n",
    " 'Monocyte': '#CC6690',\n",
    " 'NK': '#9ee2ff',\n",
    " 'Neutrophil': '#4a7c59',\n",
    " 'Other': '#FFBF69',\n",
    " 'Smooth_Muscle': '#f5ebe0',\n",
    " 'T_Other': '#901C14',\n",
    " 'Treg': '#9e8576'}\n",
    "\n",
    "colors_dict = {'myeloid':'#4DCCBD',\n",
    "               'lymphoid':'#279AF1',\n",
    "               'tumor':'#FF8484',\n",
    "               'structural':'#F9DC5C'}\n",
    "\n",
    "lineage_dict = {'APC':'myeloid',\n",
    " 'B':'lymphoid',\n",
    " 'CAF': 'structural',\n",
    " 'CD4T': 'lymphoid',\n",
    " 'CD8T': 'lymphoid',\n",
    " 'CD68_Mac': 'myeloid',\n",
    " 'CD163_Mac': 'myeloid',\n",
    " 'Cancer_1': 'tumor',\n",
    " 'Cancer_2': 'tumor',\n",
    " 'Cancer_3': 'tumor',\n",
    " 'Endothelium':'structural',\n",
    " 'Fibroblast': 'structural',\n",
    " 'Mac_Other': 'myeloid',\n",
    " 'Mast':'myeloid',\n",
    " 'Monocyte':'myeloid',\n",
    " 'NK':'lymphoid',\n",
    " 'Neutrophil':'myeloid',\n",
    " 'Smooth_Muscle':'structural',\n",
    " 'T_Other':'lymphoid',\n",
    " 'Treg':'lymphoid'}\n",
    "\n",
    "sc.set_figure_params(dpi = 400, dpi_save = 400, fontsize = 14)\n",
    "\n",
    "save_directory = os.path.join('publications', 'figures', 'figure4')\n",
    "adata = anndata.read_h5ad(os.path.join('data', 'Zenodo', 'spain_preprocessed.h5ad'))\n",
    "adata.obs['Relapse'] = adata.obs['Relapse'].astype('int').astype('str')"
   ]
  },
  {
   "cell_type": "code",
   "execution_count": null,
   "metadata": {},
   "outputs": [],
   "source": [
    "sketch_size = 1000\n",
    "adata  = qu.pp.filter_fovs(adata, 'Patient_ID', sketch_size)"
   ]
  },
  {
   "cell_type": "code",
   "execution_count": null,
   "metadata": {},
   "outputs": [],
   "source": [
    "cell_table_clusters = pd.read_csv('/Volumes/Shared/Noah Greenwald/TNBC_Cohorts/SPAIN/intermediate_files/mask_dir/individual_masks-no_tagg_tls/cell_annotation_mask.csv')\n",
    "merged_df = pd.merge(adata.obs[['fov', 'label']], cell_table_clusters, on =['fov', 'label'])\n",
    "adata.obs['compartment'] = merged_df['mask_name'].values\n",
    "adata.obs['Patientcompartment'] = adata.obs['Patient_ID'].astype('str') + adata.obs['compartment'].astype('str')"
   ]
  },
  {
   "cell_type": "code",
   "execution_count": null,
   "metadata": {},
   "outputs": [],
   "source": [
    "# design = '~compartment'\n",
    "# model_contrasts = 'compartmentcancer_border-compartmentstroma_core'\n",
    "\n",
    "# mdata, sig_niches_spain = qu.tl.run_quiche(adata, radius = 100, labels_key = 'cell_cluster', spatial_key = 'spatial',\n",
    "#                                     fov_key = 'fov', sketch_key = 'Patient_ID', n_neighbors = 30, merge = False, test_key= 'Patientcompartment',\n",
    "#                                     delaunay = False, min_cells = 3, k_sim = 100, design = design, khop = None, label_scheme='normal',\n",
    "#                                     model_contrasts = model_contrasts, sketch_size = sketch_size, nlargest = 3, annotation_key = 'quiche_niche', n_jobs = 8)\n",
    "# mdata['quiche'].var = mdata['quiche'].var.astype('str')\n",
    "# mdata.write_h5mu(os.path.join('data', 'tnbc_spain', 'mdata', 'mdata_region_100.h5mu'))"
   ]
  },
  {
   "cell_type": "code",
   "execution_count": null,
   "metadata": {},
   "outputs": [],
   "source": [
    "#load in data to save runtime\n",
    "mdata = mudata.read_h5mu(os.path.join('data', 'tnbc_spain', 'mdata', 'mdata_tumor_region.h5mu'))\n",
    "mdata['quiche'].var[['logFC', 'SpatialFDR']] = mdata['quiche'].var[['logFC', 'SpatialFDR']].astype('float')\n",
    "sig_threshold = 0.05\n",
    "annotation_key = 'quiche_niche'\n",
    "sig_key = 'SpatialFDR'\n",
    "mdata['quiche'].var[['logFC', 'SpatialFDR']] = mdata['quiche'].var[['logFC', 'SpatialFDR']].astype('float')\n",
    "\n",
    "scores_df = pd.DataFrame(mdata['quiche'].var.groupby(annotation_key)[sig_key].median())\n",
    "scores_df.columns = ['pval']\n",
    "scores_df['logFC'] = mdata['quiche'].var.groupby(annotation_key)['logFC'].mean()\n",
    "scores_df = scores_df[scores_df['pval'] <= sig_threshold]\n",
    "scores_df = scores_df.iloc[np.where((scores_df['logFC'] <= -1) | (scores_df['logFC'] >= 1))[0]]\n",
    "ids = list(set(scores_df.index).intersection(set(list(mdata['quiche'].var[annotation_key].value_counts()[mdata['quiche'].var[annotation_key].value_counts() >= 5].index))))\n",
    "scores_df = scores_df.loc[ids]\n",
    "\n",
    "cov_count_df = qu.tl.compute_patient_proportion(mdata,\n",
    "                                niches = scores_df.index,\n",
    "                                feature_key = 'quiche',\n",
    "                                annot_key = 'quiche_niche',\n",
    "                                patient_key = 'Patient_ID',\n",
    "                                design_key = 'compartment',\n",
    "                                patient_niche_threshold = 5)\n",
    "\n",
    "cov_count_df_neg = cov_count_df[cov_count_df['mean_logFC'] < 0]\n",
    "cov_count_df_neg = cov_count_df_neg[cov_count_df_neg['patient_count'] >= 2]\n",
    "cov_count_df_neg = cov_count_df_neg[cov_count_df_neg['compartment'] == 'stroma_core']\n",
    "\n",
    "cov_count_df_pos = cov_count_df[cov_count_df['mean_logFC'] > 0]\n",
    "cov_count_df_pos = cov_count_df_pos[cov_count_df_pos['patient_count'] >= 2]\n",
    "cov_count_df_pos = cov_count_df_pos[cov_count_df_pos['compartment'] == 'cancer_border']"
   ]
  },
  {
   "cell_type": "code",
   "execution_count": null,
   "metadata": {},
   "outputs": [],
   "source": [
    "adata = qu.tl.compute_spatial_neighbors(adata, radius = 100, n_neighbors = 30, spatial_key = 'spatial', delaunay = False, fov_key = 'fov', coord_type = 'generic')\n",
    "adata_niche, cells_nonn = qu.tl.compute_niche_composition(adata, labels_key = 'cell_cluster', min_cells = 3)\n",
    "adata_niche = adata_niche[np.where(pd.DataFrame(adata_niche.X).sum(1) != 0)[0], :].copy()\n",
    "annotations_niche = qu.tl.compute_niche_abundance_fov(adata_niche.to_df(), nlargest = 3, min_perc = 0.1)\n",
    "adata_niche.obs['retro'] = annotations_niche.values\n",
    "index_df = adata_niche.obs.reset_index()\n",
    "index_df['index_cell'] = index_df['index']\n",
    "annotation_df = mdata['quiche'].var[['index_cell', 'quiche_niche', 'SpatialFDR']]\n",
    "index_cells = pd.merge(index_df, annotation_df, on = 'index_cell')['index_cell'].values\n",
    "adata_niche.obs.loc[index_cells, 'retro'] = list(pd.merge(index_df, annotation_df, on = 'index_cell')['quiche_niche'])"
   ]
  },
  {
   "cell_type": "markdown",
   "metadata": {},
   "source": [
    "## Figure 4a"
   ]
  },
  {
   "cell_type": "code",
   "execution_count": null,
   "metadata": {},
   "outputs": [],
   "source": [
    "data_dir = r'/Volumes/Shared/Noah Greenwald/TNBC_Cohorts/SPAIN/image_data/samples'\n",
    "seg_dir = r'/Volumes/Shared/Noah Greenwald/TNBC_Cohorts/SPAIN/segmentation/samples/deepcell_output'\n",
    "save_directory_ = os.path.join(save_directory, 'overlay')\n",
    "qu.pp.make_directory(save_directory_)\n",
    "\n",
    "fov_list = ['TMA32_R2C8', 'TMA39_R10C4']"
   ]
  },
  {
   "cell_type": "code",
   "execution_count": null,
   "metadata": {},
   "outputs": [],
   "source": [
    "##plot expression\n",
    "channel_to_rgb = np.array([\n",
    "    [0.0, 0.0, 1.0],  # Blue\n",
    "    [1.0, 0.0, 1.0],  # Magenta\n",
    "    [1.0, 1.0, 0.0],  # Yellow\n",
    "    [1.0, 0.0, 0.0],  # Red\n",
    "    [0.0, 1.0, 0.0]   # Green\n",
    "])\n",
    "for fov in fov_list:\n",
    "    qu.pl.plot_overlay(seg_dir, data_dir, fov, ['ECAD', 'CD45'], [\"H3K27me3\", \"H3K9ac\"], channel_to_rgb, save_directory_, f'{fov}_expression_overlay')"
   ]
  },
  {
   "cell_type": "markdown",
   "metadata": {},
   "source": [
    "## Figure 4b"
   ]
  },
  {
   "cell_type": "code",
   "execution_count": null,
   "metadata": {},
   "outputs": [],
   "source": [
    "##plot tumor regions\n",
    "save_directory_ = os.path.join(save_directory, 'overlay', 'region')\n",
    "qu.pp.make_directory(save_directory_)\n",
    "compartment_colormap = pd.DataFrame({'compartment': ['cancer_core', 'cancer_border', 'stroma_core', 'stroma_border'], 'color': ['blue', 'deepskyblue','#8E6E96', '#8E6E96']})            \n",
    "qu.pl.cohort_cluster_plot(fovs=fov_list,\n",
    "                        save_dir = os.path.join(save_directory_),\n",
    "                        cell_data=adata.obs.loc[:, ['fov', 'compartment', 'label']],\n",
    "                        erode=True,\n",
    "                        seg_dir = seg_dir,\n",
    "                        fov_col= 'fov',\n",
    "                        label_col='label',\n",
    "                        cluster_col='compartment',\n",
    "                        seg_suffix=\"_whole_cell.tiff\",\n",
    "                        unassigned_color=np.array([0, 0, 0, 1]),\n",
    "                        cmap=compartment_colormap,\n",
    "                        display_fig=False)"
   ]
  },
  {
   "cell_type": "markdown",
   "metadata": {},
   "source": [
    "## Figure 4c"
   ]
  },
  {
   "cell_type": "code",
   "execution_count": null,
   "metadata": {},
   "outputs": [],
   "source": [
    "colors_dict_cells['Cancer_1'] = 'deepskyblue'\n",
    "colors_dict_cells['Fibroblast'] = '#8E6E96'\n",
    "niche_list = ['CD8T__Cancer_1', 'CD4T__Fibroblast']"
   ]
  },
  {
   "cell_type": "code",
   "execution_count": null,
   "metadata": {},
   "outputs": [],
   "source": [
    "##plot niches\n",
    "save_directory_ = os.path.join(save_directory, 'overlay', 'region', 'niches')\n",
    "qu.pp.make_directory(save_directory_)\n",
    "for i in range(0, len(niche_list)):\n",
    "    fov = fov_list[i]\n",
    "    niche = niche_list[i]\n",
    "    cell_list = niche.split('__')\n",
    "    qu.pl.plot_niche_score(mdata, niche, fov, seg_dir, metric = 'logFC', vmin = -2, vmax = 2, fontsize = 12, cmap = 'vlag', background = [0.3, 0.3, 0.3, 1],figsize = (6, 6), save_directory = save_directory_, filename_save = niche+'_'+fov)\n",
    "\n",
    "    subset_mdata = adata_niche[adata_niche.obs['retro'] == niche]\n",
    "    df_cells = subset_mdata.to_df()\n",
    "    df_cells['cell_cluster'] = subset_mdata.obs['cell_cluster']\n",
    "    df_cells['label']= subset_mdata.obs['label']\n",
    "    df_cells['fov'] = subset_mdata.obs['fov']\n",
    "    df_cells = df_cells[np.isin(df_cells.cell_cluster, cell_list)]\n",
    "\n",
    "    colormap = pd.DataFrame({'cell_cluster': list(colors_dict_cells.keys()),\n",
    "                            'color': list(colors_dict_cells.values())})\n",
    "\n",
    "    qu.pl.cohort_cluster_plot(\n",
    "        fovs=[fov],\n",
    "        seg_dir=seg_dir,\n",
    "        save_dir=save_directory_,\n",
    "        cell_data=df_cells,\n",
    "        erode=True,\n",
    "        fov_col='fov',\n",
    "        label_col='label',\n",
    "        cluster_col='cell_cluster',\n",
    "        seg_suffix=\"_whole_cell.tiff\",\n",
    "        cmap=colormap,\n",
    "        unassigned_color=np.array([0.3, 0.3, 0.3, 1]),\n",
    "        fig_file_type = 'pdf',\n",
    "        display_fig=False)"
   ]
  },
  {
   "cell_type": "markdown",
   "metadata": {},
   "source": [
    "## Figure4 d-e"
   ]
  },
  {
   "cell_type": "code",
   "execution_count": null,
   "metadata": {},
   "outputs": [],
   "source": [
    "G2 = qu.tl.compute_niche_network(cov_count_df = cov_count_df_pos, colors_dict = colors_dict, lineage_dict=lineage_dict, annot_key = 'quiche_niche') \n",
    "\n",
    "qu.pl.plot_niche_network_donut(G=G2, figsize=(6, 6), node_order=cell_ordering, buffer=1.5, weightscale = 0.05, edge_color='#1D265E',\n",
    "                         centrality_measure = 'eigenvector',colors_dict=colors_dict, curvature=0.2, font_size=12,save_directory=save_directory, filename_save=f'figure4d',\n",
    "                         min_node_size = 20, max_node_size = 850, lineage_dict=lineage_dict, donut_radius_inner = 1.15, donut_radius_outer = 1.25,\n",
    "                         vmin = -10, vmax = 180,edge_cmap = cm.bone_r, edge_label = 'Patients')\n",
    "\n",
    "G1 = qu.tl.compute_niche_network(cov_count_df = cov_count_df_neg, colors_dict = colors_dict, lineage_dict=lineage_dict, annot_key = 'quiche_niche') \n",
    "\n",
    "qu.pl.plot_niche_network_donut(G=G1, figsize=(6, 6), node_order=cell_ordering, buffer=1.5, weightscale = 0.05, edge_color='#1D265E', font_size=12,\n",
    "                         centrality_measure = 'eigenvector',colors_dict=colors_dict, curvature=0.2,save_directory=save_directory, filename_save=f'figure4e',\n",
    "                         min_node_size = 20, max_node_size = 850, lineage_dict=lineage_dict, donut_radius_inner = 1.15, donut_radius_outer = 1.25,\n",
    "                         vmin = -10, vmax = 180,edge_cmap = cm.bone_r, edge_label = 'Patients')"
   ]
  },
  {
   "cell_type": "markdown",
   "metadata": {},
   "source": [
    "## Figure 4f-g"
   ]
  },
  {
   "cell_type": "code",
   "execution_count": null,
   "metadata": {},
   "outputs": [],
   "source": [
    "adata_expression_og = mdata['expression'].copy()\n",
    "mdata['expression'].X = qu.pp.standardize(mdata['expression'].X)"
   ]
  },
  {
   "cell_type": "code",
   "execution_count": null,
   "metadata": {},
   "outputs": [],
   "source": [
    "# adata_func_pos = qu.tl.compute_functional_expression(mdata = mdata,\n",
    "#                                 sig_niches = list(cov_count_df_pos['quiche_niche'].values),\n",
    "#                                 labels_key = 'cell_cluster',\n",
    "#                                 annot_key = 'quiche_niche',\n",
    "#                                 fov_key = 'fov',\n",
    "#                                 segmentation_label_key = 'label',\n",
    "#                                 patient_key = 'Patient_ID',\n",
    "#                                 min_cell_count = 3,\n",
    "#                                 foldchange_key = 'logFC',\n",
    "#                                 markers = mdata['expression'].var_names)\n",
    "\n",
    "# adata_func_neg = qu.tl.compute_functional_expression(mdata = mdata,\n",
    "#                                 sig_niches = list(cov_count_df_neg['quiche_niche'].values),\n",
    "#                                 labels_key = 'cell_cluster',\n",
    "#                                 annot_key = 'quiche_niche',\n",
    "#                                 fov_key = 'fov',\n",
    "#                                 segmentation_label_key = 'label',\n",
    "#                                 patient_key = 'Patient_ID',\n",
    "#                                 min_cell_count = 3,\n",
    "#                                 foldchange_key = 'logFC',\n",
    "#                                 markers = mdata['expression'].var_names)\n",
    "\n",
    "# adata_func_pos.write_h5ad(os.path.join('data', 'tnbc_spain', 'mdata', 'adata_func_pos_region.h5ad'))\n",
    "# adata_func_neg.write_h5ad(os.path.join('data', 'tnbc_spain', 'mdata','adata_func_neg_region.h5ad'))"
   ]
  },
  {
   "cell_type": "code",
   "execution_count": null,
   "metadata": {},
   "outputs": [],
   "source": [
    "## load in to save on runtime \n",
    "adata_func_pos = anndata.read_h5ad(os.path.join('data', 'tnbc_spain', 'mdata', 'adata_func_pos_region.h5ad'))\n",
    "adata_func_neg = anndata.read_h5ad(os.path.join('data', 'tnbc_spain', 'mdata','adata_func_neg_region.h5ad'))"
   ]
  },
  {
   "cell_type": "code",
   "execution_count": null,
   "metadata": {},
   "outputs": [],
   "source": [
    "pos_df = adata_func_pos.to_df()\n",
    "pos_df['cell_cluster'] = adata_func_pos.obs['cell_cluster']\n",
    " \n",
    "neg_df = adata_func_neg.to_df()\n",
    "neg_df['cell_cluster'] = adata_func_neg.obs['cell_cluster']\n",
    "\n",
    "total_df = mdata['expression'].to_df()\n",
    "total_df['cell_cluster'] = mdata['expression'].obs['cell_cluster']\n",
    "\n",
    "qu.pl.plot_diff_func(pos_df, total_df, 'cell_cluster', functional_markers, (5.5, 4.25), cmap = 'PuOr_r', filename_save=f'figure4f.pdf')\n",
    "shutil.move(os.path.join('figures','matrixplot_figure4f.pdf'), os.path.join(save_directory, 'figure4f.pdf'))\n",
    "qu.pl.plot_diff_func(neg_df, total_df, 'cell_cluster', functional_markers, (5.5, 4.75), cmap = 'PuOr_r', filename_save=f'figure4g.pdf')\n",
    "shutil.move(os.path.join('figures','matrixplot_figure4g.pdf'), os.path.join(save_directory, 'figure4g.pdf'))"
   ]
  },
  {
   "cell_type": "markdown",
   "metadata": {},
   "source": [
    "## ECM analysis"
   ]
  },
  {
   "cell_type": "markdown",
   "metadata": {},
   "source": [
    "### niche analysis"
   ]
  },
  {
   "cell_type": "code",
   "execution_count": null,
   "metadata": {},
   "outputs": [],
   "source": [
    "directory = '/Volumes/Shared/Noah Greenwald/TNBC_Cohorts/SPAIN/intermediate_files/fiber_segmentation_processed_data'\n",
    "seg_dir = '/Volumes/Shared/Noah Greenwald/TNBC_Cohorts/SPAIN/segmentation/samples/deepcell_output'\n",
    "align_dir = '/Volumes/Shared/Noah Greenwald/TNBC_Cohorts/SPAIN/intermediate_files/mask_dir/alignment'\n",
    "data_dir = '/Volumes/Shared/Noah Greenwald/TNBC_Cohorts/SPAIN/image_data/samples'\n",
    "sc.set_figure_params(dpi = 400, dpi_save = 400, fontsize = 14)\n",
    "\n",
    "fiber_table = pd.read_csv(os.path.join(directory, 'fiber_object_table.csv'))\n",
    "\n",
    "save_directory = os.path.join('publications', 'figures', 'figure4')\n",
    "qu.pp.make_directory(save_directory)\n",
    "\n",
    "fov_list = ['TMA44_R3C3', 'TMA38_R3C8']\n",
    "niche_list = ['Fibroblast__Neutrophil','B__Cancer_1']\n",
    "\n",
    "alignment_scores = fiber_table['alignment_score'].dropna()\n",
    "fiber_table['alignment_bin_2'] = fiber_table['alignment_score'].apply(lambda x: 0.01 if x <= 0.5 else 1 if x > 0.5 else 0)"
   ]
  },
  {
   "cell_type": "code",
   "execution_count": null,
   "metadata": {},
   "outputs": [],
   "source": [
    "phenotypic_markers = ['ECAD', 'CK17', 'CD45', 'CD3', 'CD4', 'CD8', 'FOXP3', 'CD20', 'CD56', 'CD14', 'CD68',\n",
    "                    'CD163', 'CD11c', 'HLADR', 'ChyTr', 'Calprotectin', 'FAP', 'SMA', 'Vim', 'Fibronectin',\n",
    "                    'Collagen1', 'CD31']\n",
    "\n",
    "functional_markers = ['PDL1','Ki67','GLUT1','CD45RO','CD69', 'PD1','CD57','TBET', 'TCF1',\n",
    "                        'CD45RB', 'TIM3','IDO', 'LAG3', 'CD38', 'HLADR']\n",
    "\n",
    "var_names = phenotypic_markers+functional_markers\n",
    "\n",
    "cell_ordering = ['Cancer_1', 'Cancer_2', 'Cancer_3', 'CD4T', 'CD8T', 'Treg', 'T_Other', 'B', \n",
    "                 'NK', 'CD68_Mac', 'CD163_Mac', 'Mac_Other', 'Monocyte', 'APC','Mast', 'Neutrophil',\n",
    "                 'CAF', 'Fibroblast', 'Smooth_Muscle', 'Endothelium']\n",
    "\n",
    "sc.set_figure_params(dpi = 400, dpi_save = 400, fontsize = 14)\n",
    "\n",
    "save_directory = os.path.join('publications', 'figures', 'figure4')\n",
    "adata = anndata.read_h5ad(os.path.join('data', 'Zenodo', 'spain_preprocessed.h5ad'))\n",
    "adata.obs['Relapse'] = adata.obs['Relapse'].astype('int').astype('str')\n",
    "\n",
    "cell_table_clusters = pd.read_csv(os.path.join(align_dir, 'ecm_cell_annotations.csv'))\n",
    "merged_df = pd.merge(adata.obs[['fov', 'label']], cell_table_clusters, on =['fov', 'label'])\n",
    "adata.obs['compartment'] = merged_df['compartment'].values\n",
    "adata.obs['Patientcompartment'] = adata.obs['Patient_ID'].astype('str') + adata.obs['compartment'].astype('str')\n",
    "adata.obs['fovcompartment'] = adata.obs['fov'].astype('str') + adata.obs['compartment'].astype('str')\n",
    "\n",
    "sketch_size = 500\n",
    "many_fovs = adata.obs.groupby(['fovcompartment']).size()[np.where(adata.obs.groupby(['fovcompartment']).size() >= sketch_size)[0]].index\n",
    "adata = adata[np.isin(adata.obs['fovcompartment'], many_fovs)]"
   ]
  },
  {
   "cell_type": "code",
   "execution_count": null,
   "metadata": {},
   "outputs": [],
   "source": [
    "# khop = None\n",
    "# radius = 50\n",
    "# n_neighbors = 10\n",
    "# labels_key = 'cell_cluster'\n",
    "# spatial_key = 'spatial'\n",
    "# coord_type = 'generic'\n",
    "# fov_key = 'fov'\n",
    "# n_jobs = -1\n",
    "# min_cells = 3\n",
    "# delaunay = False\n",
    "# sketch_key = 'fovcompartment'\n",
    "# test_key = 'fovcompartment'\n",
    "# gamma = 1\n",
    "# frequency_seed = 0\n",
    "# k_sim = 100\n",
    "\n",
    "# if khop is not None:\n",
    "#     niche_df, _ = qu.tl.spatial_niches_khop(adata, radius = radius, p = 2, k = n_neighbors, khop = khop, min_cell_threshold = 0, labels_key = labels_key, spatial_key = spatial_key, fov_key = fov_key, n_jobs = n_jobs)\n",
    "#     adata_niche = anndata.AnnData(niche_df)\n",
    "#     adata_niche.obs = adata.obs.loc[niche_df.index, :]\n",
    "# else:\n",
    "#     adata = qu.tl.compute_spatial_neighbors(adata, radius = radius, n_neighbors = n_neighbors, spatial_key = spatial_key, delaunay = delaunay, fov_key = fov_key, coord_type = coord_type)\n",
    "#     adata_niche, cells_nonn = qu.tl.compute_niche_composition(adata, labels_key = labels_key, min_cells = min_cells)\n",
    "\n",
    "# adata_niche = adata_niche[np.where(pd.DataFrame(adata_niche.X).sum(1) != 0)[0], :].copy()\n",
    "# adata = adata[np.where(pd.DataFrame(adata_niche.X).sum(1) != 0)[0], :].copy()\n",
    "\n",
    "# if sketch_size is None:\n",
    "#     adata_niche_subsample = adata_niche.copy()\n",
    "# else:\n",
    "#     _, adata_niche_subsample = sketch(adata_niche, sample_set_key = sketch_key, gamma = gamma, num_subsamples = sketch_size, frequency_seed = frequency_seed, n_jobs = n_jobs)\n",
    "# adata_niche_subsample = qu.tl.construct_niche_similarity_graph(adata_niche_subsample, k = k_sim, n_jobs = n_jobs)\n",
    "\n",
    "# annotation_key = 'quiche_niche'\n",
    "# feature_key = 'spatial_nhood'\n",
    "# design = '~compartment'\n",
    "# model_contrasts = 'compartmentaligned-compartmentunaligned'\n",
    "# adata_niche_subsample = adata_niche_subsample[~adata_niche_subsample.obs['fovcompartment'].str.contains('no_collagen')].copy()\n",
    "# adata_niche_subsample = qu.tl.construct_niche_similarity_graph(adata_niche_subsample, k = k_sim, n_jobs = n_jobs)\n",
    "# mdata = qu.tl.quicheDA(adata_niche_subsample, design = design, model_contrasts=model_contrasts, patient_key = test_key)\n",
    "# annotations = qu.tl.label_niches(mdata, nlargest = 3, min_perc = 0.1)\n",
    "# try:\n",
    "#     mdata['milo'].var[annotation_key] = annotations.values\n",
    "# except:\n",
    "#     mdata['milo'].var[annotation_key] = annotations\n",
    "# mdata = mudata.MuData({'expression': adata, feature_key: mdata['spatial_nhood'], 'quiche': mdata['milo']})\n",
    "# mdata['quiche'].var[mdata['spatial_nhood'].obs.columns] = mdata['spatial_nhood'].obs.values\n",
    "# mdata[feature_key].obs[annotation_key] = mdata['quiche'].var[annotation_key].values\n",
    "# mdata['quiche'].var = mdata['quiche'].var.astype('str')\n",
    "\n",
    "# mdata['quiche'].var = mdata['quiche'].var.astype('str')\n",
    "# mdata.write_h5mu(os.path.join('data', 'tnbc_spain', 'mdata', 'mdata_ecm_alignment.h5mu'))"
   ]
  },
  {
   "cell_type": "code",
   "execution_count": null,
   "metadata": {},
   "outputs": [],
   "source": [
    "## load in data to save on runtime\n",
    "mdata = mudata.read_h5mu(os.path.join('data', 'tnbc_spain', 'mdata', 'mdata_ecm_alignment.h5mu'))\n",
    "mdata['quiche'].var[['logFC', 'SpatialFDR', 'PValue']] = mdata['quiche'].var[['logFC', 'SpatialFDR', 'PValue']].astype('float')\n",
    "scores_df = pd.DataFrame(mdata['quiche'].var.groupby('quiche_niche')['SpatialFDR'].median())\n",
    "scores_df.columns = ['pval']\n",
    "scores_df['logFC'] = mdata['quiche'].var.groupby('quiche_niche')['logFC'].mean()\n",
    "scores_df = scores_df[scores_df['pval'] < 0.05]\n",
    "ids = list(set(scores_df.index).intersection(set(list(mdata['quiche'].var['quiche_niche'].value_counts()[mdata['quiche'].var['quiche_niche'].value_counts() >= 5].index))))\n",
    "scores_df = scores_df.loc[ids]\n",
    "scores_df = scores_df[(scores_df.logFC > 0.5) | (scores_df.logFC < -0.5)]\n",
    "niches = list(scores_df.index)\n",
    "\n",
    "cov_count_df = qu.tl.compute_patient_proportion(mdata,\n",
    "                                niches = niches,\n",
    "                                feature_key = 'quiche',\n",
    "                                annot_key = 'quiche_niche',\n",
    "                                patient_key = 'Patient_ID',\n",
    "                                design_key = 'compartment',\n",
    "                                patient_niche_threshold = 5)\n",
    "cov_count_df_neg = cov_count_df[cov_count_df['mean_logFC'] < 0]\n",
    "cov_count_df_neg = cov_count_df_neg[cov_count_df_neg['patient_count'] >= 2]\n",
    "cov_count_df_neg = cov_count_df_neg[cov_count_df_neg['compartment'] == 'unaligned']\n",
    "\n",
    "cov_count_df_pos = cov_count_df[cov_count_df['mean_logFC'] > 0]\n",
    "cov_count_df_pos = cov_count_df_pos[cov_count_df_pos['patient_count'] >= 2]\n",
    "cov_count_df_pos = cov_count_df_pos[cov_count_df_pos['compartment'] == 'aligned']"
   ]
  },
  {
   "cell_type": "markdown",
   "metadata": {},
   "source": [
    "## Figure 4k"
   ]
  },
  {
   "cell_type": "code",
   "execution_count": null,
   "metadata": {},
   "outputs": [],
   "source": [
    "sns.set_style('ticks')\n",
    "qu.pl.beeswarm(mdata,\n",
    "    feature_key=\"quiche\",\n",
    "    alpha = 0.05,\n",
    "    niches=list(cov_count_df_neg.quiche_niche) + list(cov_count_df_pos.quiche_niche),\n",
    "    figsize=(4.5, 6),\n",
    "    annot_key='quiche_niche',\n",
    "    design_key='compartment',\n",
    "    patient_key='Patient_ID',\n",
    "    xlim=[-3,3],\n",
    "    save_directory=save_directory,\n",
    "    filename_save=f'figure4k')"
   ]
  },
  {
   "cell_type": "markdown",
   "metadata": {},
   "source": [
    "## Figure 4l"
   ]
  },
  {
   "cell_type": "code",
   "execution_count": null,
   "metadata": {},
   "outputs": [],
   "source": [
    "adata_sub = mdata['spatial_nhood'][np.isin(mdata['spatial_nhood'].obs['cell_cluster'], ['Cancer_1', 'Cancer_2', 'Cancer_3'])].copy()\n",
    "morph_measurements = adata_sub.obs[['nc_ratio', 'area', 'eccentricity', 'major_axis_length', 'minor_axis_length']].copy()\n",
    "morph_measurements['elongation'] = morph_measurements['major_axis_length'] / morph_measurements['minor_axis_length']\n",
    "morph_measurements = pd.DataFrame(qu.pp.standardize(morph_measurements), index = morph_measurements.index, columns = morph_measurements.columns)\n",
    "morph_measurements['compartment'] = adata_sub.obs['compartment']\n",
    "morph_measurements['Patient_ID'] = adata_sub.obs['Patient_ID']\n",
    "morph_measurementsv2 = morph_measurements.groupby(['compartment', 'Patient_ID']).mean().unstack().unstack().reset_index()\n",
    "\n",
    "fig, axes = plt.subplots(1, 1, figsize=(4, 3.5), sharey=False)\n",
    "melted_data = morph_measurementsv2[morph_measurementsv2['level_0'] =='elongation']\n",
    "Q1 = melted_data[0].quantile(0.25)\n",
    "Q3 = melted_data[0].quantile(0.75)\n",
    "IQR = Q3 - Q1\n",
    "lower_bound = Q1 - 1.5 * IQR\n",
    "upper_bound = Q3 + 1.5 * IQR\n",
    "filtered_data = melted_data[(melted_data[0] >= lower_bound) & (melted_data[0] <= upper_bound)]\n",
    "groups = [filtered_data[filtered_data['compartment'] == c][0] for c in filtered_data['compartment'].unique()]\n",
    "if len(groups) == 2:\n",
    "    stat, p_value = ranksums(groups[0], groups[1])\n",
    "else:\n",
    "    p_value = None\n",
    "g = sns.boxplot(x='compartment', y=0, data=filtered_data, width=0.5, fliersize=0, color='white', ax=axes)\n",
    "g = sns.stripplot( x='compartment', y=0, data=filtered_data, color='gray', alpha=0.8, ax=axes)\n",
    "g.tick_params(labelsize=10)\n",
    "if p_value is not None:\n",
    "    if p_value < 0.001:\n",
    "        axes.set_title(f\"elongation (p < 0.001)\")\n",
    "    else:\n",
    "        axes.set_title(f\"elongation (p = {p_value:.3f})\")\n",
    "else:\n",
    "    axes.set_title(f\"elongation (p-value not computed)\")\n",
    "\n",
    "axes.set_xlabel(\"ECM region\", fontsize = 12)\n",
    "axes.set_ylabel('')\n",
    "\n",
    "plt.tight_layout()\n",
    "plt.savefig(os.path.join(save_directory, 'figure4l.pdf'), bbox_inches = 'tight')"
   ]
  },
  {
   "cell_type": "markdown",
   "metadata": {},
   "source": [
    "## Figure 4m"
   ]
  },
  {
   "cell_type": "code",
   "execution_count": null,
   "metadata": {},
   "outputs": [],
   "source": [
    "df_red = adata.to_df()\n",
    "df_red[['fov', 'label']]= adata.obs[['fov', 'label']].values\n",
    "df_red = pd.merge(df_red, mdata['spatial_nhood'].obs[['fov', 'label']])\n",
    "index_names = list(df_red.index)\n",
    "adata_red = adata[index_names, :].copy()\n",
    "\n",
    "df = adata_red[np.isin(adata_red.obs['cell_cluster'], ['Cancer_1', 'Cancer_2', 'Cancer_3'])].to_df()\n",
    "df = pd.DataFrame(qu.pp.standardize(df), index = df.index, columns = df.columns)\n",
    "df['compartment'] = adata_red[np.isin(adata_red.obs['cell_cluster'], ['Cancer_1', 'Cancer_2', 'Cancer_3'])].obs['compartment']\n",
    "\n",
    "adata_run = anndata.AnnData(df.iloc[:, :-1])\n",
    "adata_run.obs['compartment'] = pd.Categorical(df.iloc[:, -1])\n",
    "adata_run = adata_run[adata_run.obs['compartment'] != 'no_collagen']\n",
    "adata_run.obs_names = [f'c_{i}' for i in range(0, len(adata_run.obs_names))]\n",
    "\n",
    "sc.pl.dotplot(adata_run, \n",
    "            var_names=['Collagen1', 'FAP', 'Fibronectin', 'Vim', 'SMA', 'GLUT1', 'Ki67'], \n",
    "            standard_scale = None, vmin = -1, vmax = 1, cmap = 'PuOr_r',dot_min = 0, dot_max = 0.8,\n",
    "            groupby='compartment', save = 'figure4m.pdf')\n",
    "\n",
    "shutil.move(os.path.join('figures','dotplot_figure4m.pdf'), os.path.join(save_directory, 'figure4m.pdf'))"
   ]
  },
  {
   "cell_type": "markdown",
   "metadata": {},
   "source": [
    "## ECM viz"
   ]
  },
  {
   "cell_type": "code",
   "execution_count": null,
   "metadata": {},
   "outputs": [],
   "source": [
    "fov_list = ['TMA44_R3C3', 'TMA38_R3C8']\n",
    "niche_list = ['Fibroblast__Neutrophil','B__Cancer_1']\n",
    "mdata['quiche'].var['logFC'] = mdata['quiche'].var['logFC'].astype('float')"
   ]
  },
  {
   "cell_type": "markdown",
   "metadata": {},
   "source": [
    "## Figure 4h Collagen1 expression"
   ]
  },
  {
   "cell_type": "code",
   "execution_count": null,
   "metadata": {},
   "outputs": [],
   "source": [
    "fiber_channel = 'Collagen1'\n",
    "img_sub_folder = ''\n",
    "img_cmap_name = \"bone\"\n",
    "labels_cmap_name = \"cool\"\n",
    "save_directory_ = os.path.join(save_directory, 'overlay', 'ecm')\n",
    "qu.pp.make_directory(save_directory_)\n",
    "\n",
    "for fov_name in fov_list:\n",
    "    io_utils.validate_paths(data_dir)\n",
    "    misc_utils.verify_in_list(fiber_channel=[fiber_channel],\n",
    "                              all_channels=io_utils.remove_file_extensions(io_utils.list_files(os.path.join(data_dir, fov_name, img_sub_folder))))\n",
    "\n",
    "    data_xr = load_utils.load_imgs_from_tree(data_dir, img_sub_folder, fovs=[fov_name], channels=[fiber_channel])\n",
    "\n",
    "    channel_data = data_xr.loc[fov_name, :, :, fiber_channel].values\n",
    "    channel_data = channel_data / np.quantile(channel_data, 0.99)\n",
    "\n",
    "    _, axes = plt.subplots(1, 1)\n",
    "    img_cmap = cm.get_cmap(img_cmap_name)\n",
    "    labels_cmap = cm.get_cmap(labels_cmap_name)\n",
    "\n",
    "    axes.imshow(channel_data, cmap=img_cmap)\n",
    "    axes.axis(\"off\")\n",
    "    scale_bar_length = int((channel_data.shape[0]*100)/800)  # 2048 pixels is 800 uM so 256 pixels corresponds to 100 microns\n",
    "    scale_bar_height = 20  # Height of the scale bar rectangle\n",
    "    scale_bar_color = 'white'\n",
    "    text_y_offset = 30  # Offset of the text from the scale bar\n",
    "\n",
    "    axes.add_patch(Rectangle((channel_data.shape[1] - scale_bar_length - 80, channel_data.shape[0] - scale_bar_height - 20),\n",
    "                            scale_bar_length, scale_bar_height, linewidth=0, edgecolor=None, facecolor=scale_bar_color))\n",
    "\n",
    "    axes.text(channel_data.shape[1] - scale_bar_length / 2 - 80, channel_data.shape[0] - scale_bar_height - text_y_offset,\n",
    "            '100 µm', color=scale_bar_color, fontweight='regular', fontsize=12, ha='center', va='bottom', path_effects=[patheffects.withStroke(linewidth=0.5, foreground='black')])\n",
    "  \n",
    "    plt.savefig(os.path.join(save_directory_, f'{fiber_channel}_{fov_name}.tiff'), bbox_inches = 'tight')"
   ]
  },
  {
   "cell_type": "markdown",
   "metadata": {},
   "source": [
    "## Figure 4i ECM alignment"
   ]
  },
  {
   "cell_type": "code",
   "execution_count": null,
   "metadata": {},
   "outputs": [],
   "source": [
    "feature_fovs = {'alignment_bin_2': fov_list}\n",
    "\n",
    "for feature in feature_fovs:\n",
    "    fov_list = feature_fovs[feature]\n",
    "    fiber_table_sub = fiber_table[fiber_table.fov.isin(fov_list)]\n",
    "    fiber_table_sub[feature + '_norm'] = np.log(fiber_table_sub[feature])\n",
    "\n",
    "    feature_dir = os.path.join(directory, f'colored_{feature}')\n",
    "    color_segmentation_by_stat(fovs=fiber_table_sub.fov.unique(), data_table=fiber_table_sub, seg_dir=directory, save_dir=save_directory_, stat_name=feature, cmap=\"RdBu\", seg_suffix=\"_fiber_labels.tiff\", erode=True)"
   ]
  },
  {
   "cell_type": "code",
   "execution_count": null,
   "metadata": {},
   "outputs": [],
   "source": [
    "adata = qu.tl.compute_spatial_neighbors(adata, radius = 100, n_neighbors = 30, spatial_key = 'spatial', delaunay = False, fov_key = 'fov', coord_type = 'generic')\n",
    "adata_niche, cells_nonn = qu.tl.compute_niche_composition(adata, labels_key = 'cell_cluster', min_cells = 3)\n",
    "adata_niche = adata_niche[np.where(pd.DataFrame(adata_niche.X).sum(1) != 0)[0], :].copy()\n",
    "annotations_niche = qu.tl.compute_niche_abundance_fov(adata_niche.to_df(), nlargest = 3, min_perc = 0.1)\n",
    "adata_niche.obs['retro'] = annotations_niche.values\n",
    "index_df = adata_niche.obs.reset_index()\n",
    "index_df['index_cell'] = index_df['index']\n",
    "annotation_df = mdata['quiche'].var[['index_cell', 'quiche_niche', 'SpatialFDR']]\n",
    "index_cells = pd.merge(index_df, annotation_df, on = 'index_cell')['index_cell'].values\n",
    "adata_niche.obs.loc[index_cells, 'retro'] = list(pd.merge(index_df, annotation_df, on = 'index_cell')['quiche_niche'])"
   ]
  },
  {
   "cell_type": "markdown",
   "metadata": {},
   "source": [
    "## Figure 4j Niche"
   ]
  },
  {
   "cell_type": "code",
   "execution_count": null,
   "metadata": {},
   "outputs": [],
   "source": [
    "##plot niches\n",
    "save_directory_ = os.path.join(save_directory, 'overlay', 'ecm', 'niches')\n",
    "qu.pp.make_directory(save_directory_)\n",
    "for i in range(0, len(niche_list)):\n",
    "    fov = fov_list[i]\n",
    "    niche = niche_list[i]\n",
    "    cell_list = niche.split('__')\n",
    "    niche_indices = list(mdata['spatial_nhood'][mdata['quiche'].var['quiche_niche'] == niche].obs_names)\n",
    "    niche_indices = [item for item in niche_indices if item not in ['TMA44_R9C4_cell3131166', 'TMA44_R9C4_cell3131174', 'TMA44_R9C4_cell3131188', 'TMA44_R9C5_cell3134587']]\n",
    "    qu.pl.plot_niche_score(mdata, niche, fov, seg_dir, metric = 'logFC', vmin = -2, vmax = 2, fontsize = 12, cmap = 'vlag', background = [0.3, 0.3, 0.3, 1],figsize = (6, 6), save_directory = save_directory_, filename_save = niche+'_'+fov, niche_indices = niche_indices)\n",
    "\n",
    "    subset_mdata = adata_niche[adata_niche.obs['retro'] == niche]\n",
    "    df_cells = subset_mdata.to_df()\n",
    "    df_cells['cell_cluster'] = subset_mdata.obs['cell_cluster']\n",
    "    df_cells['label']= subset_mdata.obs['label']\n",
    "    df_cells['fov'] = subset_mdata.obs['fov']\n",
    "    df_cells = df_cells[np.isin(df_cells.cell_cluster, cell_list)]\n",
    "\n",
    "    colormap = pd.DataFrame({'cell_cluster': list(colors_dict_cells.keys()),\n",
    "                            'color': list(colors_dict_cells.values())})\n",
    "\n",
    "    qu.pl.cohort_cluster_plot(\n",
    "        fovs=[fov],\n",
    "        seg_dir=seg_dir,\n",
    "        save_dir=save_directory_,\n",
    "        cell_data=df_cells,\n",
    "        erode=True,\n",
    "        fov_col='fov',\n",
    "        label_col='label',\n",
    "        cluster_col='cell_cluster',\n",
    "        seg_suffix=\"_whole_cell.tiff\",\n",
    "        cmap=colormap,\n",
    "        fig_file_type = 'pdf',\n",
    "        unassigned_color=np.array([0.3, 0.3, 0.3, 1]),\n",
    "        display_fig=False)"
   ]
  }
 ],
 "metadata": {
  "kernelspec": {
   "display_name": "venv_quiche_all",
   "language": "python",
   "name": "python3"
  },
  "language_info": {
   "codemirror_mode": {
    "name": "ipython",
    "version": 3
   },
   "file_extension": ".py",
   "mimetype": "text/x-python",
   "name": "python",
   "nbconvert_exporter": "python",
   "pygments_lexer": "ipython3",
   "version": "3.9.20"
  }
 },
 "nbformat": 4,
 "nbformat_minor": 2
}
