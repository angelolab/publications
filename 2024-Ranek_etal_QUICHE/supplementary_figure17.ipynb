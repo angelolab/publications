{
 "cells": [
  {
   "cell_type": "code",
   "execution_count": null,
   "metadata": {},
   "outputs": [],
   "source": [
    "import os\n",
    "import pandas as pd\n",
    "import numpy as np\n",
    "import quiche as qu\n",
    "import anndata\n",
    "import mudata\n",
    "import shutil\n",
    "%reload_ext autoreload\n",
    "%load_ext autoreload\n",
    "%autoreload 2\n",
    "%matplotlib inline"
   ]
  },
  {
   "cell_type": "code",
   "execution_count": null,
   "metadata": {},
   "outputs": [],
   "source": [
    "functional_markers = ['PDL1','Ki67','GLUT1','CD45RO','CD69', 'PD1','CD57','TBET', 'TCF1',\n",
    "                        'CD45RB', 'TIM3','IDO', 'LAG3', 'CD38', 'HLADR']\n",
    "\n",
    "save_directory = os.path.join('publications', 'supplementary_figures', 'supplementary_figure17')\n",
    "qu.pp.make_directory(save_directory)\n",
    "mdata = mudata.read_h5mu(os.path.join('data', 'tnbc_spain', 'mdata', 'mdata_tumor_region.h5mu'))\n",
    "mdata['quiche'].var[['logFC', 'SpatialFDR']] = mdata['quiche'].var[['logFC', 'SpatialFDR']].astype('float')\n",
    "\n",
    "adata_expression_og = mdata['expression'].copy()\n",
    "mdata['expression'].X = qu.pp.standardize(mdata['expression'].X)\n",
    "\n",
    "adata_func_pos = anndata.read_h5ad(os.path.join('data', 'tnbc_spain', 'mdata', 'adata_func_pos_region.h5ad'))\n",
    "adata_func_neg = anndata.read_h5ad(os.path.join('data', 'tnbc_spain', 'mdata','adata_func_neg_region.h5ad'))\n",
    "\n",
    "pos_df = adata_func_pos.to_df()\n",
    "pos_df['cell_cluster'] = adata_func_pos.obs['cell_cluster']\n",
    " \n",
    "neg_df = adata_func_neg.to_df()\n",
    "neg_df['cell_cluster'] = adata_func_neg.obs['cell_cluster']"
   ]
  },
  {
   "cell_type": "markdown",
   "metadata": {},
   "source": [
    "## Supplementary Figure 17a-b"
   ]
  },
  {
   "cell_type": "code",
   "execution_count": null,
   "metadata": {},
   "outputs": [],
   "source": [
    "border_df = mdata['expression'][mdata['expression'].obs['compartment'] == 'cancer_border'].to_df()\n",
    "border_df['cell_cluster'] = mdata['expression'][mdata['expression'].obs['compartment'] == 'cancer_border'].obs['cell_cluster']\n",
    "\n",
    "stroma_df = mdata['expression'][mdata['expression'].obs['compartment'] == 'stroma_core'].to_df()\n",
    "stroma_df['cell_cluster'] = mdata['expression'][mdata['expression'].obs['compartment'] == 'stroma_core'].obs['cell_cluster']\n",
    "\n",
    "qu.pl.plot_diff_func(pos_df, border_df, 'cell_cluster', functional_markers, (5.5, 4.25), vmin = -1, vmax = 1, vcenter = 0, cmap = 'PuOr_r', filename_save=f'supplementary_figure_17a.pdf')\n",
    "shutil.move(os.path.join('figures','matrixplot_supplementary_figure_17a.pdf'), os.path.join(save_directory, 'supplementary_figure_17a.pdf'))\n",
    "qu.pl.plot_diff_func(neg_df, stroma_df, 'cell_cluster', functional_markers, (5.5, 4.25), vmin = -1, vmax = 1, vcenter = 0, cmap = 'PuOr_r', filename_save=f'supplementary_figure_17b.pdf')\n",
    "shutil.move(os.path.join('figures','matrixplot_supplementary_figure_17b.pdf'), os.path.join(save_directory, 'supplementary_figure_17b.pdf'))"
   ]
  }
 ],
 "metadata": {
  "kernelspec": {
   "display_name": "venv_quiche_all",
   "language": "python",
   "name": "python3"
  },
  "language_info": {
   "codemirror_mode": {
    "name": "ipython",
    "version": 3
   },
   "file_extension": ".py",
   "mimetype": "text/x-python",
   "name": "python",
   "nbconvert_exporter": "python",
   "pygments_lexer": "ipython3",
   "version": "3.9.20"
  }
 },
 "nbformat": 4,
 "nbformat_minor": 2
}
