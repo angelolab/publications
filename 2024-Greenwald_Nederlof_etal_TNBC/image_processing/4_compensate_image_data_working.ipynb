{
 "cells": [
  {
   "cell_type": "markdown",
   "id": "ca8b60ef",
   "metadata": {},
   "source": [
    "### This notebook will guide you through the process of optimizing a compensation matrix for your data. Before starting, it is recommended that you pick ~10 representative FOVs from your cohort that demonstrate the full spectrum of cell types and marker expressions you expect to see\n",
    "\n",
    "## This notebook is an example: create a copy before running it or you will get merge conflicts!"
   ]
  },
  {
   "cell_type": "code",
   "execution_count": 1,
   "id": "0b3f474f",
   "metadata": {},
   "outputs": [],
   "source": [
    "import sys\n",
    "sys.path.append('../')\n",
    "\n",
    "import os\n",
    "import shutil\n",
    "\n",
    "import skimage.io as io\n",
    "import pandas as pd\n",
    "from mibi_bin_tools import bin_files\n",
    "from toffy import rosetta\n",
    "\n",
    "from ark.utils.io_utils import list_folders, list_files"
   ]
  },
  {
   "cell_type": "markdown",
   "id": "d1db8364",
   "metadata": {},
   "source": [
    "### First, make a folder to hold all of the iterations of parameter testing, then put the full path to that folder below"
   ]
  },
  {
   "cell_type": "code",
   "execution_count": null,
   "id": "7955e002",
   "metadata": {},
   "outputs": [],
   "source": [
    "base_dir = 'path/to/base/dir'"
   ]
  },
  {
   "cell_type": "markdown",
   "id": "64aa3139",
   "metadata": {},
   "source": [
    "### Next, copy over the .bin files for the ~10 FOVs will you use for testing. In addition to the .bin files, make sure to copy over the .JSON files with the same name into this folder. Place them in a folder named *example_bins*.\n",
    "\n",
    "#### For example, fov-1-scan-1.bin, fov-1-scan-1.json, fov-23-scan-1.bin, fov-23-scan-1.json, etc"
   ]
  },
  {
   "cell_type": "code",
   "execution_count": null,
   "id": "952e3323",
   "metadata": {},
   "outputs": [],
   "source": [
    "# this folder should contain the bins and JSONs for the ~10 fovs\n",
    "test_bin_dir = os.path.join(base_dir, 'bin_files')"
   ]
  },
  {
   "cell_type": "markdown",
   "id": "e0647556",
   "metadata": {},
   "source": [
    "### Next, copy the *commercial_rosetta_matrix.csv* and the *example_panel_file.csv* files from the *files* directory of toffy into *base_dir*. Make sure to update the Target column of *example_panel_file.csv* with the details of your panel. For targets you aren't using, just leave the rows as is, don't delete them. Once you've updated the panel file, put the new name below."
   ]
  },
  {
   "cell_type": "code",
   "execution_count": null,
   "id": "267afe31-8076-48d0-ac93-15de8009751b",
   "metadata": {},
   "outputs": [],
   "source": [
    "panel_file_name = 'example_panel_file.csv'"
   ]
  },
  {
   "cell_type": "markdown",
   "id": "d0ab49c5",
   "metadata": {},
   "source": [
    "### We'll then use this panel file to extract the images from the bin files\n"
   ]
  },
  {
   "cell_type": "code",
   "execution_count": null,
   "id": "c49d5357",
   "metadata": {},
   "outputs": [],
   "source": [
    "# specify folder to hold extracted files\n",
    "img_out_dir = os.path.join(base_dir, 'extracted_images')\n",
    "\n",
    "# Read in updated panel file\n",
    "panel = pd.read_csv(os.path.join(base_dir, panel_file_name))\n",
    "\n",
    "# extract the bin files\n",
    "bin_files.extract_bin_files(test_bin_dir, img_out_dir, panel=panel, intensities=['Au', 'chan_39'])\n",
    "\n",
    "# replace count images with intensity images\n",
    "rosetta.replace_with_intensity_image(run_dir=img_out_dir, channel='Au')\n",
    "rosetta.replace_with_intensity_image(run_dir=img_out_dir, channel='chan_39')\n",
    "\n",
    "# clean up dirs\n",
    "rosetta.remove_sub_dirs(run_dir=img_out_dir, sub_dirs=['intensities', 'intensity_times_width'])\n",
    "\n",
    "# normalize images to allow direct comparison with rosetta\n",
    "fovs = list_folders(img_out_dir)\n",
    "for fov in fovs:\n",
    "    fov_dir = os.path.join(img_out_dir, fov)\n",
    "    sub_dir = os.path.join(fov_dir, 'normalized')\n",
    "    os.makedirs(sub_dir)\n",
    "    chans = list_files(fov_dir)\n",
    "    for chan in chans:\n",
    "        img = io.imread(os.path.join(fov_dir, chan))\n",
    "        img = img / 100\n",
    "        io.imsave(os.path.join(sub_dir, chan), img, check_contrast=False)"
   ]
  },
  {
   "cell_type": "markdown",
   "id": "7239e333",
   "metadata": {},
   "source": [
    "### Now that we've generated the image data, we can test out different values for the compensation matrix. We'll be testing out coefficients in proportion to their value in the default matrix. For example, specifying multipliers of 0.5, 1, and 2 would test coefficients that are half the size, the same size, and twice the size of the coefficients in the default matrix, respectively. \n",
    "\n",
    "### The cell below can be run multiple times to hone in on the speficic coefficient that works the best. In general, it is best to optimize the value of one channel's coefficient at a time. The channels that often need to be optimized are Au and Noodle. However, you can optimize the coefficient for any channel that causes problems"
   ]
  },
  {
   "cell_type": "code",
   "execution_count": null,
   "id": "9b91311d",
   "metadata": {},
   "outputs": [],
   "source": [
    "# Pick the channel that you will be optimizing the coefficient for\n",
    "current_channel_name = 'Au'\n",
    "current_channel_mass = rosetta.get_masses_from_channel_names([current_channel_name], panel)\n",
    "\n",
    "# set multipliers\n",
    "multipliers = [0.25, 1, 4]\n",
    "\n",
    "# If you only want to look at the output for a subset of the channels once you've picked good coefficients for the rest, update this variable for faste processing.\n",
    "# Otherwise, all channels will be compensated and saved\n",
    "output_channel_names = None # e.g. output_channel_names = ['Au', 'CD45', 'PanCK']\n",
    "\n",
    "# pick an informative name\n",
    "folder_name = 'give_a_name_for_this_folder'\n",
    "\n",
    "# everything from here and below will run automatically\n",
    "if output_channel_names is not None:\n",
    "    output_masses = rosetta.get_masses_from_channel_names(output_channel_names, panel)\n",
    "else:\n",
    "    output_masses = None\n",
    "\n",
    "# create sub-folder to hold images and files from this set of multipliers\n",
    "folder_path = os.path.join(base_dir, folder_name)\n",
    "if os.path.exists(folder_path):\n",
    "    raise ValueError('This folder {} already exists, please' \n",
    "                     'pick a new name for each set of parameters'.format(folder_name))\n",
    "else:\n",
    "    os.makedirs(folder_path)\n",
    "\n",
    "# generate rosseta matrices for each multiplier\n",
    "rosetta.create_rosetta_matrices(default_matrix=os.path.join(base_dir, 'commercial_rosetta_matrix.csv'),\n",
    "                               multipliers=multipliers, masses=current_channel_mass,\n",
    "                               save_dir=folder_path)\n",
    "\n",
    "# loop over each multiplier and compensate the data\n",
    "rosetta_dirs = [img_out_dir]\n",
    "for multiplier in multipliers:\n",
    "    rosetta_mat_path = os.path.join(folder_path, 'commercial_rosetta_matrix_mult_{}.csv'.format(multiplier))\n",
    "    rosetta_out_dir = os.path.join(folder_path, 'compensated_data_{}'.format(multiplier))\n",
    "    rosetta_dirs.append(rosetta_out_dir)\n",
    "    os.makedirs(rosetta_out_dir)\n",
    "    rosetta.compensate_image_data(raw_data_dir=img_out_dir, comp_data_dir=rosetta_out_dir,comp_mat_path=rosetta_mat_path, \n",
    "                                  raw_data_sub_folder='normalized', panel_info=panel, batch_size=1, norm_const=1, output_masses=output_masses)"
   ]
  },
  {
   "cell_type": "markdown",
   "id": "1e0c72cb",
   "metadata": {},
   "source": [
    "### Now that we've generated the compensated data for the given multipliers, we'll generate stitched images to make comparing the different multipliers easier"
   ]
  },
  {
   "cell_type": "code",
   "execution_count": null,
   "id": "a05d772c",
   "metadata": {},
   "outputs": [],
   "source": [
    "# stitch images together to enable easy visualization of outputs\n",
    "stitched_dir = os.path.join(folder_path, 'stitched_images')\n",
    "os.makedirs(stitched_dir)\n",
    "\n",
    "rosetta.create_tiled_comparison(input_dir_list=rosetta_dirs, output_dir=stitched_dir, channels=output_channel_names)\n",
    "\n",
    "# add the source channel as first row to make evaluation easier\n",
    "output_dir = os.path.join(folder_path, 'stitched_with_' + current_channel_name)\n",
    "os.makedirs(output_dir)\n",
    "rosetta.add_source_channel_to_tiled_image(raw_img_dir=img_out_dir, tiled_img_dir=stitched_dir,\n",
    "                                             output_dir=output_dir, source_channel=current_channel_name)"
   ]
  },
  {
   "cell_type": "markdown",
   "id": "7b2274b4",
   "metadata": {},
   "source": [
    "### There will now be a folder named *stitched_with_channel_name* present within the sub-folder you created. You can look through these stitched images to determine whether the multiplier needs to be higher, lower, or the same.\n",
    "\n",
    "### For each channel, pick the multiplier that worked the best. Then, open the commercial_rosetta_matrix.csv file that you copied over and update the corresponding coefficient in that cell to be the `previous_value * coefficient`. If you're happy with the new coefficients, you can take your modified matrix and move on to the next step. If not, you can rerun the two cells above starting with the updated coefficients to further narrow in on the best value. Once you've finalized your coefficients, please let us know [here](https://github.com/angelolab/toffy/issues/55)."
   ]
  },
  {
   "cell_type": "code",
   "execution_count": 2,
   "id": "7fafe3ed-f938-4169-a5fc-bc9ced9b79fa",
   "metadata": {},
   "outputs": [],
   "source": [
    "# rename your rosetta matrix and put the path to final file here\n",
    "final_rosetta_path = 'I:\\\\20220518_TONIC_rosetta_matrix.csv'\n",
    "panel = pd.read_csv('I:\\\\20220518_TONIC_panel_file.csv')"
   ]
  },
  {
   "cell_type": "markdown",
   "id": "bd4f51e0-8bcc-4b5b-b2d3-6bc00140e0ca",
   "metadata": {},
   "source": [
    "### Next, you'll need to extract all of your images"
   ]
  },
  {
   "cell_type": "code",
   "execution_count": 3,
   "id": "cc7b8a9a-3fa5-47ca-b845-e0e08b5ad190",
   "metadata": {},
   "outputs": [],
   "source": [
    "# specify the path to folder containing your runs, as well as the folder where the extracted images will get saved\n",
    "bin_file_dir = 'I:\\\\run_files'\n",
    "extracted_image_dir = 'I:\\\\extracted'"
   ]
  },
  {
   "cell_type": "code",
   "execution_count": 4,
   "id": "791ed5c9-e98a-4966-afc4-d61625e2bd07",
   "metadata": {},
   "outputs": [],
   "source": [
    "# If you only want to extract a subset of your runs, specify their names here; otherwise, leave as None\n",
    "runs = None\n",
    "if runs is None:\n",
    "    runs = list_folders(bin_file_dir)"
   ]
  },
  {
   "cell_type": "code",
   "execution_count": 5,
   "id": "ce583c8d-2fff-4a87-9d41-3c02246eb56d",
   "metadata": {},
   "outputs": [],
   "source": [
    "# specify path to save rosetta images\n",
    "rosetta_image_dir = 'I:\\\\rosetta'"
   ]
  },
  {
   "cell_type": "code",
   "execution_count": null,
   "id": "13d28546-47db-4827-9283-1a7fc7eb8ec2",
   "metadata": {},
   "outputs": [],
   "source": [
    "# Perform rosetta on extracted images\n",
    "for run in runs:\n",
    "    print(\"processing run {}\".format(run))\n",
    "    raw_img_dir = os.path.join(extracted_image_dir, run)\n",
    "    out_dir = os.path.join(rosetta_image_dir, run)\n",
    "    if not os.path.exists(out_dir):\n",
    "        os.makedirs(out_dir)\n",
    "    rosetta.compensate_image_data(raw_data_dir=raw_img_dir, comp_data_dir=out_dir, \n",
    "                                 comp_mat_path=final_rosetta_path, panel_info=panel, batch_size=1)"
   ]
  }
 ],
 "metadata": {
  "kernelspec": {
   "display_name": "Python 3 (ipykernel)",
   "language": "python",
   "name": "python3"
  },
  "language_info": {
   "codemirror_mode": {
    "name": "ipython",
    "version": 3
   },
   "file_extension": ".py",
   "mimetype": "text/x-python",
   "name": "python",
   "nbconvert_exporter": "python",
   "pygments_lexer": "ipython3",
   "version": "3.10.14"
  }
 },
 "nbformat": 4,
 "nbformat_minor": 5
}
