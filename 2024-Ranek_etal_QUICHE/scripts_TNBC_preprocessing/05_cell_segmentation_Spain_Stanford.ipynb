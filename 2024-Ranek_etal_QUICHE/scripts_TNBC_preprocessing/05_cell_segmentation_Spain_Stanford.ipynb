{
 "cells": [
  {
   "cell_type": "markdown",
   "metadata": {},
   "source": [
    "## Perform cell segmentation using Mesmer on Spain and Stanford cohorts"
   ]
  },
  {
   "cell_type": "code",
   "execution_count": null,
   "metadata": {
    "execution": {
     "iopub.execute_input": "2023-10-20T15:52:15.327920Z",
     "iopub.status.busy": "2023-10-20T15:52:15.326920Z",
     "iopub.status.idle": "2023-10-20T15:52:18.115284Z",
     "shell.execute_reply": "2023-10-20T15:52:18.115284Z",
     "shell.execute_reply.started": "2023-10-20T15:52:15.327920Z"
    },
    "tags": [
     "import"
    ]
   },
   "outputs": [],
   "source": [
    "import os\n",
    "import warnings\n",
    "from alpineer import io_utils\n",
    "from skimage import io\n",
    "from ark.segmentation import marker_quantification, segmentation_utils\n",
    "from ark.utils import deepcell_service_utils, example_dataset, plot_utils"
   ]
  },
  {
   "cell_type": "code",
   "execution_count": null,
   "metadata": {
    "execution": {
     "iopub.execute_input": "2023-10-20T15:52:18.117289Z",
     "iopub.status.busy": "2023-10-20T15:52:18.117289Z",
     "iopub.status.idle": "2023-10-20T15:52:18.122103Z",
     "shell.execute_reply": "2023-10-20T15:52:18.122103Z",
     "shell.execute_reply.started": "2023-10-20T15:52:18.117289Z"
    },
    "tags": [
     "base_dir"
    ]
   },
   "outputs": [],
   "source": [
    "base_dir = \"Z:\\\\Noah Greenwald\\\\TNBC_Cohorts\\\\SPAIN\" #BELLINI #STANFORD #SPAIN"
   ]
  },
  {
   "cell_type": "code",
   "execution_count": null,
   "metadata": {
    "execution": {
     "iopub.execute_input": "2023-10-20T15:52:21.501133Z",
     "iopub.status.busy": "2023-10-20T15:52:21.500134Z",
     "iopub.status.idle": "2023-10-20T15:52:21.514132Z",
     "shell.execute_reply": "2023-10-20T15:52:21.512133Z",
     "shell.execute_reply.started": "2023-10-20T15:52:21.501133Z"
    },
    "tags": [
     "file_path"
    ]
   },
   "outputs": [],
   "source": [
    "sample_type = 'samples'\n",
    "tiff_dir = os.path.join(base_dir, \"image_data\", sample_type)\n",
    "cell_table_dir = os.path.join(base_dir, \"segmentation\", sample_type, \"cell_table\")\n",
    "deepcell_input_dir = os.path.join(base_dir, \"segmentation\", sample_type, \"deepcell_input\")\n",
    "deepcell_output_dir = os.path.join(base_dir, \"segmentation\", sample_type, \"deepcell_output\")\n",
    "deepcell_visualization_dir = os.path.join(base_dir, \"segmentation\", sample_type, \"deepcell_visualization\")"
   ]
  },
  {
   "cell_type": "code",
   "execution_count": null,
   "metadata": {
    "execution": {
     "iopub.execute_input": "2023-10-20T15:52:22.362164Z",
     "iopub.status.busy": "2023-10-20T15:52:22.361164Z",
     "iopub.status.idle": "2023-10-20T15:52:22.432670Z",
     "shell.execute_reply": "2023-10-20T15:52:22.431665Z",
     "shell.execute_reply.started": "2023-10-20T15:52:22.362164Z"
    },
    "tags": [
     "create_dirs"
    ]
   },
   "outputs": [],
   "source": [
    "for directory in [cell_table_dir, deepcell_input_dir, deepcell_output_dir, deepcell_visualization_dir]:\n",
    "    if not os.path.exists(directory):\n",
    "        os.makedirs(directory)"
   ]
  },
  {
   "cell_type": "code",
   "execution_count": null,
   "metadata": {
    "execution": {
     "iopub.execute_input": "2023-10-20T15:52:22.678680Z",
     "iopub.status.busy": "2023-10-20T15:52:22.677680Z",
     "iopub.status.idle": "2023-10-20T15:52:22.715986Z",
     "shell.execute_reply": "2023-10-20T15:52:22.715986Z",
     "shell.execute_reply.started": "2023-10-20T15:52:22.678680Z"
    },
    "tags": [
     "validate_path"
    ]
   },
   "outputs": [],
   "source": [
    "io_utils.validate_paths([base_dir,\n",
    "                         tiff_dir,\n",
    "                         deepcell_input_dir,\n",
    "                         deepcell_output_dir,\n",
    "                         cell_table_dir,\n",
    "                         deepcell_visualization_dir\n",
    "                         ])"
   ]
  },
  {
   "cell_type": "code",
   "execution_count": null,
   "metadata": {
    "execution": {
     "iopub.execute_input": "2023-10-20T15:52:24.429192Z",
     "iopub.status.busy": "2023-10-20T15:52:24.427195Z",
     "iopub.status.idle": "2023-10-20T15:52:30.178439Z",
     "shell.execute_reply": "2023-10-20T15:52:30.176424Z",
     "shell.execute_reply.started": "2023-10-20T15:52:24.429192Z"
    },
    "tags": [
     "load_fovs"
    ]
   },
   "outputs": [],
   "source": [
    "fovs = io_utils.list_folders(tiff_dir)"
   ]
  },
  {
   "cell_type": "code",
   "execution_count": null,
   "metadata": {
    "execution": {
     "iopub.execute_input": "2023-10-20T15:52:30.199435Z",
     "iopub.status.busy": "2023-10-20T15:52:30.199435Z",
     "iopub.status.idle": "2023-10-20T15:52:30.206517Z",
     "shell.execute_reply": "2023-10-20T15:52:30.205006Z",
     "shell.execute_reply.started": "2023-10-20T15:52:30.199435Z"
    },
    "tags": [
     "nuc_mem_set"
    ]
   },
   "outputs": [],
   "source": [
    "## nuclear markers\n",
    "nucs = ['H3K9ac', 'H3K27me3']\n",
    "\n",
    "## membrane markers\n",
    "mems = ['CD14', 'CD38', 'CD45', 'ECAD', 'CK17']"
   ]
  },
  {
   "cell_type": "code",
   "execution_count": null,
   "metadata": {
    "execution": {
     "iopub.execute_input": "2023-10-20T21:19:03.721823Z",
     "iopub.status.busy": "2023-10-20T21:19:03.719823Z",
     "iopub.status.idle": "2023-10-20T22:01:55.526707Z",
     "shell.execute_reply": "2023-10-20T22:01:55.526707Z",
     "shell.execute_reply.started": "2023-10-20T21:19:03.721823Z"
    },
    "tags": [
     "gen_input"
    ]
   },
   "outputs": [],
   "source": [
    "deepcell_service_utils.generate_deepcell_input(\n",
    "    deepcell_input_dir,\n",
    "    tiff_dir,\n",
    "    nucs,\n",
    "    mems,\n",
    "    fovs,\n",
    "    img_sub_folder=None\n",
    ")"
   ]
  },
  {
   "cell_type": "code",
   "execution_count": null,
   "metadata": {
    "execution": {
     "iopub.execute_input": "2023-10-20T22:06:28.966709Z",
     "iopub.status.busy": "2023-10-20T22:06:28.965710Z",
     "iopub.status.idle": "2023-10-20T23:28:32.343850Z",
     "shell.execute_reply": "2023-10-20T23:28:32.341839Z",
     "shell.execute_reply.started": "2023-10-20T22:06:28.966709Z"
    },
    "tags": [
     "create_output"
    ]
   },
   "outputs": [],
   "source": [
    "rescale_factor = 1.0\n",
    "deepcell_service_utils.create_deepcell_output(deepcell_input_dir, deepcell_output_dir, fovs=fovs, scale=rescale_factor)"
   ]
  },
  {
   "cell_type": "code",
   "execution_count": null,
   "metadata": {
    "execution": {
     "iopub.execute_input": "2023-10-20T23:29:21.543764Z",
     "iopub.status.busy": "2023-10-20T23:29:21.542767Z",
     "iopub.status.idle": "2023-10-20T23:29:23.392151Z",
     "shell.execute_reply": "2023-10-20T23:29:23.390136Z",
     "shell.execute_reply.started": "2023-10-20T23:29:21.543764Z"
    },
    "tags": [
     "overlay_mask"
    ]
   },
   "outputs": [],
   "source": [
    "# display the channel overlay for a fov, useful for quick verification\n",
    "warnings.simplefilter(\"ignore\")\n",
    "\n",
    "fov_to_display = io_utils.remove_file_extensions([fovs[0]])[0]\n",
    "\n",
    "fov_overlay = plot_utils.create_overlay(\n",
    "    fov=fov_to_display,\n",
    "    segmentation_dir=deepcell_output_dir,\n",
    "    data_dir=deepcell_input_dir,\n",
    "    img_overlay_chans=['nuclear_channel', 'membrane_channel'],\n",
    "    seg_overlay_comp='whole_cell'\n",
    ")\n",
    "\n",
    "_ = io.imshow(fov_overlay)"
   ]
  },
  {
   "cell_type": "code",
   "execution_count": null,
   "metadata": {
    "execution": {
     "iopub.execute_input": "2023-10-20T23:29:39.470809Z",
     "iopub.status.busy": "2023-10-20T23:29:39.469809Z",
     "iopub.status.idle": "2023-10-20T23:56:22.622742Z",
     "shell.execute_reply": "2023-10-20T23:56:22.621728Z",
     "shell.execute_reply.started": "2023-10-20T23:29:39.470809Z"
    },
    "tags": [
     "save_mask"
    ]
   },
   "outputs": [],
   "source": [
    "segmentation_utils.save_segmentation_labels(\n",
    "    segmentation_dir=deepcell_output_dir,\n",
    "    data_dir=deepcell_input_dir,\n",
    "    output_dir=deepcell_visualization_dir,\n",
    "    fovs=io_utils.remove_file_extensions(fovs),\n",
    "    channels=['nuclear_channel', 'membrane_channel']\n",
    ")"
   ]
  },
  {
   "cell_type": "code",
   "execution_count": null,
   "metadata": {
    "execution": {
     "iopub.execute_input": "2023-10-20T23:56:22.625741Z",
     "iopub.status.busy": "2023-10-20T23:56:22.624743Z",
     "iopub.status.idle": "2023-10-20T23:56:22.631997Z",
     "shell.execute_reply": "2023-10-20T23:56:22.630982Z",
     "shell.execute_reply.started": "2023-10-20T23:56:22.625741Z"
    },
    "tags": [
     "nuc_props_set"
    ]
   },
   "outputs": [],
   "source": [
    "nuclear_counts = True\n",
    "fast_extraction = False"
   ]
  },
  {
   "cell_type": "code",
   "execution_count": null,
   "metadata": {
    "execution": {
     "iopub.execute_input": "2023-10-20T23:56:22.633995Z",
     "iopub.status.busy": "2023-10-20T23:56:22.632997Z",
     "iopub.status.idle": "2023-10-21T19:29:04.969251Z",
     "shell.execute_reply": "2023-10-21T19:29:04.968240Z",
     "shell.execute_reply.started": "2023-10-20T23:56:22.633995Z"
    },
    "tags": [
     "create_exp_mat"
    ]
   },
   "outputs": [],
   "source": [
    "cell_table_size_normalized, cell_table_arcsinh_transformed = \\\n",
    "    marker_quantification.generate_cell_table(segmentation_dir=deepcell_output_dir,\n",
    "                                              tiff_dir=tiff_dir,\n",
    "                                              img_sub_folder=None,\n",
    "                                              fovs=fovs,\n",
    "                                              batch_size=5,\n",
    "                                              nuclear_counts=nuclear_counts,\n",
    "                                              fast_extraction=fast_extraction)"
   ]
  },
  {
   "cell_type": "code",
   "execution_count": null,
   "metadata": {
    "execution": {
     "iopub.execute_input": "2023-10-21T19:29:04.972251Z",
     "iopub.status.busy": "2023-10-21T19:29:04.971254Z",
     "iopub.status.idle": "2023-10-21T21:00:22.369648Z",
     "shell.execute_reply": "2023-10-21T21:00:22.368631Z",
     "shell.execute_reply.started": "2023-10-21T19:29:04.972251Z"
    },
    "tags": [
     "save_exp_mat"
    ]
   },
   "outputs": [],
   "source": [
    "compression = None\n",
    "cell_table_size_normalized.to_csv(os.path.join(cell_table_dir, f'cell_table_size_normalized_{sample_type}.csv'),\n",
    "                                  compression=compression, index=False)\n",
    "cell_table_arcsinh_transformed.to_csv(os.path.join(cell_table_dir, f'cell_table_arcsinh_transformed_{sample_type}.csv'),\n",
    "                                      compression=compression, index=False)"
   ]
  },
  {
   "cell_type": "markdown",
   "metadata": {},
   "source": [
    "## Separate out the cell tables"
   ]
  },
  {
   "cell_type": "code",
   "execution_count": null,
   "metadata": {
    "tags": []
   },
   "outputs": [],
   "source": [
    "ctsn_sample = cell_table_size_normalized.loc[cell_table_size_normalized[\"fov\"].str.contains(\"R\\d+C\\d+\"), :]\n",
    "ctsn_control = cell_table_size_normalized.loc[~cell_table_size_normalized[\"fov\"].str.contains(\"R\\d+C\\d+\"), :]"
   ]
  },
  {
   "cell_type": "code",
   "execution_count": null,
   "metadata": {
    "tags": []
   },
   "outputs": [],
   "source": [
    "ctsn_sample.to_csv(os.path.join(cell_table_dir, 'cell_table_size_normalized_sample.csv'),\n",
    "                   compression=compression, index=False)\n",
    "ctsn_control.to_csv(os.path.join(cell_table_dir, 'cell_table_size_normalized_control.csv'),\n",
    "                    compression=compression, index=False)"
   ]
  },
  {
   "cell_type": "code",
   "execution_count": null,
   "metadata": {
    "tags": []
   },
   "outputs": [],
   "source": [
    "ctat_sample = cell_table_arcsinh_transformed.loc[cell_table_arcsinh_transformed[\"fov\"].str.contains(\"R\\d+C\\d+\"), :]\n",
    "ctat_control = cell_table_arcsinh_transformed.loc[~cell_table_arcsinh_transformed[\"fov\"].str.contains(\"R\\d+C\\d+\"), :]"
   ]
  },
  {
   "cell_type": "code",
   "execution_count": null,
   "metadata": {
    "tags": []
   },
   "outputs": [],
   "source": [
    "ctat_sample.to_csv(os.path.join(cell_table_dir, 'cell_table_arcsinh_transformed_sample.csv'),\n",
    "                   compression=compression, index=False)\n",
    "ctat_control.to_csv(os.path.join(cell_table_dir, 'cell_table_arcsinh_transformed_control.csv'),\n",
    "                    compression=compression, index=False)"
   ]
  }
 ],
 "metadata": {
  "kernelspec": {
   "display_name": "Python 3 (ipykernel)",
   "language": "python",
   "name": "python3"
  },
  "language_info": {
   "codemirror_mode": {
    "name": "ipython",
    "version": 3
   },
   "file_extension": ".py",
   "mimetype": "text/x-python",
   "name": "python",
   "nbconvert_exporter": "python",
   "pygments_lexer": "ipython3",
   "version": "3.11.5"
  },
  "vscode": {
   "interpreter": {
    "hash": "9cd428f2623867f362c6ffd1805d28fe273bb79d15f4a3a73107e7f51d98be79"
   }
  }
 },
 "nbformat": 4,
 "nbformat_minor": 4
}
