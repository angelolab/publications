{
 "cells": [
  {
   "cell_type": "markdown",
   "metadata": {},
   "source": [
    "## Perform pixel clustering on Spain and Stanford cohorts"
   ]
  },
  {
   "cell_type": "code",
   "execution_count": null,
   "metadata": {
    "execution": {
     "iopub.execute_input": "2023-10-21T22:07:09.353137Z",
     "iopub.status.busy": "2023-10-21T22:07:09.353137Z",
     "iopub.status.idle": "2023-10-21T22:07:12.344023Z",
     "shell.execute_reply": "2023-10-21T22:07:12.344023Z",
     "shell.execute_reply.started": "2023-10-21T22:07:09.353137Z"
    },
    "tags": [
     "import"
    ]
   },
   "outputs": [],
   "source": [
    "import json\n",
    "import os\n",
    "from datetime import datetime as dt\n",
    "import numpy as np\n",
    "import matplotlib.pyplot as plt\n",
    "from alpineer import io_utils, load_utils\n",
    "from matplotlib import rc_file_defaults\n",
    "from alpineer.io_utils import list_folders\n",
    "from ark.phenotyping import (pixel_cluster_utils, pixel_meta_clustering,\n",
    "                             pixel_som_clustering, pixie_preprocessing)\n",
    "from ark.utils import data_utils, example_dataset, plot_utils\n",
    "from ark.utils.metacluster_remap_gui import (MetaClusterGui,\n",
    "                                             colormap_helper,\n",
    "                                             metaclusterdata_from_files)"
   ]
  },
  {
   "cell_type": "code",
   "execution_count": null,
   "metadata": {
    "execution": {
     "iopub.execute_input": "2023-10-21T22:07:12.346037Z",
     "iopub.status.busy": "2023-10-21T22:07:12.345038Z",
     "iopub.status.idle": "2023-10-21T22:07:12.352084Z",
     "shell.execute_reply": "2023-10-21T22:07:12.351070Z",
     "shell.execute_reply.started": "2023-10-21T22:07:12.346037Z"
    },
    "tags": []
   },
   "outputs": [],
   "source": [
    "from alpineer import image_utils\n",
    "def threshold_channels(fovs, tiff_dir, img_sub_folder, channels, threshold):\n",
    "    \"\"\"Thresholds selected channels as a preprocessing step\n",
    "\n",
    "    Args:\n",
    "        fovs (list):\n",
    "            List of fovs to process\n",
    "        tiff_dir (str):\n",
    "            Name of the directory containing the tiff files\n",
    "        img_sub_folder (str):\n",
    "            sub-folder within each FOV containing image data\n",
    "        channels (list):\n",
    "            list of channels to apply smoothing to\n",
    "        threshold (list or int):\n",
    "            amount to threshold. If a single int, applies\n",
    "            to all channels. Otherwise, a custom value per channel can be supplied\n",
    "\n",
    "    \"\"\"\n",
    "\n",
    "    # no output if no channels specified\n",
    "    if channels is None or len(channels) == 0:\n",
    "        return\n",
    "\n",
    "    # convert to path-compatible format\n",
    "    if img_sub_folder is None:\n",
    "        img_sub_folder = ''\n",
    "\n",
    "    for fov in fovs:\n",
    "        for idx, chan in enumerate(channels):\n",
    "            img = load_utils.load_imgs_from_tree(data_dir=tiff_dir, img_sub_folder=img_sub_folder,\n",
    "                                                 fovs=[fov], channels=[chan]).values[0, :, :, 0]\n",
    "            \n",
    "            chan_out = img.copy()\n",
    "            chan_out[chan_out < threshold] = 0\n",
    "            image_utils.save_image(\n",
    "                os.path.join(tiff_dir, fov, img_sub_folder, chan + '_thresholded.tiff'),\n",
    "                chan_out\n",
    "            )"
   ]
  },
  {
   "cell_type": "code",
   "execution_count": null,
   "metadata": {
    "execution": {
     "iopub.execute_input": "2023-10-21T22:07:12.352905Z",
     "iopub.status.busy": "2023-10-21T22:07:12.352905Z",
     "iopub.status.idle": "2023-10-21T22:07:12.367629Z",
     "shell.execute_reply": "2023-10-21T22:07:12.366618Z",
     "shell.execute_reply.started": "2023-10-21T22:07:12.352905Z"
    },
    "tags": [
     "base_dir"
    ]
   },
   "outputs": [],
   "source": [
    "base_dir = \"Z:\\\\Noah Greenwald\\\\TNBC_Cohorts\\\\SPAIN\""
   ]
  },
  {
   "cell_type": "code",
   "execution_count": null,
   "metadata": {
    "execution": {
     "iopub.execute_input": "2023-10-21T22:07:15.309705Z",
     "iopub.status.busy": "2023-10-21T22:07:15.308701Z",
     "iopub.status.idle": "2023-10-21T22:07:15.317744Z",
     "shell.execute_reply": "2023-10-21T22:07:15.317744Z",
     "shell.execute_reply.started": "2023-10-21T22:07:15.309705Z"
    },
    "tags": [
     "file_path"
    ]
   },
   "outputs": [],
   "source": [
    "tiff_dir = os.path.join(base_dir, \"image_data\", \"samples\")\n",
    "img_sub_folder = None\n",
    "segmentation_dir = os.path.join(\"segmentation\", \"samples\", \"deepcell_output\")\n",
    "seg_suffix = '_whole_cell.tiff'\n",
    "\n",
    "if segmentation_dir is not None:\n",
    "    pixie_seg_dir = os.path.join(base_dir, segmentation_dir)\n",
    "else:\n",
    "    pixie_seg_dir = None"
   ]
  },
  {
   "cell_type": "code",
   "execution_count": null,
   "metadata": {},
   "outputs": [],
   "source": [
    "all_fovs = io_utils.list_folders(tiff_dir)\n",
    "fovs = all_fovs"
   ]
  },
  {
   "cell_type": "code",
   "execution_count": null,
   "metadata": {
    "execution": {
     "iopub.execute_input": "2023-10-21T23:47:24.204328Z",
     "iopub.status.busy": "2023-10-21T23:47:24.203328Z",
     "iopub.status.idle": "2023-10-21T23:47:24.212329Z",
     "shell.execute_reply": "2023-10-21T23:47:24.211327Z",
     "shell.execute_reply.started": "2023-10-21T23:47:24.204328Z"
    },
    "tags": [
     "set_multi"
    ]
   },
   "outputs": [],
   "source": [
    "multiprocess = False\n",
    "batch_size = 5"
   ]
  },
  {
   "cell_type": "code",
   "execution_count": null,
   "metadata": {
    "execution": {
     "iopub.execute_input": "2023-10-21T23:47:25.529499Z",
     "iopub.status.busy": "2023-10-21T23:47:25.528498Z",
     "iopub.status.idle": "2023-10-21T23:47:25.537501Z",
     "shell.execute_reply": "2023-10-21T23:47:25.536498Z",
     "shell.execute_reply.started": "2023-10-21T23:47:25.529499Z"
    },
    "tags": [
     "pixel_prefix"
    ]
   },
   "outputs": [],
   "source": [
    "pixel_cluster_prefix = \"20231031_full_cohort\"\n",
    "\n",
    "if pixel_cluster_prefix is None:\n",
    "    pixel_cluster_prefix = dt.now().strftime('%Y-%m-%dT%H:%M:%S')"
   ]
  },
  {
   "cell_type": "code",
   "execution_count": null,
   "metadata": {
    "execution": {
     "iopub.execute_input": "2023-10-21T23:47:27.354503Z",
     "iopub.status.busy": "2023-10-21T23:47:27.353503Z",
     "iopub.status.idle": "2023-10-21T23:47:27.402025Z",
     "shell.execute_reply": "2023-10-21T23:47:27.402025Z",
     "shell.execute_reply.started": "2023-10-21T23:47:27.354503Z"
    },
    "tags": [
     "dir_set"
    ]
   },
   "outputs": [],
   "source": [
    "# define the output directory using the specified pixel cluster prefix\n",
    "pixel_output_dir = os.path.join(\"pixie\", \"%s_pixel_output_dir\" % pixel_cluster_prefix)\n",
    "if not os.path.exists(os.path.join(base_dir, pixel_output_dir)):\n",
    "    os.makedirs(os.path.join(base_dir, pixel_output_dir))\n",
    "\n",
    "# define the preprocessed pixel data folders\n",
    "pixel_data_dir = os.path.join(pixel_output_dir, 'pixel_mat_data')\n",
    "pixel_subset_dir = os.path.join(pixel_output_dir, 'pixel_mat_subset')\n",
    "norm_vals_name = os.path.join(pixel_output_dir, 'post_rowsum_chan_norm.feather') # pull Noah's post row normalized channel norm values instead of the default created one"
   ]
  },
  {
   "cell_type": "code",
   "execution_count": null,
   "metadata": {
    "execution": {
     "iopub.execute_input": "2023-10-21T23:47:28.097202Z",
     "iopub.status.busy": "2023-10-21T23:47:28.096201Z",
     "iopub.status.idle": "2023-10-21T23:48:53.148444Z",
     "shell.execute_reply": "2023-10-21T23:48:53.148444Z",
     "shell.execute_reply.started": "2023-10-21T23:47:28.097202Z"
    },
    "tags": [
     "smooth_channels"
    ]
   },
   "outputs": [],
   "source": [
    "# set an optional list of markers for additional blurring\n",
    "blurred_channels = [\"ECAD\", \"CK17\"]\n",
    "smooth_vals = 6\n",
    "\n",
    "pixel_cluster_utils.smooth_channels(\n",
    "    fovs=fovs,\n",
    "    tiff_dir=tiff_dir,\n",
    "    img_sub_folder=img_sub_folder,\n",
    "    channels=blurred_channels,\n",
    "    smooth_vals=smooth_vals,\n",
    ")"
   ]
  },
  {
   "cell_type": "code",
   "execution_count": null,
   "metadata": {
    "execution": {
     "iopub.execute_input": "2023-10-21T22:10:01.295023Z",
     "iopub.status.busy": "2023-10-21T22:10:01.294022Z",
     "iopub.status.idle": "2023-10-21T22:10:07.746932Z",
     "shell.execute_reply": "2023-10-21T22:10:07.746932Z",
     "shell.execute_reply.started": "2023-10-21T22:10:01.295023Z"
    },
    "tags": []
   },
   "outputs": [],
   "source": [
    "threshold_channels(fovs, tiff_dir, img_sub_folder, ['Calprotectin_old'], 0.015)"
   ]
  },
  {
   "cell_type": "code",
   "execution_count": null,
   "metadata": {
    "execution": {
     "iopub.execute_input": "2023-10-21T22:10:07.748951Z",
     "iopub.status.busy": "2023-10-21T22:10:07.748951Z",
     "iopub.status.idle": "2023-10-21T22:10:08.069948Z",
     "shell.execute_reply": "2023-10-21T22:10:08.069948Z",
     "shell.execute_reply.started": "2023-10-21T22:10:07.748951Z"
    },
    "tags": []
   },
   "outputs": [],
   "source": [
    "for fov in fovs:\n",
    "    if os.path.exists(os.path.join(tiff_dir, fov, 'Calprotectin.tiff')):\n",
    "        os.remove(os.path.join(tiff_dir, fov, 'Calprotectin.tiff'))\n",
    "    os.rename(os.path.join(tiff_dir, fov, 'Calprotectin_old_thresholded.tiff'), os.path.join(tiff_dir, fov, 'Calprotectin.tiff'))"
   ]
  },
  {
   "cell_type": "code",
   "execution_count": null,
   "metadata": {
    "execution": {
     "iopub.execute_input": "2023-10-21T22:11:57.962406Z",
     "iopub.status.busy": "2023-10-21T22:11:57.960405Z",
     "iopub.status.idle": "2023-10-21T22:12:10.624894Z",
     "shell.execute_reply": "2023-10-21T22:12:10.623880Z",
     "shell.execute_reply.started": "2023-10-21T22:11:57.962406Z"
    },
    "tags": [
     "filter_channels"
    ]
   },
   "outputs": [],
   "source": [
    "filter_channel = 'CD11c'\n",
    "nuclear_exclude = True\n",
    "\n",
    "pixel_cluster_utils.filter_with_nuclear_mask(\n",
    "    fovs=fovs,\n",
    "    tiff_dir=tiff_dir,\n",
    "    seg_dir=os.path.join(base_dir, segmentation_dir),\n",
    "    channel=filter_channel,\n",
    "    nuc_seg_suffix=\"_nuclear.tiff\",\n",
    "    img_sub_folder=img_sub_folder,\n",
    "    exclude=nuclear_exclude\n",
    ")"
   ]
  },
  {
   "cell_type": "code",
   "execution_count": null,
   "metadata": {
    "execution": {
     "iopub.execute_input": "2023-10-21T22:12:10.628895Z",
     "iopub.status.busy": "2023-10-21T22:12:10.627894Z",
     "iopub.status.idle": "2023-10-21T22:12:18.925861Z",
     "shell.execute_reply": "2023-10-21T22:12:18.924856Z",
     "shell.execute_reply.started": "2023-10-21T22:12:10.628895Z"
    },
    "tags": []
   },
   "outputs": [],
   "source": [
    "filter_channel = 'FOXP3'\n",
    "nuclear_exclude = False\n",
    "\n",
    "pixel_cluster_utils.filter_with_nuclear_mask(\n",
    "    fovs=fovs,\n",
    "    tiff_dir=tiff_dir,\n",
    "    seg_dir=os.path.join(base_dir, segmentation_dir),\n",
    "    channel=filter_channel,\n",
    "    nuc_seg_suffix=\"_nuclear.tiff\",\n",
    "    img_sub_folder=img_sub_folder,\n",
    "    exclude=nuclear_exclude\n",
    ")"
   ]
  },
  {
   "cell_type": "code",
   "execution_count": null,
   "metadata": {
    "execution": {
     "iopub.execute_input": "2023-10-21T23:48:53.154239Z",
     "iopub.status.busy": "2023-10-21T23:48:53.153246Z",
     "iopub.status.idle": "2023-10-21T23:48:53.168662Z",
     "shell.execute_reply": "2023-10-21T23:48:53.168662Z",
     "shell.execute_reply.started": "2023-10-21T23:48:53.154239Z"
    },
    "tags": [
     "channel_set"
    ]
   },
   "outputs": [],
   "source": [
    "channels =[\"CD45\", \"SMA\", \"Vim\", \"FAP\", \"Fibronectin\", \"Collagen1\", \"CK17_smoothed\", \"ECAD_smoothed\", \"ChyTr\",\n",
    "           \"Calprotectin\",  \"CD3\", \"CD4\", \"CD8\",  \"CD11c_nuc_exclude\", \"CD14\",\"CD20\", \"CD31\", \"CD56\",  \"CD68\",\n",
    "           \"CD163\", \"HLADR\", \"FOXP3_nuc_include\"]\n",
    "blur_factor = 2\n",
    "subset_proportion = 0.01"
   ]
  },
  {
   "cell_type": "code",
   "execution_count": null,
   "metadata": {
    "execution": {
     "iopub.execute_input": "2023-10-21T23:48:53.170668Z",
     "iopub.status.busy": "2023-10-21T23:48:53.170668Z",
     "iopub.status.idle": "2023-10-21T23:48:53.175484Z",
     "shell.execute_reply": "2023-10-21T23:48:53.175484Z",
     "shell.execute_reply.started": "2023-10-21T23:48:53.170668Z"
    },
    "tags": []
   },
   "outputs": [],
   "source": [
    "TONIC_directory = r'Z:\\Noah Greenwald\\TONIC_Cohort\\pixel_clustering\\20220707_full_cohort_pixel_output_dir'"
   ]
  },
  {
   "cell_type": "code",
   "execution_count": null,
   "metadata": {
    "execution": {
     "iopub.execute_input": "2023-10-21T23:48:53.176492Z",
     "iopub.status.busy": "2023-10-21T23:48:53.176492Z",
     "iopub.status.idle": "2023-10-22T00:01:43.039451Z",
     "shell.execute_reply": "2023-10-22T00:01:43.038437Z",
     "shell.execute_reply.started": "2023-10-21T23:48:53.176492Z"
    },
    "tags": [
     "gen_pixel_mat"
    ]
   },
   "outputs": [],
   "source": [
    "# run pixel data preprocessing\n",
    "pixie_preprocessing.create_pixel_matrix(\n",
    "    fovs,\n",
    "    channels,\n",
    "    base_dir,\n",
    "    tiff_dir,\n",
    "    pixie_seg_dir,\n",
    "    img_sub_folder=img_sub_folder,\n",
    "    seg_suffix=seg_suffix,\n",
    "    pixel_output_dir=pixel_output_dir,\n",
    "    data_dir=pixel_data_dir,\n",
    "    subset_dir=pixel_subset_dir,\n",
    "    norm_vals_name_pre_rownorm=os.path.join(TONIC_directory, \"20220707_full_cohort_channel_norm_flattened.feather\"),  # pre-row normalized channel normalization values from TONIC\n",
    "    pixel_thresh_name=os.path.join(TONIC_directory, \"20220707_full_cohort_pixel_norm_renamed.feather\"), # pixel thresholded values from TONIC\n",
    "    norm_vals_name_post_rownorm=norm_vals_name, # post-row normalized channel normalization values (ignore the one that gets outputted, use Noah's TONIC version post_rowsum_chan_norm.feather)\n",
    "    blur_factor=blur_factor,\n",
    "    subset_proportion=subset_proportion,\n",
    "    multiprocess=multiprocess,\n",
    "    batch_size=batch_size\n",
    ")"
   ]
  },
  {
   "cell_type": "code",
   "execution_count": null,
   "metadata": {
    "execution": {
     "iopub.execute_input": "2023-10-22T00:01:43.041451Z",
     "iopub.status.busy": "2023-10-22T00:01:43.040447Z",
     "iopub.status.idle": "2023-10-22T00:01:43.047164Z",
     "shell.execute_reply": "2023-10-22T00:01:43.046149Z",
     "shell.execute_reply.started": "2023-10-22T00:01:43.041451Z"
    },
    "tags": [
     "pixel_som_path_set"
    ]
   },
   "outputs": [],
   "source": [
    "pc_chan_avg_som_cluster_name = os.path.join(pixel_output_dir, 'pixel_channel_avg_som_cluster.csv')\n",
    "pc_chan_avg_meta_cluster_name = os.path.join(pixel_output_dir, 'pixel_channel_avg_meta_cluster.csv')\n",
    "pixel_meta_cluster_remap_name = os.path.join(pixel_output_dir, 'pixel_meta_cluster_mapping.csv')"
   ]
  },
  {
   "cell_type": "code",
   "execution_count": null,
   "metadata": {
    "execution": {
     "iopub.execute_input": "2023-10-22T00:01:43.049177Z",
     "iopub.status.busy": "2023-10-22T00:01:43.048188Z",
     "iopub.status.idle": "2023-10-22T00:01:43.065864Z",
     "shell.execute_reply": "2023-10-22T00:01:43.065864Z",
     "shell.execute_reply.started": "2023-10-22T00:01:43.049177Z"
    },
    "tags": []
   },
   "outputs": [],
   "source": [
    "pixel_som_weights_name = os.path.join(TONIC_directory, \"20220707_full_cohort_pixel_weights.feather\")"
   ]
  },
  {
   "cell_type": "code",
   "execution_count": null,
   "metadata": {
    "execution": {
     "iopub.execute_input": "2023-10-22T00:01:43.067874Z",
     "iopub.status.busy": "2023-10-22T00:01:43.067874Z",
     "iopub.status.idle": "2023-10-22T00:01:45.311694Z",
     "shell.execute_reply": "2023-10-22T00:01:45.309689Z",
     "shell.execute_reply.started": "2023-10-22T00:01:43.067874Z"
    },
    "tags": []
   },
   "outputs": [],
   "source": [
    "from ark.phenotyping.cluster_helpers import PixelSOMCluster\n",
    "pixel_pysom = PixelSOMCluster(\n",
    "    os.path.join(base_dir, pixel_subset_dir),\n",
    "    os.path.join(TONIC_directory, 'post_rowsum_chan_norm.feather'),\n",
    "    pixel_som_weights_name,\n",
    "    fovs,\n",
    "    channels,\n",
    "    num_passes=1,\n",
    "    xdim=17,\n",
    "    ydim=17,\n",
    "    lr_start=0.05,\n",
    "    lr_end=0.01,\n",
    "    seed=42\n",
    ")"
   ]
  },
  {
   "cell_type": "code",
   "execution_count": null,
   "metadata": {
    "execution": {
     "iopub.execute_input": "2023-10-22T00:01:45.314694Z",
     "iopub.status.busy": "2023-10-22T00:01:45.313694Z",
     "iopub.status.idle": "2023-10-22T00:14:02.358773Z",
     "shell.execute_reply": "2023-10-22T00:14:02.358773Z",
     "shell.execute_reply.started": "2023-10-22T00:01:45.314694Z"
    },
    "tags": [
     "cluster_pixel_mat"
    ]
   },
   "outputs": [],
   "source": [
    "pixel_som_clustering.cluster_pixels(\n",
    "    fovs,\n",
    "    channels,\n",
    "    base_dir,\n",
    "    pixel_pysom,\n",
    "    data_dir=pixel_data_dir,\n",
    "    multiprocess=multiprocess,\n",
    "    batch_size=batch_size\n",
    ")"
   ]
  },
  {
   "cell_type": "code",
   "execution_count": null,
   "metadata": {
    "execution": {
     "iopub.execute_input": "2023-10-22T00:14:02.362792Z",
     "iopub.status.busy": "2023-10-22T00:14:02.361790Z",
     "iopub.status.idle": "2023-10-22T00:16:30.514498Z",
     "shell.execute_reply": "2023-10-22T00:16:30.512493Z",
     "shell.execute_reply.started": "2023-10-22T00:14:02.362792Z"
    },
    "tags": []
   },
   "outputs": [],
   "source": [
    "pixel_som_clustering.generate_som_avg_files(\n",
    "    fovs,\n",
    "    channels,\n",
    "    base_dir,\n",
    "    pixel_pysom,\n",
    "    data_dir=pixel_data_dir,\n",
    "    pc_chan_avg_som_cluster_name=pc_chan_avg_som_cluster_name\n",
    " )"
   ]
  },
  {
   "cell_type": "code",
   "execution_count": null,
   "metadata": {
    "execution": {
     "iopub.execute_input": "2023-10-22T00:16:30.517498Z",
     "iopub.status.busy": "2023-10-22T00:16:30.516499Z",
     "iopub.status.idle": "2023-10-22T00:16:30.539448Z",
     "shell.execute_reply": "2023-10-22T00:16:30.538441Z",
     "shell.execute_reply.started": "2023-10-22T00:16:30.516499Z"
    },
    "tags": []
   },
   "outputs": [],
   "source": [
    "import pandas as pd\n",
    "remap_data_file = os.path.join(r'Z:\\Noah Greenwald\\TNBC_Cohorts\\BELLINI\\pixie\\20231009_test_cohort_pixel_output_dir', \"20220707_full_cohort_pixel_meta_cluster_mapping.csv\")\n",
    "remap_data = pd.read_csv(remap_data_file)"
   ]
  },
  {
   "cell_type": "code",
   "execution_count": null,
   "metadata": {
    "execution": {
     "iopub.execute_input": "2023-10-22T00:16:30.571275Z",
     "iopub.status.busy": "2023-10-22T00:16:30.570275Z",
     "iopub.status.idle": "2023-10-22T00:16:30.575584Z",
     "shell.execute_reply": "2023-10-22T00:16:30.575584Z",
     "shell.execute_reply.started": "2023-10-22T00:16:30.571275Z"
    },
    "tags": []
   },
   "outputs": [],
   "source": [
    "import feather\n",
    "from shutil import rmtree\n",
    "def assign_meta_clusters(pixel_data_dir, pixel_data_dir_temp, meta_remapping):\n",
    "    if os.path.exists(pixel_data_dir_temp):\n",
    "        rmtree(pixel_data_dir_temp)\n",
    "    os.mkdir(pixel_data_dir_temp)\n",
    "    fov_files = os.listdir(pixel_data_dir)\n",
    "    som_to_meta = dict(meta_remapping[[\"pixel_som_cluster\", \"pixel_meta_cluster\"]].values)\n",
    "    meta_to_rename = dict(meta_remapping[[\"pixel_meta_cluster\", \"pixel_meta_cluster_rename\"]].values)\n",
    "    for fov in fov_files:\n",
    "        arr = feather.read_dataframe(os.path.join(pixel_data_dir, fov))\n",
    "        arr[\"pixel_meta_cluster\"] = arr[\"pixel_som_cluster\"].map(som_to_meta)\n",
    "        arr[\"pixel_meta_cluster_rename\"] = arr[\"pixel_meta_cluster\"].map(meta_to_rename)\n",
    "        feather.write_dataframe(arr, os.path.join(pixel_data_dir_temp, fov))"
   ]
  },
  {
   "cell_type": "code",
   "execution_count": null,
   "metadata": {
    "execution": {
     "iopub.execute_input": "2023-10-22T00:16:30.577593Z",
     "iopub.status.busy": "2023-10-22T00:16:30.576593Z",
     "iopub.status.idle": "2023-10-22T00:16:30.609279Z",
     "shell.execute_reply": "2023-10-22T00:16:30.608271Z",
     "shell.execute_reply.started": "2023-10-22T00:16:30.577593Z"
    },
    "tags": []
   },
   "outputs": [],
   "source": [
    "som_avg_data = pd.read_csv(os.path.join(base_dir, pc_chan_avg_som_cluster_name))\n",
    "#som_to_meta = dict(remap_data[[\"cluster\", \"metacluster\"]].values)\n",
    "#meta_to_rename = dict(remap_data[[\"metacluster\", \"mc_name\"]].values)\n",
    "#som_avg_data[\"pixel_meta_cluster\"] = som_avg_data[\"pixel_som_cluster\"].map(som_to_meta)\n",
    "#som_avg_data[\"pixel_meta_cluster_rename\"] = som_avg_data[\"pixel_meta_cluster\"].map(meta_to_rename)\n",
    "\n",
    "som_to_meta = dict(remap_data[[\"pixel_som_cluster\", \"pixel_meta_cluster\"]].values)\n",
    "meta_to_rename = dict(remap_data[[\"pixel_meta_cluster\", \"pixel_meta_cluster_rename\"]].values)\n",
    "som_avg_data[\"pixel_meta_cluster\"] = som_avg_data[\"pixel_som_cluster\"].map(som_to_meta)\n",
    "som_avg_data[\"pixel_meta_cluster_rename\"] = som_avg_data[\"pixel_meta_cluster\"].map(meta_to_rename).astype('str')"
   ]
  },
  {
   "cell_type": "code",
   "execution_count": null,
   "metadata": {
    "execution": {
     "iopub.execute_input": "2023-10-22T00:16:30.615769Z",
     "iopub.status.busy": "2023-10-22T00:16:30.614770Z",
     "iopub.status.idle": "2023-10-22T00:16:30.677668Z",
     "shell.execute_reply": "2023-10-22T00:16:30.677668Z",
     "shell.execute_reply.started": "2023-10-22T00:16:30.615769Z"
    },
    "tags": []
   },
   "outputs": [],
   "source": [
    "som_avg_data.to_csv(os.path.join(base_dir, pc_chan_avg_som_cluster_name), index=False)"
   ]
  },
  {
   "cell_type": "code",
   "execution_count": null,
   "metadata": {
    "execution": {
     "iopub.execute_input": "2023-10-22T00:16:30.679674Z",
     "iopub.status.busy": "2023-10-22T00:16:30.678675Z",
     "iopub.status.idle": "2023-10-22T00:23:14.540876Z",
     "shell.execute_reply": "2023-10-22T00:23:14.538855Z",
     "shell.execute_reply.started": "2023-10-22T00:16:30.679674Z"
    },
    "tags": []
   },
   "outputs": [],
   "source": [
    "assign_meta_clusters(os.path.join(base_dir, pixel_data_dir), os.path.join(base_dir, pixel_data_dir + \"_temp\"),  remap_data)"
   ]
  },
  {
   "cell_type": "code",
   "execution_count": null,
   "metadata": {
    "execution": {
     "iopub.execute_input": "2023-10-23T21:08:52.347615Z",
     "iopub.status.busy": "2023-10-23T21:08:52.345616Z",
     "iopub.status.idle": "2023-10-23T21:08:52.372654Z",
     "shell.execute_reply": "2023-10-23T21:08:52.371638Z",
     "shell.execute_reply.started": "2023-10-23T21:08:52.347615Z"
    },
    "tags": []
   },
   "outputs": [],
   "source": [
    "def generate_meta_avg_files(fovs, channels, base_dir, num_clusters, mapping, data_dir='pixel_mat_data',\n",
    "                            pc_chan_avg_som_cluster_name='pixel_channel_avg_som_cluster.csv',\n",
    "                            pc_chan_avg_meta_cluster_name='pixel_channel_avg_meta_cluster.csv',\n",
    "                            num_fovs_subset=100, seed=42, overwrite=False):\n",
    "    \"\"\"Computes and saves the average channel expression across pixel meta clusters.\n",
    "    Assigns meta cluster labels to the data stored in `pc_chan_avg_som_cluster_name`.\n",
    "\n",
    "    Args:\n",
    "        fovs (list):\n",
    "            The list of fovs to subset on\n",
    "        channels (list):\n",
    "            The list of channels to subset on\n",
    "        base_dir (str):\n",
    "            The path to the data directory\n",
    "        num_clusters (int):\n",
    "            The number of clusters to use\n",
    "        mapping (pandas.DataFrame):\n",
    "            The mapping from SOM to meta clusters\n",
    "        data_dir (str):\n",
    "            Name of the directory which contains the full preprocessed pixel data.\n",
    "            This data should also have the SOM cluster labels appended from `cluster_pixels`.\n",
    "        pc_chan_avg_som_cluster_name (str):\n",
    "            Name of file to save the channel-averaged results across all SOM clusters to\n",
    "        pc_chan_avg_meta_cluster_name (str):\n",
    "            Name of file to save the channel-averaged results across all meta clusters to\n",
    "        num_fovs_subset (float):\n",
    "            The number of FOVs to subset on for meta cluster channel averaging\n",
    "        seed (int):\n",
    "            The random seed to use for subsetting FOVs\n",
    "        overwrite (bool):\n",
    "            If set, force overwrites the existing average channel expression file if it exists\n",
    "    \"\"\"\n",
    "\n",
    "    # define the paths to the data\n",
    "    som_cluster_avg_path = os.path.join(base_dir, pc_chan_avg_som_cluster_name)\n",
    "    meta_cluster_avg_path = os.path.join(base_dir, pc_chan_avg_meta_cluster_name)\n",
    "\n",
    "    # path validation\n",
    "    io_utils.validate_paths([som_cluster_avg_path])\n",
    "\n",
    "    # if the channel meta average file already exists and the overwrite flag isn't set, skip\n",
    "    if os.path.exists(meta_cluster_avg_path):\n",
    "        if not overwrite:\n",
    "            print(\"Already generated meta cluster channel average file, skipping\")\n",
    "            return\n",
    "\n",
    "        print(\"Overwrite flag set, regenerating meta cluster channel average file\")\n",
    "\n",
    "    # compute average channel expression for each pixel meta cluster\n",
    "    # and the number of pixels per meta cluster\n",
    "    print(\"Computing average channel expression across pixel meta clusters\")\n",
    "    pixel_channel_avg_meta_cluster = pixel_cluster_utils.compute_pixel_cluster_channel_avg(\n",
    "        fovs,\n",
    "        channels,\n",
    "        base_dir,\n",
    "        'pixel_meta_cluster',\n",
    "        num_clusters,\n",
    "        data_dir,\n",
    "        num_fovs_subset=num_fovs_subset,\n",
    "        seed=seed,\n",
    "        keep_count=True\n",
    "    )\n",
    "\n",
    "    # save pixel_channel_avg_meta_cluster\n",
    "    pixel_channel_avg_meta_cluster.to_csv(\n",
    "        meta_cluster_avg_path,\n",
    "        index=False\n",
    "    )\n",
    "\n",
    "    # merge metacluster assignments in\n",
    "    print(\"Mapping meta cluster values onto average channel expression across pixel SOM clusters\")\n",
    "    pixel_channel_avg_som_cluster = pd.read_csv(som_cluster_avg_path)\n",
    "\n",
    "    # this happens if the overwrite flag is set with previously generated data, need to overwrite\n",
    "    if 'pixel_meta_cluster' in pixel_channel_avg_som_cluster.columns.values:\n",
    "        pixel_channel_avg_som_cluster = pixel_channel_avg_som_cluster.drop(\n",
    "            columns='pixel_meta_cluster'\n",
    "        )\n",
    "\n",
    "    pixel_channel_avg_som_cluster[\"pixel_som_cluster\"] =\\\n",
    "        pixel_channel_avg_som_cluster[\"pixel_som_cluster\"].astype(int)\n",
    "    pixel_channel_avg_som_cluster = pd.merge_asof(\n",
    "        pixel_channel_avg_som_cluster, mapping, on=\"pixel_som_cluster\"\n",
    "    )\n",
    "\n",
    "    # resave channel-averaged results across all pixel SOM clusters with metacluster assignments\n",
    "    pixel_channel_avg_som_cluster.to_csv(\n",
    "        som_cluster_avg_path,\n",
    "        index=False\n",
    "    )"
   ]
  },
  {
   "cell_type": "code",
   "execution_count": null,
   "metadata": {
    "execution": {
     "iopub.execute_input": "2023-10-23T21:08:53.300671Z",
     "iopub.status.busy": "2023-10-23T21:08:53.300671Z",
     "iopub.status.idle": "2023-10-23T21:08:53.334254Z",
     "shell.execute_reply": "2023-10-23T21:08:53.333243Z",
     "shell.execute_reply.started": "2023-10-23T21:08:53.300671Z"
    },
    "tags": []
   },
   "outputs": [],
   "source": [
    "remap_data['pixel_som_cluster'] = remap_data['pixel_som_cluster'].astype(np.int32)\n",
    "remap_data['pixel_meta_cluster'] = remap_data['pixel_meta_cluster'].astype(np.int32)"
   ]
  },
  {
   "cell_type": "code",
   "execution_count": null,
   "metadata": {
    "execution": {
     "iopub.execute_input": "2023-10-23T21:09:00.117159Z",
     "iopub.status.busy": "2023-10-23T21:09:00.116163Z",
     "iopub.status.idle": "2023-10-23T21:11:24.716830Z",
     "shell.execute_reply": "2023-10-23T21:11:24.715817Z",
     "shell.execute_reply.started": "2023-10-23T21:09:00.117159Z"
    },
    "tags": []
   },
   "outputs": [],
   "source": [
    "generate_meta_avg_files(\n",
    "    fovs,\n",
    "    channels,\n",
    "    base_dir,\n",
    "    len(remap_data[\"pixel_meta_cluster\"].unique()),\n",
    "    remap_data,\n",
    "    data_dir=pixel_data_dir+'_temp',\n",
    "    pc_chan_avg_som_cluster_name=pc_chan_avg_som_cluster_name,\n",
    "    pc_chan_avg_meta_cluster_name=pc_chan_avg_meta_cluster_name,\n",
    "    overwrite=True\n",
    ")"
   ]
  },
  {
   "cell_type": "code",
   "execution_count": null,
   "metadata": {
    "execution": {
     "iopub.execute_input": "2023-10-23T21:20:19.343390Z",
     "iopub.status.busy": "2023-10-23T21:20:19.342388Z",
     "iopub.status.idle": "2023-10-23T21:20:19.391665Z",
     "shell.execute_reply": "2023-10-23T21:20:19.390656Z",
     "shell.execute_reply.started": "2023-10-23T21:20:19.343390Z"
    },
    "tags": []
   },
   "outputs": [],
   "source": [
    "meta_avg_data = pd.read_csv(os.path.join(base_dir, pc_chan_avg_meta_cluster_name))\n",
    "meta_to_rename = dict(remap_data[[\"pixel_meta_cluster\", \"pixel_meta_cluster_rename\"]].values)\n",
    "meta_avg_data[\"pixel_meta_cluster_rename\"] = meta_avg_data[\"pixel_meta_cluster\"].map(meta_to_rename)\n",
    "meta_avg_data.to_csv(os.path.join(base_dir, pc_chan_avg_meta_cluster_name), index=False)"
   ]
  },
  {
   "cell_type": "code",
   "execution_count": null,
   "metadata": {
    "execution": {
     "iopub.execute_input": "2023-10-22T00:25:56.245389Z",
     "iopub.status.busy": "2023-10-22T00:25:56.243391Z",
     "iopub.status.idle": "2023-10-22T00:25:56.254418Z",
     "shell.execute_reply": "2023-10-22T00:25:56.252425Z",
     "shell.execute_reply.started": "2023-10-22T00:25:56.244391Z"
    },
    "tags": []
   },
   "outputs": [],
   "source": [
    "pixel_meta_cluster_remap_name = os.path.join(pixel_output_dir, \"20220707_full_cohort_pixel_meta_cluster_mapping.csv\")"
   ]
  },
  {
   "cell_type": "code",
   "execution_count": null,
   "metadata": {
    "execution": {
     "iopub.execute_input": "2023-10-22T00:25:57.168472Z",
     "iopub.status.busy": "2023-10-22T00:25:57.167467Z",
     "iopub.status.idle": "2023-10-22T00:25:57.190403Z",
     "shell.execute_reply": "2023-10-22T00:25:57.190403Z",
     "shell.execute_reply.started": "2023-10-22T00:25:57.168472Z"
    },
    "tags": []
   },
   "outputs": [],
   "source": [
    "import pandas as pd\n",
    "remap_data_file = os.path.join(r'Z:\\Noah Greenwald\\TNBC_Cohorts\\BELLINI\\pixie\\20231009_test_cohort_pixel_output_dir', \"20220707_full_cohort_pixel_meta_cluster_mapping.csv\")\n",
    "remap_data = pd.read_csv(remap_data_file)"
   ]
  },
  {
   "cell_type": "code",
   "execution_count": null,
   "metadata": {
    "execution": {
     "iopub.execute_input": "2023-10-22T00:26:14.670398Z",
     "iopub.status.busy": "2023-10-22T00:26:14.669396Z",
     "iopub.status.idle": "2023-10-22T00:26:14.677479Z",
     "shell.execute_reply": "2023-10-22T00:26:14.676429Z",
     "shell.execute_reply.started": "2023-10-22T00:26:14.670398Z"
    },
    "tags": [
     "pixel_overlay_fovs"
    ]
   },
   "outputs": [],
   "source": [
    "subset_pixel_fovs = fovs"
   ]
  },
  {
   "cell_type": "code",
   "execution_count": null,
   "metadata": {
    "execution": {
     "iopub.execute_input": "2023-10-22T00:26:19.232086Z",
     "iopub.status.busy": "2023-10-22T00:26:19.231083Z",
     "iopub.status.idle": "2023-10-22T00:28:32.337252Z",
     "shell.execute_reply": "2023-10-22T00:28:32.336233Z",
     "shell.execute_reply.started": "2023-10-22T00:26:19.232086Z"
    },
    "tags": [
     "pixel_mask_gen_save"
    ]
   },
   "outputs": [],
   "source": [
    "if img_sub_folder is None:\n",
    "    chan_file = os.path.join(\n",
    "        io_utils.list_files(os.path.join(tiff_dir, fovs[0]), substrs=['.tiff'])[0]\n",
    "    )\n",
    "else:\n",
    "    chan_file = os.path.join(\n",
    "        img_sub_folder, io_utils.list_files(os.path.join(tiff_dir, fovs[0], img_sub_folder), substrs=['.tiff'])[0]\n",
    "    )\n",
    "data_utils.generate_and_save_pixel_cluster_masks(\n",
    "    fovs=subset_pixel_fovs,\n",
    "    base_dir=base_dir,\n",
    "    save_dir=os.path.join(base_dir, pixel_output_dir),\n",
    "    tiff_dir=tiff_dir,\n",
    "    chan_file=chan_file,\n",
    "    pixel_data_dir=pixel_data_dir+'_temp',\n",
    "    pixel_cluster_col='pixel_meta_cluster',\n",
    "    sub_dir='pixel_masks',\n",
    "    name_suffix='_pixel_mask',\n",
    ")"
   ]
  },
  {
   "cell_type": "markdown",
   "metadata": {},
   "source": [
    "Save the colored pixel masks for each FOV in `subset_pixel_fovs`."
   ]
  },
  {
   "cell_type": "code",
   "execution_count": null,
   "metadata": {
    "execution": {
     "iopub.execute_input": "2023-10-22T00:28:32.339252Z",
     "iopub.status.busy": "2023-10-22T00:28:32.339252Z",
     "iopub.status.idle": "2023-10-22T00:28:43.917683Z",
     "shell.execute_reply": "2023-10-22T00:28:43.915667Z",
     "shell.execute_reply.started": "2023-10-22T00:28:32.339252Z"
    },
    "tags": [
     "save_pixel_masks"
    ]
   },
   "outputs": [],
   "source": [
    "plot_utils.save_colored_masks(\n",
    "    fovs=subset_pixel_fovs,\n",
    "    mask_dir=os.path.join(base_dir, pixel_output_dir, \"pixel_masks\"),\n",
    "    save_dir=os.path.join(base_dir, pixel_output_dir, \"pixel_mask_colored\"),\n",
    "    cluster_id_to_name_path=os.path.join(base_dir, pixel_meta_cluster_remap_name),\n",
    "    metacluster_colors=raw_cmap,\n",
    "    cluster_type=\"pixel\"\n",
    ")"
   ]
  },
  {
   "cell_type": "code",
   "execution_count": null,
   "metadata": {
    "execution": {
     "iopub.execute_input": "2023-10-22T00:28:43.920685Z",
     "iopub.status.busy": "2023-10-22T00:28:43.919683Z",
     "iopub.status.idle": "2023-10-22T00:29:21.312294Z",
     "shell.execute_reply": "2023-10-22T00:29:21.312294Z",
     "shell.execute_reply.started": "2023-10-22T00:28:43.920685Z"
    },
    "tags": [
     "pixel_overlay_gen"
    ]
   },
   "outputs": [],
   "source": [
    "for pixel_fov in subset_pixel_fovs:\n",
    "    pixel_cluster_mask = load_utils.load_imgs_from_dir(\n",
    "        data_dir=os.path.join(base_dir, pixel_output_dir, \"pixel_masks\"),\n",
    "        files=[pixel_fov + \"_pixel_mask.tiff\"],\n",
    "        trim_suffix=\"_pixel_mask\",\n",
    "        match_substring=\"_pixel_mask\",\n",
    "        xr_dim_name=\"pixel_mask\",\n",
    "        xr_channel_names=None,\n",
    "    )\n",
    "\n",
    "    plot_utils.plot_pixel_cell_cluster(\n",
    "        pixel_cluster_mask,\n",
    "        [pixel_fov],\n",
    "        os.path.join(base_dir, pixel_meta_cluster_remap_name),\n",
    "        metacluster_colors=raw_cmap\n",
    "    )"
   ]
  },
  {
   "cell_type": "code",
   "execution_count": null,
   "metadata": {
    "execution": {
     "iopub.execute_input": "2023-10-22T00:29:21.314314Z",
     "iopub.status.busy": "2023-10-22T00:29:21.314314Z",
     "iopub.status.idle": "2023-10-22T00:29:21.360841Z",
     "shell.execute_reply": "2023-10-22T00:29:21.359826Z",
     "shell.execute_reply.started": "2023-10-22T00:29:21.314314Z"
    },
    "tags": [
     "cell_param_save"
    ]
   },
   "outputs": [],
   "source": [
    "cell_clustering_params = {\n",
    "    'fovs': io_utils.remove_file_extensions(io_utils.list_files(os.path.join(base_dir, pixel_data_dir), substrs='.feather')),\n",
    "    'channels': channels,\n",
    "    'tiff_dir': tiff_dir,\n",
    "    'img_sub_folder': img_sub_folder,\n",
    "    'segmentation_dir': segmentation_dir,\n",
    "    'seg_suffix': seg_suffix,\n",
    "    'pixel_data_dir': pixel_data_dir,\n",
    "    'pc_chan_avg_som_cluster_name': pc_chan_avg_som_cluster_name,\n",
    "    'pc_chan_avg_meta_cluster_name': pc_chan_avg_meta_cluster_name\n",
    "}\n",
    "\n",
    "# save the params dict\n",
    "with open(os.path.join(base_dir, pixel_output_dir, 'cell_clustering_params.json'), 'w') as fh:\n",
    "    json.dump(cell_clustering_params, fh)"
   ]
  },
  {
   "cell_type": "code",
   "execution_count": null,
   "metadata": {
    "execution": {
     "iopub.execute_input": "2023-10-22T00:29:21.362839Z",
     "iopub.status.busy": "2023-10-22T00:29:21.361840Z",
     "iopub.status.idle": "2023-10-22T00:33:32.195101Z",
     "shell.execute_reply": "2023-10-22T00:33:32.193081Z",
     "shell.execute_reply.started": "2023-10-22T00:29:21.362839Z"
    },
    "tags": [
     "pixel_mantis_project"
    ]
   },
   "outputs": [],
   "source": [
    "plot_utils.create_mantis_dir(\n",
    "    fovs=subset_pixel_fovs,\n",
    "    mantis_project_path=os.path.join(base_dir, \"2023-10-31_pixel_mantis_calprotectin_thresholded_0_015\"), # viz\n",
    "    img_data_path=tiff_dir,\n",
    "    mask_output_dir=os.path.join(base_dir, pixel_output_dir, \"pixel_masks\"),\n",
    "    mapping = os.path.join(base_dir, pixel_meta_cluster_remap_name),\n",
    "    seg_dir=pixie_seg_dir,\n",
    "    mask_suffix=\"_pixel_mask\",\n",
    "    seg_suffix_name=seg_suffix,\n",
    "    img_sub_folder=img_sub_folder\n",
    ")"
   ]
  }
 ],
 "metadata": {
  "kernelspec": {
   "display_name": "Python 3 (ipykernel)",
   "language": "python",
   "name": "python3"
  },
  "language_info": {
   "codemirror_mode": {
    "name": "ipython",
    "version": 3
   },
   "file_extension": ".py",
   "mimetype": "text/x-python",
   "name": "python",
   "nbconvert_exporter": "python",
   "pygments_lexer": "ipython3",
   "version": "3.11.5"
  },
  "nbdime-conflicts": {
   "local_diff": [
    {
     "diff": [
      {
       "key": "version",
       "op": "remove"
      }
     ],
     "key": "language_info",
     "op": "patch"
    }
   ],
   "remote_diff": [
    {
     "diff": [
      {
       "diff": [
        {
         "diff": [
          {
           "key": 5,
           "op": "addrange",
           "valuelist": "5"
          },
          {
           "key": 5,
           "length": 1,
           "op": "removerange"
          }
         ],
         "key": 0,
         "op": "patch"
        }
       ],
       "key": "version",
       "op": "patch"
      }
     ],
     "key": "language_info",
     "op": "patch"
    }
   ]
  },
  "toc-autonumbering": false,
  "toc-showcode": true,
  "toc-showmarkdowntxt": true,
  "vscode": {
   "interpreter": {
    "hash": "b0ac63cc785e7c4cb24da0642dbfe09cfb2d314979108d7192228f9c45902a86"
   }
  }
 },
 "nbformat": 4,
 "nbformat_minor": 4
}
