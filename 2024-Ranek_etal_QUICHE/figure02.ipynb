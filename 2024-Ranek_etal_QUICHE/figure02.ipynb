{
 "cells": [
  {
   "cell_type": "code",
   "execution_count": null,
   "metadata": {},
   "outputs": [],
   "source": [
    "import os\n",
    "os.environ['KMP_DUPLICATE_LIB_OK']='True'\n",
    "import pandas as pd\n",
    "import numpy as np\n",
    "import quiche as qu\n",
    "import matplotlib.pyplot as plt\n",
    "import seaborn as sns\n",
    "import anndata\n",
    "import imageio as io\n",
    "from supplementary_plot_helpers import *\n",
    "import glob\n",
    "%reload_ext autoreload\n",
    "%load_ext autoreload\n",
    "%autoreload 2\n",
    "%matplotlib inline"
   ]
  },
  {
   "cell_type": "markdown",
   "metadata": {},
   "source": [
    "### Simulate unstructured data"
   ]
  },
  {
   "cell_type": "code",
   "execution_count": null,
   "metadata": {},
   "outputs": [],
   "source": [
    "# da_vec_A = ['A', 'C', 'E']\n",
    "# da_vec_B = ['B', 'D']\n",
    "# n_regions = 1\n",
    "# n_patients_condA = 10\n",
    "# n_patients_condB = 10\n",
    "# ratio = 1.0\n",
    "# grid_size = 5\n",
    "# sample_size_A = {'A': 1000, 'B': 1000, 'C': 1000, 'D':1000, 'E': 1000}\n",
    "# sample_size_B = {'A': 1000, 'B': 1000, 'C': 1000, 'D':1000, 'E': 2000}\n",
    "# n_niches_A = np.array(list(sample_size_A.values())).sum()\n",
    "# n_niches_B = np.array(list(sample_size_B.values())).sum()\n",
    "# random_state_list_A = [58, 322, 1426, 65, 651, 417, 2788, 576, 213, 1828]\n",
    "# random_state_list_B = [51, 1939, 2700, 1831, 804, 2633, 2777, 2053, 948, 420]\n",
    "# A_id_join = ''.join(da_vec_A)\n",
    "# B_id_join = ''.join(da_vec_B)\n",
    "# ratio_id = str(ratio).replace('.', '_')\n",
    "# fig_id = A_id_join+'_'+B_id_join+f'_grid{grid_size}_ratio{ratio_id}'\n",
    "# save_directory = 'data/simulated/test'\n",
    "# adata_simulated = qu.tl.simulate_unstructured(n_patients_condA = n_patients_condA, n_patients_condB = n_patients_condB, num_grids_x = grid_size, num_grids_y = grid_size, ratio = ratio, n_niches_A = n_niches_A, n_niches_B = n_niches_B,\n",
    "#                                                           n_regionsA = n_regions, n_regionsB = n_regions, da_vec_A = da_vec_A, da_vec_B = da_vec_B,\n",
    "#                                                             random_state_list_A = random_state_list_A, scale = 2048,\n",
    "#                                                             random_state_list_B = random_state_list_B, sample_size_A = sample_size_A, sample_size_B = sample_size_B,fig_id = 'fig_id', save_directory=save_directory)\n",
    "# adata_simulated.write_h5ad(os.path.join('data', 'simulated', 'adata_simulated_unstructured.h5ad'))"
   ]
  },
  {
   "cell_type": "markdown",
   "metadata": {},
   "source": [
    "### Figure 2b"
   ]
  },
  {
   "cell_type": "code",
   "execution_count": null,
   "metadata": {},
   "outputs": [],
   "source": [
    "## load in simulated data to save on runtime\n",
    "save_directory = os.path.join('publications', 'figures', 'figure2', 'unstructured')\n",
    "qu.pp.make_directory(save_directory)\n",
    "adata_simulated = anndata.read_h5ad(os.path.join('data', 'simulated', 'adata_simulated_unstructured.h5ad'))"
   ]
  },
  {
   "cell_type": "markdown",
   "metadata": {},
   "source": [
    "### QUICHE"
   ]
  },
  {
   "cell_type": "code",
   "execution_count": null,
   "metadata": {},
   "outputs": [],
   "source": [
    "## perform niche detection and condition-specific testing with QUICHE\n",
    "spatial_method = qu.tl.run_quiche\n",
    "spatial_method_params = {'radius': 200,\n",
    "                         'labels_key':'cell_cluster',\n",
    "                         'spatial_key':'spatial',\n",
    "                         'fov_key':'Patient_ID',\n",
    "                         'patient_key':'Patient_ID',\n",
    "                         'khop':3,\n",
    "                         'n_neighbors': 10,\n",
    "                         'delaunay': False,\n",
    "                         'min_cells':5,\n",
    "                         'k_sim':100,\n",
    "                         'design':'~condition',\n",
    "                         'model_contrasts':'conditionA-conditionB',\n",
    "                         'sketch_size':None,\n",
    "                         'nlargest': 5,\n",
    "                         'annotation_key':'quiche_niche',\n",
    "                         'n_jobs':-1,\n",
    "                         'label_scheme':'neighborhood_norm',\n",
    "                         'sig_key':'PValue',\n",
    "                         'merge':False}\n",
    "\n",
    "benchmarker = qu.tl.benchmark(adata = adata_simulated, spatial_method = spatial_method, spatial_method_params = spatial_method_params)\n",
    "mdata, _ = benchmarker.perform_enrichment()\n",
    "scores_df = pd.DataFrame(mdata['quiche'].var.groupby('quiche_niche')['SpatialFDR'].mean())\n",
    "scores_df.columns = ['pval']\n",
    "scores_df['logFC'] = mdata['quiche'].var.groupby('quiche_niche')['logFC'].mean()\n",
    "scores_df = scores_df[scores_df['pval'] < 0.05]\n",
    "ids = list(set(scores_df.index).intersection(set(list(mdata['quiche'].var['quiche_niche'].value_counts()[mdata['quiche'].var['quiche_niche'].value_counts() >= 5].index))))\n",
    "scores_df = scores_df.loc[ids]\n",
    "niches = list(scores_df.index)"
   ]
  },
  {
   "cell_type": "code",
   "execution_count": null,
   "metadata": {},
   "outputs": [],
   "source": [
    "df_A0 = pd.DataFrame(mdata['expression'][mdata['expression'].obs['Patient_ID'] == 'A0'].obsm['spatial'], columns=['X0', 'Y0'])\n",
    "df_A0['DA_group'] = mdata['spatial_nhood'].obs[mdata['spatial_nhood'].obs['Patient_ID'] == 'A0'].DA_group.values\n",
    "df_A0['cell_cluster'] = mdata['spatial_nhood'].obs[mdata['spatial_nhood'].obs['Patient_ID'] == 'A0'].cell_cluster.values\n",
    "pval = mdata['quiche'].var[np.isin(mdata['quiche'].var.index_cell, mdata['spatial_nhood'][mdata['spatial_nhood'].obs['Patient_ID'] == 'A0'].obs_names)].SpatialFDR.values\n",
    "niche = mdata['quiche'].var[np.isin(mdata['quiche'].var.index_cell, mdata['spatial_nhood'][mdata['spatial_nhood'].obs['Patient_ID'] == 'A0'].obs_names)].quiche_niche.values\n",
    "df_A0['pval'] = -1 * np.log10(pval)\n",
    "df_A0['quiche_niche'] = niche\n",
    "\n",
    "df_B0 = pd.DataFrame(mdata['expression'][mdata['expression'].obs['Patient_ID'] == 'B0'].obsm['spatial'], columns=['X0', 'Y0'])\n",
    "df_B0['DA_group'] = mdata['spatial_nhood'].obs[mdata['spatial_nhood'].obs['Patient_ID'] == 'B0'].DA_group.values\n",
    "df_B0['cell_cluster'] = mdata['spatial_nhood'].obs[mdata['spatial_nhood'].obs['Patient_ID'] == 'B0'].cell_cluster.values\n",
    "pval = mdata['quiche'].var[np.isin(mdata['quiche'].var.index_cell, mdata['spatial_nhood'][mdata['spatial_nhood'].obs['Patient_ID'] == 'B0'].obs_names)].SpatialFDR.values\n",
    "df_B0['pval'] = -1 * np.log10(pval)\n",
    "niche = mdata['quiche'].var[np.isin(mdata['quiche'].var.index_cell, mdata['spatial_nhood'][mdata['spatial_nhood'].obs['Patient_ID'] == 'B0'].obs_names)].quiche_niche.values\n",
    "df_B0['quiche_niche'] = niche\n",
    "\n",
    "## ground truth\n",
    "plot_unstructured_niche(df_A0,  {'A': '#B46CDA','B': '#78CE8B', 'C': '#FF8595', 'D': '#1885F2', 'E': '#D78F09'}, (4,4), 'cell_cluster', 'DA_group', ['A_C_E'], 'Ground Truth', save_directory, 'ground_truth_ACE')\n",
    "plot_unstructured_niche(df_B0,  {'A': '#B46CDA','B': '#78CE8B', 'C': '#FF8595', 'D': '#1885F2', 'E': '#D78F09'}, (4,4), 'cell_cluster', 'DA_group', ['B_D'], 'Ground Truth', save_directory, 'ground_truth_BD')\n",
    "\n",
    "## quiche\n",
    "plot_unstructured_niche_cat(df_A0,  (4,4), 'quiche_niche', 'QUICHE Niche', save_directory, 'quiche_predicted_ACE')\n",
    "plot_unstructured_niche_score(df_A0,  'Reds', (5,4), 'pval', 'quiche_niche', niches, '-log10(p-value)', save_directory, 'quiche_predicted_ACE_pval', 0, 2.5, 5)\n",
    "\n",
    "plot_unstructured_niche_cat(df_B0,  (4,4), 'quiche_niche', 'QUICHE Niche', save_directory, 'quiche_predicted_BD')\n",
    "plot_unstructured_niche_score(df_B0,  'Reds', (5,4), 'pval', 'quiche_niche', niches, '-log10(p-value)', save_directory, 'quiche_predicted_BD_pval', 0, 2.5, 5)"
   ]
  },
  {
   "cell_type": "markdown",
   "metadata": {},
   "source": [
    "### K-means++"
   ]
  },
  {
   "cell_type": "code",
   "execution_count": null,
   "metadata": {},
   "outputs": [],
   "source": [
    "for cluster in [3,4,5,6,7,8,9,10]:\n",
    "    spatial_method = qu.tl.evaluate_kmeans\n",
    "    spatial_method_params = {'n_clusters': cluster, 'random_state': 42, 'fov_key': 'Patient_ID', 'condition_key': 'condition', 'labels_key': 'cell_cluster', 'radius': 200, 'delaunay': False, 'save_directory': None, 'condition_list': ['A', 'B'], 'filename_save': 'simulated', 'sig_threshold': 0.05, 'nlargest':5}\n",
    "\n",
    "    benchmarker = qu.tl.benchmark(adata = adata_simulated, spatial_method = spatial_method, spatial_method_params = spatial_method_params)\n",
    "    mdata, sig_niches = benchmarker.perform_enrichment()\n",
    "\n",
    "    scores_df = pd.DataFrame(mdata['spatial_nhood'].obs.groupby('kmeans_cluster_labeled')['pval'].median())\n",
    "    scores_df.columns = ['pval']\n",
    "    scores_df.fillna(0, inplace = True)\n",
    "    scores_df = scores_df[scores_df['pval'] < 0.05]\n",
    "    ids = list(set(scores_df.index).intersection(set(list(mdata['spatial_nhood'].obs['kmeans_cluster_labeled'].value_counts()[mdata['spatial_nhood'].obs['kmeans_cluster_labeled'].value_counts() >= 5].index))))\n",
    "    scores_df = scores_df.loc[ids]\n",
    "    niches = list(scores_df.index)\n",
    "\n",
    "    df_A0 = pd.DataFrame(mdata['expression'][mdata['expression'].obs['Patient_ID'] == 'A0'].obsm['spatial'], columns=['X0', 'Y0'])\n",
    "    df_A0['DA_group'] = mdata['spatial_nhood'].obs[mdata['spatial_nhood'].obs['Patient_ID'] == 'A0'].DA_group.values\n",
    "    df_A0['cell_cluster'] = mdata['spatial_nhood'].obs[mdata['spatial_nhood'].obs['Patient_ID'] == 'A0'].cell_cluster.values\n",
    "    df_A0['pval'] =  -1*np.log10(mdata['spatial_nhood'].obs[mdata['spatial_nhood'].obs['Patient_ID'] == 'A0'].pval.values)\n",
    "    df_A0['kmeans_cluster_labeled'] = mdata['spatial_nhood'].obs[mdata['spatial_nhood'].obs['Patient_ID'] == 'A0'].kmeans_cluster_labeled.values\n",
    "\n",
    "    df_B0 = pd.DataFrame(mdata['expression'][mdata['expression'].obs['Patient_ID'] == 'B0'].obsm['spatial'], columns=['X0', 'Y0'])\n",
    "    df_B0['DA_group'] = mdata['spatial_nhood'].obs[mdata['spatial_nhood'].obs['Patient_ID'] == 'B0'].DA_group.values\n",
    "    df_B0['cell_cluster'] = mdata['spatial_nhood'].obs[mdata['spatial_nhood'].obs['Patient_ID'] == 'B0'].cell_cluster.values\n",
    "    df_B0['pval'] =  -1*np.log10(mdata['spatial_nhood'].obs[mdata['spatial_nhood'].obs['Patient_ID'] == 'B0'].pval.values)\n",
    "    df_B0['kmeans_cluster_labeled'] = mdata['spatial_nhood'].obs[mdata['spatial_nhood'].obs['Patient_ID'] == 'B0'].kmeans_cluster_labeled.values\n",
    "\n",
    "    plot_unstructured_niche_cat(df_A0,  (4,4), 'kmeans_cluster_labeled', 'kmeans', save_directory, f'kmeans_predicted_ACE_{cluster}')\n",
    "    plot_unstructured_niche_score(df_A0,  'Reds', (5,4), 'pval', 'kmeans_cluster_labeled', niches, '-log10(p-value)', save_directory, f'kmeans_predicted_ACE_pval_{cluster}', 0, 2.5, 5.0)\n",
    "\n",
    "    plot_unstructured_niche_cat(df_B0,  (4,4), 'kmeans_cluster_labeled', 'kmeans', save_directory, f'kmeans_predicted_BD_{cluster}')\n",
    "    plot_unstructured_niche_score(df_B0,  'Reds', (5,4), 'pval', 'kmeans_cluster_labeled', niches, '-log10(p-value)', save_directory, f'kmeans_predicted_BD_pval_{cluster}', 0, 2.5, 5.0)"
   ]
  },
  {
   "cell_type": "markdown",
   "metadata": {},
   "source": [
    "### CellCharter"
   ]
  },
  {
   "cell_type": "code",
   "execution_count": null,
   "metadata": {},
   "outputs": [],
   "source": [
    "for cluster in [None,3,4,5,6,7,8,9,10]:\n",
    "    spatial_method = qu.tl.evaluate_cell_charter\n",
    "    \n",
    "    spatial_method_params = {'n_clusters':cluster,\n",
    "                    'fov_key':'Patient_ID',\n",
    "                    'condition_key':'condition',\n",
    "                    'max_runs':2,\n",
    "                    'n_jobs':1,\n",
    "                    'condition_list':['A', 'B']}\n",
    "    \n",
    "    benchmarker = qu.tl.benchmark(adata = adata_simulated, spatial_method = spatial_method, spatial_method_params = spatial_method_params)\n",
    "    mdata, sig_niches = benchmarker.perform_enrichment()\n",
    "\n",
    "    scores_df = pd.DataFrame(mdata['expression'].obs.groupby('spatial_cluster')['pval'].median())\n",
    "    scores_df.columns = ['pval']\n",
    "    scores_df.fillna(0, inplace = True)\n",
    "    scores_df = scores_df[scores_df['pval'] < 0.05]\n",
    "    ids = list(set(scores_df.index).intersection(set(list(mdata['expression'].obs['spatial_cluster'].value_counts()[mdata['expression'].obs['spatial_cluster'].value_counts() >= 5].index))))\n",
    "    scores_df = scores_df.loc[ids]\n",
    "    niches = list(scores_df.index)\n",
    "\n",
    "    df_A0 = pd.DataFrame(mdata['expression'][mdata['expression'].obs['Patient_ID'] == 'A0'].obsm['spatial'], columns=['X0', 'Y0'])\n",
    "    df_A0['DA_group'] = mdata['expression'].obs[mdata['expression'].obs['Patient_ID'] == 'A0'].DA_group.values\n",
    "    df_A0['cell_cluster'] = mdata['expression'].obs[mdata['expression'].obs['Patient_ID'] == 'A0'].cell_cluster.values\n",
    "    df_A0['pval'] =  -1*np.log10(mdata['expression'].obs[mdata['expression'].obs['Patient_ID'] == 'A0'].pval.values)\n",
    "    df_A0['spatial_cluster'] = mdata['expression'].obs[mdata['expression'].obs['Patient_ID'] == 'A0'].spatial_cluster.values\n",
    "\n",
    "    df_B0 = pd.DataFrame(mdata['expression'][mdata['expression'].obs['Patient_ID'] == 'B0'].obsm['spatial'], columns=['X0', 'Y0'])\n",
    "    df_B0['DA_group'] = mdata['expression'].obs[mdata['expression'].obs['Patient_ID'] == 'B0'].DA_group.values\n",
    "    df_B0['cell_cluster'] = mdata['expression'].obs[mdata['expression'].obs['Patient_ID'] == 'B0'].cell_cluster.values\n",
    "    df_B0['pval'] =  -1*np.log10(mdata['expression'].obs[mdata['expression'].obs['Patient_ID'] == 'B0'].pval.values)\n",
    "    df_B0['spatial_cluster'] = mdata['expression'].obs[mdata['expression'].obs['Patient_ID'] == 'B0'].spatial_cluster.values\n",
    "    if cluster == None:\n",
    "        cluster = 'auto'\n",
    "        \n",
    "    plot_unstructured_niche_cat(df_A0,  (4,4), 'spatial_cluster', 'cellcharter', os.path.join('figures', 'simulated'), f'cellcharter_predicted_ACE_{cluster}')\n",
    "    plot_unstructured_niche_score(df_A0,  'Reds', (5,4), 'pval', 'spatial_cluster', niches, '-log10(p-value)', save_directory, f'cellcharter_predicted_ACE_pval_{cluster}', 0, 2.5, 5.0)\n",
    "\n",
    "    plot_unstructured_niche_cat(df_B0,  (4,4), 'spatial_cluster', 'cellcharter', os.path.join('figures', 'simulated'), f'cellcharter_predicted_BD_{cluster}')\n",
    "    plot_unstructured_niche_score(df_B0,  'Reds', (5,4), 'pval', 'spatial_cluster', niches, '-log10(p-value)', save_directory, f'cellcharter_predicted_BD_pval_{cluster}', 0, 2.5, 5.0)"
   ]
  },
  {
   "cell_type": "markdown",
   "metadata": {},
   "source": [
    "### Figure 2c\n",
    "* For unstructured benchmarking scripts, see run_unstructured.sh, unstructured_grid.py"
   ]
  },
  {
   "cell_type": "code",
   "execution_count": null,
   "metadata": {},
   "outputs": [],
   "source": [
    "### load in csvs of performance \n",
    "directory = os.path.join('data', 'simulated', 'unstructured', 'metrics', 'n5000','t20', 'balanced')\n",
    "files = glob.glob(directory+'/*.csv')\n",
    "evaluation_df = pd.DataFrame()\n",
    "for file in files:\n",
    "    id_list = file.split('/')[-1].split('.csv')[0].split('_')\n",
    "    method_id = id_list[1]\n",
    "    data = pd.read_csv(file, index_col = 0)\n",
    "    if method_id == 'quiche':\n",
    "        val = '_'.join(id_list[-5:])\n",
    "    elif method_id == 'kmeans':\n",
    "        val = '_'.join([id_list[1], id_list[-1]])\n",
    "    elif method_id == 'cell':\n",
    "        val = '_'.join([id_list[1], id_list[2], id_list[-1]])\n",
    "    else:\n",
    "        val = 'default'\n",
    "    data['param'] = val\n",
    "    data['method_param'] = data['method'] + '_' + data['param']\n",
    "    evaluation_df = pd.concat([evaluation_df, data], axis = 0)"
   ]
  },
  {
   "cell_type": "code",
   "execution_count": null,
   "metadata": {},
   "outputs": [],
   "source": [
    "method_arr = ['run_quiche_khop_neighborhood_norm_PValue_original',  'evaluate_kmeans_kmeans_5', 'evaluate_cell_charter_cell_charter_5','evaluate_graphcompass_default', 'evaluate_pairwise_default']\n",
    "title_list = ['QUICHE', 'KMeans5', 'CellCharter5', 'GraphCompass', 'Pairwise']\n",
    "for i in range(0, len(method_arr)):\n",
    "    method = method_arr[i]\n",
    "    avg_data = evaluation_df[(evaluation_df['variable'] == 'group_recall') & (evaluation_df['method_param'] == method)].groupby(['ratio', 'grid_size'])['value'].mean()\n",
    "    avg_data = avg_data.reset_index()\n",
    "    pivot_df = avg_data.pivot(index='grid_size', columns='ratio', values='value')\n",
    "    pivot_df = pivot_df.loc[[14,10,9,8,7,6,5,4], :]\n",
    "    pivot_df.index = np.round(100 / (pivot_df.index * pivot_df.index), 1)\n",
    "    pivot_df.columns = pivot_df.columns * 100\n",
    "    pivot_df.columns = pivot_df.columns.astype('int')\n",
    "\n",
    "    plt.figure(figsize=(4.5,5))\n",
    "    g = sns.heatmap(pivot_df, annot=True, annot_kws={\"size\": 12},xticklabels = True, yticklabels=True, linewidths=0.5,fmt='.1f', vmin = 0, vmax = 1, cmap = 'Purples') #compare\n",
    "    g.tick_params(labelsize = 14)\n",
    "    g.set_xlabel('patient samples with niche (%)', fontsize = 14)\n",
    "    g.set_ylabel('niche size (% sample)', fontsize = 14)\n",
    "    g.set_title(title_list[i], fontsize = 14)\n",
    "    plt.savefig(os.path.join(save_directory, f'{title_list[i]}_group_recall_unstructed.pdf'), bbox_inches = 'tight')"
   ]
  },
  {
   "cell_type": "code",
   "execution_count": null,
   "metadata": {},
   "outputs": [],
   "source": [
    "method_arr = ['run_quiche_khop_neighborhood_norm_PValue_original',  'evaluate_kmeans_kmeans_5', 'evaluate_cell_charter_cell_charter_5']\n",
    "title_list = ['QUICHE', 'KMeans5', 'CellCharter5']\n",
    "for i in range(0, len(method_arr)):\n",
    "    method = method_arr[i]\n",
    "    avg_data = evaluation_df[(evaluation_df['variable'] == 'avg_purity') & (evaluation_df['method_param'] == method)].groupby(['ratio', 'grid_size'])['value'].mean()\n",
    "    avg_data = avg_data.reset_index()\n",
    "    pivot_df = avg_data.pivot(index='grid_size', columns='ratio', values='value')\n",
    "    pivot_df = pivot_df.loc[[14,10,9,8,7,6,5,4], :]\n",
    "    pivot_df.index = np.round(100 / (pivot_df.index * pivot_df.index), 1)\n",
    "    pivot_df.columns = pivot_df.columns * 100\n",
    "    pivot_df.columns = pivot_df.columns.astype('int')\n",
    "\n",
    "    plt.figure(figsize=(4.5,5))\n",
    "    g = sns.heatmap(pivot_df, annot=True, annot_kws={\"size\": 12},xticklabels = True, yticklabels=True, linewidths=0.5,fmt='.1f', vmin = 0, vmax = 1, cmap = 'Purples') #compare\n",
    "    g.tick_params(labelsize = 14)\n",
    "    g.set_xlabel('patient samples with niche (%)', fontsize = 14)\n",
    "    g.set_ylabel('niche size (% sample)', fontsize = 14)\n",
    "    g.set_title(title_list[i], fontsize = 14)\n",
    "    plt.savefig(os.path.join(save_directory, f'{title_list[i]}_purity_unstructured.pdf'), bbox_inches = 'tight')"
   ]
  },
  {
   "cell_type": "markdown",
   "metadata": {},
   "source": [
    "## Structured simulation"
   ]
  },
  {
   "cell_type": "code",
   "execution_count": null,
   "metadata": {},
   "outputs": [],
   "source": [
    "# compartment_colormap = pd.DataFrame({'mask_name': ['cancer_core', 'cancer_border', 'stroma', 'immune1', np.nan], \n",
    "#                                      'color': ['blue', 'deepskyblue','firebrick', 'orange', 'black']})\n",
    "\n",
    "# compartment_colormap = pd.DataFrame({'mask_name': ['cancer_core', 'cancer_border', 'stroma', 'immune1', np.nan], \n",
    "#                                      'color': ['#1885F2', '#78CE8B','#B46CDA', '#D78F09', 'black']})\n",
    "\n",
    "# compartment_colormap = pd.DataFrame({'mask_name': ['cancer_core', 'cancer_border', 'stroma', 'immune1', np.nan], \n",
    "#                                      'color': ['blue', 'deepskyblue','#A5243D', 'orange', 'black']})\n",
    "\n",
    "\n",
    "# compartmentalized_tumors = ['TMA31_R3C1', 'TMA31_R3C9', 'TMA41_R4C4', 'TMA31_R4C5', 'TMA31_R5C4', 'TMA31_R5C5', 'TMA31_R7C1', 'TMA32_R5C7', 'TMA32_R8C5', 'TMA32_R10C4', 'TMA33_R5C8',\n",
    "#                             'TMA33_R8C4', 'TMA33_R9C4', 'TMA33_R10C5', 'TMA33_R12C2', 'TMA34_R4C2', 'TMA34_R9C8', 'TMA34_R12C3', 'TMA35_R3C2', 'TMA35_R4C3', 'TMA36_R2C7',\n",
    "#                             'TMA36_R9C9', 'TMA37_R3C1', 'TMA37_R4C4', 'TMA37_R4C7', 'TMA37_R7C4', 'TMA37_R10C5', 'TMA38_R5C2', 'TMA39_R5C6', 'TMA39_R1C1', 'TMA39_R2C4', 'TMA39_R3C4',\n",
    "#                             'TMA39_R5C4', 'TMA39_R5C6', 'TMA39_R5C8', 'TMA39_R6C1', 'TMA39_R9C2', 'TMA39_R9C6', 'TMA40_R4C7', 'TMA40_R5C2', 'TMA40_R6C3', 'TMA40_R6C6', 'TMA40_R7C6',\n",
    "#                             'TMA40_R7C7', 'TMA40_R8C6', 'TMA40_R10C7', 'TMA41_R1C3', 'TMA41_R2C3', 'TMA41_R4C2', 'TMA41_R4C3', 'TMA41_R4C4', 'TMA42_R2C2', 'TMA42_R3C5', 'TMA42_R4C1',\n",
    "#                             'TMA42_R6C1', 'TMA42_R6C5', 'TMA42_R7C4', 'TMA43_R1C3', 'TMA43_R3C3', 'TMA43_R5C7', 'TMA43_R8C7', 'TMA43_R9C8', 'TMA43_R11C5', 'TMA44_R3C3', 'TMA44_R3C7',\n",
    "#                             'TMA44_R7C2', 'TMA44_R7C6', 'TMA44_R8C1', 'TMA44_R8C3', 'TMA44_R9C5', 'TMA44_R10C6', 'TMA44_R12C2', 'TMA44_R12C7', 'TMA44_R13C7', 'TMA44_R14C7']\n",
    "\n",
    "# base_dir = '/Volumes/Shared/Noah Greenwald/TNBC_Cohorts/SPAIN/intermediate_files'\n",
    "# cell_table = pd.read_csv(os.path.join(base_dir, 'post_processing', 'cell_table_size_normalized_samples_cell_labels_updated.csv'))\n",
    "\n",
    "# annotations_by_mask = pd.read_csv(os.path.join(base_dir, 'mask_dir', 'individual_masks-no_tagg_tls', 'cell_annotation_mask.csv'))\n",
    "# annotations_by_mask_merged = pd.merge(annotations_by_mask, cell_table.loc[:, ['fov', 'label', 'centroid-1', 'centroid-0']], on = ['fov', 'label'])\n",
    "# annotations_by_mask_merged['mask_name'].replace(['stroma_core', 'stroma_border'], ['stroma', 'stroma'], inplace = True)\n",
    "# annotations_by_mask_merged = annotations_by_mask_merged[np.isin(annotations_by_mask_merged.fov, compartmentalized_tumors)]\n",
    "\n",
    "# adata_expression = anndata.read_h5ad(os.path.join('data', 'simulated', 'adata_simulated_expression_groups_large.h5ad'))\n",
    "\n",
    "# num_to_change = 50\n",
    "# count_df = annotations_by_mask_merged.groupby(['fov', 'mask_name']).count()['label'].unstack()\n",
    "# ratio_df = pd.Series([800, 1200, 1600], index = ['cancer_border', 'cancer_core', 'stroma'])\n",
    "# fov_list = (count_df > ratio_df + num_to_change).sum(axis = 1)\n",
    "# fov_list = list(fov_list[fov_list == 3].index)\n",
    "# ratio_df = pd.Series([800, 1200, 1600, num_to_change], index = ['cancer_border', 'cancer_core', 'stroma', 'immune1'])\n",
    "\n",
    "# adata = qu.tl.simulate_structured_data(annotations_by_mask, cell_table, adata_expression, fov_key = 'fov', fov_list = fov_list, labels_key = 'mask_name', \n",
    "#                       cond1 = 'cancer_core', cond2 = 'cancer_border', radius = 500, p = 2, condition_id = 'immune1', num_to_change = num_to_change,\n",
    "#                       compartment_colormap = compartment_colormap, prevalence = 0.6, ratio_df = ratio_df, cell_types = ['cancer_core', 'cancer_border', 'stroma', 'immune1'],\n",
    "#                       sim_cell_types = ['Group1', 'Group1', 'Group2', 'Group3'], group_key = 'group', spatial_key = 'spatial', n_jobs = 8)\n",
    "# adata.write_h5ad(os.path.join('data', 'simulated', 'adata_simulated_structured.h5ad'))"
   ]
  },
  {
   "cell_type": "markdown",
   "metadata": {},
   "source": [
    "### Figure 2d"
   ]
  },
  {
   "cell_type": "code",
   "execution_count": null,
   "metadata": {},
   "outputs": [],
   "source": [
    "## load in simulated data to save on runtime\n",
    "save_directory = os.path.join('publications', 'figures', 'figure2', 'structured')\n",
    "qu.pp.make_directory(save_directory)\n",
    "adata = anndata.read_h5ad(os.path.join('data', 'simulated', 'adata_simulated_structured.h5ad'))"
   ]
  },
  {
   "cell_type": "markdown",
   "metadata": {},
   "source": [
    "### ground truth"
   ]
  },
  {
   "cell_type": "code",
   "execution_count": null,
   "metadata": {},
   "outputs": [],
   "source": [
    "import imageio as io\n",
    "seg_dir = r'/Volumes/Shared/Noah Greenwald/TNBC_Cohorts/SPAIN/segmentation/samples/deepcell_output'\n",
    "fov_list = ['TMA39_R5C6', 'TMA40_R7C7', 'TMA42_R6C1', 'TMA41_R4C4', 'TMA43_R5C7', 'TMA44_R12C2']\n",
    "for condition in ['cancer_core', 'cancer_border']:\n",
    "    adata_condition = adata[adata.obs['condition'] == condition].copy()\n",
    "    condition_fov = adata_condition.obs['fov'].unique()\n",
    "    for fov in condition_fov:\n",
    "        try:\n",
    "            inst_seg = io.imread(os.path.join(seg_dir, fov +'_whole_cell.tiff')).astype(np.float32)\n",
    "            label_arr = adata_condition[adata_condition.obs['fov'] == fov].obs['label'].values\n",
    "            mask = np.isin(inst_seg, label_arr)\n",
    "            inst_seg[~mask] = 0\n",
    "            save_directory_ = os.path.join(save_directory,'segmentation_mask', condition)\n",
    "            qu.pp.make_directory(save_directory_)\n",
    "            io.imwrite(os.path.join(save_directory_, fov+'_whole_cell.tiff'), inst_seg)\n",
    "\n",
    "            compartment_colormap = pd.DataFrame({'mask_name': ['cancer_core', 'cancer_border', 'stroma', 'immune1', np.nan], \n",
    "                                            'color': ['blue', 'deepskyblue','#8E6E96', 'orange', 'black']})\n",
    "            \n",
    "            save_directory_plot = os.path.join(save_directory,'ground_truth', condition)\n",
    "            qu.pp.make_directory(save_directory_plot)\n",
    "            print(save_directory_plot)\n",
    "            \n",
    "            qu.pl.cohort_cluster_plot(\n",
    "                        fovs=[fov],\n",
    "                        save_dir = save_directory_plot,\n",
    "                        cell_data=adata.obs[adata.obs['condition'] == condition],\n",
    "                        erode=True,\n",
    "                        seg_dir = save_directory_,\n",
    "                        fov_col= 'fov',\n",
    "                        label_col='label',\n",
    "                        cluster_col='mask_name',\n",
    "                        unassigned_color=np.array([0, 0, 0, 1]),\n",
    "                        seg_suffix=\"_whole_cell.tiff\",\n",
    "                        cmap=compartment_colormap,\n",
    "                        display_fig=False,\n",
    "                    )\n",
    "        except:\n",
    "            continue"
   ]
  },
  {
   "cell_type": "markdown",
   "metadata": {},
   "source": [
    "### QUICHE"
   ]
  },
  {
   "cell_type": "code",
   "execution_count": null,
   "metadata": {},
   "outputs": [],
   "source": [
    "mdata, sig_niches = qu.tl.run_quiche(adata, radius = 200, labels_key = 'mask_name', spatial_key = 'spatial',\n",
    "                                                 fov_key = 'Patient_ID', patient_key = 'Patient_ID', n_neighbors = 30, label_scheme='normal',\n",
    "                                                 delaunay = False, min_cells = 3, k_sim = 100, design = '~condition',\n",
    "                                                 model_contrasts = 'conditioncancer_core-conditioncancer_border',\n",
    "                                                 sketch_size = None, nlargest = 4, annotation_key = 'quiche_niche', n_jobs = -1)\n",
    "\n",
    "scores_df = pd.DataFrame(mdata['quiche'].var.groupby('quiche_niche')['PValue'].median())\n",
    "scores_df.columns = ['pval']\n",
    "scores_df['logFC'] = mdata['quiche'].var.groupby('quiche_niche')['logFC'].median()\n",
    "scores_df = scores_df[scores_df['pval'] < 0.05]\n",
    "ids = list(set(scores_df.index).intersection(set(list(mdata['quiche'].var['quiche_niche'].value_counts()[mdata['quiche'].var['quiche_niche'].value_counts() >= 5].index))))\n",
    "scores_df = scores_df.loc[ids]\n",
    "niches = list(scores_df.index)\n",
    "\n",
    "mdata['expression'].obs[['quiche_niche', 'PValue']] = mdata['quiche'].var[['quiche_niche', 'PValue']].values\n",
    "mdata['expression'].obs['-log10(p-value)'] = -1*np.log10(mdata['expression'].obs['PValue'].astype('float'))\n",
    "\n",
    "for condition in ['cancer_core', 'cancer_border']:\n",
    "    adata_sub = mdata['expression'][mdata['expression'].obs['condition'] == condition]\n",
    "    for fov in fov_list:\n",
    "        plot_niche_score(adata_sub[adata_sub.obs['fov'] == fov], fov, seg_dir, 'quiche_niche', niches, metric = '-log10(p-value)', vmin = 0, vmax = 5, fontsize = 12, cmap = 'Reds', background = [0.3, 0.3, 0.3, 1],figsize = (6, 6), save_directory = save_directory, filename_save = f'quiche_{condition}_{fov}')"
   ]
  },
  {
   "cell_type": "markdown",
   "metadata": {},
   "source": [
    "#### K-Means++"
   ]
  },
  {
   "cell_type": "code",
   "execution_count": null,
   "metadata": {},
   "outputs": [],
   "source": [
    "for cluster in [3,4,5,6,7,8,9,10]:\n",
    "    spatial_method_params = {'n_clusters': cluster, 'random_state': 42, 'fov_key': 'Patient_ID', 'condition_key': 'condition', 'labels_key': 'mask_name', 'radius': 200, 'delaunay': True, 'save_directory': os.path.join('figures', 'simulated'), 'condition_list': ['cancer_core', 'cancer_border'], 'filename_save': 'simulated', 'sig_threshold': 0.05, 'nlargest':4}\n",
    "    benchmarker = qu.tl.benchmark(adata = adata, spatial_method = qu.tl.evaluate_kmeans, spatial_method_params = spatial_method_params)\n",
    "    mdata_kmeans, sig_niches_kmeans = benchmarker.perform_enrichment()\n",
    "    scores_df = pd.DataFrame(mdata_kmeans['spatial_nhood'].obs.groupby('kmeans_cluster_labeled')['pval'].median())\n",
    "    scores_df.columns = ['pval']\n",
    "    scores_df.fillna(0, inplace = True)\n",
    "    scores_df = scores_df[scores_df['pval'] < 0.05]\n",
    "    ids = list(set(scores_df.index).intersection(set(list(mdata_kmeans['spatial_nhood'].obs['kmeans_cluster_labeled'].value_counts()[mdata_kmeans['spatial_nhood'].obs['kmeans_cluster_labeled'].value_counts() >= 5].index))))\n",
    "    scores_df = scores_df.loc[ids]\n",
    "    niches = list(scores_df.index)\n",
    "\n",
    "    mdata_kmeans['expression'].obs.loc[:, ['kmeans_cluster_labeled', 'pval']] = mdata_kmeans['spatial_nhood'].obs.loc[:, ['kmeans_cluster_labeled', 'pval']]\n",
    "    mdata_kmeans['expression'].obs.loc[:, ['-log10(p-value)']] = -1*np.log10(mdata_kmeans['expression'].obs.loc[:, 'pval'].astype('float')).values\n",
    "\n",
    "    for condition in ['cancer_core', 'cancer_border']:\n",
    "        adata_sub = mdata_kmeans['expression'][mdata_kmeans['expression'].obs['condition'] == condition]\n",
    "        for fov in fov_list:\n",
    "            plot_niche_score(adata_sub[adata_sub.obs['fov'] == fov], fov, seg_dir, 'kmeans_cluster_labeled', niches, metric = '-log10(p-value)', vmin = 0, vmax = 5, fontsize = 12, cmap = 'Reds', background = [0.3, 0.3, 0.3, 1],figsize = (6, 6), save_directory = save_directory, filename_save = f'kmeans_{condition}_{fov}_{cluster}')"
   ]
  },
  {
   "cell_type": "markdown",
   "metadata": {},
   "source": [
    "### CellCharter"
   ]
  },
  {
   "cell_type": "code",
   "execution_count": null,
   "metadata": {},
   "outputs": [],
   "source": [
    "for cluster in [None, 2, 3, 4, 5, 6, 7, 8, 9, 10]:\n",
    "    spatial_method = qu.tl.evaluate_cell_charter\n",
    "    \n",
    "    spatial_method_params = {'n_clusters':cluster,\n",
    "                    'fov_key':'Patient_ID',\n",
    "                    'condition_key':'condition',\n",
    "                    'max_runs':2,\n",
    "                    'n_jobs':1,\n",
    "                    'condition_list':['cancer_core', 'cancer_border']}\n",
    "    \n",
    "    benchmarker = qu.tl.benchmark(adata = adata, spatial_method = spatial_method, spatial_method_params = spatial_method_params)\n",
    "    mdata_cellcharter, _ = benchmarker.perform_enrichment()\n",
    "    scores_df = pd.DataFrame(mdata_cellcharter['expression'].obs.groupby('spatial_cluster')['pval'].median())\n",
    "    scores_df.columns = ['pval']\n",
    "    scores_df.fillna(0, inplace = True)\n",
    "    scores_df = scores_df[scores_df['pval'] < 0.05]\n",
    "    ids = list(set(scores_df.index).intersection(set(list(mdata_cellcharter['expression'].obs['spatial_cluster'].value_counts()[mdata_cellcharter['expression'].obs['spatial_cluster'].value_counts() >= 5].index))))\n",
    "    scores_df = scores_df.loc[ids]\n",
    "    niches = list(scores_df.index)\n",
    "\n",
    "    mdata_cellcharter['expression'].obs.loc[:, ['spatial_cluster', 'pval']] = mdata_cellcharter['expression'].obs.loc[:, ['spatial_cluster', 'pval']]\n",
    "    mdata_cellcharter['expression'].obs.loc[:, ['-log10(p-value)']] = -1*np.log10(mdata_cellcharter['expression'].obs.loc[:, 'pval'].astype('float')).values\n",
    "\n",
    "    for condition in ['cancer_core', 'cancer_border']:\n",
    "        adata_sub = mdata_cellcharter['expression'][mdata_cellcharter['expression'].obs['condition'] == condition]\n",
    "        for fov in fov_list:\n",
    "            if cluster is None:\n",
    "                cluster = 'auto'\n",
    "            plot_niche_score(adata_sub[adata_sub.obs['fov'] == fov], fov, seg_dir, 'spatial_cluster', niches, metric = '-log10(p-value)', vmin = 0, vmax = 5, fontsize = 12, cmap = 'Reds', background = [0.3, 0.3, 0.3, 1],figsize = (6, 6), save_directory = save_directory, filename_save = f'cellcharter_{condition}_{fov}_{cluster}')"
   ]
  },
  {
   "cell_type": "markdown",
   "metadata": {},
   "source": [
    "### Figure 2e\n",
    "* For structured benchmarking scripts, see run_structured.sh, structured.py"
   ]
  },
  {
   "cell_type": "code",
   "execution_count": null,
   "metadata": {},
   "outputs": [],
   "source": [
    "### load in csvs of performance \n",
    "directory = os.path.join('data', 'simulated', 'structured', 'metrics')\n",
    "files = glob.glob(directory+'/*.csv')\n",
    "evaluation_df = pd.DataFrame()\n",
    "for file in files:\n",
    "    id_list = file.split('/')[-1].split('.csv')[0].split('_')\n",
    "    method_id = id_list[1]\n",
    "    data = pd.read_csv(file, index_col = 0)\n",
    "    if method_id == 'quiche':\n",
    "        val = '_'.join(id_list[-5:])\n",
    "    elif method_id == 'kmeans':\n",
    "        val = '_'.join([id_list[1], id_list[-1]])\n",
    "    elif method_id == 'cell':\n",
    "        val = '_'.join([id_list[1], id_list[2], id_list[-1]])\n",
    "    else:\n",
    "        val = 'default'\n",
    "    data['param'] = val\n",
    "    data['method_param'] = data['method'] + '_' + data['param']\n",
    "    evaluation_df = pd.concat([evaluation_df, data], axis = 0)"
   ]
  },
  {
   "cell_type": "code",
   "execution_count": null,
   "metadata": {},
   "outputs": [],
   "source": [
    "method_arr = ['run_quiche_recall_knn_normal_PValue_original',  'evaluate_kmeans_kmeans_5', 'evaluate_cell_charter_cell_charter_5','evaluate_graphcompass_default', 'evaluate_pairwise_default']\n",
    "title_list = ['QUICHE', 'KMeans5', 'CellCharter5', 'GraphCompass', 'Pairwise']\n",
    "evaluation_df['num'] = (evaluation_df['pct_change'] * evaluation_df['radius']).astype('int')\n",
    "evaluation_df['num_2'] = (evaluation_df['pct_change']*100).astype('int').astype('str') + '% r='+ evaluation_df['radius'].astype('str')\n",
    "for i in range(0, len(method_arr)):\n",
    "    method = method_arr[i]\n",
    "    avg_data = evaluation_df[(evaluation_df['variable'] == 'group_recall') & (evaluation_df['method_param'] == method)].groupby(['prevalence', 'num'])['value'].mean()\n",
    "    avg_data = avg_data.reset_index()\n",
    "    pivot_df = avg_data.pivot(index='num', columns='prevalence', values='value')\n",
    "    pivot_df = pivot_df[pivot_df.index != 62]\n",
    "    pivot_df.columns = pivot_df.columns *100\n",
    "    pivot_df.columns = pivot_df.columns.astype('int')\n",
    "    plt.figure(figsize=(4.5,5))\n",
    "    g = sns.heatmap(pivot_df, annot=True, annot_kws={\"size\": 12},xticklabels = True, yticklabels=True, linewidths=0.5,fmt='.1f', vmin = 0, vmax = 1, cmap = 'Purples') #compare\n",
    "    g.tick_params(labelsize = 14)\n",
    "    g.set_xlabel('patient samples with niche (%)', fontsize = 14)\n",
    "    g.set_ylabel('number of immune cells within niche', fontsize = 14)\n",
    "    g.set_title(title_list[i], fontsize = 14)\n",
    "    plt.savefig(os.path.join(save_directory, f'{title_list[i]}_group_recall_structured.pdf'), bbox_inches = 'tight')"
   ]
  },
  {
   "cell_type": "code",
   "execution_count": null,
   "metadata": {},
   "outputs": [],
   "source": [
    "method_arr = ['run_quiche_purity_knn_normal_PValue_original',  'evaluate_kmeans_kmeans_5', 'evaluate_cell_charter_cell_charter_5']\n",
    "title_list = ['QUICHE', 'KMeans5', 'CellCharter5', 'GraphCompass', 'Pairwise']\n",
    "evaluation_df['num'] = (evaluation_df['pct_change'] * evaluation_df['radius']).astype('int')\n",
    "evaluation_df['num_2'] = (evaluation_df['pct_change']*100).astype('int').astype('str') + '% r='+ evaluation_df['radius'].astype('str')\n",
    "for i in range(0, len(method_arr)):\n",
    "    method = method_arr[i]\n",
    "    avg_data = evaluation_df[(evaluation_df['variable'] == 'avg_purity') & (evaluation_df['method_param'] == method)].groupby(['prevalence', 'num'])['value'].mean()\n",
    "    avg_data = avg_data.reset_index()\n",
    "    pivot_df = avg_data.pivot(index='num', columns='prevalence', values='value')\n",
    "    pivot_df = pivot_df[pivot_df.index != 62]\n",
    "    pivot_df.columns = pivot_df.columns *100\n",
    "    pivot_df.columns = pivot_df.columns.astype('int')\n",
    "    plt.figure(figsize=(4.5,5))\n",
    "    g = sns.heatmap(pivot_df, annot=True, annot_kws={\"size\": 12},xticklabels = True, yticklabels=True, linewidths=0.5,fmt='.1f', vmin = 0, vmax = 1, cmap = 'Purples') #compare\n",
    "    g.tick_params(labelsize = 14)\n",
    "    g.set_xlabel('patient samples with niche (%)', fontsize = 14)\n",
    "    g.set_ylabel('number of immune cells within niche', fontsize = 14)\n",
    "    g.set_title(title_list[i], fontsize = 14)\n",
    "    plt.savefig(os.path.join(save_directory, f'{title_list[i]}_group_purity_structured.pdf'), bbox_inches = 'tight')"
   ]
  }
 ],
 "metadata": {
  "kernelspec": {
   "display_name": "venv_quiche_all",
   "language": "python",
   "name": "python3"
  },
  "language_info": {
   "codemirror_mode": {
    "name": "ipython",
    "version": 3
   },
   "file_extension": ".py",
   "mimetype": "text/x-python",
   "name": "python",
   "nbconvert_exporter": "python",
   "pygments_lexer": "ipython3",
   "version": "3.9.20"
  }
 },
 "nbformat": 4,
 "nbformat_minor": 2
}
