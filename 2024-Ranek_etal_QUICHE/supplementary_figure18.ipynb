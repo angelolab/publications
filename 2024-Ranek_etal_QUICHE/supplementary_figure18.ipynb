{
 "cells": [
  {
   "cell_type": "code",
   "execution_count": null,
   "metadata": {},
   "outputs": [],
   "source": [
    "import numpy as np\n",
    "import pandas as pd\n",
    "import matplotlib.pyplot as plt\n",
    "import seaborn as sns\n",
    "import anndata \n",
    "import os\n",
    "import mudata\n",
    "import quiche as qu\n",
    "from sketchKH import sketch\n",
    "from supplementary_plot_helpers import *\n",
    "import matplotlib.pyplot as plt\n",
    "import seaborn as sns\n",
    "from matplotlib.gridspec import GridSpec\n",
    "sns.set_style('ticks')\n",
    "plt.rcParams.update({\n",
    "    \"font.size\": 10,\n",
    "    \"axes.titlesize\": 12,\n",
    "    \"axes.labelsize\": 10,\n",
    "    \"xtick.labelsize\": 10,\n",
    "    \"ytick.labelsize\": 10,\n",
    "})\n",
    "%reload_ext autoreload\n",
    "%load_ext autoreload\n",
    "%autoreload 2\n",
    "%matplotlib inline"
   ]
  },
  {
   "cell_type": "markdown",
   "metadata": {},
   "source": [
    "### validation figures"
   ]
  },
  {
   "cell_type": "code",
   "execution_count": null,
   "metadata": {},
   "outputs": [],
   "source": [
    "save_directory = os.path.join('publications', 'supplementary_figures', 'supplementary_figure18')\n",
    "qu.pp.make_directory(save_directory)"
   ]
  },
  {
   "cell_type": "code",
   "execution_count": null,
   "metadata": {},
   "outputs": [],
   "source": [
    "mdata_spain = mudata.read_h5mu(os.path.join('data', 'tnbc_spain', 'mdata', 'mdata_spain_study_corrected.h5ad'))\n",
    "mdata_spain['quiche'].var[['SpatialFDR', 'logFC']] = mdata_spain['quiche'].var[['SpatialFDR', 'logFC']].astype('float')\n",
    "scores_df_spain = pd.DataFrame(mdata_spain['quiche'].var.groupby('quiche_niche')['SpatialFDR'].median())\n",
    "scores_df_spain.columns = ['pval']\n",
    "scores_df_spain['logFC'] = mdata_spain['quiche'].var.groupby('quiche_niche')['logFC'].mean()\n",
    "scores_df_spain = scores_df_spain[scores_df_spain['pval'] < 0.05]\n",
    "ids = list(set(scores_df_spain.index).intersection(set(list(mdata_spain['quiche'].var['quiche_niche'].value_counts()[mdata_spain['quiche'].var['quiche_niche'].value_counts() >= 5].index))))\n",
    "scores_df_spain = scores_df_spain.loc[ids]\n",
    "scores_df_spain = scores_df_spain[(scores_df_spain.logFC > 1) | (scores_df_spain.logFC < -1)]\n",
    "niches_spain = list(scores_df_spain.index)"
   ]
  },
  {
   "cell_type": "code",
   "execution_count": null,
   "metadata": {},
   "outputs": [],
   "source": [
    "mdata_stanford = mudata.read_h5mu(os.path.join('data', 'tnbc_stanford', 'mdata', 'mdata_stanford.h5ad'))\n",
    "mdata_stanford['quiche'].var[['SpatialFDR', 'logFC']] = mdata_stanford['quiche'].var[['SpatialFDR', 'logFC']].astype('float')\n",
    "scores_df_stanford = pd.DataFrame(mdata_stanford['quiche'].var.groupby('quiche_niche')['SpatialFDR'].median())\n",
    "scores_df_stanford.columns = ['pval']\n",
    "scores_df_stanford['logFC'] = mdata_stanford['quiche'].var.groupby('quiche_niche')['logFC'].mean()\n",
    "scores_df_stanford = scores_df_stanford[scores_df_stanford['pval'] < 0.05]\n",
    "ids = list(set(scores_df_stanford.index).intersection(set(list(mdata_stanford['quiche'].var['quiche_niche'].value_counts()[mdata_stanford['quiche'].var['quiche_niche'].value_counts() >= 5].index))))\n",
    "scores_df_stanford = scores_df_stanford.loc[ids]\n",
    "scores_df_stanford = scores_df_stanford[(scores_df_stanford.logFC > 1) | (scores_df_stanford.logFC < -1)]\n",
    "niches_stanford = list(scores_df_stanford.index)"
   ]
  },
  {
   "cell_type": "code",
   "execution_count": null,
   "metadata": {},
   "outputs": [],
   "source": [
    "mdata_nt = mudata.read_h5mu(os.path.join('data', 'tnbc_ntpublic', 'mdata', 'mdata_ntpublic.h5ad'))\n",
    "mdata_nt['quiche'].var[['SpatialFDR', 'logFC']] = mdata_nt['quiche'].var[['SpatialFDR', 'logFC']].astype('float')\n",
    "scores_df_nt = pd.DataFrame(mdata_nt['quiche'].var.groupby('quiche_niche')['SpatialFDR'].median())\n",
    "scores_df_nt.columns = ['pval']\n",
    "scores_df_nt['logFC'] = mdata_nt['quiche'].var.groupby('quiche_niche')['logFC'].mean()\n",
    "scores_df_nt = scores_df_nt[scores_df_nt['pval'] < 0.05]\n",
    "ids = list(set(scores_df_nt.index).intersection(set(list(mdata_nt['quiche'].var['quiche_niche'].value_counts()[mdata_nt['quiche'].var['quiche_niche'].value_counts() >= 5].index))))\n",
    "scores_df_nt = scores_df_nt.loc[ids]\n",
    "scores_df_nt = scores_df_nt[(scores_df_nt.logFC > 1) | (scores_df_nt.logFC < -1)]\n",
    "niches_nt = list(scores_df_nt.index)"
   ]
  },
  {
   "cell_type": "markdown",
   "metadata": {},
   "source": [
    "## Supplementary Figure 18a"
   ]
  },
  {
   "cell_type": "code",
   "execution_count": null,
   "metadata": {},
   "outputs": [],
   "source": [
    "plot_correlation(mdata_spain, save_directory, 'supplementary_figure18a_spain')\n",
    "plot_correlation(mdata_stanford, save_directory, 'supplementary_figure18a_stanford')\n",
    "plot_correlation(mdata_nt, save_directory, 'supplementary_figure18a_nt')"
   ]
  },
  {
   "cell_type": "markdown",
   "metadata": {},
   "source": [
    "## Supplementary Figure 18b"
   ]
  },
  {
   "cell_type": "code",
   "execution_count": null,
   "metadata": {},
   "outputs": [],
   "source": [
    "plot_nhood_distances(mdata_spain, niches_spain, save_directory, 'supplementary_figure18b_spain')\n",
    "plot_nhood_distances(mdata_stanford, niches_stanford, save_directory, 'supplementary_figure18b_stanford')\n",
    "plot_nhood_distances(mdata_nt, niches_nt, save_directory, 'supplementary_figure18b_nt')"
   ]
  },
  {
   "cell_type": "code",
   "execution_count": null,
   "metadata": {},
   "outputs": [],
   "source": [
    "# plot_prop(mdata_spain, niches_spain, save_directory, 'niche_labels_spain')\n",
    "# plot_prop(mdata_stanford, niches_stanford, save_directory, 'niche_labels_stanford')\n",
    "# plot_prop(mdata_nt,niches_nt, save_directory, 'niche_labels_nt')"
   ]
  },
  {
   "cell_type": "markdown",
   "metadata": {},
   "source": [
    "## Supplementary Figure 18c"
   ]
  },
  {
   "cell_type": "code",
   "execution_count": null,
   "metadata": {},
   "outputs": [],
   "source": [
    "mdata_spain = mudata.read_h5mu(os.path.join('data', 'tnbc_spain','mdata', 'mdata_spain_study_corrected.h5ad'))\n",
    "mdata_spain['quiche'].var[['logFC', 'SpatialFDR', 'PValue']] = mdata_spain['quiche'].var[['logFC', 'SpatialFDR', 'PValue']].astype('float')\n",
    "\n",
    "scores_df_spain = pd.DataFrame(mdata_spain['quiche'].var.groupby('quiche_niche')['SpatialFDR'].median())\n",
    "scores_df_spain.columns = ['pval']\n",
    "scores_df_spain['logFC'] = mdata_spain['quiche'].var.groupby('quiche_niche')['logFC'].mean()\n",
    "scores_df_spain = scores_df_spain[scores_df_spain['pval'] < 0.05]\n",
    "ids = list(set(scores_df_spain.index).intersection(set(list(mdata_spain['quiche'].var['quiche_niche'].value_counts()[mdata_spain['quiche'].var['quiche_niche'].value_counts() >= 5].index))))\n",
    "scores_df_spain = scores_df_spain.loc[ids]\n",
    "scores_df_spain = scores_df_spain[(scores_df_spain.logFC > 0.5) | (scores_df_spain.logFC < -0.5)]\n",
    "niches_spain = list(scores_df_spain.index)\n",
    "\n",
    "cov_count_df = qu.tl.compute_patient_proportion(mdata_spain,\n",
    "                                niches = niches_spain,\n",
    "                                feature_key = 'quiche',\n",
    "                                annot_key = 'quiche_niche',\n",
    "                                patient_key = 'Patient_ID',\n",
    "                                design_key = 'Relapse',\n",
    "                                patient_niche_threshold = 5)\n",
    "cov_count_df_frequent = cov_count_df[cov_count_df['patient_count'] >= 3]"
   ]
  },
  {
   "cell_type": "code",
   "execution_count": null,
   "metadata": {},
   "outputs": [],
   "source": [
    "predicted_niches = list(cov_count_df_frequent.quiche_niche)"
   ]
  },
  {
   "cell_type": "code",
   "execution_count": null,
   "metadata": {},
   "outputs": [],
   "source": [
    "design = '~Relapseshuffled'\n",
    "model_contrasts = 'Relapseshuffled1-Relapseshuffled0'\n",
    "test_key = 'Patient_ID'\n",
    "df_permute = []\n",
    "for i in range(0, 20):\n",
    "    df_relapse = mdata_spain['spatial_nhood'].obs[['Patient_ID', 'Relapse']].drop_duplicates().copy() ##maintain link between patient and relapse\n",
    "    df_relapse['Relapseshuffled'] = np.random.permutation(df_relapse['Relapse']) \n",
    "    df_relapse.drop(columns = 'Relapse', inplace=True)\n",
    "    df_merge = pd.merge(mdata_spain['spatial_nhood'].obs, df_relapse, on = 'Patient_ID')\n",
    "    df_merge.index =  mdata_spain['spatial_nhood'].obs_names\n",
    "    mdata_spain['spatial_nhood'].obs = df_merge\n",
    "    mdata_spain_permute = qu.tl.quicheDA(mdata_spain['spatial_nhood'], design = design, model_contrasts=model_contrasts, patient_key = test_key)\n",
    "    annotations = qu.tl.label_niches(mdata_spain, nlargest = 3, min_perc = 0.1)\n",
    "    try:\n",
    "        mdata_spain_permute['milo'].var['quiche_niche'] = annotations.values\n",
    "    except:\n",
    "        mdata_spain_permute['milo'].var['quiche_niche'] = annotations\n",
    "    \n",
    "    df_permute_ = mdata_spain_permute['milo'].var[np.isin(mdata_spain_permute['milo'].var['quiche_niche'], predicted_niches)].groupby('quiche_niche')[['logFC', 'SpatialFDR']].mean()\n",
    "    df_permute_['trial'] = i\n",
    "    df_permute_ = df_permute_.melt(id_vars= ['trial'], ignore_index=False)\n",
    "    df_permute.append(df_permute_)\n",
    "    del mdata_spain['spatial_nhood'].obs['Relapseshuffled']\n",
    "\n",
    "df_permute_concat  = pd.concat(df_permute)\n",
    "df_permute_concat.to_csv(os.path.join('data','output_files', 'spain_shuffled.csv'))"
   ]
  },
  {
   "cell_type": "code",
   "execution_count": null,
   "metadata": {},
   "outputs": [],
   "source": [
    "fig = plt.figure(figsize=(6, 10))\n",
    "gs = GridSpec(1, 2, width_ratios=[1, 1], wspace=0.1)\n",
    "\n",
    "ax0 = plt.subplot(gs[0])\n",
    "sns.boxplot(\n",
    "    data=df_permute_concat[df_permute_concat['variable'] == 'logFC'],\n",
    "    y=df_permute_concat[df_permute_concat['variable'] == 'logFC'].index,\n",
    "    x=\"value\",\n",
    "    order=predicted_niches,\n",
    "    orient=\"h\",\n",
    "    color=\"gray\",\n",
    "    ax=ax0,\n",
    "    width=0.6,\n",
    "    fliersize=0.8\n",
    ")\n",
    "ax0.axvline(x=0, linestyle='--', color='black', linewidth=1)\n",
    "ax0.set_xlabel(\"Log2(fold change)\", fontsize = 10)\n",
    "ax0.set_ylabel('QUICHE niche neighborhoods')\n",
    "ax1 = plt.subplot(gs[1], sharey=ax0)\n",
    "sns.boxplot(\n",
    "    data=df_permute_concat[df_permute_concat['variable'] == 'SpatialFDR'],\n",
    "    y=df_permute_concat[df_permute_concat['variable'] == 'SpatialFDR'].index,\n",
    "    x=\"value\",\n",
    "    order=predicted_niches,\n",
    "    orient=\"h\",\n",
    "    color=\"gray\",\n",
    "    ax=ax1,\n",
    "    width=0.6,\n",
    "    fliersize=0.8\n",
    ")\n",
    "ax1.axvline(x=0.05, linestyle='--', color='black', linewidth=1, label = 'FDR < 0.05')\n",
    "ax1.set_xlabel(\"SpatialFDR\", fontsize = 10)\n",
    "ax1.set_ylabel('')\n",
    "plt.legend()\n",
    "plt.setp(ax1.get_yticklabels(), visible=False)\n",
    "plt.tight_layout()\n",
    "plt.savefig(os.path.join(save_directory, 'supplementary_figure18c_spain.pdf'), bbox_inches = 'tight')\n"
   ]
  },
  {
   "cell_type": "code",
   "execution_count": null,
   "metadata": {},
   "outputs": [],
   "source": [
    "mdata_stanford = mudata.read_h5mu(os.path.join('data', 'tnbc_stanford', 'mdata', 'mdata_stanford.h5ad'))\n",
    "mdata_stanford['quiche'].var[['SpatialFDR', 'logFC']] = mdata_stanford['quiche'].var[['SpatialFDR', 'logFC']].astype('float')\n",
    "scores_df_stanford = pd.DataFrame(mdata_stanford['quiche'].var.groupby('quiche_niche')['SpatialFDR'].median())\n",
    "scores_df_stanford.columns = ['pval']\n",
    "scores_df_stanford['logFC'] = mdata_stanford['quiche'].var.groupby('quiche_niche')['logFC'].mean()\n",
    "scores_df_stanford = scores_df_stanford[scores_df_stanford['pval'] < 0.05]\n",
    "ids = list(set(scores_df_stanford.index).intersection(set(list(mdata_stanford['quiche'].var['quiche_niche'].value_counts()[mdata_stanford['quiche'].var['quiche_niche'].value_counts() >= 5].index))))\n",
    "scores_df_stanford = scores_df_stanford.loc[ids]\n",
    "scores_df_stanford = scores_df_stanford[(scores_df_stanford.logFC > 1) | (scores_df_stanford.logFC < -1)]\n",
    "niches_stanford = list(scores_df_stanford.index)"
   ]
  },
  {
   "cell_type": "code",
   "execution_count": null,
   "metadata": {},
   "outputs": [],
   "source": [
    "mdata_stanford['quiche'].var['SpatialFDR'] = mdata_stanford['quiche'].var['SpatialFDR'].astype('float')\n",
    "mdata_stanford['quiche'].var['logFC'] = mdata_stanford['quiche'].var['logFC'].astype('float')\n",
    "scores_df_stanford = pd.DataFrame(mdata_stanford['quiche'].var.groupby('quiche_niche')['SpatialFDR'].median())\n",
    "scores_df_stanford.columns = ['pval']\n",
    "scores_df_stanford['logFC'] = mdata_stanford['quiche'].var.groupby('quiche_niche')['logFC'].mean()\n",
    "scores_df_stanford = scores_df_stanford[scores_df_stanford['pval'] < 0.05]\n",
    "ids = list(set(scores_df_stanford.index).intersection(set(list(mdata_stanford['quiche'].var['quiche_niche'].value_counts()[mdata_stanford['quiche'].var['quiche_niche'].value_counts() >= 5].index))))\n",
    "scores_df_stanford = scores_df_stanford.loc[ids]\n",
    "scores_df_stanford = scores_df_stanford[(scores_df_stanford.logFC > 0.5) | (scores_df_stanford.logFC < -0.5)]\n",
    "niches_stanford = list(scores_df_stanford.index)\n",
    "\n",
    "cov_count_df = qu.tl.compute_patient_proportion(mdata_stanford,\n",
    "                                niches = niches_stanford,\n",
    "                                feature_key = 'quiche',\n",
    "                                annot_key = 'quiche_niche',\n",
    "                                patient_key = 'Patient_ID',\n",
    "                                design_key = 'RECURRENCE_LABEL',\n",
    "                                patient_niche_threshold = 5)\n",
    "\n",
    "cov_count_df_frequent = cov_count_df[cov_count_df['patient_count'] >= 3]"
   ]
  },
  {
   "cell_type": "code",
   "execution_count": null,
   "metadata": {},
   "outputs": [],
   "source": [
    "predicted_niches = list(cov_count_df_frequent.quiche_niche)"
   ]
  },
  {
   "cell_type": "code",
   "execution_count": null,
   "metadata": {},
   "outputs": [],
   "source": [
    "design = '~RECURRENCE_LABELshuffled'\n",
    "model_contrasts = 'RECURRENCE_LABELshuffledPOSITIVE-RECURRENCE_LABELshuffledNEGATIVE'\n",
    "test_key = 'Patient_ID'\n",
    "df_permute = []\n",
    "for i in range(0, 20):\n",
    "    print(i)\n",
    "    df_relapse = mdata_stanford['spatial_nhood'].obs[['Patient_ID', 'RECURRENCE_LABEL']].drop_duplicates().copy() ##maintain link between patient and relapse\n",
    "    df_relapse['RECURRENCE_LABELshuffled'] = np.random.permutation(df_relapse['RECURRENCE_LABEL'])\n",
    "    df_relapse.drop(columns = 'RECURRENCE_LABEL', inplace=True)\n",
    "    df_merge = pd.merge(mdata_stanford['spatial_nhood'].obs, df_relapse, on = 'Patient_ID')\n",
    "    df_merge.index =  mdata_stanford['spatial_nhood'].obs_names\n",
    "    mdata_stanford['spatial_nhood'].obs = df_merge\n",
    "    mdata_permute = qu.tl.quicheDA(mdata_stanford['spatial_nhood'], design = design, model_contrasts=model_contrasts, patient_key = test_key)\n",
    "    annotations = qu.tl.label_niches(mdata_stanford, nlargest = 3, min_perc = 0.1)\n",
    "    try:\n",
    "        mdata_permute['milo'].var['quiche_niche'] = annotations.values\n",
    "    except:\n",
    "        mdata_permute['milo'].var['quiche_niche'] = annotations\n",
    "    \n",
    "    df_permute_ = mdata_permute['milo'].var[np.isin(mdata_permute['milo'].var['quiche_niche'], predicted_niches)].groupby('quiche_niche')[['logFC', 'SpatialFDR']].mean()\n",
    "    df_permute_['trial'] = i\n",
    "    df_permute_ = df_permute_.melt(id_vars= ['trial'], ignore_index=False)\n",
    "    df_permute.append(df_permute_)\n",
    "    del mdata_stanford['spatial_nhood'].obs['RECURRENCE_LABELshuffled']\n",
    "df_permute_concat  = pd.concat(df_permute)\n",
    "df_permute_concat.to_csv(os.path.join('data','output_files','stanford_shuffled.csv'))"
   ]
  },
  {
   "cell_type": "code",
   "execution_count": null,
   "metadata": {},
   "outputs": [],
   "source": [
    "fig = plt.figure(figsize=(6, 5.5))\n",
    "gs = GridSpec(1, 2, width_ratios=[1, 1], wspace=0.1)\n",
    "ax0 = plt.subplot(gs[0])\n",
    "sns.boxplot(\n",
    "    data=df_permute_concat[df_permute_concat['variable'] == 'logFC'],\n",
    "    y=df_permute_concat[df_permute_concat['variable'] == 'logFC'].index,\n",
    "    x=\"value\",\n",
    "    order=predicted_niches,\n",
    "    orient=\"h\",\n",
    "    color=\"gray\",\n",
    "    ax=ax0,\n",
    "    width=0.6,\n",
    "    fliersize=0.8\n",
    ")\n",
    "ax0.axvline(x=0, linestyle='--', color='black', linewidth=1)\n",
    "ax0.set_xlabel(\"Log2(fold change)\", fontsize = 10)\n",
    "ax0.set_ylabel('QUICHE niche neighborhoods')\n",
    "ax1 = plt.subplot(gs[1], sharey=ax0)\n",
    "sns.boxplot(\n",
    "    data=df_permute_concat[df_permute_concat['variable'] == 'SpatialFDR'],\n",
    "    y=df_permute_concat[df_permute_concat['variable'] == 'SpatialFDR'].index,\n",
    "    x=\"value\",\n",
    "    order=predicted_niches,\n",
    "    orient=\"h\",\n",
    "    color=\"gray\",\n",
    "    ax=ax1,\n",
    "    width=0.6,\n",
    "    fliersize=0.8\n",
    ")\n",
    "ax1.axvline(x=0.05, linestyle='--', color='black', linewidth=1, label = 'FDR < 0.05')\n",
    "ax1.set_xlabel(\"SpatialFDR\", fontsize = 10)\n",
    "ax1.set_ylabel('')\n",
    "plt.legend()\n",
    "plt.setp(ax1.get_yticklabels(), visible=False)\n",
    "plt.tight_layout()\n",
    "plt.savefig(os.path.join(save_directory, 'supplementary_figure18c_stanford.pdf'), bbox_inches = 'tight')\n"
   ]
  },
  {
   "cell_type": "code",
   "execution_count": null,
   "metadata": {},
   "outputs": [],
   "source": [
    "mdata = mudata.read_h5mu(os.path.join('data', 'tnbc_ntpublic', 'mdata', 'mdata_ntpublic.h5ad'))\n",
    "mdata['quiche'].var['SpatialFDR'] = mdata['quiche'].var['SpatialFDR'].astype('float')\n",
    "mdata['quiche'].var['logFC'] = mdata['quiche'].var['logFC'].astype('float')\n",
    "scores_df_nt = pd.DataFrame(mdata['quiche'].var.groupby('quiche_niche')['SpatialFDR'].median())\n",
    "scores_df_nt.columns = ['pval']\n",
    "scores_df_nt['logFC'] = mdata['quiche'].var.groupby('quiche_niche')['logFC'].mean()\n",
    "scores_df_nt = scores_df_nt[scores_df_nt['pval'] < 0.05]\n",
    "ids = list(set(scores_df_nt.index).intersection(set(list(mdata['quiche'].var['quiche_niche'].value_counts()[mdata['quiche'].var['quiche_niche'].value_counts() >= 5].index))))\n",
    "scores_df_nt = scores_df_nt.loc[ids]\n",
    "scores_df_nt = scores_df_nt[(scores_df_nt.logFC > 0.5) | (scores_df_nt.logFC < -0.5)]\n",
    "niches_nt = list(scores_df_nt.index)\n",
    "\n",
    "cov_count_df = qu.tl.compute_patient_proportion(mdata,\n",
    "                                niches = niches_nt,\n",
    "                                feature_key = 'quiche',\n",
    "                                annot_key = 'quiche_niche',\n",
    "                                patient_key = 'Patient_ID',\n",
    "                                design_key = 'pCR',\n",
    "                                patient_niche_threshold = 5)\n",
    "cov_count_df_frequent = cov_count_df[cov_count_df['patient_count'] >= 2]"
   ]
  },
  {
   "cell_type": "code",
   "execution_count": null,
   "metadata": {},
   "outputs": [],
   "source": [
    "predicted_niches = list(cov_count_df_frequent.quiche_niche)"
   ]
  },
  {
   "cell_type": "code",
   "execution_count": null,
   "metadata": {},
   "outputs": [],
   "source": [
    "design = '~pCRshuffled'\n",
    "model_contrasts = 'pCRshuffledRD-pCRshuffledpCR'\n",
    "test_key = 'Patient_ID'\n",
    "df_permute = []\n",
    "for i in range(0, 20):\n",
    "    print(i)\n",
    "    df_relapse = mdata['spatial_nhood'].obs[['Patient_ID', 'pCR']].drop_duplicates().copy() ##maintain link between patient and relapse\n",
    "    df_relapse['pCRshuffled'] = np.random.permutation(df_relapse['pCR'])\n",
    "    df_relapse.drop(columns = 'pCR', inplace=True)\n",
    "    df_merge = pd.merge(mdata['spatial_nhood'].obs, df_relapse, on = 'Patient_ID')\n",
    "    df_merge.index =  mdata['spatial_nhood'].obs_names\n",
    "    mdata['spatial_nhood'].obs = df_merge\n",
    "    mdata_permute = qu.tl.quicheDA(mdata['spatial_nhood'], design = design, model_contrasts=model_contrasts, patient_key = test_key)\n",
    "    annotations = qu.tl.label_niches(mdata, nlargest = 3, min_perc = 0.1)\n",
    "    try:\n",
    "        mdata_permute['milo'].var['quiche_niche'] = annotations.values\n",
    "    except:\n",
    "        mdata_permute['milo'].var['quiche_niche'] = annotations\n",
    "    \n",
    "    df_permute_ = mdata_permute['milo'].var[np.isin(mdata_permute['milo'].var['quiche_niche'], predicted_niches)].groupby('quiche_niche')[['logFC', 'SpatialFDR']].mean()\n",
    "    df_permute_['trial'] = i\n",
    "    df_permute_ = df_permute_.melt(id_vars= ['trial'], ignore_index=False)\n",
    "    df_permute.append(df_permute_)\n",
    "    del mdata['spatial_nhood'].obs['pCRshuffled']\n",
    "df_permute_concat  = pd.concat(df_permute)\n",
    "df_permute_concat.to_csv(os.path.join('data','output_files','neotrip_shuffled.csv'))"
   ]
  },
  {
   "cell_type": "code",
   "execution_count": null,
   "metadata": {},
   "outputs": [],
   "source": [
    "fig = plt.figure(figsize=(6, 5))\n",
    "gs = GridSpec(1, 2, width_ratios=[1, 1], wspace=0.1)\n",
    "ax0 = plt.subplot(gs[0])\n",
    "sns.boxplot(\n",
    "    data=df_permute_concat[df_permute_concat['variable'] == 'logFC'],\n",
    "    y=df_permute_concat[df_permute_concat['variable'] == 'logFC'].index,\n",
    "    x=\"value\",\n",
    "    order=predicted_niches,\n",
    "    orient=\"h\",\n",
    "    color=\"gray\",\n",
    "    ax=ax0,\n",
    "    width=0.6,\n",
    "    fliersize=0.8\n",
    ")\n",
    "ax0.axvline(x=0, linestyle='--', color='black', linewidth=1)\n",
    "ax0.set_xlabel(\"Log2(fold change)\", fontsize = 10)\n",
    "ax0.set_ylabel('QUICHE niche neighborhoods')\n",
    "ax1 = plt.subplot(gs[1], sharey=ax0)\n",
    "sns.boxplot(\n",
    "    data=df_permute_concat[df_permute_concat['variable'] == 'SpatialFDR'],\n",
    "    y=df_permute_concat[df_permute_concat['variable'] == 'SpatialFDR'].index,\n",
    "    x=\"value\",\n",
    "    order=predicted_niches,\n",
    "    orient=\"h\",\n",
    "    color=\"gray\",\n",
    "    ax=ax1,\n",
    "    width=0.6,\n",
    "    fliersize=0.8\n",
    ")\n",
    "ax1.axvline(x=0.05, linestyle='--', color='black', linewidth=1, label = 'FDR < 0.05')  # Vertical dotted line at 0.05\n",
    "ax1.set_xlabel(\"SpatialFDR\", fontsize = 10)\n",
    "ax1.set_ylabel('')\n",
    "plt.legend()\n",
    "plt.setp(ax1.get_yticklabels(), visible=False)\n",
    "plt.tight_layout()\n",
    "plt.savefig(os.path.join(save_directory, 'supplementary_figure18c_neotrip.pdf'), bbox_inches = 'tight')"
   ]
  }
 ],
 "metadata": {
  "kernelspec": {
   "display_name": "venv_quiche_all",
   "language": "python",
   "name": "python3"
  },
  "language_info": {
   "codemirror_mode": {
    "name": "ipython",
    "version": 3
   },
   "file_extension": ".py",
   "mimetype": "text/x-python",
   "name": "python",
   "nbconvert_exporter": "python",
   "pygments_lexer": "ipython3",
   "version": "3.9.20"
  }
 },
 "nbformat": 4,
 "nbformat_minor": 2
}
