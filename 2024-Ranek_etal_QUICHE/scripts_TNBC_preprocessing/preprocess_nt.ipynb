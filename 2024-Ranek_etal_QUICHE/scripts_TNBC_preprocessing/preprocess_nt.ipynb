{
 "cells": [
  {
   "cell_type": "code",
   "execution_count": null,
   "metadata": {},
   "outputs": [],
   "source": [
    "import numpy as np\n",
    "import pandas as pd\n",
    "import os\n",
    "import anndata"
   ]
  },
  {
   "cell_type": "markdown",
   "metadata": {},
   "source": [
    "### Preprocess IMC data from 119 TNBC patients from NeoTRIP trial (see Ref. https://www.nature.com/articles/s41586-023-06498-3)"
   ]
  },
  {
   "cell_type": "code",
   "execution_count": null,
   "metadata": {},
   "outputs": [],
   "source": [
    "base_dir = '/Volumes/Shared/Noah Greenwald/NTPublic'\n",
    "save_dir = os.path.join(base_dir, 'intermediate_files', 'metadata')\n",
    "data_dir = os.path.join(base_dir, 'data')\n",
    "clinical_df = pd.read_csv(os.path.join(data_dir, 'derived', 'clinical.csv'))\n",
    "ids_df = pd.read_csv(os.path.join(data_dir, 'derived', 'IDs.csv'))"
   ]
  },
  {
   "cell_type": "code",
   "execution_count": null,
   "metadata": {},
   "outputs": [],
   "source": [
    "timepoint_metadata = clinical_df.copy()\n",
    "timepoint_metadata.rename(columns = {'PatientID':'Patient_ID', 'BiopsyPhase':'Timepoint'}, inplace=True)\n",
    "timepoint_metadata['Tissue_ID'] = [f'T{i}' for i in range(0, clinical_df.shape[0])]\n",
    "timepoint_metadata['MIBI_data_generated'] = True"
   ]
  },
  {
   "cell_type": "code",
   "execution_count": null,
   "metadata": {},
   "outputs": [],
   "source": [
    "core_metadata = ids_df.copy()\n",
    "core_metadata.rename(columns = {'ImageID': 'fov', 'PatientID': 'Patient_ID', 'BiopsyPhase': 'Timepoint'}, inplace = True)\n",
    "core_metadata = pd.merge(core_metadata, timepoint_metadata, on = ['Timepoint', 'Patient_ID'])\n",
    "core_metadata.drop(columns = ['ImageNumber'], inplace=True)\n",
    "core_metadata"
   ]
  },
  {
   "cell_type": "code",
   "execution_count": null,
   "metadata": {},
   "outputs": [],
   "source": [
    "patient_metadata = clinical_df.copy()\n",
    "patient_metadata.drop(columns = ['BiopsyPhase', 'isPerProtocol'], inplace = True)\n",
    "patient_metadata.rename(columns = {'PatientID': 'Patient_ID'}, inplace = True)\n",
    "patient_metadata = patient_metadata.drop_duplicates()\n",
    "patient_metadata"
   ]
  },
  {
   "cell_type": "code",
   "execution_count": null,
   "metadata": {},
   "outputs": [],
   "source": [
    "# create comparison pairs\n",
    "subset_metadata = timepoint_metadata.loc[timepoint_metadata.Timepoint.isin(['Baseline', 'On-treatment', 'Post-treatment']), :]\n",
    "subset_metadata = subset_metadata.loc[subset_metadata.MIBI_data_generated, :]\n",
    "metadata_wide = pd.pivot(subset_metadata, index='Patient_ID', columns='Timepoint', values='Tissue_ID')"
   ]
  },
  {
   "cell_type": "code",
   "execution_count": null,
   "metadata": {},
   "outputs": [],
   "source": [
    "unique_comparisons = []\n",
    "comparison_lists = timepoint_metadata.groupby(['Patient_ID'])['Timepoint'].unique().reset_index().Timepoint\n",
    "for i in comparison_lists:\n",
    "    if tuple(i) not in unique_comparisons:\n",
    "            unique_comparisons.append(tuple(i))\n",
    "\n",
    "print(unique_comparisons)"
   ]
  },
  {
   "cell_type": "code",
   "execution_count": null,
   "metadata": {},
   "outputs": [],
   "source": [
    "comparison_pairs = [['Baseline', 'On-treatment'], ['On-treatment', 'Post-treatment'], ['Baseline', 'Post-treatment']]\n",
    "\n",
    "# loop through pairs, find patients with matching tissue, add to patient_metadata\n",
    "for pair in comparison_pairs:\n",
    "    current_wide = metadata_wide.loc[:, pair]\n",
    "    current_wide = current_wide.dropna(axis=0)\n",
    "    # current_wide = current_wide.loc[current_wide[pair[0]] == current_wide[pair[1]], :]\n",
    "\n",
    "    patient_metadata['__'.join(pair)] = patient_metadata.Patient_ID.isin(current_wide.index)"
   ]
  },
  {
   "cell_type": "code",
   "execution_count": null,
   "metadata": {},
   "outputs": [],
   "source": [
    "# create harmonized metadata \n",
    "timepoint_metadata_ids = ['Tissue_ID', 'MIBI_data_generated', 'Patient_ID', 'Timepoint', 'isPerProtocol']\n",
    "patient_metadata_ids = ['Patient_ID', 'pCR', 'Arm', 'Baseline__On-treatment', 'On-treatment__Post-treatment', 'Baseline__Post-treatment']\n",
    "\n",
    "harmonized_metadata = core_metadata[['fov', 'Tissue_ID']]\n",
    "\n",
    "harmonized_metadata = pd.merge(harmonized_metadata, timepoint_metadata.loc[:, timepoint_metadata_ids], on='Tissue_ID', how='left')\n",
    "assert np.sum(harmonized_metadata.Tissue_ID.isnull()) == 0\n",
    "\n",
    "harmonized_metadata = pd.merge(harmonized_metadata, patient_metadata.loc[:, patient_metadata_ids], on='Patient_ID', how='inner')\n",
    "assert np.sum(harmonized_metadata.Tissue_ID.isnull()) == 0\n",
    "\n",
    "harmonized_metadata"
   ]
  },
  {
   "cell_type": "code",
   "execution_count": null,
   "metadata": {},
   "outputs": [],
   "source": [
    "#save csvs for all timepoints\n",
    "harmonized_metadata.to_csv(os.path.join(save_dir, 'harmonized_metadata.csv'), index=False)\n",
    "core_metadata.to_csv(os.path.join(save_dir, 'NTPublic_data_per_core.csv'), index=False)\n",
    "timepoint_metadata.to_csv(os.path.join(save_dir, 'NTPublic_data_per_timepoint.csv'), index=False)\n",
    "patient_metadata.to_csv(os.path.join(save_dir, 'NTPublic_data_per_patient.csv'), index=False)"
   ]
  },
  {
   "cell_type": "markdown",
   "metadata": {},
   "source": [
    "### create preprocessed anndata object"
   ]
  },
  {
   "cell_type": "code",
   "execution_count": null,
   "metadata": {},
   "outputs": [],
   "source": [
    "base_dir = '/Volumes/Shared/Noah Greenwald/NTPublic'\n",
    "save_dir = '/Users/jolene/Documents/Angelo_lab/quiche/data/Zenodo'\n",
    "cell_table = pd.read_csv(os.path.join(base_dir, 'data', 'derived_ark', 'final_cell_table.csv'))\n",
    "metadata = pd.read_csv(os.path.join(base_dir, 'analysis_files', 'harmonized_metadata.csv'))\n",
    "cell_table = pd.merge(cell_table, metadata.loc[:, ['fov', 'isPerProtocol']], on = 'fov')\n",
    "cell_table = cell_table[np.isin(cell_table['cellAnnotation'], ['TME', 'invasive'])]\n",
    "cell_table = cell_table[np.isin(cell_table['isPerProtocol'], [True])]\n",
    "markers = ['H3', 'CD163', 'CD20', 'PD-L1 (SP142)', 'CD56', 'Helios',\n",
    "       'CD8', 'OX40', 'CD11c', 'CD3', 'GATA3', 'SMA', 'TOX', 'T-bet', 'PD-1',\n",
    "       'IDO', 'AR', 'FOXP3', 'PD-L1 (73-10)', 'ICOS', 'Ki67', 'CD4', 'CK5/14',\n",
    "       'TCF1', 'PDGFRB', 'CD31', 'GZMB', 'PDPN', 'HLA-ABC', 'c-PARP', 'panCK',\n",
    "       'CD79a', 'DNA1', 'CK8/18', 'DNA2', 'Carboplatin', 'Vimentin',\n",
    "       'Calponin', 'Caveolin-1', 'CD15', 'MPO', 'HLA-DR', 'CD68', 'pH2AX',\n",
    "       'CD45', 'CA9']\n",
    "\n",
    "cell_table_metadata = cell_table.loc[:, cell_table.columns[~np.isin(cell_table.columns, markers)]].copy()\n",
    "\n",
    "adata = anndata.AnnData(cell_table.loc[:, markers])\n",
    "adata.obs = pd.merge(cell_table_metadata, metadata.loc[:, ['fov', 'Tissue_ID', 'Patient_ID', 'pCR', 'Arm']], on = ['Patient_ID', 'fov'])\n",
    "adata = adata[(adata.obs['Arm'] == 'C') & (adata.obs['BiopsyPhase'] == 'Baseline')] #subset data to include only baseline samples treated with Chemotherapy\n",
    "adata.obsm['spatial'] = np.array(adata.obs[['centroid-1', 'centroid-0']])\n",
    "adata.obs['cell_cluster'] = adata.obs['cell_cluster'].replace({'M2_Mac': 'Mac',\n",
    "                                                                   'Epithelial_1': 'Cancer_4',\n",
    "                                                                   'Epithelial_2': 'Cancer_4',\n",
    "                                                                   'Epithelial_3': 'Cancer_4',\n",
    "                                                                   'Endothelial':'Endothelium'})\n",
    "\n",
    "phenotypic_markers = ['CK5/14', 'CK8/18', 'panCK', 'AR','CD45', 'CD3', 'CD4', 'CD8', 'FOXP3', 'CD20','CD79a', 'CD56', 'CD68', 'CD163', 'CD11c', 'HLA-DR',  'CD15', 'MPO', 'Calponin', 'SMA', 'Vimentin', 'PDGFRB','PDPN', 'CD31']\n",
    "functional_markers = ['PD-L1 (SP142)', 'PD-L1 (73-10)', 'IDO', 'PD-1', 'OX40', 'ICOS', 'CA9', 'c-PARP', 'Ki67', 'pH2AX', 'Helios', 'GATA3', 'T-bet', 'TCF1', 'TOX', 'GZMB', 'HLA-ABC']\n",
    "\n",
    "var_names = phenotypic_markers+functional_markers\n",
    "\n",
    "cell_ordering = ['Cancer_4', 'CD4T', 'CD8T', 'Treg', 'B', 'Plasma',\n",
    "                 'NK', 'CD163_Mac', 'APC','DC', 'Neutrophil',\n",
    "                 'Fibroblast', 'PDPN', 'Endothelium']\n",
    "\n",
    "adata = adata[:, np.isin(adata.var_names, var_names)].copy()\n",
    "adata = adata[np.isin(adata.obs['pCR'], ['RD', 'pCR'])]\n",
    "adata = adata[np.isin(adata.obs['cell_cluster'], cell_ordering)]\n",
    "adata.write_h5ad(os.path.join(save_dir, 'nt_preprocessed.h5ad'))"
   ]
  }
 ],
 "metadata": {
  "kernelspec": {
   "display_name": "venv_quiche_repo",
   "language": "python",
   "name": "python3"
  },
  "language_info": {
   "name": "python",
   "version": "3.9.21"
  }
 },
 "nbformat": 4,
 "nbformat_minor": 2
}
