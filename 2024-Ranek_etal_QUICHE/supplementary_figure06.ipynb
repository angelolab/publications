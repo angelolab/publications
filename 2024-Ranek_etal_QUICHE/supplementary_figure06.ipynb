{
 "cells": [
  {
   "cell_type": "markdown",
   "metadata": {},
   "source": [
    "## Hyperparameter evaluation"
   ]
  },
  {
   "cell_type": "code",
   "execution_count": null,
   "metadata": {},
   "outputs": [],
   "source": [
    "import os\n",
    "os.environ['KMP_DUPLICATE_LIB_OK']='True'\n",
    "import pandas as pd\n",
    "import numpy as np\n",
    "import quiche as qu\n",
    "import matplotlib.pyplot as plt\n",
    "import seaborn as sns\n",
    "import anndata\n",
    "import scanpy as sc\n",
    "import mudata\n",
    "import logging\n",
    "import matplotlib.cm as cm\n",
    "import imageio as io\n",
    "\n",
    "%reload_ext autoreload\n",
    "%load_ext autoreload\n",
    "%autoreload 2\n",
    "%matplotlib inline"
   ]
  },
  {
   "cell_type": "markdown",
   "metadata": {},
   "source": [
    "### simulate data"
   ]
  },
  {
   "cell_type": "code",
   "execution_count": null,
   "metadata": {},
   "outputs": [],
   "source": [
    "# compartment_colormap = pd.DataFrame({'mask_name': ['cancer_core', 'cancer_border', 'stroma', 'immune1', np.nan], \n",
    "#                                      'color': ['blue', 'deepskyblue','firebrick', 'orange', 'black']})\n",
    "\n",
    "# compartment_colormap = pd.DataFrame({'mask_name': ['cancer_core', 'cancer_border', 'stroma', 'immune1', np.nan], \n",
    "#                                      'color': ['#1885F2', '#78CE8B','#B46CDA', '#D78F09', 'black']})\n",
    "\n",
    "# compartment_colormap = pd.DataFrame({'mask_name': ['cancer_core', 'cancer_border', 'stroma', 'immune1', np.nan], \n",
    "#                                      'color': ['blue', 'deepskyblue','#A5243D', 'orange', 'black']})\n",
    "\n",
    "\n",
    "# compartmentalized_tumors = ['TMA31_R3C1', 'TMA31_R3C9', 'TMA41_R4C4', 'TMA31_R4C5', 'TMA31_R5C4', 'TMA31_R5C5', 'TMA31_R7C1', 'TMA32_R5C7', 'TMA32_R8C5', 'TMA32_R10C4', 'TMA33_R5C8',\n",
    "#                             'TMA33_R8C4', 'TMA33_R9C4', 'TMA33_R10C5', 'TMA33_R12C2', 'TMA34_R4C2', 'TMA34_R9C8', 'TMA34_R12C3', 'TMA35_R3C2', 'TMA35_R4C3', 'TMA36_R2C7',\n",
    "#                             'TMA36_R9C9', 'TMA37_R3C1', 'TMA37_R4C4', 'TMA37_R4C7', 'TMA37_R7C4', 'TMA37_R10C5', 'TMA38_R5C2', 'TMA39_R5C6', 'TMA39_R1C1', 'TMA39_R2C4', 'TMA39_R3C4',\n",
    "#                             'TMA39_R5C4', 'TMA39_R5C6', 'TMA39_R5C8', 'TMA39_R6C1', 'TMA39_R9C2', 'TMA39_R9C6', 'TMA40_R4C7', 'TMA40_R5C2', 'TMA40_R6C3', 'TMA40_R6C6', 'TMA40_R7C6',\n",
    "#                             'TMA40_R7C7', 'TMA40_R8C6', 'TMA40_R10C7', 'TMA41_R1C3', 'TMA41_R2C3', 'TMA41_R4C2', 'TMA41_R4C3', 'TMA41_R4C4', 'TMA42_R2C2', 'TMA42_R3C5', 'TMA42_R4C1',\n",
    "#                             'TMA42_R6C1', 'TMA42_R6C5', 'TMA42_R7C4', 'TMA43_R1C3', 'TMA43_R3C3', 'TMA43_R5C7', 'TMA43_R8C7', 'TMA43_R9C8', 'TMA43_R11C5', 'TMA44_R3C3', 'TMA44_R3C7',\n",
    "#                             'TMA44_R7C2', 'TMA44_R7C6', 'TMA44_R8C1', 'TMA44_R8C3', 'TMA44_R9C5', 'TMA44_R10C6', 'TMA44_R12C2', 'TMA44_R12C7', 'TMA44_R13C7', 'TMA44_R14C7']\n",
    "\n",
    "# base_dir = '/Volumes/Shared/Noah Greenwald/TNBC_Cohorts/SPAIN/intermediate_files'\n",
    "# cell_table = pd.read_csv(os.path.join(base_dir, 'post_processing', 'cell_table_size_normalized_samples_cell_labels_updated.csv'))\n",
    "\n",
    "# annotations_by_mask = pd.read_csv(os.path.join(base_dir, 'mask_dir', 'individual_masks-no_tagg_tls', 'cell_annotation_mask.csv'))\n",
    "# annotations_by_mask_merged = pd.merge(annotations_by_mask, cell_table.loc[:, ['fov', 'label', 'centroid-1', 'centroid-0']], on = ['fov', 'label'])\n",
    "# annotations_by_mask_merged['mask_name'].replace(['stroma_core', 'stroma_border'], ['stroma', 'stroma'], inplace = True)\n",
    "# annotations_by_mask_merged = annotations_by_mask_merged[np.isin(annotations_by_mask_merged.fov, compartmentalized_tumors)]\n",
    "\n",
    "# adata_expression = anndata.read_h5ad(os.path.join('data', 'simulated', 'adata_simulated_expression_groups_large.h5ad'))\n",
    "\n",
    "# num_to_change = 50\n",
    "# count_df = annotations_by_mask_merged.groupby(['fov', 'mask_name']).count()['label'].unstack()\n",
    "# ratio_df = pd.Series([800, 1200, 1600], index = ['cancer_border', 'cancer_core', 'stroma'])\n",
    "# fov_list = (count_df > ratio_df + num_to_change).sum(axis = 1)\n",
    "# fov_list = list(fov_list[fov_list == 3].index)\n",
    "# ratio_df = pd.Series([800, 1200, 1600, num_to_change], index = ['cancer_border', 'cancer_core', 'stroma', 'immune1'])\n",
    "\n",
    "# for trial in range(5):\n",
    "#     adata = qu.tl.simulate_structured_data(annotations_by_mask, cell_table, adata_expression, fov_key = 'fov', fov_list = fov_list, labels_key = 'mask_name', \n",
    "#                         cond1 = 'cancer_core', cond2 = 'cancer_border', radius = 500, p = 2, condition_id = 'immune1', num_to_change = num_to_change,\n",
    "#                         compartment_colormap = compartment_colormap, prevalence = 0.6, ratio_df = ratio_df, cell_types = ['cancer_core', 'cancer_border', 'stroma', 'immune1'],\n",
    "#                         sim_cell_types = ['Group1', 'Group1', 'Group2', 'Group3'], group_key = 'group', spatial_key = 'spatial', n_jobs = 8)\n",
    "#     adata.write_h5ad(os.path.join('data', 'simulated', f'adata_simulated_structured_trial{trial}.h5ad'))"
   ]
  },
  {
   "cell_type": "markdown",
   "metadata": {},
   "source": [
    "### define metrics for evaluation"
   ]
  },
  {
   "cell_type": "code",
   "execution_count": null,
   "metadata": {},
   "outputs": [],
   "source": [
    "eval_method_list = [qu.tl.group_recall, qu.tl.evaluate_purity]\n",
    "metric_names = ['recall', 'purity']\n",
    "eval_method_params_list = [{'method_type':'other', 'feature_key':'spatial_nhood', 'ground_key': 'DA_group', 'labels_key': 'quiche_niche', 'ground_truth_niches':['border_immune1', 'core_immune1']},\n",
    "                      {'annot_key':'quiche_niche', 'labels_key':'mask_name', 'fov_key':'Patient_ID', 'condition_key':'DA_group','feature_key':'spatial_nhood'}]"
   ]
  },
  {
   "cell_type": "markdown",
   "metadata": {},
   "source": [
    "### number of nearest neighbors"
   ]
  },
  {
   "cell_type": "code",
   "execution_count": null,
   "metadata": {},
   "outputs": [],
   "source": [
    "ksweep = [10, 20, 30, 40, 50, 75, 100]\n",
    "spatial_method_params = {'radius': 200,\n",
    "                         'labels_key':'mask_name',\n",
    "                         'spatial_key':'spatial',\n",
    "                         'fov_key':'Patient_ID',\n",
    "                         'patient_key':'Patient_ID',\n",
    "                         'delaunay': False,\n",
    "                         'min_cells':3,\n",
    "                         'k_sim':100,\n",
    "                         'design':'~condition',\n",
    "                         'model_contrasts':'conditioncancer_core-conditioncancer_border',\n",
    "                         'sketch_size':None,\n",
    "                         'nlargest': 4,\n",
    "                         'annotation_key':'quiche_niche',\n",
    "                         'n_jobs':-1,\n",
    "                         'label_scheme':'normal'}\n",
    "\n",
    "evaluation_df = pd.DataFrame()\n",
    "for trial in range(5):\n",
    "    adata = anndata.read_h5ad(os.path.join('data', 'simulated', f'adata_simulated_structured_trial{trial}.h5ad'))\n",
    "    for n_neighbors in ksweep:\n",
    "        for i in range(0, len(eval_method_list)):\n",
    "            print(trial, n_neighbors, i)\n",
    "            eval_method = eval_method_list[i]\n",
    "            eval_method_params = eval_method_params_list[i]\n",
    "            spatial_method_params['n_neighbors'] = n_neighbors\n",
    "            mdata, _ = qu.tl.run_quiche(adata, **spatial_method_params)\n",
    "            scores_df = pd.DataFrame(mdata['quiche'].var.groupby('quiche_niche')['PValue'].median())\n",
    "            scores_df.columns = ['pval']\n",
    "            scores_df['logFC'] = mdata['quiche'].var.groupby('quiche_niche')['logFC'].median()\n",
    "            scores_df = scores_df[scores_df['pval'] < 0.05]\n",
    "            ids = list(set(scores_df.index).intersection(set(list(mdata['quiche'].var['quiche_niche'].value_counts()[mdata['quiche'].var['quiche_niche'].value_counts() >= 5].index))))\n",
    "            scores_df = scores_df.loc[ids]\n",
    "            eval_df = eval_method(mdata, scores_df = scores_df, **eval_method_params)\n",
    "            eval_df.loc[:, 'metric'] = metric_names[i]\n",
    "            eval_df.loc[:, 'n_neighbors'] = n_neighbors\n",
    "            eval_df.loc[:, 'trial'] = trial\n",
    "            evaluation_df = pd.concat([eval_df, evaluation_df], axis = 0)\n",
    "evaluation_df.to_csv(os.path.join('data', 'output_files', 'param_n_neighbors.csv'))"
   ]
  },
  {
   "cell_type": "markdown",
   "metadata": {},
   "source": [
    "### radius"
   ]
  },
  {
   "cell_type": "code",
   "execution_count": null,
   "metadata": {},
   "outputs": [],
   "source": [
    "radius_list = [50, 75, 100, 200, 250, 300]\n",
    "spatial_method_params = {'labels_key':'mask_name',\n",
    "                         'spatial_key':'spatial',\n",
    "                         'fov_key':'Patient_ID',\n",
    "                         'n_neighbors': 30, \n",
    "                         'k_sim':100,\n",
    "                         'patient_key':'Patient_ID',\n",
    "                         'delaunay': False,\n",
    "                         'min_cells':3,\n",
    "                         'design':'~condition',\n",
    "                         'model_contrasts':'conditioncancer_core-conditioncancer_border',\n",
    "                         'sketch_size':None,\n",
    "                         'nlargest': 4,\n",
    "                         'annotation_key':'quiche_niche',\n",
    "                         'n_jobs':-1,\n",
    "                         'label_scheme':'normal'}\n",
    "\n",
    "evaluation_df = pd.DataFrame()\n",
    "for trial in range(5):\n",
    "    adata = anndata.read_h5ad(os.path.join('data', 'simulated', f'adata_simulated_structured_trial{trial}.h5ad'))\n",
    "    for radius in radius_list:\n",
    "        for i in range(0, len(eval_method_list)):\n",
    "            print(trial, radius, i)\n",
    "            eval_method = eval_method_list[i]\n",
    "            eval_method_params = eval_method_params_list[i]\n",
    "            spatial_method_params['radius'] = radius\n",
    "            mdata, _ = qu.tl.run_quiche(adata, **spatial_method_params)\n",
    "            scores_df = pd.DataFrame(mdata['quiche'].var.groupby('quiche_niche')['PValue'].median())\n",
    "            scores_df.columns = ['pval']\n",
    "            scores_df['logFC'] = mdata['quiche'].var.groupby('quiche_niche')['logFC'].median()\n",
    "            scores_df = scores_df[scores_df['pval'] < 0.05]\n",
    "            ids = list(set(scores_df.index).intersection(set(list(mdata['quiche'].var['quiche_niche'].value_counts()[mdata['quiche'].var['quiche_niche'].value_counts() >= 5].index))))\n",
    "            scores_df = scores_df.loc[ids]\n",
    "            eval_df = eval_method(mdata, scores_df = scores_df, **eval_method_params)\n",
    "            eval_df.loc[:, 'metric'] = metric_names[i]\n",
    "            eval_df.loc[:, 'radius'] = radius\n",
    "            eval_df.loc[:, 'trial'] = trial\n",
    "            evaluation_df = pd.concat([eval_df, evaluation_df], axis = 0)\n",
    "evaluation_df.to_csv(os.path.join('data', 'output_files', 'param_radius.csv'))"
   ]
  },
  {
   "cell_type": "markdown",
   "metadata": {},
   "source": [
    "### k sim"
   ]
  },
  {
   "cell_type": "code",
   "execution_count": null,
   "metadata": {},
   "outputs": [],
   "source": [
    "ksweep = [50, 100, 200, 300]\n",
    "spatial_method_params = {'labels_key':'mask_name',\n",
    "                         'spatial_key':'spatial',\n",
    "                         'fov_key':'Patient_ID',\n",
    "                         'n_neighbors': 30, \n",
    "                         'radius': 200,\n",
    "                         'patient_key':'Patient_ID',\n",
    "                         'delaunay': False,\n",
    "                         'min_cells':3,\n",
    "                         'design':'~condition',\n",
    "                         'model_contrasts':'conditioncancer_core-conditioncancer_border',\n",
    "                         'sketch_size':None,\n",
    "                         'nlargest': 4,\n",
    "                         'annotation_key':'quiche_niche',\n",
    "                         'n_jobs':-1,\n",
    "                         'label_scheme':'normal'}\n",
    "\n",
    "evaluation_df = pd.DataFrame()\n",
    "for trial in range(5):\n",
    "    adata = anndata.read_h5ad(os.path.join('data', 'simulated', f'adata_simulated_structured_trial{trial}.h5ad'))\n",
    "    for k_sim in ksweep:\n",
    "        for i in range(0, len(eval_method_list)):\n",
    "            print(trial, k_sim, i)\n",
    "            eval_method = eval_method_list[i]\n",
    "            eval_method_params = eval_method_params_list[i]\n",
    "            spatial_method_params['k_sim'] = k_sim\n",
    "            mdata, _ = qu.tl.run_quiche(adata, **spatial_method_params)\n",
    "            scores_df = pd.DataFrame(mdata['quiche'].var.groupby('quiche_niche')['PValue'].median())\n",
    "            scores_df.columns = ['pval']\n",
    "            scores_df['logFC'] = mdata['quiche'].var.groupby('quiche_niche')['logFC'].median()\n",
    "            scores_df = scores_df[scores_df['pval'] < 0.05]\n",
    "            ids = list(set(scores_df.index).intersection(set(list(mdata['quiche'].var['quiche_niche'].value_counts()[mdata['quiche'].var['quiche_niche'].value_counts() >= 5].index))))\n",
    "            scores_df = scores_df.loc[ids]\n",
    "            eval_df = eval_method(mdata, scores_df = scores_df, **eval_method_params)\n",
    "            eval_df.loc[:, 'metric'] = metric_names[i]\n",
    "            eval_df.loc[:, 'k_sim'] = k_sim\n",
    "            eval_df.loc[:, 'trial'] = trial\n",
    "            evaluation_df = pd.concat([eval_df, evaluation_df], axis = 0)\n",
    "evaluation_df.to_csv(os.path.join('data', 'output_files', 'param_k_sim.csv'))"
   ]
  },
  {
   "cell_type": "markdown",
   "metadata": {},
   "source": [
    "### sketch size "
   ]
  },
  {
   "cell_type": "code",
   "execution_count": null,
   "metadata": {},
   "outputs": [],
   "source": [
    "sketch_size_list = [250, 500, 750, 1000, 2000, 2500, None]\n",
    "spatial_method_params = {'labels_key':'mask_name',\n",
    "                         'spatial_key':'spatial',\n",
    "                         'fov_key':'Patient_ID',\n",
    "                         'n_neighbors': 30, \n",
    "                         'radius': 200,\n",
    "                         'patient_key':'Patient_ID',\n",
    "                         'delaunay': False,\n",
    "                         'min_cells':3,\n",
    "                         'design':'~condition',\n",
    "                         'k_sim': 100,\n",
    "                         'model_contrasts':'conditioncancer_core-conditioncancer_border',\n",
    "                         'nlargest': 4,\n",
    "                         'annotation_key':'quiche_niche',\n",
    "                         'n_jobs':-1,\n",
    "                         'label_scheme':'normal'}\n",
    "\n",
    "evaluation_df = pd.DataFrame()\n",
    "for trial in range(5):\n",
    "    adata = anndata.read_h5ad(os.path.join('data', 'simulated', f'adata_simulated_structured_trial{trial}.h5ad'))\n",
    "    for sketch_size in sketch_size_list:\n",
    "        for i in range(0, len(eval_method_list)):\n",
    "            print(trial, sketch_size, i)\n",
    "            eval_method = eval_method_list[i]\n",
    "            eval_method_params = eval_method_params_list[i]\n",
    "            spatial_method_params['sketch_size'] = sketch_size\n",
    "            mdata, _ = qu.tl.run_quiche(adata, **spatial_method_params)\n",
    "            scores_df = pd.DataFrame(mdata['quiche'].var.groupby('quiche_niche')['PValue'].median())\n",
    "            scores_df.columns = ['pval']\n",
    "            scores_df['logFC'] = mdata['quiche'].var.groupby('quiche_niche')['logFC'].median()\n",
    "            scores_df = scores_df[scores_df['pval'] < 0.05]\n",
    "            ids = list(set(scores_df.index).intersection(set(list(mdata['quiche'].var['quiche_niche'].value_counts()[mdata['quiche'].var['quiche_niche'].value_counts() >= 5].index))))\n",
    "            scores_df = scores_df.loc[ids]\n",
    "            eval_df = eval_method(mdata, scores_df = scores_df, **eval_method_params)\n",
    "            eval_df.loc[:, 'metric'] = metric_names[i]\n",
    "            eval_df.loc[:, 'sketch'] = sketch_size\n",
    "            eval_df.loc[:, 'trial'] = trial\n",
    "            evaluation_df = pd.concat([eval_df, evaluation_df], axis = 0)\n",
    "evaluation_df.to_csv(os.path.join('data', 'output_files', 'param_sketch.csv'))"
   ]
  },
  {
   "cell_type": "code",
   "execution_count": null,
   "metadata": {},
   "outputs": [],
   "source": [
    "def plot_param(df, param_key, save_directory, filename_save):\n",
    "    fig, axes = plt.subplots(2, 1, figsize=(3.5, 6.5), sharex=True)\n",
    "    g = sns.lineplot(x = param_key, y = 'value', data = df[df['metric'] == 'recall'], color = 'k', markers=True, marker=\"o\", ax = axes[0], ci= 'sd')\n",
    "    g.tick_params(labelsize=8)\n",
    "    g.set_xlabel('k', fontsize = 12)\n",
    "    g.set_ylim(-0.05, 1.05)\n",
    "    g.set_ylabel('niche recall', fontsize = 12)\n",
    "\n",
    "    g = sns.lineplot(x = param_key, y = 'value', data = df[df['metric'] == 'purity'], color = 'k', markers=True, marker=\"o\", ax = axes[1], ci= 'sd')\n",
    "    g.tick_params(labelsize=8)\n",
    "    g.set_xlabel(param_key, fontsize = 12)\n",
    "    g.set_ylim(-0.05, 1.05)\n",
    "    g.set_ylabel('niche purity', fontsize = 12)\n",
    "\n",
    "    # Adjust layout and display the plot\n",
    "    plt.tight_layout()\n",
    "    plt.savefig(os.path.join(save_directory, filename_save+'.pdf'), bbox_inches = 'tight')"
   ]
  },
  {
   "cell_type": "code",
   "execution_count": null,
   "metadata": {},
   "outputs": [],
   "source": [
    "save_directory = os.path.join('publications', 'supplementary_figures', 'supplementary_figure06')\n",
    "qu.pp.make_directory(save_directory)"
   ]
  },
  {
   "cell_type": "code",
   "execution_count": null,
   "metadata": {},
   "outputs": [],
   "source": [
    "for metric in ['n_neighbors', 'k_sim', 'radius', 'sketch']:\n",
    "    df = pd.read_csv(os.path.join('data', 'output_files', f'param_{metric}.csv'), index_col = 0)\n",
    "    if metric == 'sketch':\n",
    "        df['sketch'][df['sketch'].isnull()] = 3650 #total cells per patient sample\n",
    "        \n",
    "    plot_param(df, metric, save_directory, f'param_{metric}')"
   ]
  }
 ],
 "metadata": {
  "kernelspec": {
   "display_name": "venv_quiche_all",
   "language": "python",
   "name": "python3"
  },
  "language_info": {
   "codemirror_mode": {
    "name": "ipython",
    "version": 3
   },
   "file_extension": ".py",
   "mimetype": "text/x-python",
   "name": "python",
   "nbconvert_exporter": "python",
   "pygments_lexer": "ipython3",
   "version": "3.9.20"
  }
 },
 "nbformat": 4,
 "nbformat_minor": 2
}
