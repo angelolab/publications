{
 "cells": [
  {
   "cell_type": "code",
   "execution_count": null,
   "metadata": {},
   "outputs": [],
   "source": [
    "import numpy as np\n",
    "import pandas as pd\n",
    "import matplotlib.pyplot as plt\n",
    "import seaborn as sns\n",
    "import os\n",
    "import glob\n",
    "import quiche as qu\n",
    "%reload_ext autoreload\n",
    "%load_ext autoreload\n",
    "%autoreload 2\n",
    "%matplotlib inline"
   ]
  },
  {
   "cell_type": "markdown",
   "metadata": {},
   "source": [
    "## unstructured"
   ]
  },
  {
   "cell_type": "code",
   "execution_count": null,
   "metadata": {},
   "outputs": [],
   "source": [
    "save_directory = os.path.join('publications', 'supplementary_figures', 'supplementary_figure05', 'unstructured')\n",
    "qu.pp.make_directory(save_directory)\n",
    "directory = os.path.join('data', 'simulated', 'unstructured', 'metrics', 'n5000','t20', 'balanced')\n",
    "files = glob.glob(directory+'/*.csv')\n",
    "evaluation_df = pd.DataFrame()\n",
    "for file in files:\n",
    "    id_list = file.split('/')[-1].split('.csv')[0].split('_')\n",
    "    method_id = id_list[1]\n",
    "    data = pd.read_csv(file, index_col = 0)\n",
    "    if method_id == 'quiche':\n",
    "        val = '_'.join(id_list[-5:])\n",
    "    elif method_id == 'kmeans':\n",
    "        val = '_'.join([id_list[1], id_list[-1]])\n",
    "    elif method_id == 'cell':\n",
    "        val = '_'.join([id_list[1], id_list[2], id_list[-1]])\n",
    "    else:\n",
    "        val = 'default'\n",
    "    data['param'] = val\n",
    "    data['method_param'] = data['method'] + '_' + data['param']\n",
    "    evaluation_df = pd.concat([evaluation_df, data], axis = 0)"
   ]
  },
  {
   "cell_type": "code",
   "execution_count": null,
   "metadata": {},
   "outputs": [],
   "source": [
    "method_arr = ['evaluate_kmeans_kmeans_3', 'evaluate_kmeans_kmeans_5', 'evaluate_kmeans_kmeans_7',\n",
    " 'evaluate_cell_charter_cell_charter_3', 'evaluate_cell_charter_cell_charter_5']\n",
    "\n",
    "title_list = ['KMeans3', 'KMeans5', 'KMeans7','CellCharter3','CellCharter5']\n",
    "for i in range(0, len(method_arr)):\n",
    "    method = method_arr[i]\n",
    "    avg_data = evaluation_df[(evaluation_df['variable'] == 'group_recall') & (evaluation_df['method_param'] == method)].groupby(['ratio', 'grid_size'])['value'].mean()\n",
    "    avg_data = avg_data.reset_index()\n",
    "    pivot_df = avg_data.pivot(index='grid_size', columns='ratio', values='value')\n",
    "    pivot_df = pivot_df.loc[[14,10,9,8,7,6,5,4], :]\n",
    "    pivot_df.index = np.round(100 / (pivot_df.index * pivot_df.index), 1)\n",
    "    pivot_df.columns = pivot_df.columns * 100\n",
    "    pivot_df.columns = pivot_df.columns.astype('int')\n",
    "\n",
    "    plt.figure(figsize=(4.5,5))\n",
    "    g = sns.heatmap(pivot_df, annot=True, annot_kws={\"size\": 12},xticklabels = True, yticklabels=True, linewidths=0.5,fmt='.1f', vmin = 0, vmax = 1, cmap = 'Purples') #compare\n",
    "    g.tick_params(labelsize = 14)\n",
    "    g.set_xlabel('patient samples with niche (%)', fontsize = 14)\n",
    "    g.set_ylabel('niche size (% sample)', fontsize = 14)\n",
    "    g.set_title(title_list[i], fontsize = 14)\n",
    "    plt.savefig(os.path.join(save_directory, f'{title_list[i]}_group_recall.pdf'), bbox_inches = 'tight')"
   ]
  },
  {
   "cell_type": "code",
   "execution_count": null,
   "metadata": {},
   "outputs": [],
   "source": [
    "method_arr = ['evaluate_kmeans_kmeans_3', 'evaluate_kmeans_kmeans_5', 'evaluate_kmeans_kmeans_7',\n",
    " 'evaluate_cell_charter_cell_charter_3', 'evaluate_cell_charter_cell_charter_5']\n",
    "\n",
    "title_list = ['KMeans3', 'KMeans5', 'KMeans7','CellCharter3','CellCharter5']\n",
    "for i in range(0, len(method_arr)):\n",
    "    method = method_arr[i]\n",
    "    avg_data = evaluation_df[(evaluation_df['variable'] == 'avg_purity') & (evaluation_df['method_param'] == method)].groupby(['ratio', 'grid_size'])['value'].mean()\n",
    "    avg_data = avg_data.reset_index()\n",
    "    pivot_df = avg_data.pivot(index='grid_size', columns='ratio', values='value')\n",
    "    pivot_df = pivot_df.loc[[14,10,9,8,7,6,5,4], :]\n",
    "    pivot_df.index = np.round(100 / (pivot_df.index * pivot_df.index), 1)\n",
    "    pivot_df.columns = pivot_df.columns * 100\n",
    "    pivot_df.columns = pivot_df.columns.astype('int')\n",
    "\n",
    "    plt.figure(figsize=(4.5,5))\n",
    "    g = sns.heatmap(pivot_df, annot=True, annot_kws={\"size\": 12},xticklabels = True, yticklabels=True, linewidths=0.5,fmt='.1f', vmin = 0, vmax = 1, cmap = 'Purples') #compare\n",
    "    g.tick_params(labelsize = 14)\n",
    "    g.set_xlabel('patient samples with niche (%)', fontsize = 14)\n",
    "    g.set_ylabel('niche size (% sample)', fontsize = 14)\n",
    "    g.set_title(title_list[i], fontsize = 14)\n",
    "    plt.savefig(os.path.join(save_directory, f'{title_list[i]}_purity.pdf'), bbox_inches = 'tight')"
   ]
  },
  {
   "cell_type": "markdown",
   "metadata": {},
   "source": [
    "## structured"
   ]
  },
  {
   "cell_type": "code",
   "execution_count": null,
   "metadata": {},
   "outputs": [],
   "source": [
    "save_directory = os.path.join('publications', 'supplementary_figures', 'supplementary_figure05', 'structured')\n",
    "qu.pp.make_directory(save_directory)\n",
    "directory = os.path.join('data', 'simulated', 'structured', 'metrics')\n",
    "files = glob.glob(directory+'/*.csv')\n",
    "evaluation_df = pd.DataFrame()\n",
    "for file in files:\n",
    "    id_list = file.split('/')[-1].split('.csv')[0].split('_')\n",
    "    method_id = id_list[1]\n",
    "    data = pd.read_csv(file, index_col = 0)\n",
    "    if method_id == 'quiche':\n",
    "        val = '_'.join(id_list[-5:])\n",
    "    elif method_id == 'kmeans':\n",
    "        val = '_'.join([id_list[1], id_list[-1]])\n",
    "    elif method_id == 'cell':\n",
    "        val = '_'.join([id_list[1], id_list[2], id_list[-1]])\n",
    "    else:\n",
    "        val = 'default'\n",
    "    data['param'] = val\n",
    "    data['method_param'] = data['method'] + '_' + data['param']\n",
    "    evaluation_df = pd.concat([evaluation_df, data], axis = 0)"
   ]
  },
  {
   "cell_type": "code",
   "execution_count": null,
   "metadata": {},
   "outputs": [],
   "source": [
    "method_arr = ['evaluate_kmeans_kmeans_3', 'evaluate_kmeans_kmeans_5', 'evaluate_kmeans_kmeans_7', 'evaluate_cell_charter_cell_charter_3', 'evaluate_cell_charter_cell_charter_5', 'evaluate_cell_charter_cell_charter_10']\n",
    "title_list = ['KMeans3', 'KMeans5', 'KMeans7', 'CellCharter3', 'CellCharter5', 'CellCharter7']\n",
    "evaluation_df['num'] = (evaluation_df['pct_change'] * evaluation_df['radius']).astype('int')\n",
    "evaluation_df['num_2'] = (evaluation_df['pct_change']*100).astype('int').astype('str') + '% r='+ evaluation_df['radius'].astype('str')\n",
    "for i in range(0, len(method_arr)):\n",
    "    method = method_arr[i]\n",
    "    avg_data = evaluation_df[(evaluation_df['variable'] == 'avg_purity') & (evaluation_df['method_param'] == method)].groupby(['prevalence', 'num'])['value'].mean()\n",
    "    avg_data = avg_data.reset_index()\n",
    "    pivot_df = avg_data.pivot(index='num', columns='prevalence', values='value')\n",
    "    pivot_df = pivot_df[pivot_df.index != 62]\n",
    "    pivot_df.columns = pivot_df.columns *100\n",
    "    pivot_df.columns = pivot_df.columns.astype('int')\n",
    "    plt.figure(figsize=(4.5,5))\n",
    "    g = sns.heatmap(pivot_df, annot=True, annot_kws={\"size\": 12},xticklabels = True, yticklabels=True, linewidths=0.5,fmt='.1f', vmin = 0, vmax = 1, cmap = 'Purples') #compare\n",
    "    g.tick_params(labelsize = 14)\n",
    "    g.set_xlabel('patient samples with niche (%)', fontsize = 14)\n",
    "    g.set_ylabel('number of immune cells within niche', fontsize = 14)\n",
    "    g.set_title(title_list[i], fontsize = 14)\n",
    "    plt.savefig(os.path.join(save_directory, f'{title_list[i]}_group_purity.pdf'), bbox_inches = 'tight')"
   ]
  },
  {
   "cell_type": "code",
   "execution_count": null,
   "metadata": {},
   "outputs": [],
   "source": [
    "method_arr = ['evaluate_kmeans_kmeans_3', 'evaluate_kmeans_kmeans_5', 'evaluate_kmeans_kmeans_7', 'evaluate_cell_charter_cell_charter_3', 'evaluate_cell_charter_cell_charter_5', 'evaluate_cell_charter_cell_charter_10']\n",
    "title_list = ['KMeans3', 'KMeans5', 'KMeans7', 'CellCharter3', 'CellCharter5', 'CellCharter7']\n",
    "evaluation_df['num'] = (evaluation_df['pct_change'] * evaluation_df['radius']).astype('int')\n",
    "evaluation_df['num_2'] = (evaluation_df['pct_change']*100).astype('int').astype('str') + '% r='+ evaluation_df['radius'].astype('str')\n",
    "for i in range(0, len(method_arr)):\n",
    "    method = method_arr[i]\n",
    "    avg_data = evaluation_df[(evaluation_df['variable'] == 'group_recall') & (evaluation_df['method_param'] == method)].groupby(['prevalence', 'num'])['value'].mean()\n",
    "    avg_data = avg_data.reset_index()\n",
    "    pivot_df = avg_data.pivot(index='num', columns='prevalence', values='value')\n",
    "    pivot_df = pivot_df[pivot_df.index != 62]\n",
    "    pivot_df.columns = pivot_df.columns *100\n",
    "    pivot_df.columns = pivot_df.columns.astype('int')\n",
    "    plt.figure(figsize=(4.5,5))\n",
    "    g = sns.heatmap(pivot_df, annot=True, annot_kws={\"size\": 12},xticklabels = True, yticklabels=True, linewidths=0.5,fmt='.1f', vmin = 0, vmax = 1, cmap = 'Purples') #compare\n",
    "    g.tick_params(labelsize = 14)\n",
    "    g.set_xlabel('patient samples with niche (%)', fontsize = 14)\n",
    "    g.set_ylabel('number of immune cells within niche', fontsize = 14)\n",
    "    g.set_title(title_list[i], fontsize = 14)\n",
    "    plt.savefig(os.path.join(save_directory, f'{title_list[i]}_group_recall.pdf'), bbox_inches = 'tight')"
   ]
  }
 ],
 "metadata": {
  "kernelspec": {
   "display_name": "venv_quiche_all",
   "language": "python",
   "name": "python3"
  },
  "language_info": {
   "codemirror_mode": {
    "name": "ipython",
    "version": 3
   },
   "file_extension": ".py",
   "mimetype": "text/x-python",
   "name": "python",
   "nbconvert_exporter": "python",
   "pygments_lexer": "ipython3",
   "version": "3.9.20"
  }
 },
 "nbformat": 4,
 "nbformat_minor": 2
}
