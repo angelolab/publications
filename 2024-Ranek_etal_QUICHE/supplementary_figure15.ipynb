{
 "cells": [
  {
   "cell_type": "code",
   "execution_count": null,
   "metadata": {},
   "outputs": [],
   "source": [
    "import numpy as np\n",
    "import pandas as pd\n",
    "import scanpy as sc\n",
    "import matplotlib.pyplot as plt\n",
    "import seaborn as sns\n",
    "import anndata \n",
    "import os\n",
    "import quiche as qu\n",
    "from supplementary_plot_helpers import *\n",
    "\n",
    "%reload_ext autoreload\n",
    "%load_ext autoreload\n",
    "%autoreload 2\n",
    "%matplotlib inline"
   ]
  },
  {
   "cell_type": "code",
   "execution_count": null,
   "metadata": {},
   "outputs": [],
   "source": [
    "save_directory = os.path.join('publications', 'supplementary_figures', 'supplementary_figure15')\n",
    "qu.pp.make_directory(save_directory)\n",
    "adata_spain = anndata.read_h5ad(os.path.join('data', 'Zenodo', 'spain_preprocessed.h5ad'))\n",
    "adata_spain.obs['cell_cluster_grouped'] = list(adata_spain.obs['cell_cluster'].values)\n",
    "adata_spain.obs['cell_cluster_grouped'][adata_spain.obs['cell_cluster_grouped'] == 'Monocyte'] = 'Mono_Mac'\n",
    "adata_spain.obs['cell_cluster_grouped'][adata_spain.obs['cell_cluster_grouped'] == 'CD68_Mac'] = 'Mono_Mac'\n",
    "adata_spain.obs['cell_cluster_grouped'][adata_spain.obs['cell_cluster_grouped'] == 'CD163_Mac'] = 'Mono_Mac'\n",
    "relapse_dict = dict(zip(adata_spain.obs[['Patient_ID', 'Relapse']].drop_duplicates()['Patient_ID'], adata_spain.obs[['Patient_ID', 'Relapse']].drop_duplicates()['Relapse']))\n",
    "\n",
    "adata_stanford = anndata.read_h5ad(os.path.join('data', 'Zenodo', 'stanford_preprocessed.h5ad'))\n",
    "adata_stanford.obs['cell_cluster_grouped'] = list(adata_stanford.obs['cell_cluster'].values)\n",
    "adata_stanford.obs['cell_cluster_grouped'][adata_stanford.obs['cell_cluster_grouped'] == 'Monocyte'] = 'Mono_Mac'\n",
    "adata_stanford.obs['cell_cluster_grouped'][adata_stanford.obs['cell_cluster_grouped'] == 'CD68_Mac'] = 'Mono_Mac'\n",
    "adata_stanford.obs['cell_cluster_grouped'][adata_stanford.obs['cell_cluster_grouped'] == 'CD163_Mac'] = 'Mono_Mac'\n",
    "recurrence_dict = dict(zip(adata_stanford.obs[['Patient_ID', 'RECURRENCE_LABEL']].drop_duplicates()['Patient_ID'], adata_stanford.obs[['Patient_ID', 'RECURRENCE_LABEL']].drop_duplicates()['RECURRENCE_LABEL']))\n",
    "\n",
    "adata_ntpublic = anndata.read_h5ad(os.path.join('data', 'Zenodo', 'nt_preprocessed.h5ad'))\n",
    "adata_ntpublic.obs['cell_cluster_grouped'] = list(adata_ntpublic.obs['cell_cluster'].values)\n",
    "adata_ntpublic.obs['cell_cluster_grouped'][adata_ntpublic.obs['cell_cluster_grouped'] == 'CD163_Mac'] = 'Mono_Mac'\n",
    "pcr_dict = dict(zip(adata_ntpublic.obs[['Patient_ID', 'pCR']].drop_duplicates()['Patient_ID'], adata_ntpublic.obs[['Patient_ID', 'pCR']].drop_duplicates()['pCR']))"
   ]
  },
  {
   "cell_type": "markdown",
   "metadata": {},
   "source": [
    "### plot stepwise immune infiltration"
   ]
  },
  {
   "cell_type": "code",
   "execution_count": null,
   "metadata": {},
   "outputs": [],
   "source": [
    "### plot immune infiltration stratified by outcome group\n",
    "cutoff = 30\n",
    "plot_infiltrate_grid(adata_spain, 'cell_cluster_grouped', 'Patient_ID', ['Mono_Mac', 'CD8T', 'CD4T', 'B', 'NK'], 'Relapse', cutoff, (8,3), save_directory, f'stepwise_Spain_{cutoff}_outcome')\n",
    "plot_infiltrate_grid(adata_stanford, 'cell_cluster_grouped', 'Patient_ID', ['Mono_Mac', 'CD8T', 'CD4T', 'B', 'NK'], 'RECURRENCE_LABEL', cutoff, (8,3), save_directory, f'stepwise_Stanford_{cutoff}_outcome')\n",
    "plot_infiltrate_grid(adata_ntpublic, 'cell_cluster_grouped', 'Patient_ID', ['Mono_Mac', 'CD8T', 'CD4T', 'B', 'NK'], 'pCR', cutoff, (8,3), save_directory, f'stepwise_NT_{cutoff}_outcome')"
   ]
  },
  {
   "cell_type": "code",
   "execution_count": null,
   "metadata": {},
   "outputs": [],
   "source": [
    "### plot immune infiltration for total patients\n",
    "for cutoff in [10, 30, 50]:\n",
    "    plot_infiltrate(adata_spain, 'cell_cluster_grouped', 'Patient_ID', ['Mono_Mac', 'CD8T', 'CD4T', 'B', 'NK'], cutoff, (4,4), save_directory, f'stepwise_Spain_{cutoff}')\n",
    "    plot_infiltrate(adata_stanford, 'cell_cluster_grouped', 'Patient_ID', ['Mono_Mac', 'CD8T', 'CD4T', 'B', 'NK'], cutoff, (4,4), save_directory, f'stepwise_Stanford_{cutoff}')\n",
    "    plot_infiltrate(adata_ntpublic, 'cell_cluster_grouped', 'Patient_ID', ['Mono_Mac', 'CD8T', 'CD4T', 'B', 'NK'], cutoff, (4,4), save_directory, f'stepwise_NT_{cutoff}')"
   ]
  }
 ],
 "metadata": {
  "kernelspec": {
   "display_name": "venv_quiche_all",
   "language": "python",
   "name": "python3"
  },
  "language_info": {
   "codemirror_mode": {
    "name": "ipython",
    "version": 3
   },
   "file_extension": ".py",
   "mimetype": "text/x-python",
   "name": "python",
   "nbconvert_exporter": "python",
   "pygments_lexer": "ipython3",
   "version": "3.9.20"
  }
 },
 "nbformat": 4,
 "nbformat_minor": 2
}
